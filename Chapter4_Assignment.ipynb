{
 "cells": [
  {
   "cell_type": "markdown",
   "metadata": {
    "collapsed": true,
    "pycharm": {
     "name": "#%% md\n"
    }
   },
   "source": [
    "## EDA - Decision Tree for Titanic"
   ]
  },
  {
   "cell_type": "markdown",
   "source": [
    "**Import Package**"
   ],
   "metadata": {
    "collapsed": false,
    "pycharm": {
     "name": "#%% md\n"
    }
   }
  },
  {
   "cell_type": "code",
   "execution_count": 213,
   "outputs": [],
   "source": [
    "import pandas as pd"
   ],
   "metadata": {
    "collapsed": false,
    "pycharm": {
     "name": "#%%\n"
    }
   }
  },
  {
   "cell_type": "markdown",
   "source": [
    "**Load Dataset**"
   ],
   "metadata": {
    "collapsed": false,
    "pycharm": {
     "name": "#%% md\n"
    }
   }
  },
  {
   "cell_type": "code",
   "execution_count": 214,
   "outputs": [
    {
     "name": "stdout",
     "output_type": "stream",
     "text": [
      "(891, 11)\n"
     ]
    },
    {
     "data": {
      "text/plain": "             Survived  Pclass  \\\nPassengerId                     \n1                   0       3   \n2                   1       1   \n3                   1       3   \n4                   1       1   \n5                   0       3   \n\n                                                          Name     Sex   Age  \\\nPassengerId                                                                    \n1                                      Braund, Mr. Owen Harris    male  22.0   \n2            Cumings, Mrs. John Bradley (Florence Briggs Th...  female  38.0   \n3                                       Heikkinen, Miss. Laina  female  26.0   \n4                 Futrelle, Mrs. Jacques Heath (Lily May Peel)  female  35.0   \n5                                     Allen, Mr. William Henry    male  35.0   \n\n             SibSp  Parch            Ticket     Fare Cabin Embarked  \nPassengerId                                                          \n1                1      0         A/5 21171   7.2500   NaN        S  \n2                1      0          PC 17599  71.2833   C85        C  \n3                0      0  STON/O2. 3101282   7.9250   NaN        S  \n4                1      0            113803  53.1000  C123        S  \n5                0      0            373450   8.0500   NaN        S  ",
      "text/html": "<div>\n<style scoped>\n    .dataframe tbody tr th:only-of-type {\n        vertical-align: middle;\n    }\n\n    .dataframe tbody tr th {\n        vertical-align: top;\n    }\n\n    .dataframe thead th {\n        text-align: right;\n    }\n</style>\n<table border=\"1\" class=\"dataframe\">\n  <thead>\n    <tr style=\"text-align: right;\">\n      <th></th>\n      <th>Survived</th>\n      <th>Pclass</th>\n      <th>Name</th>\n      <th>Sex</th>\n      <th>Age</th>\n      <th>SibSp</th>\n      <th>Parch</th>\n      <th>Ticket</th>\n      <th>Fare</th>\n      <th>Cabin</th>\n      <th>Embarked</th>\n    </tr>\n    <tr>\n      <th>PassengerId</th>\n      <th></th>\n      <th></th>\n      <th></th>\n      <th></th>\n      <th></th>\n      <th></th>\n      <th></th>\n      <th></th>\n      <th></th>\n      <th></th>\n      <th></th>\n    </tr>\n  </thead>\n  <tbody>\n    <tr>\n      <th>1</th>\n      <td>0</td>\n      <td>3</td>\n      <td>Braund, Mr. Owen Harris</td>\n      <td>male</td>\n      <td>22.0</td>\n      <td>1</td>\n      <td>0</td>\n      <td>A/5 21171</td>\n      <td>7.2500</td>\n      <td>NaN</td>\n      <td>S</td>\n    </tr>\n    <tr>\n      <th>2</th>\n      <td>1</td>\n      <td>1</td>\n      <td>Cumings, Mrs. John Bradley (Florence Briggs Th...</td>\n      <td>female</td>\n      <td>38.0</td>\n      <td>1</td>\n      <td>0</td>\n      <td>PC 17599</td>\n      <td>71.2833</td>\n      <td>C85</td>\n      <td>C</td>\n    </tr>\n    <tr>\n      <th>3</th>\n      <td>1</td>\n      <td>3</td>\n      <td>Heikkinen, Miss. Laina</td>\n      <td>female</td>\n      <td>26.0</td>\n      <td>0</td>\n      <td>0</td>\n      <td>STON/O2. 3101282</td>\n      <td>7.9250</td>\n      <td>NaN</td>\n      <td>S</td>\n    </tr>\n    <tr>\n      <th>4</th>\n      <td>1</td>\n      <td>1</td>\n      <td>Futrelle, Mrs. Jacques Heath (Lily May Peel)</td>\n      <td>female</td>\n      <td>35.0</td>\n      <td>1</td>\n      <td>0</td>\n      <td>113803</td>\n      <td>53.1000</td>\n      <td>C123</td>\n      <td>S</td>\n    </tr>\n    <tr>\n      <th>5</th>\n      <td>0</td>\n      <td>3</td>\n      <td>Allen, Mr. William Henry</td>\n      <td>male</td>\n      <td>35.0</td>\n      <td>0</td>\n      <td>0</td>\n      <td>373450</td>\n      <td>8.0500</td>\n      <td>NaN</td>\n      <td>S</td>\n    </tr>\n  </tbody>\n</table>\n</div>"
     },
     "execution_count": 214,
     "metadata": {},
     "output_type": "execute_result"
    }
   ],
   "source": [
    "train = pd.read_csv('input/train.csv', index_col = \"PassengerId\")    # train Dataset load\n",
    "print(train.shape)\n",
    "train.head()"
   ],
   "metadata": {
    "collapsed": false,
    "pycharm": {
     "name": "#%%\n"
    }
   }
  },
  {
   "cell_type": "code",
   "execution_count": 215,
   "outputs": [
    {
     "name": "stdout",
     "output_type": "stream",
     "text": [
      "(418, 10)\n"
     ]
    },
    {
     "data": {
      "text/plain": "             Pclass                                          Name     Sex  \\\nPassengerId                                                                 \n892               3                              Kelly, Mr. James    male   \n893               3              Wilkes, Mrs. James (Ellen Needs)  female   \n894               2                     Myles, Mr. Thomas Francis    male   \n895               3                              Wirz, Mr. Albert    male   \n896               3  Hirvonen, Mrs. Alexander (Helga E Lindqvist)  female   \n\n              Age  SibSp  Parch   Ticket     Fare Cabin Embarked  \nPassengerId                                                       \n892          34.5      0      0   330911   7.8292   NaN        Q  \n893          47.0      1      0   363272   7.0000   NaN        S  \n894          62.0      0      0   240276   9.6875   NaN        Q  \n895          27.0      0      0   315154   8.6625   NaN        S  \n896          22.0      1      1  3101298  12.2875   NaN        S  ",
      "text/html": "<div>\n<style scoped>\n    .dataframe tbody tr th:only-of-type {\n        vertical-align: middle;\n    }\n\n    .dataframe tbody tr th {\n        vertical-align: top;\n    }\n\n    .dataframe thead th {\n        text-align: right;\n    }\n</style>\n<table border=\"1\" class=\"dataframe\">\n  <thead>\n    <tr style=\"text-align: right;\">\n      <th></th>\n      <th>Pclass</th>\n      <th>Name</th>\n      <th>Sex</th>\n      <th>Age</th>\n      <th>SibSp</th>\n      <th>Parch</th>\n      <th>Ticket</th>\n      <th>Fare</th>\n      <th>Cabin</th>\n      <th>Embarked</th>\n    </tr>\n    <tr>\n      <th>PassengerId</th>\n      <th></th>\n      <th></th>\n      <th></th>\n      <th></th>\n      <th></th>\n      <th></th>\n      <th></th>\n      <th></th>\n      <th></th>\n      <th></th>\n    </tr>\n  </thead>\n  <tbody>\n    <tr>\n      <th>892</th>\n      <td>3</td>\n      <td>Kelly, Mr. James</td>\n      <td>male</td>\n      <td>34.5</td>\n      <td>0</td>\n      <td>0</td>\n      <td>330911</td>\n      <td>7.8292</td>\n      <td>NaN</td>\n      <td>Q</td>\n    </tr>\n    <tr>\n      <th>893</th>\n      <td>3</td>\n      <td>Wilkes, Mrs. James (Ellen Needs)</td>\n      <td>female</td>\n      <td>47.0</td>\n      <td>1</td>\n      <td>0</td>\n      <td>363272</td>\n      <td>7.0000</td>\n      <td>NaN</td>\n      <td>S</td>\n    </tr>\n    <tr>\n      <th>894</th>\n      <td>2</td>\n      <td>Myles, Mr. Thomas Francis</td>\n      <td>male</td>\n      <td>62.0</td>\n      <td>0</td>\n      <td>0</td>\n      <td>240276</td>\n      <td>9.6875</td>\n      <td>NaN</td>\n      <td>Q</td>\n    </tr>\n    <tr>\n      <th>895</th>\n      <td>3</td>\n      <td>Wirz, Mr. Albert</td>\n      <td>male</td>\n      <td>27.0</td>\n      <td>0</td>\n      <td>0</td>\n      <td>315154</td>\n      <td>8.6625</td>\n      <td>NaN</td>\n      <td>S</td>\n    </tr>\n    <tr>\n      <th>896</th>\n      <td>3</td>\n      <td>Hirvonen, Mrs. Alexander (Helga E Lindqvist)</td>\n      <td>female</td>\n      <td>22.0</td>\n      <td>1</td>\n      <td>1</td>\n      <td>3101298</td>\n      <td>12.2875</td>\n      <td>NaN</td>\n      <td>S</td>\n    </tr>\n  </tbody>\n</table>\n</div>"
     },
     "execution_count": 215,
     "metadata": {},
     "output_type": "execute_result"
    }
   ],
   "source": [
    "test = pd.read_csv('input/test.csv', index_col = \"PassengerId\")    # test Dataset load\n",
    "print(test.shape)\n",
    "test.head()"
   ],
   "metadata": {
    "collapsed": false,
    "pycharm": {
     "name": "#%%\n"
    }
   }
  },
  {
   "cell_type": "code",
   "execution_count": 216,
   "outputs": [
    {
     "name": "stdout",
     "output_type": "stream",
     "text": [
      "(418, 1)\n"
     ]
    },
    {
     "data": {
      "text/plain": "             Survived\nPassengerId          \n892                 0\n893                 1\n894                 0\n895                 0\n896                 1",
      "text/html": "<div>\n<style scoped>\n    .dataframe tbody tr th:only-of-type {\n        vertical-align: middle;\n    }\n\n    .dataframe tbody tr th {\n        vertical-align: top;\n    }\n\n    .dataframe thead th {\n        text-align: right;\n    }\n</style>\n<table border=\"1\" class=\"dataframe\">\n  <thead>\n    <tr style=\"text-align: right;\">\n      <th></th>\n      <th>Survived</th>\n    </tr>\n    <tr>\n      <th>PassengerId</th>\n      <th></th>\n    </tr>\n  </thead>\n  <tbody>\n    <tr>\n      <th>892</th>\n      <td>0</td>\n    </tr>\n    <tr>\n      <th>893</th>\n      <td>1</td>\n    </tr>\n    <tr>\n      <th>894</th>\n      <td>0</td>\n    </tr>\n    <tr>\n      <th>895</th>\n      <td>0</td>\n    </tr>\n    <tr>\n      <th>896</th>\n      <td>1</td>\n    </tr>\n  </tbody>\n</table>\n</div>"
     },
     "execution_count": 216,
     "metadata": {},
     "output_type": "execute_result"
    }
   ],
   "source": [
    "submit = pd.read_csv('input/gender_submission.csv', index_col = \"PassengerId\")    # submission template load\n",
    "print(submit.shape)\n",
    "submit.head()"
   ],
   "metadata": {
    "collapsed": false,
    "pycharm": {
     "name": "#%%\n"
    }
   }
  },
  {
   "cell_type": "markdown",
   "source": [
    "## Preprocess\n",
    "**Encode Sex**"
   ],
   "metadata": {
    "collapsed": false,
    "pycharm": {
     "name": "#%% md\n"
    }
   }
  },
  {
   "cell_type": "code",
   "execution_count": 217,
   "outputs": [],
   "source": [
    "train['Sex_Encoded'] = train['Sex'].replace('male', 0)\\\n",
    "                                   .replace('female', 1)\n",
    "\n",
    "test['Sex_Encoded'] = test['Sex'].replace('male', 0)\\\n",
    "                                 .replace('female', 1)"
   ],
   "metadata": {
    "collapsed": false,
    "pycharm": {
     "name": "#%%\n"
    }
   }
  },
  {
   "cell_type": "code",
   "execution_count": 218,
   "outputs": [
    {
     "data": {
      "text/plain": "                Sex  Sex_Encoded\nPassengerId                     \n1              male            0\n2            female            1\n3            female            1\n4            female            1\n5              male            0",
      "text/html": "<div>\n<style scoped>\n    .dataframe tbody tr th:only-of-type {\n        vertical-align: middle;\n    }\n\n    .dataframe tbody tr th {\n        vertical-align: top;\n    }\n\n    .dataframe thead th {\n        text-align: right;\n    }\n</style>\n<table border=\"1\" class=\"dataframe\">\n  <thead>\n    <tr style=\"text-align: right;\">\n      <th></th>\n      <th>Sex</th>\n      <th>Sex_Encoded</th>\n    </tr>\n    <tr>\n      <th>PassengerId</th>\n      <th></th>\n      <th></th>\n    </tr>\n  </thead>\n  <tbody>\n    <tr>\n      <th>1</th>\n      <td>male</td>\n      <td>0</td>\n    </tr>\n    <tr>\n      <th>2</th>\n      <td>female</td>\n      <td>1</td>\n    </tr>\n    <tr>\n      <th>3</th>\n      <td>female</td>\n      <td>1</td>\n    </tr>\n    <tr>\n      <th>4</th>\n      <td>female</td>\n      <td>1</td>\n    </tr>\n    <tr>\n      <th>5</th>\n      <td>male</td>\n      <td>0</td>\n    </tr>\n  </tbody>\n</table>\n</div>"
     },
     "execution_count": 218,
     "metadata": {},
     "output_type": "execute_result"
    }
   ],
   "source": [
    "# Check Encode Datd - Train\n",
    "train[['Sex', 'Sex_Encoded']].head()"
   ],
   "metadata": {
    "collapsed": false,
    "pycharm": {
     "name": "#%%\n"
    }
   }
  },
  {
   "cell_type": "code",
   "execution_count": 219,
   "outputs": [
    {
     "data": {
      "text/plain": "                Sex  Sex_Encoded\nPassengerId                     \n892            male            0\n893          female            1\n894            male            0\n895            male            0\n896          female            1",
      "text/html": "<div>\n<style scoped>\n    .dataframe tbody tr th:only-of-type {\n        vertical-align: middle;\n    }\n\n    .dataframe tbody tr th {\n        vertical-align: top;\n    }\n\n    .dataframe thead th {\n        text-align: right;\n    }\n</style>\n<table border=\"1\" class=\"dataframe\">\n  <thead>\n    <tr style=\"text-align: right;\">\n      <th></th>\n      <th>Sex</th>\n      <th>Sex_Encoded</th>\n    </tr>\n    <tr>\n      <th>PassengerId</th>\n      <th></th>\n      <th></th>\n    </tr>\n  </thead>\n  <tbody>\n    <tr>\n      <th>892</th>\n      <td>male</td>\n      <td>0</td>\n    </tr>\n    <tr>\n      <th>893</th>\n      <td>female</td>\n      <td>1</td>\n    </tr>\n    <tr>\n      <th>894</th>\n      <td>male</td>\n      <td>0</td>\n    </tr>\n    <tr>\n      <th>895</th>\n      <td>male</td>\n      <td>0</td>\n    </tr>\n    <tr>\n      <th>896</th>\n      <td>female</td>\n      <td>1</td>\n    </tr>\n  </tbody>\n</table>\n</div>"
     },
     "execution_count": 219,
     "metadata": {},
     "output_type": "execute_result"
    }
   ],
   "source": [
    "# Check Encode Data - Test\n",
    "test[['Sex', 'Sex_Encoded']].head()"
   ],
   "metadata": {
    "collapsed": false,
    "pycharm": {
     "name": "#%%\n"
    }
   }
  },
  {
   "cell_type": "markdown",
   "source": [
    "**Fill Missing Fare - Test -**"
   ],
   "metadata": {
    "collapsed": false,
    "pycharm": {
     "name": "#%% md\n"
    }
   }
  },
  {
   "cell_type": "code",
   "execution_count": 220,
   "outputs": [
    {
     "data": {
      "text/plain": "Survived         0\nPclass           0\nName             0\nSex              0\nAge            177\nSibSp            0\nParch            0\nTicket           0\nFare             0\nCabin          687\nEmbarked         2\nSex_Encoded      0\ndtype: int64"
     },
     "execution_count": 220,
     "metadata": {},
     "output_type": "execute_result"
    }
   ],
   "source": [
    "# Search Missing Fare - train\n",
    "train.isnull().sum()"
   ],
   "metadata": {
    "collapsed": false,
    "pycharm": {
     "name": "#%%\n"
    }
   }
  },
  {
   "cell_type": "code",
   "execution_count": 221,
   "outputs": [
    {
     "data": {
      "text/plain": "             Pclass                Name   Sex   Age  SibSp  Parch Ticket  \\\nPassengerId                                                                \n1044              3  Storey, Mr. Thomas  male  60.5      0      0   3701   \n\n             Fare Cabin Embarked  Sex_Encoded  \nPassengerId                                    \n1044          NaN   NaN        S            0  ",
      "text/html": "<div>\n<style scoped>\n    .dataframe tbody tr th:only-of-type {\n        vertical-align: middle;\n    }\n\n    .dataframe tbody tr th {\n        vertical-align: top;\n    }\n\n    .dataframe thead th {\n        text-align: right;\n    }\n</style>\n<table border=\"1\" class=\"dataframe\">\n  <thead>\n    <tr style=\"text-align: right;\">\n      <th></th>\n      <th>Pclass</th>\n      <th>Name</th>\n      <th>Sex</th>\n      <th>Age</th>\n      <th>SibSp</th>\n      <th>Parch</th>\n      <th>Ticket</th>\n      <th>Fare</th>\n      <th>Cabin</th>\n      <th>Embarked</th>\n      <th>Sex_Encoded</th>\n    </tr>\n    <tr>\n      <th>PassengerId</th>\n      <th></th>\n      <th></th>\n      <th></th>\n      <th></th>\n      <th></th>\n      <th></th>\n      <th></th>\n      <th></th>\n      <th></th>\n      <th></th>\n      <th></th>\n    </tr>\n  </thead>\n  <tbody>\n    <tr>\n      <th>1044</th>\n      <td>3</td>\n      <td>Storey, Mr. Thomas</td>\n      <td>male</td>\n      <td>60.5</td>\n      <td>0</td>\n      <td>0</td>\n      <td>3701</td>\n      <td>NaN</td>\n      <td>NaN</td>\n      <td>S</td>\n      <td>0</td>\n    </tr>\n  </tbody>\n</table>\n</div>"
     },
     "execution_count": 221,
     "metadata": {},
     "output_type": "execute_result"
    }
   ],
   "source": [
    "test[test['Fare'].isnull()]"
   ],
   "metadata": {
    "collapsed": false,
    "pycharm": {
     "name": "#%%\n"
    }
   }
  },
  {
   "cell_type": "code",
   "execution_count": 222,
   "outputs": [
    {
     "data": {
      "text/plain": "Pclass           0\nName             0\nSex              0\nAge             86\nSibSp            0\nParch            0\nTicket           0\nFare             0\nCabin          327\nEmbarked         0\nSex_Encoded      0\ndtype: int64"
     },
     "execution_count": 222,
     "metadata": {},
     "output_type": "execute_result"
    }
   ],
   "source": [
    "# Search Missing Fare - test\n",
    "test.isnull().sum()\n",
    "# test.csv missing fare 1 fill 0\n",
    "test['Fare'] = test['Fare'].fillna(0)\n",
    "# Check missing fare\n",
    "test.isnull().sum()"
   ],
   "metadata": {
    "collapsed": false,
    "pycharm": {
     "name": "#%%\n"
    }
   }
  },
  {
   "cell_type": "markdown",
   "source": [
    "**Encode Embarked**"
   ],
   "metadata": {
    "collapsed": false,
    "pycharm": {
     "name": "#%% md\n"
    }
   }
  },
  {
   "cell_type": "code",
   "execution_count": 223,
   "outputs": [
    {
     "name": "stdout",
     "output_type": "stream",
     "text": [
      "(891, 15)\n"
     ]
    },
    {
     "data": {
      "text/plain": "            Embarked  Embarked_C  Embarked_S  Embarked_Q\nPassengerId                                             \n1                  S       False        True       False\n2                  C        True       False       False\n3                  S       False        True       False\n4                  S       False        True       False\n5                  S       False        True       False",
      "text/html": "<div>\n<style scoped>\n    .dataframe tbody tr th:only-of-type {\n        vertical-align: middle;\n    }\n\n    .dataframe tbody tr th {\n        vertical-align: top;\n    }\n\n    .dataframe thead th {\n        text-align: right;\n    }\n</style>\n<table border=\"1\" class=\"dataframe\">\n  <thead>\n    <tr style=\"text-align: right;\">\n      <th></th>\n      <th>Embarked</th>\n      <th>Embarked_C</th>\n      <th>Embarked_S</th>\n      <th>Embarked_Q</th>\n    </tr>\n    <tr>\n      <th>PassengerId</th>\n      <th></th>\n      <th></th>\n      <th></th>\n      <th></th>\n    </tr>\n  </thead>\n  <tbody>\n    <tr>\n      <th>1</th>\n      <td>S</td>\n      <td>False</td>\n      <td>True</td>\n      <td>False</td>\n    </tr>\n    <tr>\n      <th>2</th>\n      <td>C</td>\n      <td>True</td>\n      <td>False</td>\n      <td>False</td>\n    </tr>\n    <tr>\n      <th>3</th>\n      <td>S</td>\n      <td>False</td>\n      <td>True</td>\n      <td>False</td>\n    </tr>\n    <tr>\n      <th>4</th>\n      <td>S</td>\n      <td>False</td>\n      <td>True</td>\n      <td>False</td>\n    </tr>\n    <tr>\n      <th>5</th>\n      <td>S</td>\n      <td>False</td>\n      <td>True</td>\n      <td>False</td>\n    </tr>\n  </tbody>\n</table>\n</div>"
     },
     "execution_count": 223,
     "metadata": {},
     "output_type": "execute_result"
    }
   ],
   "source": [
    "# One Hot Encoding - over 2 data\n",
    "# C == [True, False, False]\n",
    "# S == [False, True, False]\n",
    "# Q == [False, False, True]\n",
    "\n",
    "# train Embarked encode\n",
    "train['Embarked_C'] = train['Embarked'] == 'C'\n",
    "train['Embarked_S'] = train['Embarked'] == 'S'\n",
    "train['Embarked_Q'] = train['Embarked'] == 'Q'\n",
    "\n",
    "print(train.shape)\n",
    "train[['Embarked', 'Embarked_C', 'Embarked_S', 'Embarked_Q']].head()"
   ],
   "metadata": {
    "collapsed": false,
    "pycharm": {
     "name": "#%%\n"
    }
   }
  },
  {
   "cell_type": "code",
   "execution_count": 224,
   "outputs": [
    {
     "name": "stdout",
     "output_type": "stream",
     "text": [
      "(418, 14)\n"
     ]
    },
    {
     "data": {
      "text/plain": "            Embarked  Embarked_C  Embarked_S  Embarked_Q\nPassengerId                                             \n892                Q       False       False        True\n893                S       False        True       False\n894                Q       False       False        True\n895                S       False        True       False\n896                S       False        True       False",
      "text/html": "<div>\n<style scoped>\n    .dataframe tbody tr th:only-of-type {\n        vertical-align: middle;\n    }\n\n    .dataframe tbody tr th {\n        vertical-align: top;\n    }\n\n    .dataframe thead th {\n        text-align: right;\n    }\n</style>\n<table border=\"1\" class=\"dataframe\">\n  <thead>\n    <tr style=\"text-align: right;\">\n      <th></th>\n      <th>Embarked</th>\n      <th>Embarked_C</th>\n      <th>Embarked_S</th>\n      <th>Embarked_Q</th>\n    </tr>\n    <tr>\n      <th>PassengerId</th>\n      <th></th>\n      <th></th>\n      <th></th>\n      <th></th>\n    </tr>\n  </thead>\n  <tbody>\n    <tr>\n      <th>892</th>\n      <td>Q</td>\n      <td>False</td>\n      <td>False</td>\n      <td>True</td>\n    </tr>\n    <tr>\n      <th>893</th>\n      <td>S</td>\n      <td>False</td>\n      <td>True</td>\n      <td>False</td>\n    </tr>\n    <tr>\n      <th>894</th>\n      <td>Q</td>\n      <td>False</td>\n      <td>False</td>\n      <td>True</td>\n    </tr>\n    <tr>\n      <th>895</th>\n      <td>S</td>\n      <td>False</td>\n      <td>True</td>\n      <td>False</td>\n    </tr>\n    <tr>\n      <th>896</th>\n      <td>S</td>\n      <td>False</td>\n      <td>True</td>\n      <td>False</td>\n    </tr>\n  </tbody>\n</table>\n</div>"
     },
     "execution_count": 224,
     "metadata": {},
     "output_type": "execute_result"
    }
   ],
   "source": [
    "# test Embarked encode\n",
    "test['Embarked_C'] = test['Embarked'] == 'C'\n",
    "test['Embarked_S'] = test['Embarked'] == 'S'\n",
    "test['Embarked_Q'] = test['Embarked'] == 'Q'\n",
    "\n",
    "print(test.shape)\n",
    "test[['Embarked', 'Embarked_C', 'Embarked_S', 'Embarked_Q']].head()"
   ],
   "metadata": {
    "collapsed": false,
    "pycharm": {
     "name": "#%%\n"
    }
   }
  },
  {
   "cell_type": "markdown",
   "source": [
    "**Age Encode Pre-Process**"
   ],
   "metadata": {
    "collapsed": false,
    "pycharm": {
     "name": "#%% md\n"
    }
   }
  },
  {
   "cell_type": "code",
   "execution_count": 225,
   "outputs": [
    {
     "data": {
      "text/plain": "             Survived  Pclass                                      Name  \\\nPassengerId                                                               \n6                   0       3                          Moran, Mr. James   \n18                  1       2              Williams, Mr. Charles Eugene   \n20                  1       3                   Masselmani, Mrs. Fatima   \n27                  0       3                   Emir, Mr. Farred Chehab   \n29                  1       3             O'Dwyer, Miss. Ellen \"Nellie\"   \n...               ...     ...                                       ...   \n860                 0       3                          Razi, Mr. Raihed   \n864                 0       3         Sage, Miss. Dorothy Edith \"Dolly\"   \n869                 0       3               van Melkebeke, Mr. Philemon   \n879                 0       3                        Laleff, Mr. Kristo   \n889                 0       3  Johnston, Miss. Catherine Helen \"Carrie\"   \n\n                Sex  Age  SibSp  Parch      Ticket     Fare Cabin Embarked  \\\nPassengerId                                                                  \n6              male  NaN      0      0      330877   8.4583   NaN        Q   \n18             male  NaN      0      0      244373  13.0000   NaN        S   \n20           female  NaN      0      0        2649   7.2250   NaN        C   \n27             male  NaN      0      0        2631   7.2250   NaN        C   \n29           female  NaN      0      0      330959   7.8792   NaN        Q   \n...             ...  ...    ...    ...         ...      ...   ...      ...   \n860            male  NaN      0      0        2629   7.2292   NaN        C   \n864          female  NaN      8      2    CA. 2343  69.5500   NaN        S   \n869            male  NaN      0      0      345777   9.5000   NaN        S   \n879            male  NaN      0      0      349217   7.8958   NaN        S   \n889          female  NaN      1      2  W./C. 6607  23.4500   NaN        S   \n\n             Sex_Encoded  Embarked_C  Embarked_S  Embarked_Q  \nPassengerId                                                   \n6                      0       False       False        True  \n18                     0       False        True       False  \n20                     1        True       False       False  \n27                     0        True       False       False  \n29                     1       False       False        True  \n...                  ...         ...         ...         ...  \n860                    0        True       False       False  \n864                    1       False        True       False  \n869                    0       False        True       False  \n879                    0       False        True       False  \n889                    1       False        True       False  \n\n[177 rows x 15 columns]",
      "text/html": "<div>\n<style scoped>\n    .dataframe tbody tr th:only-of-type {\n        vertical-align: middle;\n    }\n\n    .dataframe tbody tr th {\n        vertical-align: top;\n    }\n\n    .dataframe thead th {\n        text-align: right;\n    }\n</style>\n<table border=\"1\" class=\"dataframe\">\n  <thead>\n    <tr style=\"text-align: right;\">\n      <th></th>\n      <th>Survived</th>\n      <th>Pclass</th>\n      <th>Name</th>\n      <th>Sex</th>\n      <th>Age</th>\n      <th>SibSp</th>\n      <th>Parch</th>\n      <th>Ticket</th>\n      <th>Fare</th>\n      <th>Cabin</th>\n      <th>Embarked</th>\n      <th>Sex_Encoded</th>\n      <th>Embarked_C</th>\n      <th>Embarked_S</th>\n      <th>Embarked_Q</th>\n    </tr>\n    <tr>\n      <th>PassengerId</th>\n      <th></th>\n      <th></th>\n      <th></th>\n      <th></th>\n      <th></th>\n      <th></th>\n      <th></th>\n      <th></th>\n      <th></th>\n      <th></th>\n      <th></th>\n      <th></th>\n      <th></th>\n      <th></th>\n      <th></th>\n    </tr>\n  </thead>\n  <tbody>\n    <tr>\n      <th>6</th>\n      <td>0</td>\n      <td>3</td>\n      <td>Moran, Mr. James</td>\n      <td>male</td>\n      <td>NaN</td>\n      <td>0</td>\n      <td>0</td>\n      <td>330877</td>\n      <td>8.4583</td>\n      <td>NaN</td>\n      <td>Q</td>\n      <td>0</td>\n      <td>False</td>\n      <td>False</td>\n      <td>True</td>\n    </tr>\n    <tr>\n      <th>18</th>\n      <td>1</td>\n      <td>2</td>\n      <td>Williams, Mr. Charles Eugene</td>\n      <td>male</td>\n      <td>NaN</td>\n      <td>0</td>\n      <td>0</td>\n      <td>244373</td>\n      <td>13.0000</td>\n      <td>NaN</td>\n      <td>S</td>\n      <td>0</td>\n      <td>False</td>\n      <td>True</td>\n      <td>False</td>\n    </tr>\n    <tr>\n      <th>20</th>\n      <td>1</td>\n      <td>3</td>\n      <td>Masselmani, Mrs. Fatima</td>\n      <td>female</td>\n      <td>NaN</td>\n      <td>0</td>\n      <td>0</td>\n      <td>2649</td>\n      <td>7.2250</td>\n      <td>NaN</td>\n      <td>C</td>\n      <td>1</td>\n      <td>True</td>\n      <td>False</td>\n      <td>False</td>\n    </tr>\n    <tr>\n      <th>27</th>\n      <td>0</td>\n      <td>3</td>\n      <td>Emir, Mr. Farred Chehab</td>\n      <td>male</td>\n      <td>NaN</td>\n      <td>0</td>\n      <td>0</td>\n      <td>2631</td>\n      <td>7.2250</td>\n      <td>NaN</td>\n      <td>C</td>\n      <td>0</td>\n      <td>True</td>\n      <td>False</td>\n      <td>False</td>\n    </tr>\n    <tr>\n      <th>29</th>\n      <td>1</td>\n      <td>3</td>\n      <td>O'Dwyer, Miss. Ellen \"Nellie\"</td>\n      <td>female</td>\n      <td>NaN</td>\n      <td>0</td>\n      <td>0</td>\n      <td>330959</td>\n      <td>7.8792</td>\n      <td>NaN</td>\n      <td>Q</td>\n      <td>1</td>\n      <td>False</td>\n      <td>False</td>\n      <td>True</td>\n    </tr>\n    <tr>\n      <th>...</th>\n      <td>...</td>\n      <td>...</td>\n      <td>...</td>\n      <td>...</td>\n      <td>...</td>\n      <td>...</td>\n      <td>...</td>\n      <td>...</td>\n      <td>...</td>\n      <td>...</td>\n      <td>...</td>\n      <td>...</td>\n      <td>...</td>\n      <td>...</td>\n      <td>...</td>\n    </tr>\n    <tr>\n      <th>860</th>\n      <td>0</td>\n      <td>3</td>\n      <td>Razi, Mr. Raihed</td>\n      <td>male</td>\n      <td>NaN</td>\n      <td>0</td>\n      <td>0</td>\n      <td>2629</td>\n      <td>7.2292</td>\n      <td>NaN</td>\n      <td>C</td>\n      <td>0</td>\n      <td>True</td>\n      <td>False</td>\n      <td>False</td>\n    </tr>\n    <tr>\n      <th>864</th>\n      <td>0</td>\n      <td>3</td>\n      <td>Sage, Miss. Dorothy Edith \"Dolly\"</td>\n      <td>female</td>\n      <td>NaN</td>\n      <td>8</td>\n      <td>2</td>\n      <td>CA. 2343</td>\n      <td>69.5500</td>\n      <td>NaN</td>\n      <td>S</td>\n      <td>1</td>\n      <td>False</td>\n      <td>True</td>\n      <td>False</td>\n    </tr>\n    <tr>\n      <th>869</th>\n      <td>0</td>\n      <td>3</td>\n      <td>van Melkebeke, Mr. Philemon</td>\n      <td>male</td>\n      <td>NaN</td>\n      <td>0</td>\n      <td>0</td>\n      <td>345777</td>\n      <td>9.5000</td>\n      <td>NaN</td>\n      <td>S</td>\n      <td>0</td>\n      <td>False</td>\n      <td>True</td>\n      <td>False</td>\n    </tr>\n    <tr>\n      <th>879</th>\n      <td>0</td>\n      <td>3</td>\n      <td>Laleff, Mr. Kristo</td>\n      <td>male</td>\n      <td>NaN</td>\n      <td>0</td>\n      <td>0</td>\n      <td>349217</td>\n      <td>7.8958</td>\n      <td>NaN</td>\n      <td>S</td>\n      <td>0</td>\n      <td>False</td>\n      <td>True</td>\n      <td>False</td>\n    </tr>\n    <tr>\n      <th>889</th>\n      <td>0</td>\n      <td>3</td>\n      <td>Johnston, Miss. Catherine Helen \"Carrie\"</td>\n      <td>female</td>\n      <td>NaN</td>\n      <td>1</td>\n      <td>2</td>\n      <td>W./C. 6607</td>\n      <td>23.4500</td>\n      <td>NaN</td>\n      <td>S</td>\n      <td>1</td>\n      <td>False</td>\n      <td>True</td>\n      <td>False</td>\n    </tr>\n  </tbody>\n</table>\n<p>177 rows × 15 columns</p>\n</div>"
     },
     "execution_count": 225,
     "metadata": {},
     "output_type": "execute_result"
    }
   ],
   "source": [
    "# Check Age missing-data - train\n",
    "train[train['Age'].isnull()]"
   ],
   "metadata": {
    "collapsed": false,
    "pycharm": {
     "name": "#%%\n"
    }
   }
  },
  {
   "cell_type": "code",
   "execution_count": 226,
   "outputs": [
    {
     "data": {
      "text/plain": "Pclass\n1    38.233441\n2    29.877630\n3    25.140620\nName: Age, dtype: float64"
     },
     "execution_count": 226,
     "metadata": {},
     "output_type": "execute_result"
    }
   ],
   "source": [
    "# Age Fill temp data\n",
    "mean_age_by_pclass = train.groupby('Pclass')['Age'].mean()\n",
    "mean_age_by_pclass"
   ],
   "metadata": {
    "collapsed": false,
    "pycharm": {
     "name": "#%%\n"
    }
   }
  },
  {
   "cell_type": "code",
   "execution_count": 227,
   "outputs": [
    {
     "name": "stdout",
     "output_type": "stream",
     "text": [
      "(891, 16)\n"
     ]
    },
    {
     "data": {
      "text/plain": "             Pclass   Age  Age(Fill)\nPassengerId                         \n1                 3  22.0       22.0\n2                 1  38.0       38.0\n3                 3  26.0       26.0\n4                 1  35.0       35.0\n5                 3  35.0       35.0\n6                 3   NaN        NaN\n7                 1  54.0       54.0\n8                 3   2.0        2.0\n9                 3  27.0       27.0\n10                2  14.0       14.0\n11                3   4.0        4.0\n12                1  58.0       58.0\n13                3  20.0       20.0\n14                3  39.0       39.0\n15                3  14.0       14.0\n16                2  55.0       55.0\n17                3   2.0        2.0\n18                2   NaN        NaN\n19                3  31.0       31.0\n20                3   NaN        NaN\n21                2  35.0       35.0\n22                2  34.0       34.0\n23                3  15.0       15.0\n24                1  28.0       28.0\n25                3   8.0        8.0\n26                3  38.0       38.0\n27                3   NaN        NaN\n28                1  19.0       19.0\n29                3   NaN        NaN\n30                3   NaN        NaN",
      "text/html": "<div>\n<style scoped>\n    .dataframe tbody tr th:only-of-type {\n        vertical-align: middle;\n    }\n\n    .dataframe tbody tr th {\n        vertical-align: top;\n    }\n\n    .dataframe thead th {\n        text-align: right;\n    }\n</style>\n<table border=\"1\" class=\"dataframe\">\n  <thead>\n    <tr style=\"text-align: right;\">\n      <th></th>\n      <th>Pclass</th>\n      <th>Age</th>\n      <th>Age(Fill)</th>\n    </tr>\n    <tr>\n      <th>PassengerId</th>\n      <th></th>\n      <th></th>\n      <th></th>\n    </tr>\n  </thead>\n  <tbody>\n    <tr>\n      <th>1</th>\n      <td>3</td>\n      <td>22.0</td>\n      <td>22.0</td>\n    </tr>\n    <tr>\n      <th>2</th>\n      <td>1</td>\n      <td>38.0</td>\n      <td>38.0</td>\n    </tr>\n    <tr>\n      <th>3</th>\n      <td>3</td>\n      <td>26.0</td>\n      <td>26.0</td>\n    </tr>\n    <tr>\n      <th>4</th>\n      <td>1</td>\n      <td>35.0</td>\n      <td>35.0</td>\n    </tr>\n    <tr>\n      <th>5</th>\n      <td>3</td>\n      <td>35.0</td>\n      <td>35.0</td>\n    </tr>\n    <tr>\n      <th>6</th>\n      <td>3</td>\n      <td>NaN</td>\n      <td>NaN</td>\n    </tr>\n    <tr>\n      <th>7</th>\n      <td>1</td>\n      <td>54.0</td>\n      <td>54.0</td>\n    </tr>\n    <tr>\n      <th>8</th>\n      <td>3</td>\n      <td>2.0</td>\n      <td>2.0</td>\n    </tr>\n    <tr>\n      <th>9</th>\n      <td>3</td>\n      <td>27.0</td>\n      <td>27.0</td>\n    </tr>\n    <tr>\n      <th>10</th>\n      <td>2</td>\n      <td>14.0</td>\n      <td>14.0</td>\n    </tr>\n    <tr>\n      <th>11</th>\n      <td>3</td>\n      <td>4.0</td>\n      <td>4.0</td>\n    </tr>\n    <tr>\n      <th>12</th>\n      <td>1</td>\n      <td>58.0</td>\n      <td>58.0</td>\n    </tr>\n    <tr>\n      <th>13</th>\n      <td>3</td>\n      <td>20.0</td>\n      <td>20.0</td>\n    </tr>\n    <tr>\n      <th>14</th>\n      <td>3</td>\n      <td>39.0</td>\n      <td>39.0</td>\n    </tr>\n    <tr>\n      <th>15</th>\n      <td>3</td>\n      <td>14.0</td>\n      <td>14.0</td>\n    </tr>\n    <tr>\n      <th>16</th>\n      <td>2</td>\n      <td>55.0</td>\n      <td>55.0</td>\n    </tr>\n    <tr>\n      <th>17</th>\n      <td>3</td>\n      <td>2.0</td>\n      <td>2.0</td>\n    </tr>\n    <tr>\n      <th>18</th>\n      <td>2</td>\n      <td>NaN</td>\n      <td>NaN</td>\n    </tr>\n    <tr>\n      <th>19</th>\n      <td>3</td>\n      <td>31.0</td>\n      <td>31.0</td>\n    </tr>\n    <tr>\n      <th>20</th>\n      <td>3</td>\n      <td>NaN</td>\n      <td>NaN</td>\n    </tr>\n    <tr>\n      <th>21</th>\n      <td>2</td>\n      <td>35.0</td>\n      <td>35.0</td>\n    </tr>\n    <tr>\n      <th>22</th>\n      <td>2</td>\n      <td>34.0</td>\n      <td>34.0</td>\n    </tr>\n    <tr>\n      <th>23</th>\n      <td>3</td>\n      <td>15.0</td>\n      <td>15.0</td>\n    </tr>\n    <tr>\n      <th>24</th>\n      <td>1</td>\n      <td>28.0</td>\n      <td>28.0</td>\n    </tr>\n    <tr>\n      <th>25</th>\n      <td>3</td>\n      <td>8.0</td>\n      <td>8.0</td>\n    </tr>\n    <tr>\n      <th>26</th>\n      <td>3</td>\n      <td>38.0</td>\n      <td>38.0</td>\n    </tr>\n    <tr>\n      <th>27</th>\n      <td>3</td>\n      <td>NaN</td>\n      <td>NaN</td>\n    </tr>\n    <tr>\n      <th>28</th>\n      <td>1</td>\n      <td>19.0</td>\n      <td>19.0</td>\n    </tr>\n    <tr>\n      <th>29</th>\n      <td>3</td>\n      <td>NaN</td>\n      <td>NaN</td>\n    </tr>\n    <tr>\n      <th>30</th>\n      <td>3</td>\n      <td>NaN</td>\n      <td>NaN</td>\n    </tr>\n  </tbody>\n</table>\n</div>"
     },
     "execution_count": 227,
     "metadata": {},
     "output_type": "execute_result"
    }
   ],
   "source": [
    "train['Age(Fill)'] = train['Age']\n",
    "print(train.shape)\n",
    "train[['Pclass', 'Age', 'Age(Fill)']].head(30)"
   ],
   "metadata": {
    "collapsed": false,
    "pycharm": {
     "name": "#%%\n"
    }
   }
  },
  {
   "cell_type": "code",
   "execution_count": 228,
   "outputs": [],
   "source": [
    "train.loc[(train['Age'].isnull()) & (train['Pclass'] == 1), 'Age(Fill)'] = mean_age_by_pclass.loc[1]\n",
    "train.loc[(train['Age'].isnull()) & (train['Pclass'] == 2), 'Age(Fill)'] = mean_age_by_pclass.loc[2]\n",
    "train.loc[(train['Age'].isnull()) & (train['Pclass'] == 3), 'Age(Fill)'] = mean_age_by_pclass.loc[3]"
   ],
   "metadata": {
    "collapsed": false,
    "pycharm": {
     "name": "#%%\n"
    }
   }
  },
  {
   "cell_type": "code",
   "execution_count": 229,
   "outputs": [
    {
     "name": "stdout",
     "output_type": "stream",
     "text": [
      "(891, 16)\n"
     ]
    },
    {
     "data": {
      "text/plain": "             Pclass   Age  Age(Fill)\nPassengerId                         \n1                 3  22.0   22.00000\n2                 1  38.0   38.00000\n3                 3  26.0   26.00000\n4                 1  35.0   35.00000\n5                 3  35.0   35.00000\n6                 3   NaN   25.14062\n7                 1  54.0   54.00000\n8                 3   2.0    2.00000\n9                 3  27.0   27.00000\n10                2  14.0   14.00000\n11                3   4.0    4.00000\n12                1  58.0   58.00000\n13                3  20.0   20.00000\n14                3  39.0   39.00000\n15                3  14.0   14.00000\n16                2  55.0   55.00000\n17                3   2.0    2.00000\n18                2   NaN   29.87763\n19                3  31.0   31.00000\n20                3   NaN   25.14062\n21                2  35.0   35.00000\n22                2  34.0   34.00000\n23                3  15.0   15.00000\n24                1  28.0   28.00000\n25                3   8.0    8.00000\n26                3  38.0   38.00000\n27                3   NaN   25.14062\n28                1  19.0   19.00000\n29                3   NaN   25.14062\n30                3   NaN   25.14062",
      "text/html": "<div>\n<style scoped>\n    .dataframe tbody tr th:only-of-type {\n        vertical-align: middle;\n    }\n\n    .dataframe tbody tr th {\n        vertical-align: top;\n    }\n\n    .dataframe thead th {\n        text-align: right;\n    }\n</style>\n<table border=\"1\" class=\"dataframe\">\n  <thead>\n    <tr style=\"text-align: right;\">\n      <th></th>\n      <th>Pclass</th>\n      <th>Age</th>\n      <th>Age(Fill)</th>\n    </tr>\n    <tr>\n      <th>PassengerId</th>\n      <th></th>\n      <th></th>\n      <th></th>\n    </tr>\n  </thead>\n  <tbody>\n    <tr>\n      <th>1</th>\n      <td>3</td>\n      <td>22.0</td>\n      <td>22.00000</td>\n    </tr>\n    <tr>\n      <th>2</th>\n      <td>1</td>\n      <td>38.0</td>\n      <td>38.00000</td>\n    </tr>\n    <tr>\n      <th>3</th>\n      <td>3</td>\n      <td>26.0</td>\n      <td>26.00000</td>\n    </tr>\n    <tr>\n      <th>4</th>\n      <td>1</td>\n      <td>35.0</td>\n      <td>35.00000</td>\n    </tr>\n    <tr>\n      <th>5</th>\n      <td>3</td>\n      <td>35.0</td>\n      <td>35.00000</td>\n    </tr>\n    <tr>\n      <th>6</th>\n      <td>3</td>\n      <td>NaN</td>\n      <td>25.14062</td>\n    </tr>\n    <tr>\n      <th>7</th>\n      <td>1</td>\n      <td>54.0</td>\n      <td>54.00000</td>\n    </tr>\n    <tr>\n      <th>8</th>\n      <td>3</td>\n      <td>2.0</td>\n      <td>2.00000</td>\n    </tr>\n    <tr>\n      <th>9</th>\n      <td>3</td>\n      <td>27.0</td>\n      <td>27.00000</td>\n    </tr>\n    <tr>\n      <th>10</th>\n      <td>2</td>\n      <td>14.0</td>\n      <td>14.00000</td>\n    </tr>\n    <tr>\n      <th>11</th>\n      <td>3</td>\n      <td>4.0</td>\n      <td>4.00000</td>\n    </tr>\n    <tr>\n      <th>12</th>\n      <td>1</td>\n      <td>58.0</td>\n      <td>58.00000</td>\n    </tr>\n    <tr>\n      <th>13</th>\n      <td>3</td>\n      <td>20.0</td>\n      <td>20.00000</td>\n    </tr>\n    <tr>\n      <th>14</th>\n      <td>3</td>\n      <td>39.0</td>\n      <td>39.00000</td>\n    </tr>\n    <tr>\n      <th>15</th>\n      <td>3</td>\n      <td>14.0</td>\n      <td>14.00000</td>\n    </tr>\n    <tr>\n      <th>16</th>\n      <td>2</td>\n      <td>55.0</td>\n      <td>55.00000</td>\n    </tr>\n    <tr>\n      <th>17</th>\n      <td>3</td>\n      <td>2.0</td>\n      <td>2.00000</td>\n    </tr>\n    <tr>\n      <th>18</th>\n      <td>2</td>\n      <td>NaN</td>\n      <td>29.87763</td>\n    </tr>\n    <tr>\n      <th>19</th>\n      <td>3</td>\n      <td>31.0</td>\n      <td>31.00000</td>\n    </tr>\n    <tr>\n      <th>20</th>\n      <td>3</td>\n      <td>NaN</td>\n      <td>25.14062</td>\n    </tr>\n    <tr>\n      <th>21</th>\n      <td>2</td>\n      <td>35.0</td>\n      <td>35.00000</td>\n    </tr>\n    <tr>\n      <th>22</th>\n      <td>2</td>\n      <td>34.0</td>\n      <td>34.00000</td>\n    </tr>\n    <tr>\n      <th>23</th>\n      <td>3</td>\n      <td>15.0</td>\n      <td>15.00000</td>\n    </tr>\n    <tr>\n      <th>24</th>\n      <td>1</td>\n      <td>28.0</td>\n      <td>28.00000</td>\n    </tr>\n    <tr>\n      <th>25</th>\n      <td>3</td>\n      <td>8.0</td>\n      <td>8.00000</td>\n    </tr>\n    <tr>\n      <th>26</th>\n      <td>3</td>\n      <td>38.0</td>\n      <td>38.00000</td>\n    </tr>\n    <tr>\n      <th>27</th>\n      <td>3</td>\n      <td>NaN</td>\n      <td>25.14062</td>\n    </tr>\n    <tr>\n      <th>28</th>\n      <td>1</td>\n      <td>19.0</td>\n      <td>19.00000</td>\n    </tr>\n    <tr>\n      <th>29</th>\n      <td>3</td>\n      <td>NaN</td>\n      <td>25.14062</td>\n    </tr>\n    <tr>\n      <th>30</th>\n      <td>3</td>\n      <td>NaN</td>\n      <td>25.14062</td>\n    </tr>\n  </tbody>\n</table>\n</div>"
     },
     "execution_count": 229,
     "metadata": {},
     "output_type": "execute_result"
    }
   ],
   "source": [
    "print(train.shape)\n",
    "train[['Pclass', 'Age', 'Age(Fill)']].head(30)"
   ],
   "metadata": {
    "collapsed": false,
    "pycharm": {
     "name": "#%%\n"
    }
   }
  },
  {
   "cell_type": "code",
   "execution_count": 230,
   "outputs": [
    {
     "data": {
      "text/plain": "              Age  Age(Fill) AgeType\nPassengerId                         \n1            22.0   22.00000  Medium\n2            38.0   38.00000     Old\n3            26.0   26.00000  Medium\n4            35.0   35.00000     Old\n5            35.0   35.00000     Old\n6             NaN   25.14062  Medium\n7            54.0   54.00000     Old\n8             2.0    2.00000   Young\n9            27.0   27.00000  Medium\n10           14.0   14.00000   Young\n11            4.0    4.00000   Young\n12           58.0   58.00000     Old\n13           20.0   20.00000  Medium\n14           39.0   39.00000     Old\n15           14.0   14.00000   Young\n16           55.0   55.00000     Old\n17            2.0    2.00000   Young\n18            NaN   29.87763  Medium\n19           31.0   31.00000     Old\n20            NaN   25.14062  Medium\n21           35.0   35.00000     Old\n22           34.0   34.00000     Old\n23           15.0   15.00000  Medium\n24           28.0   28.00000  Medium\n25            8.0    8.00000   Young\n26           38.0   38.00000     Old\n27            NaN   25.14062  Medium\n28           19.0   19.00000  Medium\n29            NaN   25.14062  Medium\n30            NaN   25.14062  Medium",
      "text/html": "<div>\n<style scoped>\n    .dataframe tbody tr th:only-of-type {\n        vertical-align: middle;\n    }\n\n    .dataframe tbody tr th {\n        vertical-align: top;\n    }\n\n    .dataframe thead th {\n        text-align: right;\n    }\n</style>\n<table border=\"1\" class=\"dataframe\">\n  <thead>\n    <tr style=\"text-align: right;\">\n      <th></th>\n      <th>Age</th>\n      <th>Age(Fill)</th>\n      <th>AgeType</th>\n    </tr>\n    <tr>\n      <th>PassengerId</th>\n      <th></th>\n      <th></th>\n      <th></th>\n    </tr>\n  </thead>\n  <tbody>\n    <tr>\n      <th>1</th>\n      <td>22.0</td>\n      <td>22.00000</td>\n      <td>Medium</td>\n    </tr>\n    <tr>\n      <th>2</th>\n      <td>38.0</td>\n      <td>38.00000</td>\n      <td>Old</td>\n    </tr>\n    <tr>\n      <th>3</th>\n      <td>26.0</td>\n      <td>26.00000</td>\n      <td>Medium</td>\n    </tr>\n    <tr>\n      <th>4</th>\n      <td>35.0</td>\n      <td>35.00000</td>\n      <td>Old</td>\n    </tr>\n    <tr>\n      <th>5</th>\n      <td>35.0</td>\n      <td>35.00000</td>\n      <td>Old</td>\n    </tr>\n    <tr>\n      <th>6</th>\n      <td>NaN</td>\n      <td>25.14062</td>\n      <td>Medium</td>\n    </tr>\n    <tr>\n      <th>7</th>\n      <td>54.0</td>\n      <td>54.00000</td>\n      <td>Old</td>\n    </tr>\n    <tr>\n      <th>8</th>\n      <td>2.0</td>\n      <td>2.00000</td>\n      <td>Young</td>\n    </tr>\n    <tr>\n      <th>9</th>\n      <td>27.0</td>\n      <td>27.00000</td>\n      <td>Medium</td>\n    </tr>\n    <tr>\n      <th>10</th>\n      <td>14.0</td>\n      <td>14.00000</td>\n      <td>Young</td>\n    </tr>\n    <tr>\n      <th>11</th>\n      <td>4.0</td>\n      <td>4.00000</td>\n      <td>Young</td>\n    </tr>\n    <tr>\n      <th>12</th>\n      <td>58.0</td>\n      <td>58.00000</td>\n      <td>Old</td>\n    </tr>\n    <tr>\n      <th>13</th>\n      <td>20.0</td>\n      <td>20.00000</td>\n      <td>Medium</td>\n    </tr>\n    <tr>\n      <th>14</th>\n      <td>39.0</td>\n      <td>39.00000</td>\n      <td>Old</td>\n    </tr>\n    <tr>\n      <th>15</th>\n      <td>14.0</td>\n      <td>14.00000</td>\n      <td>Young</td>\n    </tr>\n    <tr>\n      <th>16</th>\n      <td>55.0</td>\n      <td>55.00000</td>\n      <td>Old</td>\n    </tr>\n    <tr>\n      <th>17</th>\n      <td>2.0</td>\n      <td>2.00000</td>\n      <td>Young</td>\n    </tr>\n    <tr>\n      <th>18</th>\n      <td>NaN</td>\n      <td>29.87763</td>\n      <td>Medium</td>\n    </tr>\n    <tr>\n      <th>19</th>\n      <td>31.0</td>\n      <td>31.00000</td>\n      <td>Old</td>\n    </tr>\n    <tr>\n      <th>20</th>\n      <td>NaN</td>\n      <td>25.14062</td>\n      <td>Medium</td>\n    </tr>\n    <tr>\n      <th>21</th>\n      <td>35.0</td>\n      <td>35.00000</td>\n      <td>Old</td>\n    </tr>\n    <tr>\n      <th>22</th>\n      <td>34.0</td>\n      <td>34.00000</td>\n      <td>Old</td>\n    </tr>\n    <tr>\n      <th>23</th>\n      <td>15.0</td>\n      <td>15.00000</td>\n      <td>Medium</td>\n    </tr>\n    <tr>\n      <th>24</th>\n      <td>28.0</td>\n      <td>28.00000</td>\n      <td>Medium</td>\n    </tr>\n    <tr>\n      <th>25</th>\n      <td>8.0</td>\n      <td>8.00000</td>\n      <td>Young</td>\n    </tr>\n    <tr>\n      <th>26</th>\n      <td>38.0</td>\n      <td>38.00000</td>\n      <td>Old</td>\n    </tr>\n    <tr>\n      <th>27</th>\n      <td>NaN</td>\n      <td>25.14062</td>\n      <td>Medium</td>\n    </tr>\n    <tr>\n      <th>28</th>\n      <td>19.0</td>\n      <td>19.00000</td>\n      <td>Medium</td>\n    </tr>\n    <tr>\n      <th>29</th>\n      <td>NaN</td>\n      <td>25.14062</td>\n      <td>Medium</td>\n    </tr>\n    <tr>\n      <th>30</th>\n      <td>NaN</td>\n      <td>25.14062</td>\n      <td>Medium</td>\n    </tr>\n  </tbody>\n</table>\n</div>"
     },
     "execution_count": 230,
     "metadata": {},
     "output_type": "execute_result"
    }
   ],
   "source": [
    "# AgeType - Train\n",
    "train.loc[train['Age(Fill)']<15,'AgeType']=\"Young\"\n",
    "train.loc[(train['Age(Fill)']>=15)&(train['Age(Fill)']<30),'AgeType']=\"Medium\"\n",
    "train.loc[(train['Age(Fill)']>=30),'AgeType']=\"Old\"\n",
    "train[['Age', 'Age(Fill)', 'AgeType']].head(30)"
   ],
   "metadata": {
    "collapsed": false,
    "pycharm": {
     "name": "#%%\n"
    }
   }
  },
  {
   "cell_type": "code",
   "execution_count": 231,
   "outputs": [
    {
     "data": {
      "text/plain": "             Pclass                                               Name  \\\nPassengerId                                                              \n902               3                                   Ilieff, Mr. Ylio   \n914               1               Flegenheim, Mrs. Alfred (Antoinette)   \n921               3                                  Samaan, Mr. Elias   \n925               3  Johnston, Mrs. Andrew G (Elizabeth Lily\" Watson)\"   \n928               3                                Roth, Miss. Sarah A   \n...             ...                                                ...   \n1300              3                    Riordan, Miss. Johanna Hannah\"\"   \n1302              3                             Naughton, Miss. Hannah   \n1305              3                                 Spector, Mr. Woolf   \n1308              3                                Ware, Mr. Frederick   \n1309              3                           Peter, Master. Michael J   \n\n                Sex  Age  SibSp  Parch      Ticket     Fare Cabin Embarked  \\\nPassengerId                                                                  \n902            male  NaN      0      0      349220   7.8958   NaN        S   \n914          female  NaN      0      0    PC 17598  31.6833   NaN        S   \n921            male  NaN      2      0        2662  21.6792   NaN        C   \n925          female  NaN      1      2  W./C. 6607  23.4500   NaN        S   \n928          female  NaN      0      0      342712   8.0500   NaN        S   \n...             ...  ...    ...    ...         ...      ...   ...      ...   \n1300         female  NaN      0      0      334915   7.7208   NaN        Q   \n1302         female  NaN      0      0      365237   7.7500   NaN        Q   \n1305           male  NaN      0      0   A.5. 3236   8.0500   NaN        S   \n1308           male  NaN      0      0      359309   8.0500   NaN        S   \n1309           male  NaN      1      1        2668  22.3583   NaN        C   \n\n             Sex_Encoded  Embarked_C  Embarked_S  Embarked_Q  \nPassengerId                                                   \n902                    0       False        True       False  \n914                    1       False        True       False  \n921                    0        True       False       False  \n925                    1       False        True       False  \n928                    1       False        True       False  \n...                  ...         ...         ...         ...  \n1300                   1       False       False        True  \n1302                   1       False       False        True  \n1305                   0       False        True       False  \n1308                   0       False        True       False  \n1309                   0        True       False       False  \n\n[86 rows x 14 columns]",
      "text/html": "<div>\n<style scoped>\n    .dataframe tbody tr th:only-of-type {\n        vertical-align: middle;\n    }\n\n    .dataframe tbody tr th {\n        vertical-align: top;\n    }\n\n    .dataframe thead th {\n        text-align: right;\n    }\n</style>\n<table border=\"1\" class=\"dataframe\">\n  <thead>\n    <tr style=\"text-align: right;\">\n      <th></th>\n      <th>Pclass</th>\n      <th>Name</th>\n      <th>Sex</th>\n      <th>Age</th>\n      <th>SibSp</th>\n      <th>Parch</th>\n      <th>Ticket</th>\n      <th>Fare</th>\n      <th>Cabin</th>\n      <th>Embarked</th>\n      <th>Sex_Encoded</th>\n      <th>Embarked_C</th>\n      <th>Embarked_S</th>\n      <th>Embarked_Q</th>\n    </tr>\n    <tr>\n      <th>PassengerId</th>\n      <th></th>\n      <th></th>\n      <th></th>\n      <th></th>\n      <th></th>\n      <th></th>\n      <th></th>\n      <th></th>\n      <th></th>\n      <th></th>\n      <th></th>\n      <th></th>\n      <th></th>\n      <th></th>\n    </tr>\n  </thead>\n  <tbody>\n    <tr>\n      <th>902</th>\n      <td>3</td>\n      <td>Ilieff, Mr. Ylio</td>\n      <td>male</td>\n      <td>NaN</td>\n      <td>0</td>\n      <td>0</td>\n      <td>349220</td>\n      <td>7.8958</td>\n      <td>NaN</td>\n      <td>S</td>\n      <td>0</td>\n      <td>False</td>\n      <td>True</td>\n      <td>False</td>\n    </tr>\n    <tr>\n      <th>914</th>\n      <td>1</td>\n      <td>Flegenheim, Mrs. Alfred (Antoinette)</td>\n      <td>female</td>\n      <td>NaN</td>\n      <td>0</td>\n      <td>0</td>\n      <td>PC 17598</td>\n      <td>31.6833</td>\n      <td>NaN</td>\n      <td>S</td>\n      <td>1</td>\n      <td>False</td>\n      <td>True</td>\n      <td>False</td>\n    </tr>\n    <tr>\n      <th>921</th>\n      <td>3</td>\n      <td>Samaan, Mr. Elias</td>\n      <td>male</td>\n      <td>NaN</td>\n      <td>2</td>\n      <td>0</td>\n      <td>2662</td>\n      <td>21.6792</td>\n      <td>NaN</td>\n      <td>C</td>\n      <td>0</td>\n      <td>True</td>\n      <td>False</td>\n      <td>False</td>\n    </tr>\n    <tr>\n      <th>925</th>\n      <td>3</td>\n      <td>Johnston, Mrs. Andrew G (Elizabeth Lily\" Watson)\"</td>\n      <td>female</td>\n      <td>NaN</td>\n      <td>1</td>\n      <td>2</td>\n      <td>W./C. 6607</td>\n      <td>23.4500</td>\n      <td>NaN</td>\n      <td>S</td>\n      <td>1</td>\n      <td>False</td>\n      <td>True</td>\n      <td>False</td>\n    </tr>\n    <tr>\n      <th>928</th>\n      <td>3</td>\n      <td>Roth, Miss. Sarah A</td>\n      <td>female</td>\n      <td>NaN</td>\n      <td>0</td>\n      <td>0</td>\n      <td>342712</td>\n      <td>8.0500</td>\n      <td>NaN</td>\n      <td>S</td>\n      <td>1</td>\n      <td>False</td>\n      <td>True</td>\n      <td>False</td>\n    </tr>\n    <tr>\n      <th>...</th>\n      <td>...</td>\n      <td>...</td>\n      <td>...</td>\n      <td>...</td>\n      <td>...</td>\n      <td>...</td>\n      <td>...</td>\n      <td>...</td>\n      <td>...</td>\n      <td>...</td>\n      <td>...</td>\n      <td>...</td>\n      <td>...</td>\n      <td>...</td>\n    </tr>\n    <tr>\n      <th>1300</th>\n      <td>3</td>\n      <td>Riordan, Miss. Johanna Hannah\"\"</td>\n      <td>female</td>\n      <td>NaN</td>\n      <td>0</td>\n      <td>0</td>\n      <td>334915</td>\n      <td>7.7208</td>\n      <td>NaN</td>\n      <td>Q</td>\n      <td>1</td>\n      <td>False</td>\n      <td>False</td>\n      <td>True</td>\n    </tr>\n    <tr>\n      <th>1302</th>\n      <td>3</td>\n      <td>Naughton, Miss. Hannah</td>\n      <td>female</td>\n      <td>NaN</td>\n      <td>0</td>\n      <td>0</td>\n      <td>365237</td>\n      <td>7.7500</td>\n      <td>NaN</td>\n      <td>Q</td>\n      <td>1</td>\n      <td>False</td>\n      <td>False</td>\n      <td>True</td>\n    </tr>\n    <tr>\n      <th>1305</th>\n      <td>3</td>\n      <td>Spector, Mr. Woolf</td>\n      <td>male</td>\n      <td>NaN</td>\n      <td>0</td>\n      <td>0</td>\n      <td>A.5. 3236</td>\n      <td>8.0500</td>\n      <td>NaN</td>\n      <td>S</td>\n      <td>0</td>\n      <td>False</td>\n      <td>True</td>\n      <td>False</td>\n    </tr>\n    <tr>\n      <th>1308</th>\n      <td>3</td>\n      <td>Ware, Mr. Frederick</td>\n      <td>male</td>\n      <td>NaN</td>\n      <td>0</td>\n      <td>0</td>\n      <td>359309</td>\n      <td>8.0500</td>\n      <td>NaN</td>\n      <td>S</td>\n      <td>0</td>\n      <td>False</td>\n      <td>True</td>\n      <td>False</td>\n    </tr>\n    <tr>\n      <th>1309</th>\n      <td>3</td>\n      <td>Peter, Master. Michael J</td>\n      <td>male</td>\n      <td>NaN</td>\n      <td>1</td>\n      <td>1</td>\n      <td>2668</td>\n      <td>22.3583</td>\n      <td>NaN</td>\n      <td>C</td>\n      <td>0</td>\n      <td>True</td>\n      <td>False</td>\n      <td>False</td>\n    </tr>\n  </tbody>\n</table>\n<p>86 rows × 14 columns</p>\n</div>"
     },
     "execution_count": 231,
     "metadata": {},
     "output_type": "execute_result"
    }
   ],
   "source": [
    "# Check Age missing-data - test\n",
    "test[test['Age'].isnull()]"
   ],
   "metadata": {
    "collapsed": false,
    "pycharm": {
     "name": "#%%\n"
    }
   }
  },
  {
   "cell_type": "code",
   "execution_count": 232,
   "outputs": [
    {
     "data": {
      "text/plain": "Pclass\n1    40.918367\n2    28.777500\n3    24.027945\nName: Age, dtype: float64"
     },
     "execution_count": 232,
     "metadata": {},
     "output_type": "execute_result"
    }
   ],
   "source": [
    "# test mean age\n",
    "mean_age_by_pclass_test = test.groupby('Pclass')['Age'].mean()\n",
    "mean_age_by_pclass_test"
   ],
   "metadata": {
    "collapsed": false,
    "pycharm": {
     "name": "#%%\n"
    }
   }
  },
  {
   "cell_type": "code",
   "execution_count": 233,
   "outputs": [
    {
     "name": "stdout",
     "output_type": "stream",
     "text": [
      "(418, 15)\n"
     ]
    },
    {
     "data": {
      "text/plain": "             Pclass   Age  Age(Fill)\nPassengerId                         \n892               3  34.5       34.5\n893               3  47.0       47.0\n894               2  62.0       62.0\n895               3  27.0       27.0\n896               3  22.0       22.0\n897               3  14.0       14.0\n898               3  30.0       30.0\n899               2  26.0       26.0\n900               3  18.0       18.0\n901               3  21.0       21.0\n902               3   NaN        NaN\n903               1  46.0       46.0\n904               1  23.0       23.0\n905               2  63.0       63.0\n906               1  47.0       47.0\n907               2  24.0       24.0\n908               2  35.0       35.0\n909               3  21.0       21.0\n910               3  27.0       27.0\n911               3  45.0       45.0\n912               1  55.0       55.0\n913               3   9.0        9.0\n914               1   NaN        NaN\n915               1  21.0       21.0\n916               1  48.0       48.0\n917               3  50.0       50.0\n918               1  22.0       22.0\n919               3  22.5       22.5\n920               1  41.0       41.0\n921               3   NaN        NaN",
      "text/html": "<div>\n<style scoped>\n    .dataframe tbody tr th:only-of-type {\n        vertical-align: middle;\n    }\n\n    .dataframe tbody tr th {\n        vertical-align: top;\n    }\n\n    .dataframe thead th {\n        text-align: right;\n    }\n</style>\n<table border=\"1\" class=\"dataframe\">\n  <thead>\n    <tr style=\"text-align: right;\">\n      <th></th>\n      <th>Pclass</th>\n      <th>Age</th>\n      <th>Age(Fill)</th>\n    </tr>\n    <tr>\n      <th>PassengerId</th>\n      <th></th>\n      <th></th>\n      <th></th>\n    </tr>\n  </thead>\n  <tbody>\n    <tr>\n      <th>892</th>\n      <td>3</td>\n      <td>34.5</td>\n      <td>34.5</td>\n    </tr>\n    <tr>\n      <th>893</th>\n      <td>3</td>\n      <td>47.0</td>\n      <td>47.0</td>\n    </tr>\n    <tr>\n      <th>894</th>\n      <td>2</td>\n      <td>62.0</td>\n      <td>62.0</td>\n    </tr>\n    <tr>\n      <th>895</th>\n      <td>3</td>\n      <td>27.0</td>\n      <td>27.0</td>\n    </tr>\n    <tr>\n      <th>896</th>\n      <td>3</td>\n      <td>22.0</td>\n      <td>22.0</td>\n    </tr>\n    <tr>\n      <th>897</th>\n      <td>3</td>\n      <td>14.0</td>\n      <td>14.0</td>\n    </tr>\n    <tr>\n      <th>898</th>\n      <td>3</td>\n      <td>30.0</td>\n      <td>30.0</td>\n    </tr>\n    <tr>\n      <th>899</th>\n      <td>2</td>\n      <td>26.0</td>\n      <td>26.0</td>\n    </tr>\n    <tr>\n      <th>900</th>\n      <td>3</td>\n      <td>18.0</td>\n      <td>18.0</td>\n    </tr>\n    <tr>\n      <th>901</th>\n      <td>3</td>\n      <td>21.0</td>\n      <td>21.0</td>\n    </tr>\n    <tr>\n      <th>902</th>\n      <td>3</td>\n      <td>NaN</td>\n      <td>NaN</td>\n    </tr>\n    <tr>\n      <th>903</th>\n      <td>1</td>\n      <td>46.0</td>\n      <td>46.0</td>\n    </tr>\n    <tr>\n      <th>904</th>\n      <td>1</td>\n      <td>23.0</td>\n      <td>23.0</td>\n    </tr>\n    <tr>\n      <th>905</th>\n      <td>2</td>\n      <td>63.0</td>\n      <td>63.0</td>\n    </tr>\n    <tr>\n      <th>906</th>\n      <td>1</td>\n      <td>47.0</td>\n      <td>47.0</td>\n    </tr>\n    <tr>\n      <th>907</th>\n      <td>2</td>\n      <td>24.0</td>\n      <td>24.0</td>\n    </tr>\n    <tr>\n      <th>908</th>\n      <td>2</td>\n      <td>35.0</td>\n      <td>35.0</td>\n    </tr>\n    <tr>\n      <th>909</th>\n      <td>3</td>\n      <td>21.0</td>\n      <td>21.0</td>\n    </tr>\n    <tr>\n      <th>910</th>\n      <td>3</td>\n      <td>27.0</td>\n      <td>27.0</td>\n    </tr>\n    <tr>\n      <th>911</th>\n      <td>3</td>\n      <td>45.0</td>\n      <td>45.0</td>\n    </tr>\n    <tr>\n      <th>912</th>\n      <td>1</td>\n      <td>55.0</td>\n      <td>55.0</td>\n    </tr>\n    <tr>\n      <th>913</th>\n      <td>3</td>\n      <td>9.0</td>\n      <td>9.0</td>\n    </tr>\n    <tr>\n      <th>914</th>\n      <td>1</td>\n      <td>NaN</td>\n      <td>NaN</td>\n    </tr>\n    <tr>\n      <th>915</th>\n      <td>1</td>\n      <td>21.0</td>\n      <td>21.0</td>\n    </tr>\n    <tr>\n      <th>916</th>\n      <td>1</td>\n      <td>48.0</td>\n      <td>48.0</td>\n    </tr>\n    <tr>\n      <th>917</th>\n      <td>3</td>\n      <td>50.0</td>\n      <td>50.0</td>\n    </tr>\n    <tr>\n      <th>918</th>\n      <td>1</td>\n      <td>22.0</td>\n      <td>22.0</td>\n    </tr>\n    <tr>\n      <th>919</th>\n      <td>3</td>\n      <td>22.5</td>\n      <td>22.5</td>\n    </tr>\n    <tr>\n      <th>920</th>\n      <td>1</td>\n      <td>41.0</td>\n      <td>41.0</td>\n    </tr>\n    <tr>\n      <th>921</th>\n      <td>3</td>\n      <td>NaN</td>\n      <td>NaN</td>\n    </tr>\n  </tbody>\n</table>\n</div>"
     },
     "execution_count": 233,
     "metadata": {},
     "output_type": "execute_result"
    }
   ],
   "source": [
    "test['Age(Fill)'] = test['Age']\n",
    "print(test.shape)\n",
    "test[['Pclass', 'Age', 'Age(Fill)']].head(30)"
   ],
   "metadata": {
    "collapsed": false,
    "pycharm": {
     "name": "#%%\n"
    }
   }
  },
  {
   "cell_type": "code",
   "execution_count": 234,
   "outputs": [
    {
     "data": {
      "text/plain": "             Pclass   Age  Age(Fill)\nPassengerId                         \n892               3  34.5  34.500000\n893               3  47.0  47.000000\n894               2  62.0  62.000000\n895               3  27.0  27.000000\n896               3  22.0  22.000000\n897               3  14.0  14.000000\n898               3  30.0  30.000000\n899               2  26.0  26.000000\n900               3  18.0  18.000000\n901               3  21.0  21.000000\n902               3   NaN  24.027945\n903               1  46.0  46.000000\n904               1  23.0  23.000000\n905               2  63.0  63.000000\n906               1  47.0  47.000000\n907               2  24.0  24.000000\n908               2  35.0  35.000000\n909               3  21.0  21.000000\n910               3  27.0  27.000000\n911               3  45.0  45.000000\n912               1  55.0  55.000000\n913               3   9.0   9.000000\n914               1   NaN  40.918367\n915               1  21.0  21.000000\n916               1  48.0  48.000000\n917               3  50.0  50.000000\n918               1  22.0  22.000000\n919               3  22.5  22.500000\n920               1  41.0  41.000000\n921               3   NaN  24.027945",
      "text/html": "<div>\n<style scoped>\n    .dataframe tbody tr th:only-of-type {\n        vertical-align: middle;\n    }\n\n    .dataframe tbody tr th {\n        vertical-align: top;\n    }\n\n    .dataframe thead th {\n        text-align: right;\n    }\n</style>\n<table border=\"1\" class=\"dataframe\">\n  <thead>\n    <tr style=\"text-align: right;\">\n      <th></th>\n      <th>Pclass</th>\n      <th>Age</th>\n      <th>Age(Fill)</th>\n    </tr>\n    <tr>\n      <th>PassengerId</th>\n      <th></th>\n      <th></th>\n      <th></th>\n    </tr>\n  </thead>\n  <tbody>\n    <tr>\n      <th>892</th>\n      <td>3</td>\n      <td>34.5</td>\n      <td>34.500000</td>\n    </tr>\n    <tr>\n      <th>893</th>\n      <td>3</td>\n      <td>47.0</td>\n      <td>47.000000</td>\n    </tr>\n    <tr>\n      <th>894</th>\n      <td>2</td>\n      <td>62.0</td>\n      <td>62.000000</td>\n    </tr>\n    <tr>\n      <th>895</th>\n      <td>3</td>\n      <td>27.0</td>\n      <td>27.000000</td>\n    </tr>\n    <tr>\n      <th>896</th>\n      <td>3</td>\n      <td>22.0</td>\n      <td>22.000000</td>\n    </tr>\n    <tr>\n      <th>897</th>\n      <td>3</td>\n      <td>14.0</td>\n      <td>14.000000</td>\n    </tr>\n    <tr>\n      <th>898</th>\n      <td>3</td>\n      <td>30.0</td>\n      <td>30.000000</td>\n    </tr>\n    <tr>\n      <th>899</th>\n      <td>2</td>\n      <td>26.0</td>\n      <td>26.000000</td>\n    </tr>\n    <tr>\n      <th>900</th>\n      <td>3</td>\n      <td>18.0</td>\n      <td>18.000000</td>\n    </tr>\n    <tr>\n      <th>901</th>\n      <td>3</td>\n      <td>21.0</td>\n      <td>21.000000</td>\n    </tr>\n    <tr>\n      <th>902</th>\n      <td>3</td>\n      <td>NaN</td>\n      <td>24.027945</td>\n    </tr>\n    <tr>\n      <th>903</th>\n      <td>1</td>\n      <td>46.0</td>\n      <td>46.000000</td>\n    </tr>\n    <tr>\n      <th>904</th>\n      <td>1</td>\n      <td>23.0</td>\n      <td>23.000000</td>\n    </tr>\n    <tr>\n      <th>905</th>\n      <td>2</td>\n      <td>63.0</td>\n      <td>63.000000</td>\n    </tr>\n    <tr>\n      <th>906</th>\n      <td>1</td>\n      <td>47.0</td>\n      <td>47.000000</td>\n    </tr>\n    <tr>\n      <th>907</th>\n      <td>2</td>\n      <td>24.0</td>\n      <td>24.000000</td>\n    </tr>\n    <tr>\n      <th>908</th>\n      <td>2</td>\n      <td>35.0</td>\n      <td>35.000000</td>\n    </tr>\n    <tr>\n      <th>909</th>\n      <td>3</td>\n      <td>21.0</td>\n      <td>21.000000</td>\n    </tr>\n    <tr>\n      <th>910</th>\n      <td>3</td>\n      <td>27.0</td>\n      <td>27.000000</td>\n    </tr>\n    <tr>\n      <th>911</th>\n      <td>3</td>\n      <td>45.0</td>\n      <td>45.000000</td>\n    </tr>\n    <tr>\n      <th>912</th>\n      <td>1</td>\n      <td>55.0</td>\n      <td>55.000000</td>\n    </tr>\n    <tr>\n      <th>913</th>\n      <td>3</td>\n      <td>9.0</td>\n      <td>9.000000</td>\n    </tr>\n    <tr>\n      <th>914</th>\n      <td>1</td>\n      <td>NaN</td>\n      <td>40.918367</td>\n    </tr>\n    <tr>\n      <th>915</th>\n      <td>1</td>\n      <td>21.0</td>\n      <td>21.000000</td>\n    </tr>\n    <tr>\n      <th>916</th>\n      <td>1</td>\n      <td>48.0</td>\n      <td>48.000000</td>\n    </tr>\n    <tr>\n      <th>917</th>\n      <td>3</td>\n      <td>50.0</td>\n      <td>50.000000</td>\n    </tr>\n    <tr>\n      <th>918</th>\n      <td>1</td>\n      <td>22.0</td>\n      <td>22.000000</td>\n    </tr>\n    <tr>\n      <th>919</th>\n      <td>3</td>\n      <td>22.5</td>\n      <td>22.500000</td>\n    </tr>\n    <tr>\n      <th>920</th>\n      <td>1</td>\n      <td>41.0</td>\n      <td>41.000000</td>\n    </tr>\n    <tr>\n      <th>921</th>\n      <td>3</td>\n      <td>NaN</td>\n      <td>24.027945</td>\n    </tr>\n  </tbody>\n</table>\n</div>"
     },
     "execution_count": 234,
     "metadata": {},
     "output_type": "execute_result"
    }
   ],
   "source": [
    "test.loc[(test['Age'].isnull()) & (test['Pclass'] == 1), 'Age(Fill)'] = mean_age_by_pclass_test.loc[1]\n",
    "test.loc[(test['Age'].isnull()) & (test['Pclass'] == 2), 'Age(Fill)'] = mean_age_by_pclass_test.loc[2]\n",
    "test.loc[(test['Age'].isnull()) & (test['Pclass'] == 3), 'Age(Fill)'] = mean_age_by_pclass_test.loc[3]\n",
    "test[['Pclass', 'Age', 'Age(Fill)']].head(30)"
   ],
   "metadata": {
    "collapsed": false,
    "pycharm": {
     "name": "#%%\n"
    }
   }
  },
  {
   "cell_type": "code",
   "execution_count": 235,
   "outputs": [
    {
     "data": {
      "text/plain": "              Age  Age(Fill) AgeType\nPassengerId                         \n892          34.5  34.500000     Old\n893          47.0  47.000000     Old\n894          62.0  62.000000     Old\n895          27.0  27.000000  Medium\n896          22.0  22.000000  Medium\n897          14.0  14.000000   Young\n898          30.0  30.000000     Old\n899          26.0  26.000000  Medium\n900          18.0  18.000000  Medium\n901          21.0  21.000000  Medium\n902           NaN  24.027945  Medium\n903          46.0  46.000000     Old\n904          23.0  23.000000  Medium\n905          63.0  63.000000     Old\n906          47.0  47.000000     Old\n907          24.0  24.000000  Medium\n908          35.0  35.000000     Old\n909          21.0  21.000000  Medium\n910          27.0  27.000000  Medium\n911          45.0  45.000000     Old\n912          55.0  55.000000     Old\n913           9.0   9.000000   Young\n914           NaN  40.918367     Old\n915          21.0  21.000000  Medium\n916          48.0  48.000000     Old\n917          50.0  50.000000     Old\n918          22.0  22.000000  Medium\n919          22.5  22.500000  Medium\n920          41.0  41.000000     Old\n921           NaN  24.027945  Medium",
      "text/html": "<div>\n<style scoped>\n    .dataframe tbody tr th:only-of-type {\n        vertical-align: middle;\n    }\n\n    .dataframe tbody tr th {\n        vertical-align: top;\n    }\n\n    .dataframe thead th {\n        text-align: right;\n    }\n</style>\n<table border=\"1\" class=\"dataframe\">\n  <thead>\n    <tr style=\"text-align: right;\">\n      <th></th>\n      <th>Age</th>\n      <th>Age(Fill)</th>\n      <th>AgeType</th>\n    </tr>\n    <tr>\n      <th>PassengerId</th>\n      <th></th>\n      <th></th>\n      <th></th>\n    </tr>\n  </thead>\n  <tbody>\n    <tr>\n      <th>892</th>\n      <td>34.5</td>\n      <td>34.500000</td>\n      <td>Old</td>\n    </tr>\n    <tr>\n      <th>893</th>\n      <td>47.0</td>\n      <td>47.000000</td>\n      <td>Old</td>\n    </tr>\n    <tr>\n      <th>894</th>\n      <td>62.0</td>\n      <td>62.000000</td>\n      <td>Old</td>\n    </tr>\n    <tr>\n      <th>895</th>\n      <td>27.0</td>\n      <td>27.000000</td>\n      <td>Medium</td>\n    </tr>\n    <tr>\n      <th>896</th>\n      <td>22.0</td>\n      <td>22.000000</td>\n      <td>Medium</td>\n    </tr>\n    <tr>\n      <th>897</th>\n      <td>14.0</td>\n      <td>14.000000</td>\n      <td>Young</td>\n    </tr>\n    <tr>\n      <th>898</th>\n      <td>30.0</td>\n      <td>30.000000</td>\n      <td>Old</td>\n    </tr>\n    <tr>\n      <th>899</th>\n      <td>26.0</td>\n      <td>26.000000</td>\n      <td>Medium</td>\n    </tr>\n    <tr>\n      <th>900</th>\n      <td>18.0</td>\n      <td>18.000000</td>\n      <td>Medium</td>\n    </tr>\n    <tr>\n      <th>901</th>\n      <td>21.0</td>\n      <td>21.000000</td>\n      <td>Medium</td>\n    </tr>\n    <tr>\n      <th>902</th>\n      <td>NaN</td>\n      <td>24.027945</td>\n      <td>Medium</td>\n    </tr>\n    <tr>\n      <th>903</th>\n      <td>46.0</td>\n      <td>46.000000</td>\n      <td>Old</td>\n    </tr>\n    <tr>\n      <th>904</th>\n      <td>23.0</td>\n      <td>23.000000</td>\n      <td>Medium</td>\n    </tr>\n    <tr>\n      <th>905</th>\n      <td>63.0</td>\n      <td>63.000000</td>\n      <td>Old</td>\n    </tr>\n    <tr>\n      <th>906</th>\n      <td>47.0</td>\n      <td>47.000000</td>\n      <td>Old</td>\n    </tr>\n    <tr>\n      <th>907</th>\n      <td>24.0</td>\n      <td>24.000000</td>\n      <td>Medium</td>\n    </tr>\n    <tr>\n      <th>908</th>\n      <td>35.0</td>\n      <td>35.000000</td>\n      <td>Old</td>\n    </tr>\n    <tr>\n      <th>909</th>\n      <td>21.0</td>\n      <td>21.000000</td>\n      <td>Medium</td>\n    </tr>\n    <tr>\n      <th>910</th>\n      <td>27.0</td>\n      <td>27.000000</td>\n      <td>Medium</td>\n    </tr>\n    <tr>\n      <th>911</th>\n      <td>45.0</td>\n      <td>45.000000</td>\n      <td>Old</td>\n    </tr>\n    <tr>\n      <th>912</th>\n      <td>55.0</td>\n      <td>55.000000</td>\n      <td>Old</td>\n    </tr>\n    <tr>\n      <th>913</th>\n      <td>9.0</td>\n      <td>9.000000</td>\n      <td>Young</td>\n    </tr>\n    <tr>\n      <th>914</th>\n      <td>NaN</td>\n      <td>40.918367</td>\n      <td>Old</td>\n    </tr>\n    <tr>\n      <th>915</th>\n      <td>21.0</td>\n      <td>21.000000</td>\n      <td>Medium</td>\n    </tr>\n    <tr>\n      <th>916</th>\n      <td>48.0</td>\n      <td>48.000000</td>\n      <td>Old</td>\n    </tr>\n    <tr>\n      <th>917</th>\n      <td>50.0</td>\n      <td>50.000000</td>\n      <td>Old</td>\n    </tr>\n    <tr>\n      <th>918</th>\n      <td>22.0</td>\n      <td>22.000000</td>\n      <td>Medium</td>\n    </tr>\n    <tr>\n      <th>919</th>\n      <td>22.5</td>\n      <td>22.500000</td>\n      <td>Medium</td>\n    </tr>\n    <tr>\n      <th>920</th>\n      <td>41.0</td>\n      <td>41.000000</td>\n      <td>Old</td>\n    </tr>\n    <tr>\n      <th>921</th>\n      <td>NaN</td>\n      <td>24.027945</td>\n      <td>Medium</td>\n    </tr>\n  </tbody>\n</table>\n</div>"
     },
     "execution_count": 235,
     "metadata": {},
     "output_type": "execute_result"
    }
   ],
   "source": [
    "# AgeType - Test\n",
    "test.loc[test['Age(Fill)']<15,'AgeType']=\"Young\"\n",
    "test.loc[(test['Age(Fill)']>=15)&(test['Age(Fill)']<30),'AgeType']=\"Medium\"\n",
    "test.loc[(test['Age(Fill)']>=30),'AgeType']=\"Old\"\n",
    "test[['Age', 'Age(Fill)', 'AgeType']].head(30)"
   ],
   "metadata": {
    "collapsed": false,
    "pycharm": {
     "name": "#%%\n"
    }
   }
  },
  {
   "cell_type": "markdown",
   "source": [
    "**Age Encode**"
   ],
   "metadata": {
    "collapsed": false
   }
  },
  {
   "cell_type": "code",
   "execution_count": 236,
   "outputs": [
    {
     "name": "stdout",
     "output_type": "stream",
     "text": [
      "(891, 20)\n"
     ]
    },
    {
     "data": {
      "text/plain": "             Age(Fill)  Age_M  Age_O  Age_Y\nPassengerId                                \n1                 22.0   True  False  False\n2                 38.0  False   True  False\n3                 26.0   True  False  False\n4                 35.0  False   True  False\n5                 35.0  False   True  False",
      "text/html": "<div>\n<style scoped>\n    .dataframe tbody tr th:only-of-type {\n        vertical-align: middle;\n    }\n\n    .dataframe tbody tr th {\n        vertical-align: top;\n    }\n\n    .dataframe thead th {\n        text-align: right;\n    }\n</style>\n<table border=\"1\" class=\"dataframe\">\n  <thead>\n    <tr style=\"text-align: right;\">\n      <th></th>\n      <th>Age(Fill)</th>\n      <th>Age_M</th>\n      <th>Age_O</th>\n      <th>Age_Y</th>\n    </tr>\n    <tr>\n      <th>PassengerId</th>\n      <th></th>\n      <th></th>\n      <th></th>\n      <th></th>\n    </tr>\n  </thead>\n  <tbody>\n    <tr>\n      <th>1</th>\n      <td>22.0</td>\n      <td>True</td>\n      <td>False</td>\n      <td>False</td>\n    </tr>\n    <tr>\n      <th>2</th>\n      <td>38.0</td>\n      <td>False</td>\n      <td>True</td>\n      <td>False</td>\n    </tr>\n    <tr>\n      <th>3</th>\n      <td>26.0</td>\n      <td>True</td>\n      <td>False</td>\n      <td>False</td>\n    </tr>\n    <tr>\n      <th>4</th>\n      <td>35.0</td>\n      <td>False</td>\n      <td>True</td>\n      <td>False</td>\n    </tr>\n    <tr>\n      <th>5</th>\n      <td>35.0</td>\n      <td>False</td>\n      <td>True</td>\n      <td>False</td>\n    </tr>\n  </tbody>\n</table>\n</div>"
     },
     "execution_count": 236,
     "metadata": {},
     "output_type": "execute_result"
    }
   ],
   "source": [
    "# One Hot Encoding - over 2 data\n",
    "# Young == [True, False, False]\n",
    "# Medium == [False, True, False]\n",
    "# Old == [False, False, True]\n",
    "train['Age_Y'] = train['AgeType'] == 'Young'\n",
    "train['Age_M'] = train['AgeType'] == 'Medium'\n",
    "train['Age_O'] = train['AgeType'] == 'Old'\n",
    "\n",
    "print(train.shape)\n",
    "train[['Age(Fill)', 'Age_M', 'Age_O', 'Age_Y']].head()"
   ],
   "metadata": {
    "collapsed": false,
    "pycharm": {
     "name": "#%%\n"
    }
   }
  },
  {
   "cell_type": "code",
   "execution_count": 237,
   "outputs": [
    {
     "name": "stdout",
     "output_type": "stream",
     "text": [
      "(418, 19)\n"
     ]
    },
    {
     "data": {
      "text/plain": "             Age(Fill)  Age_M  Age_O  Age_Y\nPassengerId                                \n892               34.5  False   True  False\n893               47.0  False   True  False\n894               62.0  False   True  False\n895               27.0   True  False  False\n896               22.0   True  False  False",
      "text/html": "<div>\n<style scoped>\n    .dataframe tbody tr th:only-of-type {\n        vertical-align: middle;\n    }\n\n    .dataframe tbody tr th {\n        vertical-align: top;\n    }\n\n    .dataframe thead th {\n        text-align: right;\n    }\n</style>\n<table border=\"1\" class=\"dataframe\">\n  <thead>\n    <tr style=\"text-align: right;\">\n      <th></th>\n      <th>Age(Fill)</th>\n      <th>Age_M</th>\n      <th>Age_O</th>\n      <th>Age_Y</th>\n    </tr>\n    <tr>\n      <th>PassengerId</th>\n      <th></th>\n      <th></th>\n      <th></th>\n      <th></th>\n    </tr>\n  </thead>\n  <tbody>\n    <tr>\n      <th>892</th>\n      <td>34.5</td>\n      <td>False</td>\n      <td>True</td>\n      <td>False</td>\n    </tr>\n    <tr>\n      <th>893</th>\n      <td>47.0</td>\n      <td>False</td>\n      <td>True</td>\n      <td>False</td>\n    </tr>\n    <tr>\n      <th>894</th>\n      <td>62.0</td>\n      <td>False</td>\n      <td>True</td>\n      <td>False</td>\n    </tr>\n    <tr>\n      <th>895</th>\n      <td>27.0</td>\n      <td>True</td>\n      <td>False</td>\n      <td>False</td>\n    </tr>\n    <tr>\n      <th>896</th>\n      <td>22.0</td>\n      <td>True</td>\n      <td>False</td>\n      <td>False</td>\n    </tr>\n  </tbody>\n</table>\n</div>"
     },
     "execution_count": 237,
     "metadata": {},
     "output_type": "execute_result"
    }
   ],
   "source": [
    "# test Age encode\n",
    "test['Age_Y'] = test['AgeType'] == 'Young'\n",
    "test['Age_M'] = test['AgeType'] == 'Medium'\n",
    "test['Age_O'] = test['AgeType'] == 'Old'\n",
    "\n",
    "print(test.shape)\n",
    "test[['Age(Fill)', 'Age_M', 'Age_O', 'Age_Y']].head()"
   ],
   "metadata": {
    "collapsed": false,
    "pycharm": {
     "name": "#%%\n"
    }
   }
  },
  {
   "cell_type": "markdown",
   "source": [
    "## Decision Tree Training\n",
    "\n",
    "**Feature setup**"
   ],
   "metadata": {
    "collapsed": false,
    "pycharm": {
     "name": "#%% md\n"
    }
   }
  },
  {
   "cell_type": "code",
   "execution_count": 238,
   "outputs": [
    {
     "data": {
      "text/plain": "['Pclass',\n 'Sex_Encoded',\n 'Fare',\n 'Embarked_C',\n 'Embarked_S',\n 'Embarked_Q',\n 'Age_M',\n 'Age_O',\n 'Age_Y']"
     },
     "execution_count": 238,
     "metadata": {},
     "output_type": "execute_result"
    }
   ],
   "source": [
    "# feature var-set\n",
    "feature_names = ['Pclass', 'Sex_Encoded', 'Fare','Embarked_C', 'Embarked_S', 'Embarked_Q', 'Age_M', 'Age_O', 'Age_Y']\n",
    "feature_names"
   ],
   "metadata": {
    "collapsed": false,
    "pycharm": {
     "name": "#%%\n"
    }
   }
  },
  {
   "cell_type": "code",
   "execution_count": 239,
   "outputs": [
    {
     "name": "stdout",
     "output_type": "stream",
     "text": [
      "(891, 9)\n"
     ]
    },
    {
     "data": {
      "text/plain": "             Pclass  Sex_Encoded     Fare  Embarked_C  Embarked_S  Embarked_Q  \\\nPassengerId                                                                     \n1                 3            0   7.2500       False        True       False   \n2                 1            1  71.2833        True       False       False   \n3                 3            1   7.9250       False        True       False   \n4                 1            1  53.1000       False        True       False   \n5                 3            0   8.0500       False        True       False   \n\n             Age_M  Age_O  Age_Y  \nPassengerId                       \n1             True  False  False  \n2            False   True  False  \n3             True  False  False  \n4            False   True  False  \n5            False   True  False  ",
      "text/html": "<div>\n<style scoped>\n    .dataframe tbody tr th:only-of-type {\n        vertical-align: middle;\n    }\n\n    .dataframe tbody tr th {\n        vertical-align: top;\n    }\n\n    .dataframe thead th {\n        text-align: right;\n    }\n</style>\n<table border=\"1\" class=\"dataframe\">\n  <thead>\n    <tr style=\"text-align: right;\">\n      <th></th>\n      <th>Pclass</th>\n      <th>Sex_Encoded</th>\n      <th>Fare</th>\n      <th>Embarked_C</th>\n      <th>Embarked_S</th>\n      <th>Embarked_Q</th>\n      <th>Age_M</th>\n      <th>Age_O</th>\n      <th>Age_Y</th>\n    </tr>\n    <tr>\n      <th>PassengerId</th>\n      <th></th>\n      <th></th>\n      <th></th>\n      <th></th>\n      <th></th>\n      <th></th>\n      <th></th>\n      <th></th>\n      <th></th>\n    </tr>\n  </thead>\n  <tbody>\n    <tr>\n      <th>1</th>\n      <td>3</td>\n      <td>0</td>\n      <td>7.2500</td>\n      <td>False</td>\n      <td>True</td>\n      <td>False</td>\n      <td>True</td>\n      <td>False</td>\n      <td>False</td>\n    </tr>\n    <tr>\n      <th>2</th>\n      <td>1</td>\n      <td>1</td>\n      <td>71.2833</td>\n      <td>True</td>\n      <td>False</td>\n      <td>False</td>\n      <td>False</td>\n      <td>True</td>\n      <td>False</td>\n    </tr>\n    <tr>\n      <th>3</th>\n      <td>3</td>\n      <td>1</td>\n      <td>7.9250</td>\n      <td>False</td>\n      <td>True</td>\n      <td>False</td>\n      <td>True</td>\n      <td>False</td>\n      <td>False</td>\n    </tr>\n    <tr>\n      <th>4</th>\n      <td>1</td>\n      <td>1</td>\n      <td>53.1000</td>\n      <td>False</td>\n      <td>True</td>\n      <td>False</td>\n      <td>False</td>\n      <td>True</td>\n      <td>False</td>\n    </tr>\n    <tr>\n      <th>5</th>\n      <td>3</td>\n      <td>0</td>\n      <td>8.0500</td>\n      <td>False</td>\n      <td>True</td>\n      <td>False</td>\n      <td>False</td>\n      <td>True</td>\n      <td>False</td>\n    </tr>\n  </tbody>\n</table>\n</div>"
     },
     "execution_count": 239,
     "metadata": {},
     "output_type": "execute_result"
    }
   ],
   "source": [
    "# x-axis train feature\n",
    "x_train = train[feature_names]\n",
    "print(x_train.shape)\n",
    "x_train.head()"
   ],
   "metadata": {
    "collapsed": false,
    "pycharm": {
     "name": "#%%\n"
    }
   }
  },
  {
   "cell_type": "code",
   "execution_count": 240,
   "outputs": [
    {
     "name": "stdout",
     "output_type": "stream",
     "text": [
      "(418, 9)\n"
     ]
    },
    {
     "data": {
      "text/plain": "             Pclass  Sex_Encoded     Fare  Embarked_C  Embarked_S  Embarked_Q  \\\nPassengerId                                                                     \n892               3            0   7.8292       False       False        True   \n893               3            1   7.0000       False        True       False   \n894               2            0   9.6875       False       False        True   \n895               3            0   8.6625       False        True       False   \n896               3            1  12.2875       False        True       False   \n\n             Age_M  Age_O  Age_Y  \nPassengerId                       \n892          False   True  False  \n893          False   True  False  \n894          False   True  False  \n895           True  False  False  \n896           True  False  False  ",
      "text/html": "<div>\n<style scoped>\n    .dataframe tbody tr th:only-of-type {\n        vertical-align: middle;\n    }\n\n    .dataframe tbody tr th {\n        vertical-align: top;\n    }\n\n    .dataframe thead th {\n        text-align: right;\n    }\n</style>\n<table border=\"1\" class=\"dataframe\">\n  <thead>\n    <tr style=\"text-align: right;\">\n      <th></th>\n      <th>Pclass</th>\n      <th>Sex_Encoded</th>\n      <th>Fare</th>\n      <th>Embarked_C</th>\n      <th>Embarked_S</th>\n      <th>Embarked_Q</th>\n      <th>Age_M</th>\n      <th>Age_O</th>\n      <th>Age_Y</th>\n    </tr>\n    <tr>\n      <th>PassengerId</th>\n      <th></th>\n      <th></th>\n      <th></th>\n      <th></th>\n      <th></th>\n      <th></th>\n      <th></th>\n      <th></th>\n      <th></th>\n    </tr>\n  </thead>\n  <tbody>\n    <tr>\n      <th>892</th>\n      <td>3</td>\n      <td>0</td>\n      <td>7.8292</td>\n      <td>False</td>\n      <td>False</td>\n      <td>True</td>\n      <td>False</td>\n      <td>True</td>\n      <td>False</td>\n    </tr>\n    <tr>\n      <th>893</th>\n      <td>3</td>\n      <td>1</td>\n      <td>7.0000</td>\n      <td>False</td>\n      <td>True</td>\n      <td>False</td>\n      <td>False</td>\n      <td>True</td>\n      <td>False</td>\n    </tr>\n    <tr>\n      <th>894</th>\n      <td>2</td>\n      <td>0</td>\n      <td>9.6875</td>\n      <td>False</td>\n      <td>False</td>\n      <td>True</td>\n      <td>False</td>\n      <td>True</td>\n      <td>False</td>\n    </tr>\n    <tr>\n      <th>895</th>\n      <td>3</td>\n      <td>0</td>\n      <td>8.6625</td>\n      <td>False</td>\n      <td>True</td>\n      <td>False</td>\n      <td>True</td>\n      <td>False</td>\n      <td>False</td>\n    </tr>\n    <tr>\n      <th>896</th>\n      <td>3</td>\n      <td>1</td>\n      <td>12.2875</td>\n      <td>False</td>\n      <td>True</td>\n      <td>False</td>\n      <td>True</td>\n      <td>False</td>\n      <td>False</td>\n    </tr>\n  </tbody>\n</table>\n</div>"
     },
     "execution_count": 240,
     "metadata": {},
     "output_type": "execute_result"
    }
   ],
   "source": [
    "# x-axis test feature\n",
    "x_test = test[feature_names]\n",
    "print(x_test.shape)\n",
    "x_test.head()"
   ],
   "metadata": {
    "collapsed": false,
    "pycharm": {
     "name": "#%%\n"
    }
   }
  },
  {
   "cell_type": "markdown",
   "source": [
    "**Label setup**"
   ],
   "metadata": {
    "collapsed": false,
    "pycharm": {
     "name": "#%% md\n"
    }
   }
  },
  {
   "cell_type": "code",
   "execution_count": 241,
   "outputs": [
    {
     "name": "stdout",
     "output_type": "stream",
     "text": [
      "(891,)\n"
     ]
    },
    {
     "data": {
      "text/plain": "PassengerId\n1    0\n2    1\n3    1\n4    1\n5    0\nName: Survived, dtype: int64"
     },
     "execution_count": 241,
     "metadata": {},
     "output_type": "execute_result"
    }
   ],
   "source": [
    "label_name = 'Survived'\n",
    "\n",
    "y_train = train[label_name]\n",
    "print(y_train.shape)\n",
    "y_train.head()"
   ],
   "metadata": {
    "collapsed": false,
    "pycharm": {
     "name": "#%%\n"
    }
   }
  },
  {
   "cell_type": "markdown",
   "source": [
    "## Use Decision Tree\n",
    "**import sklearn**"
   ],
   "metadata": {
    "collapsed": false,
    "pycharm": {
     "name": "#%% md\n"
    }
   }
  },
  {
   "cell_type": "code",
   "execution_count": 242,
   "outputs": [],
   "source": [
    "from sklearn.tree import DecisionTreeClassifier\n",
    "\n",
    "# max depth limit\n",
    "model = DecisionTreeClassifier(max_depth = 5)"
   ],
   "metadata": {
    "collapsed": false,
    "pycharm": {
     "name": "#%%\n"
    }
   }
  },
  {
   "cell_type": "markdown",
   "source": [
    "**Fit & Predict**"
   ],
   "metadata": {
    "collapsed": false,
    "pycharm": {
     "name": "#%% md\n"
    }
   }
  },
  {
   "cell_type": "code",
   "execution_count": 243,
   "outputs": [
    {
     "data": {
      "text/plain": "DecisionTreeClassifier(ccp_alpha=0.0, class_weight=None, criterion='gini',\n                       max_depth=5, max_features=None, max_leaf_nodes=None,\n                       min_impurity_decrease=0.0, min_impurity_split=None,\n                       min_samples_leaf=1, min_samples_split=2,\n                       min_weight_fraction_leaf=0.0, presort='deprecated',\n                       random_state=None, splitter='best')"
     },
     "execution_count": 243,
     "metadata": {},
     "output_type": "execute_result"
    }
   ],
   "source": [
    "# Fitting - Train\n",
    "model.fit(x_train, y_train)"
   ],
   "metadata": {
    "collapsed": false,
    "pycharm": {
     "name": "#%%\n"
    }
   }
  },
  {
   "cell_type": "code",
   "execution_count": 244,
   "outputs": [
    {
     "name": "stdout",
     "output_type": "stream",
     "text": [
      "(418,)\n"
     ]
    },
    {
     "data": {
      "text/plain": "array([0, 0, 0, 0, 1], dtype=int64)"
     },
     "execution_count": 244,
     "metadata": {},
     "output_type": "execute_result"
    }
   ],
   "source": [
    "# Predict - Test\n",
    "prediction = model.predict(x_test)\n",
    "print(prediction.shape)\n",
    "prediction[0:5]"
   ],
   "metadata": {
    "collapsed": false,
    "pycharm": {
     "name": "#%%\n"
    }
   }
  },
  {
   "cell_type": "markdown",
   "source": [
    "## Submission\n",
    "**Input Submit Data**"
   ],
   "metadata": {
    "collapsed": false,
    "pycharm": {
     "name": "#%% md\n"
    }
   }
  },
  {
   "cell_type": "code",
   "execution_count": 245,
   "outputs": [
    {
     "name": "stdout",
     "output_type": "stream",
     "text": [
      "(418, 1)\n"
     ]
    },
    {
     "data": {
      "text/plain": "             Survived\nPassengerId          \n892                 0\n893                 0\n894                 0\n895                 0\n896                 1",
      "text/html": "<div>\n<style scoped>\n    .dataframe tbody tr th:only-of-type {\n        vertical-align: middle;\n    }\n\n    .dataframe tbody tr th {\n        vertical-align: top;\n    }\n\n    .dataframe thead th {\n        text-align: right;\n    }\n</style>\n<table border=\"1\" class=\"dataframe\">\n  <thead>\n    <tr style=\"text-align: right;\">\n      <th></th>\n      <th>Survived</th>\n    </tr>\n    <tr>\n      <th>PassengerId</th>\n      <th></th>\n    </tr>\n  </thead>\n  <tbody>\n    <tr>\n      <th>892</th>\n      <td>0</td>\n    </tr>\n    <tr>\n      <th>893</th>\n      <td>0</td>\n    </tr>\n    <tr>\n      <th>894</th>\n      <td>0</td>\n    </tr>\n    <tr>\n      <th>895</th>\n      <td>0</td>\n    </tr>\n    <tr>\n      <th>896</th>\n      <td>1</td>\n    </tr>\n  </tbody>\n</table>\n</div>"
     },
     "execution_count": 245,
     "metadata": {},
     "output_type": "execute_result"
    }
   ],
   "source": [
    "submit['Survived'] = prediction\n",
    "\n",
    "print(submit.shape)\n",
    "submit.head()"
   ],
   "metadata": {
    "collapsed": false,
    "pycharm": {
     "name": "#%%\n"
    }
   }
  },
  {
   "cell_type": "markdown",
   "source": [
    "**Make Submit File**"
   ],
   "metadata": {
    "collapsed": false,
    "pycharm": {
     "name": "#%% md\n"
    }
   }
  },
  {
   "cell_type": "code",
   "execution_count": 246,
   "outputs": [],
   "source": [
    "submit.to_csv('input/decisiontree03-1.csv')"
   ],
   "metadata": {
    "collapsed": false,
    "pycharm": {
     "name": "#%%\n"
    }
   }
  }
 ],
 "metadata": {
  "kernelspec": {
   "display_name": "Python 3",
   "language": "python",
   "name": "python3"
  },
  "language_info": {
   "codemirror_mode": {
    "name": "ipython",
    "version": 2
   },
   "file_extension": ".py",
   "mimetype": "text/x-python",
   "name": "python",
   "nbconvert_exporter": "python",
   "pygments_lexer": "ipython2",
   "version": "2.7.6"
  }
 },
 "nbformat": 4,
 "nbformat_minor": 0
}