{
 "cells": [
  {
   "cell_type": "markdown",
   "metadata": {
    "colab_type": "text",
    "id": "lpHbkmt6NOpd"
   },
   "source": [
    "## 파이썬과 판다스를 활용한 실전 데이터 분석\n",
    "\n",
    "이번 과제는 캐글의 타이타닉([Titanic: Machine Learning from Disaster](https://www.kaggle.com/c/titanic/)) 데이터를 더 깊게 분석합니다.\n",
    "\n",
    "데이터 사이언티스트로서 데이터를 분석할 때 가장 필수적인 스킬은 프로그래밍 언어 파이썬([Python](https://www.python.org/)), 데이터 분석 패키지 판다스([Pandas](https://pandas.pydata.org/)), 그리고 데이터 시각화 패키지 씨본([Seaborn](https://seaborn.pydata.org))과 [matplotlib](https://matplotlib.org)입니다. 데이터 분석가는 언제나 주변 동료들의 요청(ex: 운영팀, 재무팀, 마케팅팀)에 맞게 데이터를 뽑아내 그 통계치를 제공하고 시각화 결과를 전달해줘야 하는데, 파이썬과 판다스, 시각화 스킬이 부족하면 주어진 시간 내에 이를 전달해 줄 수 없습니다.\n",
    "\n",
    "이런 문제가 생기지 않기 위해, **모든 데이터 사이언티스트는 데이터를 능숙하게 다룰 수 있는 파이썬과 판다스, 시각화 스킬을 필수적으로 보유하고 있어야 합니다.**\n",
    "\n",
    "이번 노트북에는 타이타닉 데이터를 활용하여, 현업에서 충분히 발생할 만한 사례를 모아 총 12개의 문제를 만들어 보았습니다. 주어진 시간 내에 모든 문제를 해결해보세요. DS School의 내부 테스트 결과, 현업에서 데이터 사이언티스트로 일 하고 있는 분들은 아무리 늦어도 반나절(3~4시간) 내에는 모든 문제를 풀 수 있었습니다. 즉, 3시간 안에 모든 문제를 풀 수 있다면 합격입니다.\n",
    "\n",
    "문제를 풀 때 다른 자료(DS School 입문반에서 제공한 자료, 또는 판다스, 시각화 전문 서적)를 참고하거나, 구글에 검색하는 것 모두 허용합니다. (문제 중에는 구글에 검색하지 않으면 풀 수 없는 문제도 몇 개 준비해놓았습니다) 관련 자료는 [10 minutes to pandas](https://pandas.pydata.org/pandas-docs/stable/10min.html) 를 강력 추천합니다."
   ]
  },
  {
   "cell_type": "code",
   "execution_count": 1,
   "metadata": {
    "colab": {},
    "colab_type": "code",
    "id": "JpFDp6DcNOpg"
   },
   "outputs": [
    {
     "name": "stderr",
     "output_type": "stream",
     "text": [
      "/Library/Frameworks/Python.framework/Versions/3.8/lib/python3.8/site-packages/statsmodels/tools/_testing.py:19: FutureWarning: pandas.util.testing is deprecated. Use the functions in the public API at pandas.testing instead.\n",
      "  import pandas.util.testing as tm\n"
     ]
    }
   ],
   "source": [
    "# 데이터 시각화 패키지 matplotlib에게 inline출력,\n",
    "# 즉 시각화 결과를 파일로 저장하거나 하지 않고 화면에 바로 출력하도록 명령합니다.\n",
    "# (Seaborn이 matplotlib를 기반으로 동작하기 때문에, Seaborn에도 동일한 명령이 전달됩니다.)\n",
    "%matplotlib inline\n",
    "\n",
    "# 파이썬의 데이터 분석 패키지 판다스(Pandas)를 가져오고, 이를 pd라는 이름의 축약어로 사용합니다.\n",
    "import pandas as pd\n",
    "\n",
    "# 파이썬의 데이터 시각화 패키지 시본(Seaborn)을 가져오고, 이를 sns라는 이름의 축약어로 사용합니다.\n",
    "import seaborn as sns"
   ]
  },
  {
   "cell_type": "markdown",
   "metadata": {
    "colab_type": "text",
    "id": "AUke9EqENOpm"
   },
   "source": [
    "### 데이터 읽어오기"
   ]
  },
  {
   "cell_type": "code",
   "execution_count": 2,
   "metadata": {
    "colab": {},
    "colab_type": "code",
    "id": "ZhBO3nXRNOpp",
    "outputId": "06a71757-323b-4c17-e87f-cfc24af55e56"
   },
   "outputs": [
    {
     "name": "stdout",
     "output_type": "stream",
     "text": [
      "(891, 11)\n"
     ]
    },
    {
     "data": {
      "text/plain": "             Survived  Pclass  \\\nPassengerId                     \n1                   0       3   \n2                   1       1   \n3                   1       3   \n4                   1       1   \n5                   0       3   \n\n                                                          Name     Sex   Age  \\\nPassengerId                                                                    \n1                                      Braund, Mr. Owen Harris    male  22.0   \n2            Cumings, Mrs. John Bradley (Florence Briggs Th...  female  38.0   \n3                                       Heikkinen, Miss. Laina  female  26.0   \n4                 Futrelle, Mrs. Jacques Heath (Lily May Peel)  female  35.0   \n5                                     Allen, Mr. William Henry    male  35.0   \n\n             SibSp  Parch            Ticket     Fare Cabin Embarked  \nPassengerId                                                          \n1                1      0         A/5 21171   7.2500   NaN        S  \n2                1      0          PC 17599  71.2833   C85        C  \n3                0      0  STON/O2. 3101282   7.9250   NaN        S  \n4                1      0            113803  53.1000  C123        S  \n5                0      0            373450   8.0500   NaN        S  ",
      "text/html": "<div>\n<style scoped>\n    .dataframe tbody tr th:only-of-type {\n        vertical-align: middle;\n    }\n\n    .dataframe tbody tr th {\n        vertical-align: top;\n    }\n\n    .dataframe thead th {\n        text-align: right;\n    }\n</style>\n<table border=\"1\" class=\"dataframe\">\n  <thead>\n    <tr style=\"text-align: right;\">\n      <th></th>\n      <th>Survived</th>\n      <th>Pclass</th>\n      <th>Name</th>\n      <th>Sex</th>\n      <th>Age</th>\n      <th>SibSp</th>\n      <th>Parch</th>\n      <th>Ticket</th>\n      <th>Fare</th>\n      <th>Cabin</th>\n      <th>Embarked</th>\n    </tr>\n    <tr>\n      <th>PassengerId</th>\n      <th></th>\n      <th></th>\n      <th></th>\n      <th></th>\n      <th></th>\n      <th></th>\n      <th></th>\n      <th></th>\n      <th></th>\n      <th></th>\n      <th></th>\n    </tr>\n  </thead>\n  <tbody>\n    <tr>\n      <th>1</th>\n      <td>0</td>\n      <td>3</td>\n      <td>Braund, Mr. Owen Harris</td>\n      <td>male</td>\n      <td>22.0</td>\n      <td>1</td>\n      <td>0</td>\n      <td>A/5 21171</td>\n      <td>7.2500</td>\n      <td>NaN</td>\n      <td>S</td>\n    </tr>\n    <tr>\n      <th>2</th>\n      <td>1</td>\n      <td>1</td>\n      <td>Cumings, Mrs. John Bradley (Florence Briggs Th...</td>\n      <td>female</td>\n      <td>38.0</td>\n      <td>1</td>\n      <td>0</td>\n      <td>PC 17599</td>\n      <td>71.2833</td>\n      <td>C85</td>\n      <td>C</td>\n    </tr>\n    <tr>\n      <th>3</th>\n      <td>1</td>\n      <td>3</td>\n      <td>Heikkinen, Miss. Laina</td>\n      <td>female</td>\n      <td>26.0</td>\n      <td>0</td>\n      <td>0</td>\n      <td>STON/O2. 3101282</td>\n      <td>7.9250</td>\n      <td>NaN</td>\n      <td>S</td>\n    </tr>\n    <tr>\n      <th>4</th>\n      <td>1</td>\n      <td>1</td>\n      <td>Futrelle, Mrs. Jacques Heath (Lily May Peel)</td>\n      <td>female</td>\n      <td>35.0</td>\n      <td>1</td>\n      <td>0</td>\n      <td>113803</td>\n      <td>53.1000</td>\n      <td>C123</td>\n      <td>S</td>\n    </tr>\n    <tr>\n      <th>5</th>\n      <td>0</td>\n      <td>3</td>\n      <td>Allen, Mr. William Henry</td>\n      <td>male</td>\n      <td>35.0</td>\n      <td>0</td>\n      <td>0</td>\n      <td>373450</td>\n      <td>8.0500</td>\n      <td>NaN</td>\n      <td>S</td>\n    </tr>\n  </tbody>\n</table>\n</div>"
     },
     "execution_count": 2,
     "metadata": {},
     "output_type": "execute_result"
    }
   ],
   "source": [
    "# train.csv 파일을 읽어옵니다. 여기서 PassengerId라는 컬럼을 인덱스(index)로 지정한 뒤, train 변수에 할당합니다.\n",
    "# 변수에 할당한 결과값을 판다스 전문 용어로 데이터프레임(DataFrame)이라고 부릅니다.\n",
    "train = pd.read_csv(\"input/train.csv\", index_col=\"PassengerId\")\n",
    "\n",
    "# train 변수에 할당된 데이터의 행렬 사이즈를 출력합니다.\n",
    "# 출력은 (row, column) 으로 표시됩니다.\n",
    "print(train.shape)\n",
    "\n",
    "# head()로 train 데이터의 상위 5개를 출력합니다.\n",
    "train.head()"
   ]
  },
  {
   "cell_type": "markdown",
   "metadata": {
    "colab_type": "text",
    "id": "LEpAhDSbNOpx"
   },
   "source": [
    "### 데이터 정리 + 기본 분석"
   ]
  },
  {
   "cell_type": "markdown",
   "metadata": {
    "colab_type": "text",
    "id": "R_5x_rVfNOp0"
   },
   "source": [
    "**1. 타이타닉의 train 데이터에서 1) 전체 생존률과 2) 생존자의 총 인원수, 사망자의 총 인원수를 출력해주세요.**\n",
    "\n",
    "1번(생존률)의 경우 약 38.4%가 나와야 하며, 2번(인원수)의 경우 생존자의 총 인원수는 342명, 사망자의 총 인원수는 549명이 나와야 합니다."
   ]
  },
  {
   "cell_type": "code",
   "execution_count": 3,
   "metadata": {
    "colab": {},
    "colab_type": "code",
    "id": "jQXtSVIbNOp3",
    "outputId": "391befec-216d-4628-cc06-f09f762dd200"
   },
   "outputs": [
    {
     "name": "stdout",
     "output_type": "stream",
     "text": [
      "생존률 = 38.4%\n"
     ]
    }
   ],
   "source": [
    "# 타이타닉의 train데이터에서 Survived 컬럼의 평균을 구합니다.\n",
    "# 그 결과를 survived_rate라는 이름의 변수에 저장합니다.\n",
    "survived_rate = train[\"Survived\"].mean()\n",
    "\n",
    "# survived_rate는 현재 0.0 ~ 1.0 사이의 값을 갖습니다.\n",
    "# 하지만 퍼센티지(%)는 0 ~ 100.0 사이의 값을 가지므로, survived_rate에 100을 곱해줍니다.\n",
    "survived_rate = survived_rate * 100\n",
    "\n",
    "# survived_rate를 출력합니다. 결과는 38.4%가 나와야 합니다.\n",
    "print(f\"생존률 = {survived_rate:.1f}%\")"
   ]
  },
  {
   "cell_type": "code",
   "execution_count": 4,
   "metadata": {
    "colab": {},
    "colab_type": "code",
    "id": "Cv4NuHWqNOqB",
    "outputId": "4d3d383f-026f-4294-cccd-56825e3284b8"
   },
   "outputs": [
    {
     "data": {
      "text/plain": "0    549\n1    342\nName: Survived, dtype: int64"
     },
     "execution_count": 4,
     "metadata": {},
     "output_type": "execute_result"
    }
   ],
   "source": [
    "# pandas의 value_counts를 활용하여 생존자의 총 인원수와 사망자의 총 인원수를 출력합니다.\n",
    "# 생존자의 총 인원수(1)은 342명, 사망자의 총 인원수(0)는 549명이 나와야 합니다.\n",
    "train[\"Survived\"].value_counts()"
   ]
  },
  {
   "cell_type": "markdown",
   "metadata": {
    "colab_type": "text",
    "id": "cyyvffkaNOqI"
   },
   "source": [
    "**2. Survived 컬럼에 들어가 있는 값을 쉬운 표현으로 바꿔주세요.**\n",
    "\n",
    "Survived 컬럼에는 0(사망)이라는 값과 1(생존)이라는 값이 있습니다. 이 표현은 직관적이지 않기 때문에, 데이터 분석을 원활하게 하기 위해서는 사람이 읽기 쉬운 표현을 쓰는 것이 좋습니다."
   ]
  },
  {
   "cell_type": "code",
   "execution_count": 5,
   "metadata": {
    "colab": {},
    "colab_type": "code",
    "id": "G0kGz4R1NOqK",
    "outputId": "63e91907-623c-49d2-b7ba-91c9556302a8"
   },
   "outputs": [
    {
     "data": {
      "text/plain": "PassengerId\n1    0\n2    1\n3    1\n4    1\n5    0\nName: Survived, dtype: int64"
     },
     "execution_count": 5,
     "metadata": {},
     "output_type": "execute_result"
    }
   ],
   "source": [
    "# Survived 컬럼의 상위 5개의 값을 출력합니다.\n",
    "# 결과값은 0과 1이 나오는데, Survived 컬럼에 대한 사전 설명(가령 0이 어떤 값을 나타내는지, 1이 어떤 값을 나타내는지)\n",
    "# 을 듣지 않으면 이 값이 어떠한 의미를 가지는지 직관적으로 이해하기 어렵습니다.\n",
    "train[\"Survived\"].head()"
   ]
  },
  {
   "cell_type": "markdown",
   "metadata": {
    "colab_type": "text",
    "id": "0wJKQzwhNOqW"
   },
   "source": [
    "가령 저라면 **Survived(humanized)**라는 새로운 컬럼을 만들겠습니다. 이 컬럼에는 0(사망), 1(생존)이 아닌, Perish(사망), Survived(생존)이라는 값이 들어가 있다면 좋겠습니다. 최종적으로는 다음의 결과가 나와야 합니다."
   ]
  },
  {
   "cell_type": "markdown",
   "metadata": {
    "colab_type": "text",
    "id": "ooM2YKYmNOqY"
   },
   "source": [
    "<table border=\"1\" class=\"dataframe\" style=\"float: left;\">\n",
    "   <thead>\n",
    "      <tr style=\"text-align: right;\">\n",
    "         <th></th>\n",
    "         <th>Survived</th>\n",
    "         <th>Survived(humanized)</th>\n",
    "      </tr>\n",
    "      <tr>\n",
    "         <th>PassengerId</th>\n",
    "         <th></th>\n",
    "         <th></th>\n",
    "      </tr>\n",
    "   </thead>\n",
    "   <tbody>\n",
    "      <tr>\n",
    "         <th>1</th>\n",
    "         <td>0</td>\n",
    "         <td>Perish</td>\n",
    "      </tr>\n",
    "      <tr>\n",
    "         <th>2</th>\n",
    "         <td>1</td>\n",
    "         <td>Survived</td>\n",
    "      </tr>\n",
    "      <tr>\n",
    "         <th>3</th>\n",
    "         <td>1</td>\n",
    "         <td>Survived</td>\n",
    "      </tr>\n",
    "      <tr>\n",
    "         <th>4</th>\n",
    "         <td>1</td>\n",
    "         <td>Survived</td>\n",
    "      </tr>\n",
    "      <tr>\n",
    "         <th>5</th>\n",
    "         <td>0</td>\n",
    "         <td>Perish</td>\n",
    "      </tr>\n",
    "   </tbody>\n",
    "</table>"
   ]
  },
  {
   "cell_type": "code",
   "execution_count": 6,
   "metadata": {
    "colab": {},
    "colab_type": "code",
    "id": "xd_i-TADNOqa",
    "outputId": "dd50e2a0-fb10-463e-9ad4-fe24cf963332"
   },
   "outputs": [
    {
     "name": "stdout",
     "output_type": "stream",
     "text": [
      "(891, 12)\n"
     ]
    },
    {
     "data": {
      "text/plain": "             Survived Survived(humanized)\nPassengerId                              \n1                   0              Perish\n2                   1            Survived\n3                   1            Survived\n4                   1            Survived\n5                   0              Perish",
      "text/html": "<div>\n<style scoped>\n    .dataframe tbody tr th:only-of-type {\n        vertical-align: middle;\n    }\n\n    .dataframe tbody tr th {\n        vertical-align: top;\n    }\n\n    .dataframe thead th {\n        text-align: right;\n    }\n</style>\n<table border=\"1\" class=\"dataframe\">\n  <thead>\n    <tr style=\"text-align: right;\">\n      <th></th>\n      <th>Survived</th>\n      <th>Survived(humanized)</th>\n    </tr>\n    <tr>\n      <th>PassengerId</th>\n      <th></th>\n      <th></th>\n    </tr>\n  </thead>\n  <tbody>\n    <tr>\n      <th>1</th>\n      <td>0</td>\n      <td>Perish</td>\n    </tr>\n    <tr>\n      <th>2</th>\n      <td>1</td>\n      <td>Survived</td>\n    </tr>\n    <tr>\n      <th>3</th>\n      <td>1</td>\n      <td>Survived</td>\n    </tr>\n    <tr>\n      <th>4</th>\n      <td>1</td>\n      <td>Survived</td>\n    </tr>\n    <tr>\n      <th>5</th>\n      <td>0</td>\n      <td>Perish</td>\n    </tr>\n  </tbody>\n</table>\n</div>"
     },
     "execution_count": 6,
     "metadata": {},
     "output_type": "execute_result"
    }
   ],
   "source": [
    "# 먼저 Survived 컬럼이 0인 승객을 색인합니다. 이후 Survived(humanized)라는 이름의\n",
    "# 새로운 컬럼을 만들어 여기에 Perish 라는 값을 넣습니다.\n",
    "train.loc[train[\"Survived\"] == 0, \"Survived(humanized)\"] = \"Perish\"\n",
    "\n",
    "# 비슷하게 Survived 컬럼이 1인 승객을 찾아 Survived(humanized)에 Survived라는 값을 넣습니다.\n",
    "train.loc[train[\"Survived\"] == 1, \"Survived(humanized)\"] = \"Survived\"\n",
    "\n",
    "# train 변수에 할당된 데이터의 행렬 사이즈를 출력합니다.\n",
    "# 출력은 (row, column) 으로 표시됩니다.\n",
    "print(train.shape)\n",
    "\n",
    "# Survived 컬럼과 Survived(humanized) 컬럼 두 개를 출력하여 비교합니다.\n",
    "train[[\"Survived\", \"Survived(humanized)\"]].head()"
   ]
  },
  {
   "cell_type": "markdown",
   "metadata": {
    "colab_type": "text",
    "id": "w67UrXe-NOqi"
   },
   "source": [
    "내지는 이런 방식을 사용할 수 있습니다."
   ]
  },
  {
   "cell_type": "code",
   "execution_count": 7,
   "metadata": {
    "colab": {},
    "colab_type": "code",
    "id": "4bQSX2VJNOqj",
    "outputId": "25799698-7833-4048-9870-da7f420407ce"
   },
   "outputs": [
    {
     "name": "stdout",
     "output_type": "stream",
     "text": [
      "(891, 12)\n"
     ]
    },
    {
     "data": {
      "text/plain": "             Survived Survived(humanized)\nPassengerId                              \n1                   0              Perish\n2                   1            Survived\n3                   1            Survived\n4                   1            Survived\n5                   0              Perish",
      "text/html": "<div>\n<style scoped>\n    .dataframe tbody tr th:only-of-type {\n        vertical-align: middle;\n    }\n\n    .dataframe tbody tr th {\n        vertical-align: top;\n    }\n\n    .dataframe thead th {\n        text-align: right;\n    }\n</style>\n<table border=\"1\" class=\"dataframe\">\n  <thead>\n    <tr style=\"text-align: right;\">\n      <th></th>\n      <th>Survived</th>\n      <th>Survived(humanized)</th>\n    </tr>\n    <tr>\n      <th>PassengerId</th>\n      <th></th>\n      <th></th>\n    </tr>\n  </thead>\n  <tbody>\n    <tr>\n      <th>1</th>\n      <td>0</td>\n      <td>Perish</td>\n    </tr>\n    <tr>\n      <th>2</th>\n      <td>1</td>\n      <td>Survived</td>\n    </tr>\n    <tr>\n      <th>3</th>\n      <td>1</td>\n      <td>Survived</td>\n    </tr>\n    <tr>\n      <th>4</th>\n      <td>1</td>\n      <td>Survived</td>\n    </tr>\n    <tr>\n      <th>5</th>\n      <td>0</td>\n      <td>Perish</td>\n    </tr>\n  </tbody>\n</table>\n</div>"
     },
     "execution_count": 7,
     "metadata": {},
     "output_type": "execute_result"
    }
   ],
   "source": [
    "# Survived 컬럼이 0인 값을 Perish로, 1인 값을 Survived로 대체(replace)합니다.\n",
    "train[\"Survived(humanized)\"] = train[\"Survived\"].replace(0, \"Perish\").replace(1, \"Survived\")\n",
    "\n",
    "# train 변수에 할당된 데이터의 행렬 사이즈를 출력합니다.\n",
    "# 출력은 (row, column) 으로 표시됩니다.\n",
    "print(train.shape)\n",
    "\n",
    "# Survived 컬럼과 Survived(humanized) 컬럼 두 개를 출력하여 비교합니다.\n",
    "train[[\"Survived\", \"Survived(humanized)\"]].head()"
   ]
  },
  {
   "cell_type": "markdown",
   "metadata": {
    "colab_type": "text",
    "id": "kUjMzbvrNOqs"
   },
   "source": [
    "또한 이번에는 Survived 컬럼이 아닌 아닌 새롭게 만든 Survived(humanized) 컬럼으로 생존자의 총 인원수와 사망자의 총 인원수를 출력해 주세요. 앞서 사용한 ```value_counts```를 그대로 사용하면 될 것 같습니다."
   ]
  },
  {
   "cell_type": "code",
   "execution_count": 8,
   "metadata": {
    "colab": {},
    "colab_type": "code",
    "id": "8sBFNeTNNOqv",
    "outputId": "f664aee0-d752-4150-9f15-629279b019d5"
   },
   "outputs": [
    {
     "data": {
      "text/plain": "Perish      549\nSurvived    342\nName: Survived(humanized), dtype: int64"
     },
     "execution_count": 8,
     "metadata": {},
     "output_type": "execute_result"
    }
   ],
   "source": [
    "# pandas의 value_counts를 활용하여 생존자의 총 인원수와 사망자의 총 인원수를 출력합니다.\n",
    "# 여기서 생존 여부는 Survived가 아닌 Survived(humanized) 컬럼을 사용합니다.\n",
    "# 생존자의 총 인원수(Survived)은 342명, 사망자의 총 인원수(Perish)는 549명이 나와야 합니다.\n",
    "train[\"Survived(humanized)\"].value_counts()"
   ]
  },
  {
   "cell_type": "markdown",
   "metadata": {
    "colab_type": "text",
    "id": "1_sEGuXWNOq1"
   },
   "source": [
    "**3. Pclass 컬럼에 들어가 있는 값을 읽기 쉬운 표현으로 바꿔주세요.**\n",
    "\n",
    "Pclass도 마찬가지로 1, 2, 3이라는 표현은 직관적이지 않기 때문에, 사람이 이해하기 쉬운 표현으로 바꿔주고 싶습니다."
   ]
  },
  {
   "cell_type": "code",
   "execution_count": 9,
   "metadata": {
    "colab": {},
    "colab_type": "code",
    "id": "EY58BZcCNOq3",
    "outputId": "e209d034-a93a-4eea-bcfb-ba36b989e541"
   },
   "outputs": [
    {
     "data": {
      "text/plain": "        Survived\nPclass          \n1       0.629630\n2       0.472826\n3       0.242363",
      "text/html": "<div>\n<style scoped>\n    .dataframe tbody tr th:only-of-type {\n        vertical-align: middle;\n    }\n\n    .dataframe tbody tr th {\n        vertical-align: top;\n    }\n\n    .dataframe thead th {\n        text-align: right;\n    }\n</style>\n<table border=\"1\" class=\"dataframe\">\n  <thead>\n    <tr style=\"text-align: right;\">\n      <th></th>\n      <th>Survived</th>\n    </tr>\n    <tr>\n      <th>Pclass</th>\n      <th></th>\n    </tr>\n  </thead>\n  <tbody>\n    <tr>\n      <th>1</th>\n      <td>0.629630</td>\n    </tr>\n    <tr>\n      <th>2</th>\n      <td>0.472826</td>\n    </tr>\n    <tr>\n      <th>3</th>\n      <td>0.242363</td>\n    </tr>\n  </tbody>\n</table>\n</div>"
     },
     "execution_count": 9,
     "metadata": {},
     "output_type": "execute_result"
    }
   ],
   "source": [
    "# pandas의 pivot_table을 활용하여 Pclass별 생존률을 출력합니다.\n",
    "# 여기서 Pclass값이 1, 2, 3이 나오는데, Pclass 컬럼에 대한 사전 설명을 듣지 않으면 이해하기 어렵습니다.\n",
    "# 그러므로 Pclass값을 조금 더 직관적으로 바꿔준다면 pivot_table로 분석하기 편할 것입니다.\n",
    "pd.pivot_table(data=train, index=\"Pclass\", values=\"Survived\")"
   ]
  },
  {
   "cell_type": "markdown",
   "metadata": {
    "colab_type": "text",
    "id": "vIksBDSgNOq-"
   },
   "source": [
    "(판다스 pivot table에 대한 설명은 [다음의 링크](https://pandas.pydata.org/pandas-docs/stable/reference/api/pandas.pivot_table.html)에서 살펴봐주세요)"
   ]
  },
  {
   "cell_type": "markdown",
   "metadata": {
    "colab_type": "text",
    "id": "tCLMlemJNOrB"
   },
   "source": [
    "이번에는 **Pclass(humanized)**라는 새로운 컬럼을 만들어주세요. 이 컬럼에는 1, 2, 3이 아닌 First Class, Business, Economy 라는 값이 들어가 있다면 좋겠습니다. 최종적으로는 다음의 결과가 나와야 합니다."
   ]
  },
  {
   "cell_type": "markdown",
   "metadata": {
    "colab_type": "text",
    "id": "PDzpOw29NOrD"
   },
   "source": [
    "<table border=\"1\" class=\"dataframe\" style=\"float: left;\">\n",
    "   <thead>\n",
    "      <tr style=\"text-align: right;\">\n",
    "         <th></th>\n",
    "         <th>Pclass</th>\n",
    "         <th>Pclass(humanized)</th>\n",
    "      </tr>\n",
    "      <tr>\n",
    "         <th>PassengerId</th>\n",
    "         <th></th>\n",
    "         <th></th>\n",
    "      </tr>\n",
    "   </thead>\n",
    "   <tbody>\n",
    "      <tr>\n",
    "         <th>1</th>\n",
    "         <td>3</td>\n",
    "         <td>Economy</td>\n",
    "      </tr>\n",
    "      <tr>\n",
    "         <th>2</th>\n",
    "         <td>1</td>\n",
    "         <td>First Class</td>\n",
    "      </tr>\n",
    "      <tr>\n",
    "         <th>3</th>\n",
    "         <td>3</td>\n",
    "         <td>Economy</td>\n",
    "      </tr>\n",
    "      <tr>\n",
    "         <th>4</th>\n",
    "         <td>1</td>\n",
    "         <td>First Class</td>\n",
    "      </tr>\n",
    "      <tr>\n",
    "         <th>5</th>\n",
    "         <td>3</td>\n",
    "         <td>Economy</td>\n",
    "      </tr>\n",
    "   </tbody>\n",
    "</table>"
   ]
  },
  {
   "cell_type": "markdown",
   "metadata": {
    "colab_type": "text",
    "id": "eIx_83wfNOrF"
   },
   "source": [
    "또한 위 내용을 바탕으로 **Pclass(humanized)**별 생존자와 사망자의 차이를 시각화해주세요. 최종적으로는 다음의 결과가 나와야 합니다.\n",
    "\n",
    "![quiz-3](https://drive.google.com/uc?export=view&id=1HeJ-J_G0Y6RNi4SUMko06vsuTGaxMDj1)"
   ]
  },
  {
   "cell_type": "markdown",
   "metadata": {
    "colab": {},
    "colab_type": "code",
    "id": "83yRYd6CNOrH",
    "pycharm": {
     "name": "#%% md\n"
    }
   },
   "source": [
    "train.loc[train[\"Pclass\"] == 1, \"Pclass(humanized)\"] = \"First Class\"\n",
    "train.loc[train[\"Pclass\"] == 2, \"Pclass(humanized)\"] = \"Business\"\n",
    "train.loc[train[\"Pclass\"] == 3, \"Pclass(humanized)\"] = \"Economy\"\n",
    "train"
   ]
  },
  {
   "cell_type": "code",
   "execution_count": 10,
   "outputs": [],
   "source": [
    "train[\"Pclass(humanized)\"] = train[\"Pclass\"].replace(1, \"First Class\").replace(2, \"Business\").replace(3, \"Economy\")"
   ],
   "metadata": {
    "collapsed": false,
    "pycharm": {
     "name": "#%%\n"
    }
   }
  },
  {
   "cell_type": "code",
   "execution_count": 11,
   "outputs": [
    {
     "name": "stdout",
     "output_type": "stream",
     "text": [
      "(891, 13)\n"
     ]
    }
   ],
   "source": [
    "print(train.shape)"
   ],
   "metadata": {
    "collapsed": false,
    "pycharm": {
     "name": "#%%\n"
    }
   }
  },
  {
   "cell_type": "code",
   "execution_count": 12,
   "outputs": [
    {
     "data": {
      "text/plain": "             Pclass Pclass(humanized)\nPassengerId                          \n1                 3           Economy\n2                 1       First Class\n3                 3           Economy\n4                 1       First Class\n5                 3           Economy",
      "text/html": "<div>\n<style scoped>\n    .dataframe tbody tr th:only-of-type {\n        vertical-align: middle;\n    }\n\n    .dataframe tbody tr th {\n        vertical-align: top;\n    }\n\n    .dataframe thead th {\n        text-align: right;\n    }\n</style>\n<table border=\"1\" class=\"dataframe\">\n  <thead>\n    <tr style=\"text-align: right;\">\n      <th></th>\n      <th>Pclass</th>\n      <th>Pclass(humanized)</th>\n    </tr>\n    <tr>\n      <th>PassengerId</th>\n      <th></th>\n      <th></th>\n    </tr>\n  </thead>\n  <tbody>\n    <tr>\n      <th>1</th>\n      <td>3</td>\n      <td>Economy</td>\n    </tr>\n    <tr>\n      <th>2</th>\n      <td>1</td>\n      <td>First Class</td>\n    </tr>\n    <tr>\n      <th>3</th>\n      <td>3</td>\n      <td>Economy</td>\n    </tr>\n    <tr>\n      <th>4</th>\n      <td>1</td>\n      <td>First Class</td>\n    </tr>\n    <tr>\n      <th>5</th>\n      <td>3</td>\n      <td>Economy</td>\n    </tr>\n  </tbody>\n</table>\n</div>"
     },
     "execution_count": 12,
     "metadata": {},
     "output_type": "execute_result"
    }
   ],
   "source": [
    "train[[\"Pclass\", \"Pclass(humanized)\"]].head()"
   ],
   "metadata": {
    "collapsed": false,
    "pycharm": {
     "name": "#%%\n"
    }
   }
  },
  {
   "cell_type": "code",
   "execution_count": 13,
   "outputs": [
    {
     "data": {
      "text/plain": "<matplotlib.axes._subplots.AxesSubplot at 0x12bc1e9d0>"
     },
     "execution_count": 13,
     "metadata": {},
     "output_type": "execute_result"
    },
    {
     "data": {
      "text/plain": "<Figure size 432x288 with 1 Axes>",
      "image/png": "[encoded data removed]"
     },
     "metadata": {
      "needs_background": "light"
     },
     "output_type": "display_data"
    }
   ],
   "source": [
    "sns.countplot(data = train, x=\"Pclass(humanized)\", hue=\"Survived(humanized)\")"
   ],
   "metadata": {
    "collapsed": false,
    "pycharm": {
     "name": "#%%\n"
    }
   }
  },
  {
   "cell_type": "markdown",
   "metadata": {
    "colab_type": "text",
    "id": "a8dKM5_MNOrM",
    "pycharm": {
     "name": "#%% md\n"
    }
   },
   "source": [
    "**4. Embarked 컬럼에 들어가 있는 값을 읽기 쉬운 표현으로 바꿔주세요.**\n",
    "\n",
    "Embarked 컬럼도 마찬가지로 C, S, Q라는 표현은 직관적이지 않습니다. 저라면 사람이 조금 더 이해하기 쉽게끔 C는 Cherbourg 라는 표현으로, S는 Southampton 이라는 표현으로, 그리고 Q는 Queenstown 이라는 표현으로 바꾸겠습니다."
   ]
  },
  {
   "cell_type": "code",
   "execution_count": 14,
   "metadata": {
    "colab": {},
    "colab_type": "code",
    "id": "y4GQrZA6NOrR",
    "outputId": "f290e595-2243-43ca-d1a3-e67a7a2e8d58"
   },
   "outputs": [
    {
     "data": {
      "text/plain": "          Survived\nEmbarked          \nC         0.553571\nQ         0.389610\nS         0.336957",
      "text/html": "<div>\n<style scoped>\n    .dataframe tbody tr th:only-of-type {\n        vertical-align: middle;\n    }\n\n    .dataframe tbody tr th {\n        vertical-align: top;\n    }\n\n    .dataframe thead th {\n        text-align: right;\n    }\n</style>\n<table border=\"1\" class=\"dataframe\">\n  <thead>\n    <tr style=\"text-align: right;\">\n      <th></th>\n      <th>Survived</th>\n    </tr>\n    <tr>\n      <th>Embarked</th>\n      <th></th>\n    </tr>\n  </thead>\n  <tbody>\n    <tr>\n      <th>C</th>\n      <td>0.553571</td>\n    </tr>\n    <tr>\n      <th>Q</th>\n      <td>0.389610</td>\n    </tr>\n    <tr>\n      <th>S</th>\n      <td>0.336957</td>\n    </tr>\n  </tbody>\n</table>\n</div>"
     },
     "execution_count": 14,
     "metadata": {},
     "output_type": "execute_result"
    }
   ],
   "source": [
    "# pandas의 pivot_table을 활용하여 Embarked 별 생존률을 출력합니다.\n",
    "# 여기서도 Embarked 컬럼이 C, S, Q라는 다소 직관적이지 않은 값이 나옵니다.\n",
    "# 그러므로 Embarked 컬럼의 값도 Pclass 처럼 직관적으로 바꿔주고 싶습니다.\n",
    "pd.pivot_table(data=train, index=\"Embarked\", values=\"Survived\")"
   ]
  },
  {
   "cell_type": "markdown",
   "metadata": {
    "colab_type": "text",
    "id": "IaTxgGisNOra"
   },
   "source": [
    "Survived(humanized), Pclass(humanized)와 마찬가지로, Embarked 컬럼도 **Embarked(humanized)**라는 이름의 새로운 컬럼을 만들어주세요. 이 컬럼에는 C, S, Q가 아닌 Cherbourg, Southampton, Queenstown이라는 값이 들어갑니다. 최종적으로는 다음의 결과가 나와야 합니다."
   ]
  },
  {
   "cell_type": "markdown",
   "metadata": {
    "colab_type": "text",
    "id": "p9dQHqW1NOrc"
   },
   "source": [
    "<table border=\"1\" class=\"dataframe\" style=\"float: left;\">\n",
    "   <thead>\n",
    "      <tr style=\"text-align: right;\">\n",
    "         <th></th>\n",
    "         <th>Embarked</th>\n",
    "         <th>Embarked(humanized)</th>\n",
    "      </tr>\n",
    "      <tr>\n",
    "         <th>PassengerId</th>\n",
    "         <th></th>\n",
    "         <th></th>\n",
    "      </tr>\n",
    "   </thead>\n",
    "   <tbody>\n",
    "      <tr>\n",
    "         <th>1</th>\n",
    "         <td>S</td>\n",
    "         <td>Southampton</td>\n",
    "      </tr>\n",
    "      <tr>\n",
    "         <th>2</th>\n",
    "         <td>C</td>\n",
    "         <td>Cherbourg</td>\n",
    "      </tr>\n",
    "      <tr>\n",
    "         <th>3</th>\n",
    "         <td>S</td>\n",
    "         <td>Southampton</td>\n",
    "      </tr>\n",
    "      <tr>\n",
    "         <th>4</th>\n",
    "         <td>S</td>\n",
    "         <td>Southampton</td>\n",
    "      </tr>\n",
    "      <tr>\n",
    "         <th>5</th>\n",
    "         <td>S</td>\n",
    "         <td>Southampton</td>\n",
    "      </tr>\n",
    "   </tbody>\n",
    "</table>"
   ]
  },
  {
   "cell_type": "markdown",
   "metadata": {
    "colab_type": "text",
    "id": "4dWbsYmPNOre",
    "pycharm": {
     "name": "#%% md\n"
    }
   },
   "source": [
    "또한 위 내용을 바탕으로 **Embarked(humanized)**별 생존자와 사망자의 차이를 시각화해주세요. 최종적으로는 다음의 결과가 나와야 합니다.\n",
    "\n",
    "![quiz-4](https://drive.google.com/uc?export=view&id=1BlNsp21mz5Xi0gKq0BKd46ZFB2IqIVyq)"
   ]
  },
  {
   "cell_type": "code",
   "execution_count": 15,
   "outputs": [
    {
     "data": {
      "text/plain": "             Survived  Pclass  \\\nPassengerId                     \n1                   0       3   \n2                   1       1   \n3                   1       3   \n4                   1       1   \n5                   0       3   \n...               ...     ...   \n887                 0       2   \n888                 1       1   \n889                 0       3   \n890                 1       1   \n891                 0       3   \n\n                                                          Name     Sex   Age  \\\nPassengerId                                                                    \n1                                      Braund, Mr. Owen Harris    male  22.0   \n2            Cumings, Mrs. John Bradley (Florence Briggs Th...  female  38.0   \n3                                       Heikkinen, Miss. Laina  female  26.0   \n4                 Futrelle, Mrs. Jacques Heath (Lily May Peel)  female  35.0   \n5                                     Allen, Mr. William Henry    male  35.0   \n...                                                        ...     ...   ...   \n887                                      Montvila, Rev. Juozas    male  27.0   \n888                               Graham, Miss. Margaret Edith  female  19.0   \n889                   Johnston, Miss. Catherine Helen \"Carrie\"  female   NaN   \n890                                      Behr, Mr. Karl Howell    male  26.0   \n891                                        Dooley, Mr. Patrick    male  32.0   \n\n             SibSp  Parch            Ticket     Fare Cabin Embarked  \\\nPassengerId                                                           \n1                1      0         A/5 21171   7.2500   NaN        S   \n2                1      0          PC 17599  71.2833   C85        C   \n3                0      0  STON/O2. 3101282   7.9250   NaN        S   \n4                1      0            113803  53.1000  C123        S   \n5                0      0            373450   8.0500   NaN        S   \n...            ...    ...               ...      ...   ...      ...   \n887              0      0            211536  13.0000   NaN        S   \n888              0      0            112053  30.0000   B42        S   \n889              1      2        W./C. 6607  23.4500   NaN        S   \n890              0      0            111369  30.0000  C148        C   \n891              0      0            370376   7.7500   NaN        Q   \n\n            Survived(humanized) Pclass(humanized)  \nPassengerId                                        \n1                        Perish           Economy  \n2                      Survived       First Class  \n3                      Survived           Economy  \n4                      Survived       First Class  \n5                        Perish           Economy  \n...                         ...               ...  \n887                      Perish          Business  \n888                    Survived       First Class  \n889                      Perish           Economy  \n890                    Survived       First Class  \n891                      Perish           Economy  \n\n[891 rows x 13 columns]",
      "text/html": "<div>\n<style scoped>\n    .dataframe tbody tr th:only-of-type {\n        vertical-align: middle;\n    }\n\n    .dataframe tbody tr th {\n        vertical-align: top;\n    }\n\n    .dataframe thead th {\n        text-align: right;\n    }\n</style>\n<table border=\"1\" class=\"dataframe\">\n  <thead>\n    <tr style=\"text-align: right;\">\n      <th></th>\n      <th>Survived</th>\n      <th>Pclass</th>\n      <th>Name</th>\n      <th>Sex</th>\n      <th>Age</th>\n      <th>SibSp</th>\n      <th>Parch</th>\n      <th>Ticket</th>\n      <th>Fare</th>\n      <th>Cabin</th>\n      <th>Embarked</th>\n      <th>Survived(humanized)</th>\n      <th>Pclass(humanized)</th>\n    </tr>\n    <tr>\n      <th>PassengerId</th>\n      <th></th>\n      <th></th>\n      <th></th>\n      <th></th>\n      <th></th>\n      <th></th>\n      <th></th>\n      <th></th>\n      <th></th>\n      <th></th>\n      <th></th>\n      <th></th>\n      <th></th>\n    </tr>\n  </thead>\n  <tbody>\n    <tr>\n      <th>1</th>\n      <td>0</td>\n      <td>3</td>\n      <td>Braund, Mr. Owen Harris</td>\n      <td>male</td>\n      <td>22.0</td>\n      <td>1</td>\n      <td>0</td>\n      <td>A/5 21171</td>\n      <td>7.2500</td>\n      <td>NaN</td>\n      <td>S</td>\n      <td>Perish</td>\n      <td>Economy</td>\n    </tr>\n    <tr>\n      <th>2</th>\n      <td>1</td>\n      <td>1</td>\n      <td>Cumings, Mrs. John Bradley (Florence Briggs Th...</td>\n      <td>female</td>\n      <td>38.0</td>\n      <td>1</td>\n      <td>0</td>\n      <td>PC 17599</td>\n      <td>71.2833</td>\n      <td>C85</td>\n      <td>C</td>\n      <td>Survived</td>\n      <td>First Class</td>\n    </tr>\n    <tr>\n      <th>3</th>\n      <td>1</td>\n      <td>3</td>\n      <td>Heikkinen, Miss. Laina</td>\n      <td>female</td>\n      <td>26.0</td>\n      <td>0</td>\n      <td>0</td>\n      <td>STON/O2. 3101282</td>\n      <td>7.9250</td>\n      <td>NaN</td>\n      <td>S</td>\n      <td>Survived</td>\n      <td>Economy</td>\n    </tr>\n    <tr>\n      <th>4</th>\n      <td>1</td>\n      <td>1</td>\n      <td>Futrelle, Mrs. Jacques Heath (Lily May Peel)</td>\n      <td>female</td>\n      <td>35.0</td>\n      <td>1</td>\n      <td>0</td>\n      <td>113803</td>\n      <td>53.1000</td>\n      <td>C123</td>\n      <td>S</td>\n      <td>Survived</td>\n      <td>First Class</td>\n    </tr>\n    <tr>\n      <th>5</th>\n      <td>0</td>\n      <td>3</td>\n      <td>Allen, Mr. William Henry</td>\n      <td>male</td>\n      <td>35.0</td>\n      <td>0</td>\n      <td>0</td>\n      <td>373450</td>\n      <td>8.0500</td>\n      <td>NaN</td>\n      <td>S</td>\n      <td>Perish</td>\n      <td>Economy</td>\n    </tr>\n    <tr>\n      <th>...</th>\n      <td>...</td>\n      <td>...</td>\n      <td>...</td>\n      <td>...</td>\n      <td>...</td>\n      <td>...</td>\n      <td>...</td>\n      <td>...</td>\n      <td>...</td>\n      <td>...</td>\n      <td>...</td>\n      <td>...</td>\n      <td>...</td>\n    </tr>\n    <tr>\n      <th>887</th>\n      <td>0</td>\n      <td>2</td>\n      <td>Montvila, Rev. Juozas</td>\n      <td>male</td>\n      <td>27.0</td>\n      <td>0</td>\n      <td>0</td>\n      <td>211536</td>\n      <td>13.0000</td>\n      <td>NaN</td>\n      <td>S</td>\n      <td>Perish</td>\n      <td>Business</td>\n    </tr>\n    <tr>\n      <th>888</th>\n      <td>1</td>\n      <td>1</td>\n      <td>Graham, Miss. Margaret Edith</td>\n      <td>female</td>\n      <td>19.0</td>\n      <td>0</td>\n      <td>0</td>\n      <td>112053</td>\n      <td>30.0000</td>\n      <td>B42</td>\n      <td>S</td>\n      <td>Survived</td>\n      <td>First Class</td>\n    </tr>\n    <tr>\n      <th>889</th>\n      <td>0</td>\n      <td>3</td>\n      <td>Johnston, Miss. Catherine Helen \"Carrie\"</td>\n      <td>female</td>\n      <td>NaN</td>\n      <td>1</td>\n      <td>2</td>\n      <td>W./C. 6607</td>\n      <td>23.4500</td>\n      <td>NaN</td>\n      <td>S</td>\n      <td>Perish</td>\n      <td>Economy</td>\n    </tr>\n    <tr>\n      <th>890</th>\n      <td>1</td>\n      <td>1</td>\n      <td>Behr, Mr. Karl Howell</td>\n      <td>male</td>\n      <td>26.0</td>\n      <td>0</td>\n      <td>0</td>\n      <td>111369</td>\n      <td>30.0000</td>\n      <td>C148</td>\n      <td>C</td>\n      <td>Survived</td>\n      <td>First Class</td>\n    </tr>\n    <tr>\n      <th>891</th>\n      <td>0</td>\n      <td>3</td>\n      <td>Dooley, Mr. Patrick</td>\n      <td>male</td>\n      <td>32.0</td>\n      <td>0</td>\n      <td>0</td>\n      <td>370376</td>\n      <td>7.7500</td>\n      <td>NaN</td>\n      <td>Q</td>\n      <td>Perish</td>\n      <td>Economy</td>\n    </tr>\n  </tbody>\n</table>\n<p>891 rows × 13 columns</p>\n</div>"
     },
     "execution_count": 15,
     "metadata": {},
     "output_type": "execute_result"
    }
   ],
   "source": [
    "train"
   ],
   "metadata": {
    "collapsed": false,
    "pycharm": {
     "name": "#%%\n"
    }
   }
  },
  {
   "cell_type": "code",
   "execution_count": 16,
   "metadata": {
    "colab": {},
    "colab_type": "code",
    "id": "C_u6ptZxNOrh"
   },
   "outputs": [],
   "source": [
    "train[\"Embarked(humanized)\"] = train[\"Embarked\"].replace(\"C\", \"Cherbourg\").replace(\"S\", \"Southampton\").replace(\"Q\", \"Queenstown\")"
   ]
  },
  {
   "cell_type": "code",
   "execution_count": 17,
   "outputs": [
    {
     "name": "stdout",
     "output_type": "stream",
     "text": [
      "(891, 14)\n"
     ]
    }
   ],
   "source": [
    "print(train.shape)"
   ],
   "metadata": {
    "collapsed": false,
    "pycharm": {
     "name": "#%%\n"
    }
   }
  },
  {
   "cell_type": "code",
   "execution_count": 18,
   "outputs": [
    {
     "data": {
      "text/plain": "<matplotlib.axes._subplots.AxesSubplot at 0x12e01b2b0>"
     },
     "execution_count": 18,
     "metadata": {},
     "output_type": "execute_result"
    },
    {
     "data": {
      "text/plain": "<Figure size 432x288 with 1 Axes>",
      "image/png": "[encoded data removed]"
     },
     "metadata": {
      "needs_background": "light"
     },
     "output_type": "display_data"
    }
   ],
   "source": [
    "sns.countplot(data=train, x=\"Embarked(humanized)\", hue = \"Survived(humanized)\")"
   ],
   "metadata": {
    "collapsed": false,
    "pycharm": {
     "name": "#%%\n"
    }
   }
  },
  {
   "cell_type": "markdown",
   "metadata": {
    "colab_type": "text",
    "collapsed": true,
    "id": "eO3ntyeDNOrn"
   },
   "source": [
    "### 나이(Age) 컬럼 분석"
   ]
  },
  {
   "cell_type": "markdown",
   "metadata": {
    "colab_type": "text",
    "collapsed": true,
    "id": "IVsC6URqNOro"
   },
   "source": [
    "**5. 나이(Age) 컬럼에서 다음의 정보를 출력해주세요.**\n",
    "\n",
    "  * 평균(mean)\n",
    "  * 가장 나이가 많은 사람. (max)\n",
    "  * 가장 나이가 적은 사람. (min)\n",
    "  \n",
    "가령 평균은 약 29.7세, 가장 어린 사람은 0.42세(약 생후 4개월), 가장 나이가 많은 사람은 80세가 나와야 합니다."
   ]
  },
  {
   "cell_type": "code",
   "execution_count": 19,
   "metadata": {
    "colab": {},
    "colab_type": "code",
    "id": "pwYCFSBYNOrq",
    "pycharm": {
     "name": "#%%\n"
    }
   },
   "outputs": [
    {
     "name": "stdout",
     "output_type": "stream",
     "text": [
      "가장 나이가 많은 사람: 80.0 Years\n",
      "가장 나이가 어린 사람: 0.42 Years\n",
      "평균 나이: 29.69911764705882 Years\n"
     ]
    }
   ],
   "source": [
    "print('가장 나이가 많은 사람:',train['Age'].max(),'Years')\n",
    "print('가장 나이가 어린 사람:', train['Age'].min(),'Years')\n",
    "print('평균 나이:', train['Age'].mean(),'Years')"
   ]
  },
  {
   "cell_type": "markdown",
   "metadata": {
    "colab_type": "text",
    "collapsed": true,
    "id": "GK6iEzNMNOrz",
    "pycharm": {
     "name": "#%% md\n"
    }
   },
   "source": [
    "**6. 객실 등급별 나이(Age) 컬럼의 평균을 보여주세요.**\n",
    "\n",
    "이번에는 전체 평균이 아닌 객실 등급(Pclass)별 평균을 보고 싶습니다.\n",
    "\n",
    "가령 전체 승객의 평균 나이는 약 29.7세이지만, 1등급 승객의 평균 나이는 약 38.2세가 나와야 합니다. 비슷한 방식으로 2등급과 3등급 승객의 평균 나이를 알 수 있다면 좋겠습니다."
   ]
  },
  {
   "cell_type": "code",
   "execution_count": 20,
   "metadata": {
    "colab": {},
    "colab_type": "code",
    "id": "iQeA8ZS-NOr2",
    "pycharm": {
     "name": "#%%\n"
    }
   },
   "outputs": [
    {
     "data": {
      "text/plain": "                         Age\nPclass(humanized)           \nBusiness           29.877630\nEconomy            25.140620\nFirst Class        38.233441",
      "text/html": "<div>\n<style scoped>\n    .dataframe tbody tr th:only-of-type {\n        vertical-align: middle;\n    }\n\n    .dataframe tbody tr th {\n        vertical-align: top;\n    }\n\n    .dataframe thead th {\n        text-align: right;\n    }\n</style>\n<table border=\"1\" class=\"dataframe\">\n  <thead>\n    <tr style=\"text-align: right;\">\n      <th></th>\n      <th>Age</th>\n    </tr>\n    <tr>\n      <th>Pclass(humanized)</th>\n      <th></th>\n    </tr>\n  </thead>\n  <tbody>\n    <tr>\n      <th>Business</th>\n      <td>29.877630</td>\n    </tr>\n    <tr>\n      <th>Economy</th>\n      <td>25.140620</td>\n    </tr>\n    <tr>\n      <th>First Class</th>\n      <td>38.233441</td>\n    </tr>\n  </tbody>\n</table>\n</div>"
     },
     "execution_count": 20,
     "metadata": {},
     "output_type": "execute_result"
    }
   ],
   "source": [
    "pd.pivot_table(data=train, index=\"Pclass(humanized)\", values=\"Age\")"
   ]
  },
  {
   "cell_type": "markdown",
   "metadata": {
    "colab_type": "text",
    "id": "M89L5Qu8NOr8"
   },
   "source": [
    "**7. 나이를 일정 구역으로 나눠서, 구역마다의 생존률을 보여주세요.**\n",
    "\n",
    "이번에는 나이(Age)별 생존률을 확인하고 싶습니다. 다만 나이 컬럼은 숫자이기 때문에, 그대로 쓰지 않고 일정 구역으로 나눈 뒤 생존률의 통계를 내는 것이 보기 편할 것입니다. 그러므로 나이 컬럼을 다음의 세 구역으로 나눕니다.\n",
    "\n",
    "  1. 나이가 15세 미만인 승객.\n",
    "  2. 나이가 15세 이상이고 30세 미만인 승객.\n",
    "  3. 나이가 30세 이상인 승객.\n",
    "\n",
    "최종적으로는 다음의 결과가 나와야 합니다."
   ]
  },
  {
   "cell_type": "markdown",
   "metadata": {
    "colab_type": "text",
    "id": "abmZWeBUNOr-",
    "pycharm": {
     "name": "#%% md\n"
    }
   },
   "source": [
    "<table border=\"1\" class=\"dataframe\" style=\"float: left;\">\n",
    "   <thead>\n",
    "      <tr style=\"text-align: right;\">\n",
    "         <th></th>\n",
    "         <th>Age</th>\n",
    "         <th>AgeType</th>\n",
    "      </tr>\n",
    "      <tr>\n",
    "         <th>PassengerId</th>\n",
    "         <th></th>\n",
    "         <th></th>\n",
    "      </tr>\n",
    "   </thead>\n",
    "   <tbody>\n",
    "      <tr>\n",
    "         <th>1</th>\n",
    "         <td>22.0</td>\n",
    "         <td>Medium</td>\n",
    "      </tr>\n",
    "      <tr>\n",
    "         <th>2</th>\n",
    "         <td>38.0</td>\n",
    "         <td>Old</td>\n",
    "      </tr>\n",
    "      <tr>\n",
    "         <th>3</th>\n",
    "         <td>26.0</td>\n",
    "         <td>Medium</td>\n",
    "      </tr>\n",
    "      <tr>\n",
    "         <th>4</th>\n",
    "         <td>35.0</td>\n",
    "         <td>Old</td>\n",
    "      </tr>\n",
    "      <tr>\n",
    "         <th>5</th>\n",
    "         <td>35.0</td>\n",
    "         <td>Old</td>\n",
    "      </tr>\n",
    "      <tr>\n",
    "         <th>6</th>\n",
    "         <td>NaN</td>\n",
    "         <td>NaN</td>\n",
    "      </tr>\n",
    "      <tr>\n",
    "         <th>7</th>\n",
    "         <td>54.0</td>\n",
    "         <td>Old</td>\n",
    "      </tr>\n",
    "      <tr>\n",
    "         <th>8</th>\n",
    "         <td>2.0</td>\n",
    "         <td>Young</td>\n",
    "      </tr>\n",
    "      <tr>\n",
    "         <th>9</th>\n",
    "         <td>27.0</td>\n",
    "         <td>Medium</td>\n",
    "      </tr>\n",
    "      <tr>\n",
    "         <th>10</th>\n",
    "         <td>14.0</td>\n",
    "         <td>Young</td>\n",
    "      </tr>\n",
    "   </tbody>\n",
    "</table>"
   ]
  },
  {
   "cell_type": "markdown",
   "source": [
    "또한, 위 조건에서 1번, 2번, 3번 구역에 해당하는 승객의 평균 생존률을 구하고 싶습니다.\n",
    "\n",
    "가령 1번 구역(나이가 15세 미만)에 해당하는 승객의 평균 생존률은 약 57.7%가 나와야 합니다."
   ],
   "metadata": {
    "collapsed": false
   }
  },
  {
   "cell_type": "markdown",
   "source": [
    "마지막으로 이를 활용해 1) 구역별 생존자와 사망자의 차이, 2) 구역별 평균 나이를 시각화 해주세요. 최종적으로는 다음의 결과가 나와야 합니다.\n",
    "\n",
    "![quiz-7-1](https://drive.google.com/uc?export=view&id=15otOk_H9yHbARzoSBSbWIzMcswpQ7olE)"
   ],
   "metadata": {
    "collapsed": false
   }
  },
  {
   "cell_type": "markdown",
   "source": [
    "![quiz-7-2](https://drive.google.com/uc?export=view&id=1n49DVaxgf2au5eXgnzSV0wY3PoHw02gL)"
   ],
   "metadata": {
    "collapsed": false
   }
  },
  {
   "cell_type": "code",
   "execution_count": 21,
   "outputs": [
    {
     "data": {
      "text/plain": "              Age AgeType\nPassengerId              \n1            22.0  Medium\n2            38.0     Old\n3            26.0  Medium\n4            35.0     Old\n5            35.0     Old\n...           ...     ...\n887          27.0  Medium\n888          19.0  Medium\n889           NaN     NaN\n890          26.0  Medium\n891          32.0     Old\n\n[891 rows x 2 columns]",
      "text/html": "<div>\n<style scoped>\n    .dataframe tbody tr th:only-of-type {\n        vertical-align: middle;\n    }\n\n    .dataframe tbody tr th {\n        vertical-align: top;\n    }\n\n    .dataframe thead th {\n        text-align: right;\n    }\n</style>\n<table border=\"1\" class=\"dataframe\">\n  <thead>\n    <tr style=\"text-align: right;\">\n      <th></th>\n      <th>Age</th>\n      <th>AgeType</th>\n    </tr>\n    <tr>\n      <th>PassengerId</th>\n      <th></th>\n      <th></th>\n    </tr>\n  </thead>\n  <tbody>\n    <tr>\n      <th>1</th>\n      <td>22.0</td>\n      <td>Medium</td>\n    </tr>\n    <tr>\n      <th>2</th>\n      <td>38.0</td>\n      <td>Old</td>\n    </tr>\n    <tr>\n      <th>3</th>\n      <td>26.0</td>\n      <td>Medium</td>\n    </tr>\n    <tr>\n      <th>4</th>\n      <td>35.0</td>\n      <td>Old</td>\n    </tr>\n    <tr>\n      <th>5</th>\n      <td>35.0</td>\n      <td>Old</td>\n    </tr>\n    <tr>\n      <th>...</th>\n      <td>...</td>\n      <td>...</td>\n    </tr>\n    <tr>\n      <th>887</th>\n      <td>27.0</td>\n      <td>Medium</td>\n    </tr>\n    <tr>\n      <th>888</th>\n      <td>19.0</td>\n      <td>Medium</td>\n    </tr>\n    <tr>\n      <th>889</th>\n      <td>NaN</td>\n      <td>NaN</td>\n    </tr>\n    <tr>\n      <th>890</th>\n      <td>26.0</td>\n      <td>Medium</td>\n    </tr>\n    <tr>\n      <th>891</th>\n      <td>32.0</td>\n      <td>Old</td>\n    </tr>\n  </tbody>\n</table>\n<p>891 rows × 2 columns</p>\n</div>"
     },
     "execution_count": 21,
     "metadata": {},
     "output_type": "execute_result"
    }
   ],
   "source": [
    "\n",
    "train.loc[train['Age']<15,'AgeType']=\"Young\"\n",
    "train.loc[(train['Age']>=15)&(train['Age']<30),'AgeType']=\"Medium\"\n",
    "train.loc[(train['Age']>=30),'AgeType']=\"Old\"\n",
    "train[['Age', 'AgeType']]"
   ],
   "metadata": {
    "collapsed": false,
    "pycharm": {
     "name": "#%%\n"
    }
   }
  },
  {
   "cell_type": "code",
   "execution_count": 22,
   "outputs": [
    {
     "data": {
      "text/plain": "PassengerId\n1      Medium\n2         Old\n3      Medium\n4         Old\n5         Old\n        ...  \n887    Medium\n888    Medium\n889       NaN\n890    Medium\n891       Old\nName: AgeType, Length: 891, dtype: object"
     },
     "execution_count": 22,
     "metadata": {},
     "output_type": "execute_result"
    }
   ],
   "source": [
    "train['AgeType']"
   ],
   "metadata": {
    "collapsed": false,
    "pycharm": {
     "name": "#%%\n"
    }
   }
  },
  {
   "cell_type": "code",
   "execution_count": 23,
   "outputs": [
    {
     "data": {
      "text/plain": "PassengerId\n1      22.0\n2      38.0\n3      26.0\n4      35.0\n5      35.0\n       ... \n887    27.0\n888    19.0\n889     NaN\n890    26.0\n891    32.0\nName: Age, Length: 891, dtype: float64"
     },
     "execution_count": 23,
     "metadata": {},
     "output_type": "execute_result"
    }
   ],
   "source": [
    "train['Age']"
   ],
   "metadata": {
    "collapsed": false,
    "pycharm": {
     "name": "#%%\n"
    }
   }
  },
  {
   "cell_type": "code",
   "execution_count": 24,
   "outputs": [
    {
     "data": {
      "text/plain": "             Survived  Pclass  \\\nPassengerId                     \n1                   0       3   \n2                   1       1   \n3                   1       3   \n4                   1       1   \n5                   0       3   \n\n                                                          Name     Sex   Age  \\\nPassengerId                                                                    \n1                                      Braund, Mr. Owen Harris    male  22.0   \n2            Cumings, Mrs. John Bradley (Florence Briggs Th...  female  38.0   \n3                                       Heikkinen, Miss. Laina  female  26.0   \n4                 Futrelle, Mrs. Jacques Heath (Lily May Peel)  female  35.0   \n5                                     Allen, Mr. William Henry    male  35.0   \n\n             SibSp  Parch            Ticket     Fare Cabin Embarked  \\\nPassengerId                                                           \n1                1      0         A/5 21171   7.2500   NaN        S   \n2                1      0          PC 17599  71.2833   C85        C   \n3                0      0  STON/O2. 3101282   7.9250   NaN        S   \n4                1      0            113803  53.1000  C123        S   \n5                0      0            373450   8.0500   NaN        S   \n\n            Survived(humanized) Pclass(humanized) Embarked(humanized) AgeType  \nPassengerId                                                                    \n1                        Perish           Economy         Southampton  Medium  \n2                      Survived       First Class           Cherbourg     Old  \n3                      Survived           Economy         Southampton  Medium  \n4                      Survived       First Class         Southampton     Old  \n5                        Perish           Economy         Southampton     Old  ",
      "text/html": "<div>\n<style scoped>\n    .dataframe tbody tr th:only-of-type {\n        vertical-align: middle;\n    }\n\n    .dataframe tbody tr th {\n        vertical-align: top;\n    }\n\n    .dataframe thead th {\n        text-align: right;\n    }\n</style>\n<table border=\"1\" class=\"dataframe\">\n  <thead>\n    <tr style=\"text-align: right;\">\n      <th></th>\n      <th>Survived</th>\n      <th>Pclass</th>\n      <th>Name</th>\n      <th>Sex</th>\n      <th>Age</th>\n      <th>SibSp</th>\n      <th>Parch</th>\n      <th>Ticket</th>\n      <th>Fare</th>\n      <th>Cabin</th>\n      <th>Embarked</th>\n      <th>Survived(humanized)</th>\n      <th>Pclass(humanized)</th>\n      <th>Embarked(humanized)</th>\n      <th>AgeType</th>\n    </tr>\n    <tr>\n      <th>PassengerId</th>\n      <th></th>\n      <th></th>\n      <th></th>\n      <th></th>\n      <th></th>\n      <th></th>\n      <th></th>\n      <th></th>\n      <th></th>\n      <th></th>\n      <th></th>\n      <th></th>\n      <th></th>\n      <th></th>\n      <th></th>\n    </tr>\n  </thead>\n  <tbody>\n    <tr>\n      <th>1</th>\n      <td>0</td>\n      <td>3</td>\n      <td>Braund, Mr. Owen Harris</td>\n      <td>male</td>\n      <td>22.0</td>\n      <td>1</td>\n      <td>0</td>\n      <td>A/5 21171</td>\n      <td>7.2500</td>\n      <td>NaN</td>\n      <td>S</td>\n      <td>Perish</td>\n      <td>Economy</td>\n      <td>Southampton</td>\n      <td>Medium</td>\n    </tr>\n    <tr>\n      <th>2</th>\n      <td>1</td>\n      <td>1</td>\n      <td>Cumings, Mrs. John Bradley (Florence Briggs Th...</td>\n      <td>female</td>\n      <td>38.0</td>\n      <td>1</td>\n      <td>0</td>\n      <td>PC 17599</td>\n      <td>71.2833</td>\n      <td>C85</td>\n      <td>C</td>\n      <td>Survived</td>\n      <td>First Class</td>\n      <td>Cherbourg</td>\n      <td>Old</td>\n    </tr>\n    <tr>\n      <th>3</th>\n      <td>1</td>\n      <td>3</td>\n      <td>Heikkinen, Miss. Laina</td>\n      <td>female</td>\n      <td>26.0</td>\n      <td>0</td>\n      <td>0</td>\n      <td>STON/O2. 3101282</td>\n      <td>7.9250</td>\n      <td>NaN</td>\n      <td>S</td>\n      <td>Survived</td>\n      <td>Economy</td>\n      <td>Southampton</td>\n      <td>Medium</td>\n    </tr>\n    <tr>\n      <th>4</th>\n      <td>1</td>\n      <td>1</td>\n      <td>Futrelle, Mrs. Jacques Heath (Lily May Peel)</td>\n      <td>female</td>\n      <td>35.0</td>\n      <td>1</td>\n      <td>0</td>\n      <td>113803</td>\n      <td>53.1000</td>\n      <td>C123</td>\n      <td>S</td>\n      <td>Survived</td>\n      <td>First Class</td>\n      <td>Southampton</td>\n      <td>Old</td>\n    </tr>\n    <tr>\n      <th>5</th>\n      <td>0</td>\n      <td>3</td>\n      <td>Allen, Mr. William Henry</td>\n      <td>male</td>\n      <td>35.0</td>\n      <td>0</td>\n      <td>0</td>\n      <td>373450</td>\n      <td>8.0500</td>\n      <td>NaN</td>\n      <td>S</td>\n      <td>Perish</td>\n      <td>Economy</td>\n      <td>Southampton</td>\n      <td>Old</td>\n    </tr>\n  </tbody>\n</table>\n</div>"
     },
     "execution_count": 24,
     "metadata": {},
     "output_type": "execute_result"
    }
   ],
   "source": [
    "train.head()"
   ],
   "metadata": {
    "collapsed": false,
    "pycharm": {
     "name": "#%%\n"
    }
   }
  },
  {
   "cell_type": "code",
   "execution_count": 25,
   "outputs": [
    {
     "data": {
      "text/plain": "<matplotlib.axes._subplots.AxesSubplot at 0x12bc121f0>"
     },
     "execution_count": 25,
     "metadata": {},
     "output_type": "execute_result"
    },
    {
     "data": {
      "text/plain": "<Figure size 432x288 with 1 Axes>",
      "image/png": "[encoded data removed]"
     },
     "metadata": {
      "needs_background": "light"
     },
     "output_type": "display_data"
    }
   ],
   "source": [
    "sns.countplot(data = train, x = \"AgeType\", hue = \"Survived(humanized)\")"
   ],
   "metadata": {
    "collapsed": false,
    "pycharm": {
     "name": "#%%\n"
    }
   }
  },
  {
   "cell_type": "code",
   "execution_count": 26,
   "outputs": [
    {
     "data": {
      "text/plain": "<matplotlib.axes._subplots.AxesSubplot at 0x12e143af0>"
     },
     "execution_count": 26,
     "metadata": {},
     "output_type": "execute_result"
    },
    {
     "data": {
      "text/plain": "<Figure size 432x288 with 1 Axes>",
      "image/png": "[encoded data removed]"
     },
     "metadata": {
      "needs_background": "light"
     },
     "output_type": "display_data"
    }
   ],
   "source": [
    "sns.barplot(data = train, x = \"AgeType\", y = \"Age\")"
   ],
   "metadata": {
    "collapsed": false,
    "pycharm": {
     "name": "#%%\n"
    }
   }
  },
  {
   "cell_type": "markdown",
   "source": [
    "**8. 나이가 비어있는 승객과 비어있지 않은 승객의 생존률 차이를 보여주세요.**\n",
    "\n",
    "이번에는 다른 방식으로 생존률의 차이를 보겠습니다. 타이타닉 데이터의 나이(Age) 컬럼을 자세히 보면 나이가 비어있는 데이터가 있습니다. 판다스에서는 이를 NaN(Not a Number의 약자)으로 표현합니다.\n",
    "\n",
    "타이타닉 데이터에서 나이 컬럼이 비어있는 승객과 비어있지 않은 승객의 생존률을 각각 찾아서 출력해주세요. 또한 이를 시각화로 비교해주세요. 최종적으로 다음의 결과가 나와야합니다."
   ],
   "metadata": {
    "collapsed": false
   }
  },
  {
   "cell_type": "markdown",
   "source": [
    "![quiz-8](https://drive.google.com/uc?export=view&id=18d5DhEuPU4N99avIwrl2FpPGdyQUI7Ty)"
   ],
   "metadata": {
    "collapsed": false,
    "pycharm": {
     "name": "#%% md\n"
    }
   }
  },
  {
   "cell_type": "code",
   "execution_count": 27,
   "outputs": [
    {
     "data": {
      "text/plain": "             Survived  Pclass  \\\nPassengerId                     \n1                   0       3   \n2                   1       1   \n3                   1       3   \n4                   1       1   \n5                   0       3   \n...               ...     ...   \n887                 0       2   \n888                 1       1   \n889                 0       3   \n890                 1       1   \n891                 0       3   \n\n                                                          Name     Sex   Age  \\\nPassengerId                                                                    \n1                                      Braund, Mr. Owen Harris    male  22.0   \n2            Cumings, Mrs. John Bradley (Florence Briggs Th...  female  38.0   \n3                                       Heikkinen, Miss. Laina  female  26.0   \n4                 Futrelle, Mrs. Jacques Heath (Lily May Peel)  female  35.0   \n5                                     Allen, Mr. William Henry    male  35.0   \n...                                                        ...     ...   ...   \n887                                      Montvila, Rev. Juozas    male  27.0   \n888                               Graham, Miss. Margaret Edith  female  19.0   \n889                   Johnston, Miss. Catherine Helen \"Carrie\"  female   NaN   \n890                                      Behr, Mr. Karl Howell    male  26.0   \n891                                        Dooley, Mr. Patrick    male  32.0   \n\n             SibSp  Parch            Ticket     Fare Cabin Embarked  \\\nPassengerId                                                           \n1                1      0         A/5 21171   7.2500   NaN        S   \n2                1      0          PC 17599  71.2833   C85        C   \n3                0      0  STON/O2. 3101282   7.9250   NaN        S   \n4                1      0            113803  53.1000  C123        S   \n5                0      0            373450   8.0500   NaN        S   \n...            ...    ...               ...      ...   ...      ...   \n887              0      0            211536  13.0000   NaN        S   \n888              0      0            112053  30.0000   B42        S   \n889              1      2        W./C. 6607  23.4500   NaN        S   \n890              0      0            111369  30.0000  C148        C   \n891              0      0            370376   7.7500   NaN        Q   \n\n            Survived(humanized) Pclass(humanized) Embarked(humanized) AgeType  \nPassengerId                                                                    \n1                        Perish           Economy         Southampton  Medium  \n2                      Survived       First Class           Cherbourg     Old  \n3                      Survived           Economy         Southampton  Medium  \n4                      Survived       First Class         Southampton     Old  \n5                        Perish           Economy         Southampton     Old  \n...                         ...               ...                 ...     ...  \n887                      Perish          Business         Southampton  Medium  \n888                    Survived       First Class         Southampton  Medium  \n889                      Perish           Economy         Southampton     NaN  \n890                    Survived       First Class           Cherbourg  Medium  \n891                      Perish           Economy          Queenstown     Old  \n\n[891 rows x 15 columns]",
      "text/html": "<div>\n<style scoped>\n    .dataframe tbody tr th:only-of-type {\n        vertical-align: middle;\n    }\n\n    .dataframe tbody tr th {\n        vertical-align: top;\n    }\n\n    .dataframe thead th {\n        text-align: right;\n    }\n</style>\n<table border=\"1\" class=\"dataframe\">\n  <thead>\n    <tr style=\"text-align: right;\">\n      <th></th>\n      <th>Survived</th>\n      <th>Pclass</th>\n      <th>Name</th>\n      <th>Sex</th>\n      <th>Age</th>\n      <th>SibSp</th>\n      <th>Parch</th>\n      <th>Ticket</th>\n      <th>Fare</th>\n      <th>Cabin</th>\n      <th>Embarked</th>\n      <th>Survived(humanized)</th>\n      <th>Pclass(humanized)</th>\n      <th>Embarked(humanized)</th>\n      <th>AgeType</th>\n    </tr>\n    <tr>\n      <th>PassengerId</th>\n      <th></th>\n      <th></th>\n      <th></th>\n      <th></th>\n      <th></th>\n      <th></th>\n      <th></th>\n      <th></th>\n      <th></th>\n      <th></th>\n      <th></th>\n      <th></th>\n      <th></th>\n      <th></th>\n      <th></th>\n    </tr>\n  </thead>\n  <tbody>\n    <tr>\n      <th>1</th>\n      <td>0</td>\n      <td>3</td>\n      <td>Braund, Mr. Owen Harris</td>\n      <td>male</td>\n      <td>22.0</td>\n      <td>1</td>\n      <td>0</td>\n      <td>A/5 21171</td>\n      <td>7.2500</td>\n      <td>NaN</td>\n      <td>S</td>\n      <td>Perish</td>\n      <td>Economy</td>\n      <td>Southampton</td>\n      <td>Medium</td>\n    </tr>\n    <tr>\n      <th>2</th>\n      <td>1</td>\n      <td>1</td>\n      <td>Cumings, Mrs. John Bradley (Florence Briggs Th...</td>\n      <td>female</td>\n      <td>38.0</td>\n      <td>1</td>\n      <td>0</td>\n      <td>PC 17599</td>\n      <td>71.2833</td>\n      <td>C85</td>\n      <td>C</td>\n      <td>Survived</td>\n      <td>First Class</td>\n      <td>Cherbourg</td>\n      <td>Old</td>\n    </tr>\n    <tr>\n      <th>3</th>\n      <td>1</td>\n      <td>3</td>\n      <td>Heikkinen, Miss. Laina</td>\n      <td>female</td>\n      <td>26.0</td>\n      <td>0</td>\n      <td>0</td>\n      <td>STON/O2. 3101282</td>\n      <td>7.9250</td>\n      <td>NaN</td>\n      <td>S</td>\n      <td>Survived</td>\n      <td>Economy</td>\n      <td>Southampton</td>\n      <td>Medium</td>\n    </tr>\n    <tr>\n      <th>4</th>\n      <td>1</td>\n      <td>1</td>\n      <td>Futrelle, Mrs. Jacques Heath (Lily May Peel)</td>\n      <td>female</td>\n      <td>35.0</td>\n      <td>1</td>\n      <td>0</td>\n      <td>113803</td>\n      <td>53.1000</td>\n      <td>C123</td>\n      <td>S</td>\n      <td>Survived</td>\n      <td>First Class</td>\n      <td>Southampton</td>\n      <td>Old</td>\n    </tr>\n    <tr>\n      <th>5</th>\n      <td>0</td>\n      <td>3</td>\n      <td>Allen, Mr. William Henry</td>\n      <td>male</td>\n      <td>35.0</td>\n      <td>0</td>\n      <td>0</td>\n      <td>373450</td>\n      <td>8.0500</td>\n      <td>NaN</td>\n      <td>S</td>\n      <td>Perish</td>\n      <td>Economy</td>\n      <td>Southampton</td>\n      <td>Old</td>\n    </tr>\n    <tr>\n      <th>...</th>\n      <td>...</td>\n      <td>...</td>\n      <td>...</td>\n      <td>...</td>\n      <td>...</td>\n      <td>...</td>\n      <td>...</td>\n      <td>...</td>\n      <td>...</td>\n      <td>...</td>\n      <td>...</td>\n      <td>...</td>\n      <td>...</td>\n      <td>...</td>\n      <td>...</td>\n    </tr>\n    <tr>\n      <th>887</th>\n      <td>0</td>\n      <td>2</td>\n      <td>Montvila, Rev. Juozas</td>\n      <td>male</td>\n      <td>27.0</td>\n      <td>0</td>\n      <td>0</td>\n      <td>211536</td>\n      <td>13.0000</td>\n      <td>NaN</td>\n      <td>S</td>\n      <td>Perish</td>\n      <td>Business</td>\n      <td>Southampton</td>\n      <td>Medium</td>\n    </tr>\n    <tr>\n      <th>888</th>\n      <td>1</td>\n      <td>1</td>\n      <td>Graham, Miss. Margaret Edith</td>\n      <td>female</td>\n      <td>19.0</td>\n      <td>0</td>\n      <td>0</td>\n      <td>112053</td>\n      <td>30.0000</td>\n      <td>B42</td>\n      <td>S</td>\n      <td>Survived</td>\n      <td>First Class</td>\n      <td>Southampton</td>\n      <td>Medium</td>\n    </tr>\n    <tr>\n      <th>889</th>\n      <td>0</td>\n      <td>3</td>\n      <td>Johnston, Miss. Catherine Helen \"Carrie\"</td>\n      <td>female</td>\n      <td>NaN</td>\n      <td>1</td>\n      <td>2</td>\n      <td>W./C. 6607</td>\n      <td>23.4500</td>\n      <td>NaN</td>\n      <td>S</td>\n      <td>Perish</td>\n      <td>Economy</td>\n      <td>Southampton</td>\n      <td>NaN</td>\n    </tr>\n    <tr>\n      <th>890</th>\n      <td>1</td>\n      <td>1</td>\n      <td>Behr, Mr. Karl Howell</td>\n      <td>male</td>\n      <td>26.0</td>\n      <td>0</td>\n      <td>0</td>\n      <td>111369</td>\n      <td>30.0000</td>\n      <td>C148</td>\n      <td>C</td>\n      <td>Survived</td>\n      <td>First Class</td>\n      <td>Cherbourg</td>\n      <td>Medium</td>\n    </tr>\n    <tr>\n      <th>891</th>\n      <td>0</td>\n      <td>3</td>\n      <td>Dooley, Mr. Patrick</td>\n      <td>male</td>\n      <td>32.0</td>\n      <td>0</td>\n      <td>0</td>\n      <td>370376</td>\n      <td>7.7500</td>\n      <td>NaN</td>\n      <td>Q</td>\n      <td>Perish</td>\n      <td>Economy</td>\n      <td>Queenstown</td>\n      <td>Old</td>\n    </tr>\n  </tbody>\n</table>\n<p>891 rows × 15 columns</p>\n</div>"
     },
     "execution_count": 27,
     "metadata": {},
     "output_type": "execute_result"
    }
   ],
   "source": [
    "train"
   ],
   "metadata": {
    "collapsed": false,
    "pycharm": {
     "name": "#%%\n"
    }
   }
  },
  {
   "cell_type": "code",
   "execution_count": 28,
   "outputs": [
    {
     "data": {
      "text/plain": "177"
     },
     "execution_count": 28,
     "metadata": {},
     "output_type": "execute_result"
    }
   ],
   "source": [
    "train['Age'].isnull().sum()"
   ],
   "metadata": {
    "collapsed": false,
    "pycharm": {
     "name": "#%%\n"
    }
   }
  },
  {
   "cell_type": "code",
   "execution_count": 29,
   "outputs": [
    {
     "data": {
      "text/plain": "PassengerId\n1      22.0\n2      38.0\n3      26.0\n4      35.0\n5      35.0\n       ... \n887    27.0\n888    19.0\n889     NaN\n890    26.0\n891    32.0\nName: AgeBlank, Length: 891, dtype: float64"
     },
     "execution_count": 29,
     "metadata": {},
     "output_type": "execute_result"
    }
   ],
   "source": [
    "train['AgeBlank'] = train['Age'].copy()\n",
    "\n",
    "train['AgeBlank']"
   ],
   "metadata": {
    "collapsed": false,
    "pycharm": {
     "name": "#%%\n"
    }
   }
  },
  {
   "cell_type": "code",
   "execution_count": 30,
   "outputs": [
    {
     "data": {
      "text/plain": "              Age   AgeBlank\nPassengerId                 \n1            22.0  Not Blank\n2            38.0  Not Blank\n3            26.0  Not Blank\n4            35.0  Not Blank\n5            35.0  Not Blank",
      "text/html": "<div>\n<style scoped>\n    .dataframe tbody tr th:only-of-type {\n        vertical-align: middle;\n    }\n\n    .dataframe tbody tr th {\n        vertical-align: top;\n    }\n\n    .dataframe thead th {\n        text-align: right;\n    }\n</style>\n<table border=\"1\" class=\"dataframe\">\n  <thead>\n    <tr style=\"text-align: right;\">\n      <th></th>\n      <th>Age</th>\n      <th>AgeBlank</th>\n    </tr>\n    <tr>\n      <th>PassengerId</th>\n      <th></th>\n      <th></th>\n    </tr>\n  </thead>\n  <tbody>\n    <tr>\n      <th>1</th>\n      <td>22.0</td>\n      <td>Not Blank</td>\n    </tr>\n    <tr>\n      <th>2</th>\n      <td>38.0</td>\n      <td>Not Blank</td>\n    </tr>\n    <tr>\n      <th>3</th>\n      <td>26.0</td>\n      <td>Not Blank</td>\n    </tr>\n    <tr>\n      <th>4</th>\n      <td>35.0</td>\n      <td>Not Blank</td>\n    </tr>\n    <tr>\n      <th>5</th>\n      <td>35.0</td>\n      <td>Not Blank</td>\n    </tr>\n  </tbody>\n</table>\n</div>"
     },
     "execution_count": 30,
     "metadata": {},
     "output_type": "execute_result"
    }
   ],
   "source": [
    "train.loc[train.Age.isnull(), 'AgeBlank'] = 'Blank'\n",
    "train.loc[train.Age.notnull(), 'AgeBlank'] = 'Not Blank'\n",
    "train[['Age', 'AgeBlank']].head()"
   ],
   "metadata": {
    "collapsed": false,
    "pycharm": {
     "name": "#%%\n"
    }
   }
  },
  {
   "cell_type": "code",
   "execution_count": 31,
   "outputs": [
    {
     "data": {
      "text/plain": "<matplotlib.axes._subplots.AxesSubplot at 0x12e1aa160>"
     },
     "execution_count": 31,
     "metadata": {},
     "output_type": "execute_result"
    },
    {
     "data": {
      "text/plain": "<Figure size 432x288 with 1 Axes>",
      "image/png": "[encoded data removed]"
     },
     "metadata": {
      "needs_background": "light"
     },
     "output_type": "display_data"
    }
   ],
   "source": [
    "sns.countplot(data = train, x = 'AgeBlank', hue = 'Survived(humanized)')"
   ],
   "metadata": {
    "collapsed": false,
    "pycharm": {
     "name": "#%%\n"
    }
   }
  },
  {
   "cell_type": "markdown",
   "source": [
    "**9. Pclass별 나이(Age)의 평균을 구한 뒤 빈 값에 채워주세요.**\n",
    "\n",
    "이번에는 나이(Age) 컬럼의 빈 값을 채우고 싶습니다. 일반적으로 가장 많이 하는 방식은 나이의 평균(mean)값을 구한 뒤 이를 빈 값에 채워넣는 것입니다. 하지만 이번에는 다른 방식으로 빈 값을 채우고 싶은데, 바로 객실 등급(Pclass)에 따라 다르게 나이의 빈 값을 채워주고 싶습니다. 가령\n",
    "\n",
    "  1. 객실 등급(Pclass)이 1등급인 승객의 평균 나이를 구해서, 해당 승객 중 나이(Age)컬럼값이 비어있는 승객을 찾아 빈 나이 값을 채워줍니다.\n",
    "  2. 객실 등급(Pclass)이 2등급인 승객의 평균 나이를 구해서, 해당 승객 중 나이(Age)컬럼값이 비어있는 승객을 찾아 빈 나이 값을 채워줍니다.\n",
    "  3. 객실 등급(Pclass)이 3등급인 승객의 평균 나이를 구해서, 해당 승객 중 나이(Age)컬럼값이 비어있는 승객을 찾아 빈 나이 값을 채워줍니다.\n",
    "  \n",
    "위와 같은 방식을 사용하면, 단순히 전체 평균을 사용하는 것 보다 조금 더 원래 값에 근접하게 평균을 채워줄 수 있을 것 같습니다. 최종적으로는 다음의 결과가 나와야 합니다."
   ],
   "metadata": {
    "collapsed": false
   }
  },
  {
   "cell_type": "markdown",
   "source": [
    "<table border=\"1\" class=\"dataframe\" style=\"float: left;\">\n",
    "   <thead>\n",
    "      <tr style=\"text-align: right;\">\n",
    "         <th></th>\n",
    "         <th>Pclass</th>\n",
    "         <th>Age</th>\n",
    "         <th>Age(fill)</th>\n",
    "      </tr>\n",
    "      <tr>\n",
    "         <th>PassengerId</th>\n",
    "         <th></th>\n",
    "         <th></th>\n",
    "         <th></th>\n",
    "      </tr>\n",
    "   </thead>\n",
    "   <tbody>\n",
    "      <tr>\n",
    "         <th>1</th>\n",
    "         <td>3</td>\n",
    "         <td>22.0</td>\n",
    "         <td>22.00000</td>\n",
    "      </tr>\n",
    "      <tr>\n",
    "         <th>2</th>\n",
    "         <td>1</td>\n",
    "         <td>38.0</td>\n",
    "         <td>38.00000</td>\n",
    "      </tr>\n",
    "      <tr>\n",
    "         <th>3</th>\n",
    "         <td>3</td>\n",
    "         <td>26.0</td>\n",
    "         <td>26.00000</td>\n",
    "      </tr>\n",
    "      <tr>\n",
    "         <th>4</th>\n",
    "         <td>1</td>\n",
    "         <td>35.0</td>\n",
    "         <td>35.00000</td>\n",
    "      </tr>\n",
    "      <tr>\n",
    "         <th>5</th>\n",
    "         <td>3</td>\n",
    "         <td>35.0</td>\n",
    "         <td>35.00000</td>\n",
    "      </tr>\n",
    "      <tr>\n",
    "         <th>6</th>\n",
    "         <td>3</td>\n",
    "         <td>NaN</td>\n",
    "         <td>25.14062</td>\n",
    "      </tr>\n",
    "      <tr>\n",
    "         <th>7</th>\n",
    "         <td>1</td>\n",
    "         <td>54.0</td>\n",
    "         <td>54.00000</td>\n",
    "      </tr>\n",
    "      <tr>\n",
    "         <th>8</th>\n",
    "         <td>3</td>\n",
    "         <td>2.0</td>\n",
    "         <td>2.00000</td>\n",
    "      </tr>\n",
    "      <tr>\n",
    "         <th>9</th>\n",
    "         <td>3</td>\n",
    "         <td>27.0</td>\n",
    "         <td>27.00000</td>\n",
    "      </tr>\n",
    "      <tr>\n",
    "         <th>10</th>\n",
    "         <td>2</td>\n",
    "         <td>14.0</td>\n",
    "         <td>14.00000</td>\n",
    "      </tr>\n",
    "      <tr>\n",
    "         <th>11</th>\n",
    "         <td>3</td>\n",
    "         <td>4.0</td>\n",
    "         <td>4.00000</td>\n",
    "      </tr>\n",
    "      <tr>\n",
    "         <th>12</th>\n",
    "         <td>1</td>\n",
    "         <td>58.0</td>\n",
    "         <td>58.00000</td>\n",
    "      </tr>\n",
    "      <tr>\n",
    "         <th>13</th>\n",
    "         <td>3</td>\n",
    "         <td>20.0</td>\n",
    "         <td>20.00000</td>\n",
    "      </tr>\n",
    "      <tr>\n",
    "         <th>14</th>\n",
    "         <td>3</td>\n",
    "         <td>39.0</td>\n",
    "         <td>39.00000</td>\n",
    "      </tr>\n",
    "      <tr>\n",
    "         <th>15</th>\n",
    "         <td>3</td>\n",
    "         <td>14.0</td>\n",
    "         <td>14.00000</td>\n",
    "      </tr>\n",
    "      <tr>\n",
    "         <th>16</th>\n",
    "         <td>2</td>\n",
    "         <td>55.0</td>\n",
    "         <td>55.00000</td>\n",
    "      </tr>\n",
    "      <tr>\n",
    "         <th>17</th>\n",
    "         <td>3</td>\n",
    "         <td>2.0</td>\n",
    "         <td>2.00000</td>\n",
    "      </tr>\n",
    "      <tr>\n",
    "         <th>18</th>\n",
    "         <td>2</td>\n",
    "         <td>NaN</td>\n",
    "         <td>29.87763</td>\n",
    "      </tr>\n",
    "      <tr>\n",
    "         <th>19</th>\n",
    "         <td>3</td>\n",
    "         <td>31.0</td>\n",
    "         <td>31.00000</td>\n",
    "      </tr>\n",
    "      <tr>\n",
    "         <th>20</th>\n",
    "         <td>3</td>\n",
    "         <td>NaN</td>\n",
    "         <td>25.14062</td>\n",
    "      </tr>\n",
    "   </tbody>\n",
    "</table>"
   ],
   "metadata": {
    "collapsed": false
   }
  },
  {
   "cell_type": "code",
   "execution_count": 32,
   "outputs": [
    {
     "data": {
      "text/plain": "Pclass\n1    38.233441\n2    29.877630\n3    25.140620\nName: Age, dtype: float64"
     },
     "execution_count": 32,
     "metadata": {},
     "output_type": "execute_result"
    }
   ],
   "source": [
    "train.groupby('Pclass')['Age'].mean()"
   ],
   "metadata": {
    "collapsed": false,
    "pycharm": {
     "name": "#%%\n"
    }
   }
  },
  {
   "cell_type": "code",
   "execution_count": 33,
   "outputs": [
    {
     "data": {
      "text/plain": "              Age AgeType\nPassengerId              \n1            22.0  Medium\n2            38.0     Old\n3            26.0  Medium\n4            35.0     Old\n5            35.0     Old\n...           ...     ...\n887          27.0  Medium\n888          19.0  Medium\n889           NaN     NaN\n890          26.0  Medium\n891          32.0     Old\n\n[891 rows x 2 columns]",
      "text/html": "<div>\n<style scoped>\n    .dataframe tbody tr th:only-of-type {\n        vertical-align: middle;\n    }\n\n    .dataframe tbody tr th {\n        vertical-align: top;\n    }\n\n    .dataframe thead th {\n        text-align: right;\n    }\n</style>\n<table border=\"1\" class=\"dataframe\">\n  <thead>\n    <tr style=\"text-align: right;\">\n      <th></th>\n      <th>Age</th>\n      <th>AgeType</th>\n    </tr>\n    <tr>\n      <th>PassengerId</th>\n      <th></th>\n      <th></th>\n    </tr>\n  </thead>\n  <tbody>\n    <tr>\n      <th>1</th>\n      <td>22.0</td>\n      <td>Medium</td>\n    </tr>\n    <tr>\n      <th>2</th>\n      <td>38.0</td>\n      <td>Old</td>\n    </tr>\n    <tr>\n      <th>3</th>\n      <td>26.0</td>\n      <td>Medium</td>\n    </tr>\n    <tr>\n      <th>4</th>\n      <td>35.0</td>\n      <td>Old</td>\n    </tr>\n    <tr>\n      <th>5</th>\n      <td>35.0</td>\n      <td>Old</td>\n    </tr>\n    <tr>\n      <th>...</th>\n      <td>...</td>\n      <td>...</td>\n    </tr>\n    <tr>\n      <th>887</th>\n      <td>27.0</td>\n      <td>Medium</td>\n    </tr>\n    <tr>\n      <th>888</th>\n      <td>19.0</td>\n      <td>Medium</td>\n    </tr>\n    <tr>\n      <th>889</th>\n      <td>NaN</td>\n      <td>NaN</td>\n    </tr>\n    <tr>\n      <th>890</th>\n      <td>26.0</td>\n      <td>Medium</td>\n    </tr>\n    <tr>\n      <th>891</th>\n      <td>32.0</td>\n      <td>Old</td>\n    </tr>\n  </tbody>\n</table>\n<p>891 rows × 2 columns</p>\n</div>"
     },
     "execution_count": 33,
     "metadata": {},
     "output_type": "execute_result"
    }
   ],
   "source": [
    "\n",
    "train.loc[train['Age']<15,'AgeType']=\"Young\"\n",
    "train.loc[(train['Age']>=15)&(train['Age']<30),'AgeType']=\"Medium\"\n",
    "train.loc[(train['Age']>=30),'AgeType']=\"Old\"\n",
    "train[['Age', 'AgeType']]"
   ],
   "metadata": {
    "collapsed": false,
    "pycharm": {
     "name": "#%%\n"
    }
   }
  },
  {
   "cell_type": "code",
   "execution_count": 34,
   "outputs": [
    {
     "data": {
      "text/plain": "PassengerId\n1      22.0\n2      38.0\n3      26.0\n4      35.0\n5      35.0\n       ... \n887    27.0\n888    19.0\n889     NaN\n890    26.0\n891    32.0\nName: Age, Length: 891, dtype: float64"
     },
     "execution_count": 34,
     "metadata": {},
     "output_type": "execute_result"
    }
   ],
   "source": [
    "train['AgeType']\n",
    "train['Age']"
   ],
   "metadata": {
    "collapsed": false,
    "pycharm": {
     "name": "#%%\n"
    }
   }
  },
  {
   "cell_type": "code",
   "execution_count": 35,
   "outputs": [
    {
     "data": {
      "text/plain": "             Survived  Pclass  \\\nPassengerId                     \n1                   0       3   \n2                   1       1   \n3                   1       3   \n4                   1       1   \n5                   0       3   \n\n                                                          Name     Sex   Age  \\\nPassengerId                                                                    \n1                                      Braund, Mr. Owen Harris    male  22.0   \n2            Cumings, Mrs. John Bradley (Florence Briggs Th...  female  38.0   \n3                                       Heikkinen, Miss. Laina  female  26.0   \n4                 Futrelle, Mrs. Jacques Heath (Lily May Peel)  female  35.0   \n5                                     Allen, Mr. William Henry    male  35.0   \n\n             SibSp  Parch            Ticket     Fare Cabin Embarked  \\\nPassengerId                                                           \n1                1      0         A/5 21171   7.2500   NaN        S   \n2                1      0          PC 17599  71.2833   C85        C   \n3                0      0  STON/O2. 3101282   7.9250   NaN        S   \n4                1      0            113803  53.1000  C123        S   \n5                0      0            373450   8.0500   NaN        S   \n\n            Survived(humanized) Pclass(humanized) Embarked(humanized) AgeType  \\\nPassengerId                                                                     \n1                        Perish           Economy         Southampton  Medium   \n2                      Survived       First Class           Cherbourg     Old   \n3                      Survived           Economy         Southampton  Medium   \n4                      Survived       First Class         Southampton     Old   \n5                        Perish           Economy         Southampton     Old   \n\n              AgeBlank  \nPassengerId             \n1            Not Blank  \n2            Not Blank  \n3            Not Blank  \n4            Not Blank  \n5            Not Blank  ",
      "text/html": "<div>\n<style scoped>\n    .dataframe tbody tr th:only-of-type {\n        vertical-align: middle;\n    }\n\n    .dataframe tbody tr th {\n        vertical-align: top;\n    }\n\n    .dataframe thead th {\n        text-align: right;\n    }\n</style>\n<table border=\"1\" class=\"dataframe\">\n  <thead>\n    <tr style=\"text-align: right;\">\n      <th></th>\n      <th>Survived</th>\n      <th>Pclass</th>\n      <th>Name</th>\n      <th>Sex</th>\n      <th>Age</th>\n      <th>SibSp</th>\n      <th>Parch</th>\n      <th>Ticket</th>\n      <th>Fare</th>\n      <th>Cabin</th>\n      <th>Embarked</th>\n      <th>Survived(humanized)</th>\n      <th>Pclass(humanized)</th>\n      <th>Embarked(humanized)</th>\n      <th>AgeType</th>\n      <th>AgeBlank</th>\n    </tr>\n    <tr>\n      <th>PassengerId</th>\n      <th></th>\n      <th></th>\n      <th></th>\n      <th></th>\n      <th></th>\n      <th></th>\n      <th></th>\n      <th></th>\n      <th></th>\n      <th></th>\n      <th></th>\n      <th></th>\n      <th></th>\n      <th></th>\n      <th></th>\n      <th></th>\n    </tr>\n  </thead>\n  <tbody>\n    <tr>\n      <th>1</th>\n      <td>0</td>\n      <td>3</td>\n      <td>Braund, Mr. Owen Harris</td>\n      <td>male</td>\n      <td>22.0</td>\n      <td>1</td>\n      <td>0</td>\n      <td>A/5 21171</td>\n      <td>7.2500</td>\n      <td>NaN</td>\n      <td>S</td>\n      <td>Perish</td>\n      <td>Economy</td>\n      <td>Southampton</td>\n      <td>Medium</td>\n      <td>Not Blank</td>\n    </tr>\n    <tr>\n      <th>2</th>\n      <td>1</td>\n      <td>1</td>\n      <td>Cumings, Mrs. John Bradley (Florence Briggs Th...</td>\n      <td>female</td>\n      <td>38.0</td>\n      <td>1</td>\n      <td>0</td>\n      <td>PC 17599</td>\n      <td>71.2833</td>\n      <td>C85</td>\n      <td>C</td>\n      <td>Survived</td>\n      <td>First Class</td>\n      <td>Cherbourg</td>\n      <td>Old</td>\n      <td>Not Blank</td>\n    </tr>\n    <tr>\n      <th>3</th>\n      <td>1</td>\n      <td>3</td>\n      <td>Heikkinen, Miss. Laina</td>\n      <td>female</td>\n      <td>26.0</td>\n      <td>0</td>\n      <td>0</td>\n      <td>STON/O2. 3101282</td>\n      <td>7.9250</td>\n      <td>NaN</td>\n      <td>S</td>\n      <td>Survived</td>\n      <td>Economy</td>\n      <td>Southampton</td>\n      <td>Medium</td>\n      <td>Not Blank</td>\n    </tr>\n    <tr>\n      <th>4</th>\n      <td>1</td>\n      <td>1</td>\n      <td>Futrelle, Mrs. Jacques Heath (Lily May Peel)</td>\n      <td>female</td>\n      <td>35.0</td>\n      <td>1</td>\n      <td>0</td>\n      <td>113803</td>\n      <td>53.1000</td>\n      <td>C123</td>\n      <td>S</td>\n      <td>Survived</td>\n      <td>First Class</td>\n      <td>Southampton</td>\n      <td>Old</td>\n      <td>Not Blank</td>\n    </tr>\n    <tr>\n      <th>5</th>\n      <td>0</td>\n      <td>3</td>\n      <td>Allen, Mr. William Henry</td>\n      <td>male</td>\n      <td>35.0</td>\n      <td>0</td>\n      <td>0</td>\n      <td>373450</td>\n      <td>8.0500</td>\n      <td>NaN</td>\n      <td>S</td>\n      <td>Perish</td>\n      <td>Economy</td>\n      <td>Southampton</td>\n      <td>Old</td>\n      <td>Not Blank</td>\n    </tr>\n  </tbody>\n</table>\n</div>"
     },
     "execution_count": 35,
     "metadata": {},
     "output_type": "execute_result"
    }
   ],
   "source": [
    "train.head()"
   ],
   "metadata": {
    "collapsed": false,
    "pycharm": {
     "name": "#%%\n"
    }
   }
  },
  {
   "cell_type": "code",
   "execution_count": 36,
   "outputs": [
    {
     "data": {
      "text/plain": "<matplotlib.axes._subplots.AxesSubplot at 0x12e284a60>"
     },
     "execution_count": 36,
     "metadata": {},
     "output_type": "execute_result"
    },
    {
     "data": {
      "text/plain": "<Figure size 432x288 with 1 Axes>",
      "image/png": "[encoded data removed]"
     },
     "metadata": {
      "needs_background": "light"
     },
     "output_type": "display_data"
    }
   ],
   "source": [
    "sns.countplot(data = train, x = \"AgeType\", hue = \"Survived(humanized)\")"
   ],
   "metadata": {
    "collapsed": false,
    "pycharm": {
     "name": "#%%\n"
    }
   }
  },
  {
   "cell_type": "code",
   "execution_count": 37,
   "outputs": [
    {
     "data": {
      "text/plain": "<matplotlib.axes._subplots.AxesSubplot at 0x12e36f160>"
     },
     "execution_count": 37,
     "metadata": {},
     "output_type": "execute_result"
    },
    {
     "data": {
      "text/plain": "<Figure size 432x288 with 1 Axes>",
      "image/png": "[encoded data removed]"
     },
     "metadata": {
      "needs_background": "light"
     },
     "output_type": "display_data"
    }
   ],
   "source": [
    "sns.barplot(data = train, x = \"AgeType\", y = \"Age\")"
   ],
   "metadata": {
    "collapsed": false,
    "pycharm": {
     "name": "#%%\n"
    }
   }
  },
  {
   "cell_type": "markdown",
   "source": [
    "**8. 나이가 비어있는 승객과 비어있지 않은 승객의 생존률 차이를 보여주세요.**\n",
    "\n",
    "이번에는 다른 방식으로 생존률의 차이를 보겠습니다. 타이타닉 데이터의 나이(Age) 컬럼을 자세히 보면 나이가 비어있는 데이터가 있습니다. 판다스에서는 이를 NaN(Not a Number의 약자)으로 표현합니다.\n",
    "\n",
    "타이타닉 데이터에서 나이 컬럼이 비어있는 승객과 비어있지 않은 승객의 생존률을 각각 찾아서 출력해주세요. 또한 이를 시각화로 비교해주세요. 최종적으로 다음의 결과가 나와야합니다."
   ],
   "metadata": {
    "collapsed": false
   }
  },
  {
   "cell_type": "markdown",
   "source": [
    "![quiz-8](https://drive.google.com/uc?export=view&id=18d5DhEuPU4N99avIwrl2FpPGdyQUI7Ty)"
   ],
   "metadata": {
    "collapsed": false
   }
  },
  {
   "cell_type": "code",
   "execution_count": 38,
   "outputs": [
    {
     "data": {
      "text/plain": "             Survived  Pclass  \\\nPassengerId                     \n1                   0       3   \n2                   1       1   \n3                   1       3   \n4                   1       1   \n5                   0       3   \n...               ...     ...   \n887                 0       2   \n888                 1       1   \n889                 0       3   \n890                 1       1   \n891                 0       3   \n\n                                                          Name     Sex   Age  \\\nPassengerId                                                                    \n1                                      Braund, Mr. Owen Harris    male  22.0   \n2            Cumings, Mrs. John Bradley (Florence Briggs Th...  female  38.0   \n3                                       Heikkinen, Miss. Laina  female  26.0   \n4                 Futrelle, Mrs. Jacques Heath (Lily May Peel)  female  35.0   \n5                                     Allen, Mr. William Henry    male  35.0   \n...                                                        ...     ...   ...   \n887                                      Montvila, Rev. Juozas    male  27.0   \n888                               Graham, Miss. Margaret Edith  female  19.0   \n889                   Johnston, Miss. Catherine Helen \"Carrie\"  female   NaN   \n890                                      Behr, Mr. Karl Howell    male  26.0   \n891                                        Dooley, Mr. Patrick    male  32.0   \n\n             SibSp  Parch            Ticket     Fare Cabin Embarked  \\\nPassengerId                                                           \n1                1      0         A/5 21171   7.2500   NaN        S   \n2                1      0          PC 17599  71.2833   C85        C   \n3                0      0  STON/O2. 3101282   7.9250   NaN        S   \n4                1      0            113803  53.1000  C123        S   \n5                0      0            373450   8.0500   NaN        S   \n...            ...    ...               ...      ...   ...      ...   \n887              0      0            211536  13.0000   NaN        S   \n888              0      0            112053  30.0000   B42        S   \n889              1      2        W./C. 6607  23.4500   NaN        S   \n890              0      0            111369  30.0000  C148        C   \n891              0      0            370376   7.7500   NaN        Q   \n\n            Survived(humanized) Pclass(humanized) Embarked(humanized) AgeType  \\\nPassengerId                                                                     \n1                        Perish           Economy         Southampton  Medium   \n2                      Survived       First Class           Cherbourg     Old   \n3                      Survived           Economy         Southampton  Medium   \n4                      Survived       First Class         Southampton     Old   \n5                        Perish           Economy         Southampton     Old   \n...                         ...               ...                 ...     ...   \n887                      Perish          Business         Southampton  Medium   \n888                    Survived       First Class         Southampton  Medium   \n889                      Perish           Economy         Southampton     NaN   \n890                    Survived       First Class           Cherbourg  Medium   \n891                      Perish           Economy          Queenstown     Old   \n\n              AgeBlank  \nPassengerId             \n1            Not Blank  \n2            Not Blank  \n3            Not Blank  \n4            Not Blank  \n5            Not Blank  \n...                ...  \n887          Not Blank  \n888          Not Blank  \n889              Blank  \n890          Not Blank  \n891          Not Blank  \n\n[891 rows x 16 columns]",
      "text/html": "<div>\n<style scoped>\n    .dataframe tbody tr th:only-of-type {\n        vertical-align: middle;\n    }\n\n    .dataframe tbody tr th {\n        vertical-align: top;\n    }\n\n    .dataframe thead th {\n        text-align: right;\n    }\n</style>\n<table border=\"1\" class=\"dataframe\">\n  <thead>\n    <tr style=\"text-align: right;\">\n      <th></th>\n      <th>Survived</th>\n      <th>Pclass</th>\n      <th>Name</th>\n      <th>Sex</th>\n      <th>Age</th>\n      <th>SibSp</th>\n      <th>Parch</th>\n      <th>Ticket</th>\n      <th>Fare</th>\n      <th>Cabin</th>\n      <th>Embarked</th>\n      <th>Survived(humanized)</th>\n      <th>Pclass(humanized)</th>\n      <th>Embarked(humanized)</th>\n      <th>AgeType</th>\n      <th>AgeBlank</th>\n    </tr>\n    <tr>\n      <th>PassengerId</th>\n      <th></th>\n      <th></th>\n      <th></th>\n      <th></th>\n      <th></th>\n      <th></th>\n      <th></th>\n      <th></th>\n      <th></th>\n      <th></th>\n      <th></th>\n      <th></th>\n      <th></th>\n      <th></th>\n      <th></th>\n      <th></th>\n    </tr>\n  </thead>\n  <tbody>\n    <tr>\n      <th>1</th>\n      <td>0</td>\n      <td>3</td>\n      <td>Braund, Mr. Owen Harris</td>\n      <td>male</td>\n      <td>22.0</td>\n      <td>1</td>\n      <td>0</td>\n      <td>A/5 21171</td>\n      <td>7.2500</td>\n      <td>NaN</td>\n      <td>S</td>\n      <td>Perish</td>\n      <td>Economy</td>\n      <td>Southampton</td>\n      <td>Medium</td>\n      <td>Not Blank</td>\n    </tr>\n    <tr>\n      <th>2</th>\n      <td>1</td>\n      <td>1</td>\n      <td>Cumings, Mrs. John Bradley (Florence Briggs Th...</td>\n      <td>female</td>\n      <td>38.0</td>\n      <td>1</td>\n      <td>0</td>\n      <td>PC 17599</td>\n      <td>71.2833</td>\n      <td>C85</td>\n      <td>C</td>\n      <td>Survived</td>\n      <td>First Class</td>\n      <td>Cherbourg</td>\n      <td>Old</td>\n      <td>Not Blank</td>\n    </tr>\n    <tr>\n      <th>3</th>\n      <td>1</td>\n      <td>3</td>\n      <td>Heikkinen, Miss. Laina</td>\n      <td>female</td>\n      <td>26.0</td>\n      <td>0</td>\n      <td>0</td>\n      <td>STON/O2. 3101282</td>\n      <td>7.9250</td>\n      <td>NaN</td>\n      <td>S</td>\n      <td>Survived</td>\n      <td>Economy</td>\n      <td>Southampton</td>\n      <td>Medium</td>\n      <td>Not Blank</td>\n    </tr>\n    <tr>\n      <th>4</th>\n      <td>1</td>\n      <td>1</td>\n      <td>Futrelle, Mrs. Jacques Heath (Lily May Peel)</td>\n      <td>female</td>\n      <td>35.0</td>\n      <td>1</td>\n      <td>0</td>\n      <td>113803</td>\n      <td>53.1000</td>\n      <td>C123</td>\n      <td>S</td>\n      <td>Survived</td>\n      <td>First Class</td>\n      <td>Southampton</td>\n      <td>Old</td>\n      <td>Not Blank</td>\n    </tr>\n    <tr>\n      <th>5</th>\n      <td>0</td>\n      <td>3</td>\n      <td>Allen, Mr. William Henry</td>\n      <td>male</td>\n      <td>35.0</td>\n      <td>0</td>\n      <td>0</td>\n      <td>373450</td>\n      <td>8.0500</td>\n      <td>NaN</td>\n      <td>S</td>\n      <td>Perish</td>\n      <td>Economy</td>\n      <td>Southampton</td>\n      <td>Old</td>\n      <td>Not Blank</td>\n    </tr>\n    <tr>\n      <th>...</th>\n      <td>...</td>\n      <td>...</td>\n      <td>...</td>\n      <td>...</td>\n      <td>...</td>\n      <td>...</td>\n      <td>...</td>\n      <td>...</td>\n      <td>...</td>\n      <td>...</td>\n      <td>...</td>\n      <td>...</td>\n      <td>...</td>\n      <td>...</td>\n      <td>...</td>\n      <td>...</td>\n    </tr>\n    <tr>\n      <th>887</th>\n      <td>0</td>\n      <td>2</td>\n      <td>Montvila, Rev. Juozas</td>\n      <td>male</td>\n      <td>27.0</td>\n      <td>0</td>\n      <td>0</td>\n      <td>211536</td>\n      <td>13.0000</td>\n      <td>NaN</td>\n      <td>S</td>\n      <td>Perish</td>\n      <td>Business</td>\n      <td>Southampton</td>\n      <td>Medium</td>\n      <td>Not Blank</td>\n    </tr>\n    <tr>\n      <th>888</th>\n      <td>1</td>\n      <td>1</td>\n      <td>Graham, Miss. Margaret Edith</td>\n      <td>female</td>\n      <td>19.0</td>\n      <td>0</td>\n      <td>0</td>\n      <td>112053</td>\n      <td>30.0000</td>\n      <td>B42</td>\n      <td>S</td>\n      <td>Survived</td>\n      <td>First Class</td>\n      <td>Southampton</td>\n      <td>Medium</td>\n      <td>Not Blank</td>\n    </tr>\n    <tr>\n      <th>889</th>\n      <td>0</td>\n      <td>3</td>\n      <td>Johnston, Miss. Catherine Helen \"Carrie\"</td>\n      <td>female</td>\n      <td>NaN</td>\n      <td>1</td>\n      <td>2</td>\n      <td>W./C. 6607</td>\n      <td>23.4500</td>\n      <td>NaN</td>\n      <td>S</td>\n      <td>Perish</td>\n      <td>Economy</td>\n      <td>Southampton</td>\n      <td>NaN</td>\n      <td>Blank</td>\n    </tr>\n    <tr>\n      <th>890</th>\n      <td>1</td>\n      <td>1</td>\n      <td>Behr, Mr. Karl Howell</td>\n      <td>male</td>\n      <td>26.0</td>\n      <td>0</td>\n      <td>0</td>\n      <td>111369</td>\n      <td>30.0000</td>\n      <td>C148</td>\n      <td>C</td>\n      <td>Survived</td>\n      <td>First Class</td>\n      <td>Cherbourg</td>\n      <td>Medium</td>\n      <td>Not Blank</td>\n    </tr>\n    <tr>\n      <th>891</th>\n      <td>0</td>\n      <td>3</td>\n      <td>Dooley, Mr. Patrick</td>\n      <td>male</td>\n      <td>32.0</td>\n      <td>0</td>\n      <td>0</td>\n      <td>370376</td>\n      <td>7.7500</td>\n      <td>NaN</td>\n      <td>Q</td>\n      <td>Perish</td>\n      <td>Economy</td>\n      <td>Queenstown</td>\n      <td>Old</td>\n      <td>Not Blank</td>\n    </tr>\n  </tbody>\n</table>\n<p>891 rows × 16 columns</p>\n</div>"
     },
     "execution_count": 38,
     "metadata": {},
     "output_type": "execute_result"
    }
   ],
   "source": [
    "train"
   ],
   "metadata": {
    "collapsed": false,
    "pycharm": {
     "name": "#%%\n"
    }
   }
  },
  {
   "cell_type": "code",
   "execution_count": 39,
   "outputs": [
    {
     "data": {
      "text/plain": "891"
     },
     "execution_count": 39,
     "metadata": {},
     "output_type": "execute_result"
    }
   ],
   "source": [
    "train['Age'].isnull().count()"
   ],
   "metadata": {
    "collapsed": false,
    "pycharm": {
     "name": "#%%\n"
    }
   }
  },
  {
   "cell_type": "markdown",
   "source": [
    "**9. Pclass별 나이(Age)의 평균을 구한 뒤 빈 값에 채워주세요.**\n",
    "\n",
    "이번에는 나이(Age) 컬럼의 빈 값을 채우고 싶습니다. 일반적으로 가장 많이 하는 방식은 나이의 평균(mean)값을 구한 뒤 이를 빈 값에 채워넣는 것입니다. 하지만 이번에는 다른 방식으로 빈 값을 채우고 싶은데, 바로 객실 등급(Pclass)에 따라 다르게 나이의 빈 값을 채워주고 싶습니다. 가령\n",
    "\n",
    "  1. 객실 등급(Pclass)이 1등급인 승객의 평균 나이를 구해서, 해당 승객 중 나이(Age)컬럼값이 비어있는 승객을 찾아 빈 나이 값을 채워줍니다.\n",
    "  2. 객실 등급(Pclass)이 2등급인 승객의 평균 나이를 구해서, 해당 승객 중 나이(Age)컬럼값이 비어있는 승객을 찾아 빈 나이 값을 채워줍니다.\n",
    "  3. 객실 등급(Pclass)이 3등급인 승객의 평균 나이를 구해서, 해당 승객 중 나이(Age)컬럼값이 비어있는 승객을 찾아 빈 나이 값을 채워줍니다.\n",
    "  \n",
    "위와 같은 방식을 사용하면, 단순히 전체 평균을 사용하는 것 보다 조금 더 원래 값에 근접하게 평균을 채워줄 수 있을 것 같습니다. 최종적으로는 다음의 결과가 나와야 합니다."
   ],
   "metadata": {
    "collapsed": false
   }
  },
  {
   "cell_type": "markdown",
   "source": [
    "<table border=\"1\" class=\"dataframe\" style=\"float: left;\">\n",
    "   <thead>\n",
    "      <tr style=\"text-align: right;\">\n",
    "         <th></th>\n",
    "         <th>Pclass</th>\n",
    "         <th>Age</th>\n",
    "         <th>Age(fill)</th>\n",
    "      </tr>\n",
    "      <tr>\n",
    "         <th>PassengerId</th>\n",
    "         <th></th>\n",
    "         <th></th>\n",
    "         <th></th>\n",
    "      </tr>\n",
    "   </thead>\n",
    "   <tbody>\n",
    "      <tr>\n",
    "         <th>1</th>\n",
    "         <td>3</td>\n",
    "         <td>22.0</td>\n",
    "         <td>22.00000</td>\n",
    "      </tr>\n",
    "      <tr>\n",
    "         <th>2</th>\n",
    "         <td>1</td>\n",
    "         <td>38.0</td>\n",
    "         <td>38.00000</td>\n",
    "      </tr>\n",
    "      <tr>\n",
    "         <th>3</th>\n",
    "         <td>3</td>\n",
    "         <td>26.0</td>\n",
    "         <td>26.00000</td>\n",
    "      </tr>\n",
    "      <tr>\n",
    "         <th>4</th>\n",
    "         <td>1</td>\n",
    "         <td>35.0</td>\n",
    "         <td>35.00000</td>\n",
    "      </tr>\n",
    "      <tr>\n",
    "         <th>5</th>\n",
    "         <td>3</td>\n",
    "         <td>35.0</td>\n",
    "         <td>35.00000</td>\n",
    "      </tr>\n",
    "      <tr>\n",
    "         <th>6</th>\n",
    "         <td>3</td>\n",
    "         <td>NaN</td>\n",
    "         <td>25.14062</td>\n",
    "      </tr>\n",
    "      <tr>\n",
    "         <th>7</th>\n",
    "         <td>1</td>\n",
    "         <td>54.0</td>\n",
    "         <td>54.00000</td>\n",
    "      </tr>\n",
    "      <tr>\n",
    "         <th>8</th>\n",
    "         <td>3</td>\n",
    "         <td>2.0</td>\n",
    "         <td>2.00000</td>\n",
    "      </tr>\n",
    "      <tr>\n",
    "         <th>9</th>\n",
    "         <td>3</td>\n",
    "         <td>27.0</td>\n",
    "         <td>27.00000</td>\n",
    "      </tr>\n",
    "      <tr>\n",
    "         <th>10</th>\n",
    "         <td>2</td>\n",
    "         <td>14.0</td>\n",
    "         <td>14.00000</td>\n",
    "      </tr>\n",
    "      <tr>\n",
    "         <th>11</th>\n",
    "         <td>3</td>\n",
    "         <td>4.0</td>\n",
    "         <td>4.00000</td>\n",
    "      </tr>\n",
    "      <tr>\n",
    "         <th>12</th>\n",
    "         <td>1</td>\n",
    "         <td>58.0</td>\n",
    "         <td>58.00000</td>\n",
    "      </tr>\n",
    "      <tr>\n",
    "         <th>13</th>\n",
    "         <td>3</td>\n",
    "         <td>20.0</td>\n",
    "         <td>20.00000</td>\n",
    "      </tr>\n",
    "      <tr>\n",
    "         <th>14</th>\n",
    "         <td>3</td>\n",
    "         <td>39.0</td>\n",
    "         <td>39.00000</td>\n",
    "      </tr>\n",
    "      <tr>\n",
    "         <th>15</th>\n",
    "         <td>3</td>\n",
    "         <td>14.0</td>\n",
    "         <td>14.00000</td>\n",
    "      </tr>\n",
    "      <tr>\n",
    "         <th>16</th>\n",
    "         <td>2</td>\n",
    "         <td>55.0</td>\n",
    "         <td>55.00000</td>\n",
    "      </tr>\n",
    "      <tr>\n",
    "         <th>17</th>\n",
    "         <td>3</td>\n",
    "         <td>2.0</td>\n",
    "         <td>2.00000</td>\n",
    "      </tr>\n",
    "      <tr>\n",
    "         <th>18</th>\n",
    "         <td>2</td>\n",
    "         <td>NaN</td>\n",
    "         <td>29.87763</td>\n",
    "      </tr>\n",
    "      <tr>\n",
    "         <th>19</th>\n",
    "         <td>3</td>\n",
    "         <td>31.0</td>\n",
    "         <td>31.00000</td>\n",
    "      </tr>\n",
    "      <tr>\n",
    "         <th>20</th>\n",
    "         <td>3</td>\n",
    "         <td>NaN</td>\n",
    "         <td>25.14062</td>\n",
    "      </tr>\n",
    "   </tbody>\n",
    "</table>"
   ],
   "metadata": {
    "collapsed": false
   }
  },
  {
   "cell_type": "code",
   "execution_count": 39,
   "outputs": [],
   "source": [],
   "metadata": {
    "collapsed": false,
    "pycharm": {
     "name": "#%%\n"
    }
   }
  },
  {
   "cell_type": "code",
   "execution_count": 40,
   "outputs": [],
   "source": [
    "### SibSp, Parch 컬럼 분석"
   ],
   "metadata": {
    "collapsed": false,
    "pycharm": {
     "name": "#%%\n"
    }
   }
  },
  {
   "cell_type": "markdown",
   "metadata": {
    "colab_type": "text",
    "id": "yWOJ-ZMSNOr_"
   },
   "source": [
    "**9. Pclass별 나이(Age)의 평균을 구한 뒤 빈 값에 채워주세요.**\n",
    "\n",
    "이번에는 나이(Age) 컬럼의 빈 값을 채우고 싶습니다. 일반적으로 가장 많이 하는 방식은 나이의 평균(mean)값을 구한 뒤 이를 빈 값에 채워넣는 것입니다. 하지만 이번에는 다른 방식으로 빈 값을 채우고 싶은데, 바로 객실 등급(Pclass)에 따라 다르게 나이의 빈 값을 채워주고 싶습니다. 가령\n",
    "\n",
    "  1. 객실 등급(Pclass)이 1등급인 승객의 평균 나이를 구해서, 해당 승객 중 나이(Age)컬럼값이 비어있는 승객을 찾아 빈 나이 값을 채워줍니다.\n",
    "  2. 객실 등급(Pclass)이 2등급인 승객의 평균 나이를 구해서, 해당 승객 중 나이(Age)컬럼값이 비어있는 승객을 찾아 빈 나이 값을 채워줍니다.\n",
    "  3. 객실 등급(Pclass)이 3등급인 승객의 평균 나이를 구해서, 해당 승객 중 나이(Age)컬럼값이 비어있는 승객을 찾아 빈 나이 값을 채워줍니다.\n",
    "  \n",
    "위와 같은 방식을 사용하면, 단순히 전체 평균을 사용하는 것 보다 조금 더 원래 값에 근접하게 평균을 채워줄 수 있을 것 같습니다. 최종적으로는 다음의 결과가 나와야 합니다."
   ]
  },
  {
   "cell_type": "markdown",
   "metadata": {
    "colab_type": "text",
    "id": "3ZPbjP7yNOsC"
   },
   "source": [
    "<table border=\"1\" class=\"dataframe\" style=\"float: left;\">\n",
    "   <thead>\n",
    "      <tr style=\"text-align: right;\">\n",
    "         <th></th>\n",
    "         <th>Pclass</th>\n",
    "         <th>Age</th>\n",
    "         <th>Age(fill)</th>\n",
    "      </tr>\n",
    "      <tr>\n",
    "         <th>PassengerId</th>\n",
    "         <th></th>\n",
    "         <th></th>\n",
    "         <th></th>\n",
    "      </tr>\n",
    "   </thead>\n",
    "   <tbody>\n",
    "      <tr>\n",
    "         <th>1</th>\n",
    "         <td>3</td>\n",
    "         <td>22.0</td>\n",
    "         <td>22.00000</td>\n",
    "      </tr>\n",
    "      <tr>\n",
    "         <th>2</th>\n",
    "         <td>1</td>\n",
    "         <td>38.0</td>\n",
    "         <td>38.00000</td>\n",
    "      </tr>\n",
    "      <tr>\n",
    "         <th>3</th>\n",
    "         <td>3</td>\n",
    "         <td>26.0</td>\n",
    "         <td>26.00000</td>\n",
    "      </tr>\n",
    "      <tr>\n",
    "         <th>4</th>\n",
    "         <td>1</td>\n",
    "         <td>35.0</td>\n",
    "         <td>35.00000</td>\n",
    "      </tr>\n",
    "      <tr>\n",
    "         <th>5</th>\n",
    "         <td>3</td>\n",
    "         <td>35.0</td>\n",
    "         <td>35.00000</td>\n",
    "      </tr>\n",
    "      <tr>\n",
    "         <th>6</th>\n",
    "         <td>3</td>\n",
    "         <td>NaN</td>\n",
    "         <td>25.14062</td>\n",
    "      </tr>\n",
    "      <tr>\n",
    "         <th>7</th>\n",
    "         <td>1</td>\n",
    "         <td>54.0</td>\n",
    "         <td>54.00000</td>\n",
    "      </tr>\n",
    "      <tr>\n",
    "         <th>8</th>\n",
    "         <td>3</td>\n",
    "         <td>2.0</td>\n",
    "         <td>2.00000</td>\n",
    "      </tr>\n",
    "      <tr>\n",
    "         <th>9</th>\n",
    "         <td>3</td>\n",
    "         <td>27.0</td>\n",
    "         <td>27.00000</td>\n",
    "      </tr>\n",
    "      <tr>\n",
    "         <th>10</th>\n",
    "         <td>2</td>\n",
    "         <td>14.0</td>\n",
    "         <td>14.00000</td>\n",
    "      </tr>\n",
    "      <tr>\n",
    "         <th>11</th>\n",
    "         <td>3</td>\n",
    "         <td>4.0</td>\n",
    "         <td>4.00000</td>\n",
    "      </tr>\n",
    "      <tr>\n",
    "         <th>12</th>\n",
    "         <td>1</td>\n",
    "         <td>58.0</td>\n",
    "         <td>58.00000</td>\n",
    "      </tr>\n",
    "      <tr>\n",
    "         <th>13</th>\n",
    "         <td>3</td>\n",
    "         <td>20.0</td>\n",
    "         <td>20.00000</td>\n",
    "      </tr>\n",
    "      <tr>\n",
    "         <th>14</th>\n",
    "         <td>3</td>\n",
    "         <td>39.0</td>\n",
    "         <td>39.00000</td>\n",
    "      </tr>\n",
    "      <tr>\n",
    "         <th>15</th>\n",
    "         <td>3</td>\n",
    "         <td>14.0</td>\n",
    "         <td>14.00000</td>\n",
    "      </tr>\n",
    "      <tr>\n",
    "         <th>16</th>\n",
    "         <td>2</td>\n",
    "         <td>55.0</td>\n",
    "         <td>55.00000</td>\n",
    "      </tr>\n",
    "      <tr>\n",
    "         <th>17</th>\n",
    "         <td>3</td>\n",
    "         <td>2.0</td>\n",
    "         <td>2.00000</td>\n",
    "      </tr>\n",
    "      <tr>\n",
    "         <th>18</th>\n",
    "         <td>2</td>\n",
    "         <td>NaN</td>\n",
    "         <td>29.87763</td>\n",
    "      </tr>\n",
    "      <tr>\n",
    "         <th>19</th>\n",
    "         <td>3</td>\n",
    "         <td>31.0</td>\n",
    "         <td>31.00000</td>\n",
    "      </tr>\n",
    "      <tr>\n",
    "         <th>20</th>\n",
    "         <td>3</td>\n",
    "         <td>NaN</td>\n",
    "         <td>25.14062</td>\n",
    "      </tr>\n",
    "   </tbody>\n",
    "</table>"
   ]
  },
  {
   "cell_type": "code",
   "metadata": {
    "colab_type": "text",
    "id": "0pRwxUsjNOsF",
    "pycharm": {
     "name": "#%%\n"
    }
   },
   "source": [
    "train.groupby('Pclass')['Age'].mean()"
   ],
   "execution_count": 41,
   "outputs": [
    {
     "ename": "SyntaxError",
     "evalue": "invalid syntax (<ipython-input-41-704dcc4cba85>, line 1)",
     "output_type": "error",
     "traceback": [
      "\u001B[0;36m  File \u001B[0;32m\"<ipython-input-41-704dcc4cba85>\"\u001B[0;36m, line \u001B[0;32m1\u001B[0m\n\u001B[0;31m    또한 싱글(Single)인 사람과 그렇지 않은 사람간의 생존률의 차이도 알고 싶습니다. 최종적으로는 다음의 결과가 나와야 합니다.\u001B[0m\n\u001B[0m       ^\u001B[0m\n\u001B[0;31mSyntaxError\u001B[0m\u001B[0;31m:\u001B[0m invalid syntax\n"
     ]
    }
   ]
  },
  {
   "cell_type": "code",
   "execution_count": null,
   "metadata": {
    "colab": {},
    "colab_type": "code",
    "id": "iPwxuM-4NOsH"
   },
   "outputs": [],
   "source": [
    "\n",
    "train.loc[train['Age']<15,'AgeType']=\"Young\"\n",
    "train.loc[(train['Age']>=15)&(train['Age']<30),'AgeType']=\"Medium\"\n",
    "train.loc[(train['Age']>=30),'AgeType']=\"Old\"\n",
    "train[['Age', 'AgeType']]"
   ]
  },
  {
   "cell_type": "code",
   "execution_count": null,
   "outputs": [],
   "source": [
    "train['AgeType']\n",
    "train['Age']"
   ],
   "metadata": {
    "collapsed": false,
    "pycharm": {
     "name": "#%%\n"
    }
   }
  },
  {
   "cell_type": "code",
   "execution_count": null,
   "outputs": [],
   "source": [
    "train.head()"
   ],
   "metadata": {
    "collapsed": false,
    "pycharm": {
     "name": "#%%\n"
    }
   }
  },
  {
   "cell_type": "code",
   "execution_count": null,
   "outputs": [],
   "source": [
    "sns.countplot(data = train, x = \"AgeType\", hue = \"Survived(humanized)\")"
   ],
   "metadata": {
    "collapsed": false,
    "pycharm": {
     "name": "#%%\n"
    }
   }
  },
  {
   "cell_type": "code",
   "execution_count": null,
   "outputs": [],
   "source": [
    "sns.barplot(data = train, x = \"AgeType\", y = \"Age\")"
   ],
   "metadata": {
    "collapsed": false,
    "pycharm": {
     "name": "#%%\n"
    }
   }
  },
  {
   "cell_type": "markdown",
   "metadata": {
    "colab_type": "text",
    "id": "EuryZ3MmNOsM"
   },
   "source": [
    "**8. 나이가 비어있는 승객과 비어있지 않은 승객의 생존률 차이를 보여주세요.**\n",
    "\n",
    "이번에는 다른 방식으로 생존률의 차이를 보겠습니다. 타이타닉 데이터의 나이(Age) 컬럼을 자세히 보면 나이가 비어있는 데이터가 있습니다. 판다스에서는 이를 NaN(Not a Number의 약자)으로 표현합니다.\n",
    "\n",
    "타이타닉 데이터에서 나이 컬럼이 비어있는 승객과 비어있지 않은 승객의 생존률을 각각 찾아서 출력해주세요. 또한 이를 시각화로 비교해주세요. 최종적으로 다음의 결과가 나와야합니다."
   ]
  },
  {
   "cell_type": "markdown",
   "metadata": {
    "colab_type": "text",
    "id": "fPNh4o7hNOsN"
   },
   "source": [
    "![quiz-8](https://drive.google.com/uc?export=view&id=18d5DhEuPU4N99avIwrl2FpPGdyQUI7Ty)"
   ]
  },
  {
   "cell_type": "code",
   "execution_count": null,
   "outputs": [],
   "source": [
    "train"
   ],
   "metadata": {
    "collapsed": false,
    "pycharm": {
     "name": "#%%\n"
    }
   }
  },
  {
   "cell_type": "code",
   "metadata": {
    "colab": {},
    "colab_type": "code",
    "id": "oIKT_Va9NOsR",
    "pycharm": {
     "name": "#%%\n"
    }
   },
   "source": [
    "train['Age'].isnull().count()"
   ],
   "execution_count": null,
   "outputs": []
  },
  {
   "cell_type": "markdown",
   "metadata": {
    "colab_type": "text",
    "id": "paTqy8nGNOsV"
   },
   "source": [
    "**9. Pclass별 나이(Age)의 평균을 구한 뒤 빈 값에 채워주세요.**\n",
    "\n",
    "이번에는 나이(Age) 컬럼의 빈 값을 채우고 싶습니다. 일반적으로 가장 많이 하는 방식은 나이의 평균(mean)값을 구한 뒤 이를 빈 값에 채워넣는 것입니다. 하지만 이번에는 다른 방식으로 빈 값을 채우고 싶은데, 바로 객실 등급(Pclass)에 따라 다르게 나이의 빈 값을 채워주고 싶습니다. 가령\n",
    "\n",
    "  1. 객실 등급(Pclass)이 1등급인 승객의 평균 나이를 구해서, 해당 승객 중 나이(Age)컬럼값이 비어있는 승객을 찾아 빈 나이 값을 채워줍니다.\n",
    "  2. 객실 등급(Pclass)이 2등급인 승객의 평균 나이를 구해서, 해당 승객 중 나이(Age)컬럼값이 비어있는 승객을 찾아 빈 나이 값을 채워줍니다.\n",
    "  3. 객실 등급(Pclass)이 3등급인 승객의 평균 나이를 구해서, 해당 승객 중 나이(Age)컬럼값이 비어있는 승객을 찾아 빈 나이 값을 채워줍니다.\n",
    "  \n",
    "위와 같은 방식을 사용하면, 단순히 전체 평균을 사용하는 것 보다 조금 더 원래 값에 근접하게 평균을 채워줄 수 있을 것 같습니다. 최종적으로는 다음의 결과가 나와야 합니다."
   ]
  },
  {
   "cell_type": "markdown",
   "metadata": {
    "colab_type": "text",
    "id": "3RWojcIHNOsW"
   },
   "source": [
    "<table border=\"1\" class=\"dataframe\" style=\"float: left;\">\n",
    "   <thead>\n",
    "      <tr style=\"text-align: right;\">\n",
    "         <th></th>\n",
    "         <th>Pclass</th>\n",
    "         <th>Age</th>\n",
    "         <th>Age(fill)</th>\n",
    "      </tr>\n",
    "      <tr>\n",
    "         <th>PassengerId</th>\n",
    "         <th></th>\n",
    "         <th></th>\n",
    "         <th></th>\n",
    "      </tr>\n",
    "   </thead>\n",
    "   <tbody>\n",
    "      <tr>\n",
    "         <th>1</th>\n",
    "         <td>3</td>\n",
    "         <td>22.0</td>\n",
    "         <td>22.00000</td>\n",
    "      </tr>\n",
    "      <tr>\n",
    "         <th>2</th>\n",
    "         <td>1</td>\n",
    "         <td>38.0</td>\n",
    "         <td>38.00000</td>\n",
    "      </tr>\n",
    "      <tr>\n",
    "         <th>3</th>\n",
    "         <td>3</td>\n",
    "         <td>26.0</td>\n",
    "         <td>26.00000</td>\n",
    "      </tr>\n",
    "      <tr>\n",
    "         <th>4</th>\n",
    "         <td>1</td>\n",
    "         <td>35.0</td>\n",
    "         <td>35.00000</td>\n",
    "      </tr>\n",
    "      <tr>\n",
    "         <th>5</th>\n",
    "         <td>3</td>\n",
    "         <td>35.0</td>\n",
    "         <td>35.00000</td>\n",
    "      </tr>\n",
    "      <tr>\n",
    "         <th>6</th>\n",
    "         <td>3</td>\n",
    "         <td>NaN</td>\n",
    "         <td>25.14062</td>\n",
    "      </tr>\n",
    "      <tr>\n",
    "         <th>7</th>\n",
    "         <td>1</td>\n",
    "         <td>54.0</td>\n",
    "         <td>54.00000</td>\n",
    "      </tr>\n",
    "      <tr>\n",
    "         <th>8</th>\n",
    "         <td>3</td>\n",
    "         <td>2.0</td>\n",
    "         <td>2.00000</td>\n",
    "      </tr>\n",
    "      <tr>\n",
    "         <th>9</th>\n",
    "         <td>3</td>\n",
    "         <td>27.0</td>\n",
    "         <td>27.00000</td>\n",
    "      </tr>\n",
    "      <tr>\n",
    "         <th>10</th>\n",
    "         <td>2</td>\n",
    "         <td>14.0</td>\n",
    "         <td>14.00000</td>\n",
    "      </tr>\n",
    "      <tr>\n",
    "         <th>11</th>\n",
    "         <td>3</td>\n",
    "         <td>4.0</td>\n",
    "         <td>4.00000</td>\n",
    "      </tr>\n",
    "      <tr>\n",
    "         <th>12</th>\n",
    "         <td>1</td>\n",
    "         <td>58.0</td>\n",
    "         <td>58.00000</td>\n",
    "      </tr>\n",
    "      <tr>\n",
    "         <th>13</th>\n",
    "         <td>3</td>\n",
    "         <td>20.0</td>\n",
    "         <td>20.00000</td>\n",
    "      </tr>\n",
    "      <tr>\n",
    "         <th>14</th>\n",
    "         <td>3</td>\n",
    "         <td>39.0</td>\n",
    "         <td>39.00000</td>\n",
    "      </tr>\n",
    "      <tr>\n",
    "         <th>15</th>\n",
    "         <td>3</td>\n",
    "         <td>14.0</td>\n",
    "         <td>14.00000</td>\n",
    "      </tr>\n",
    "      <tr>\n",
    "         <th>16</th>\n",
    "         <td>2</td>\n",
    "         <td>55.0</td>\n",
    "         <td>55.00000</td>\n",
    "      </tr>\n",
    "      <tr>\n",
    "         <th>17</th>\n",
    "         <td>3</td>\n",
    "         <td>2.0</td>\n",
    "         <td>2.00000</td>\n",
    "      </tr>\n",
    "      <tr>\n",
    "         <th>18</th>\n",
    "         <td>2</td>\n",
    "         <td>NaN</td>\n",
    "         <td>29.87763</td>\n",
    "      </tr>\n",
    "      <tr>\n",
    "         <th>19</th>\n",
    "         <td>3</td>\n",
    "         <td>31.0</td>\n",
    "         <td>31.00000</td>\n",
    "      </tr>\n",
    "      <tr>\n",
    "         <th>20</th>\n",
    "         <td>3</td>\n",
    "         <td>NaN</td>\n",
    "         <td>25.14062</td>\n",
    "      </tr>\n",
    "   </tbody>\n",
    "</table>"
   ]
  },
  {
   "cell_type": "code",
   "execution_count": null,
   "metadata": {
    "colab": {},
    "colab_type": "code",
    "id": "4EapJAnENOsX"
   },
   "outputs": [],
   "source": []
  },
  {
   "cell_type": "markdown",
   "metadata": {
    "colab_type": "text",
    "id": "Z2WPubFoNOsd"
   },
   "source": [
    "### SibSp, Parch 컬럼 분석"
   ]
  },
  {
   "cell_type": "markdown",
   "metadata": {
    "colab_type": "text",
    "id": "LHhcw-n4NOsf"
   },
   "source": [
    "**10. 타이타닉호에 동승한 형제, 자매, 배우자(SibSp)도 없고, 부모와 자식(Parch)도 없는 사람을 구해주세요.**\n",
    "\n",
    "해당 사용자를 싱글(Single)이라고 가정하겠습니다. 최종적으로는 다음의 결과가 나와야 합니다."
   ]
  },
  {
   "cell_type": "markdown",
   "metadata": {
    "colab_type": "text",
    "id": "SbRlUFd1NOsg"
   },
   "source": [
    "<table border=\"1\" class=\"dataframe\" style=\"float: left;\">\n",
    "   <thead>\n",
    "      <tr style=\"text-align: right;\">\n",
    "         <th></th>\n",
    "         <th>SibSp</th>\n",
    "         <th>Parch</th>\n",
    "         <th>Single</th>\n",
    "      </tr>\n",
    "      <tr>\n",
    "         <th>PassengerId</th>\n",
    "         <th></th>\n",
    "         <th></th>\n",
    "         <th></th>\n",
    "      </tr>\n",
    "   </thead>\n",
    "   <tbody>\n",
    "      <tr>\n",
    "         <th>1</th>\n",
    "         <td>1</td>\n",
    "         <td>0</td>\n",
    "         <td>False</td>\n",
    "      </tr>\n",
    "      <tr>\n",
    "         <th>2</th>\n",
    "         <td>1</td>\n",
    "         <td>0</td>\n",
    "         <td>False</td>\n",
    "      </tr>\n",
    "      <tr>\n",
    "         <th>3</th>\n",
    "         <td>0</td>\n",
    "         <td>0</td>\n",
    "         <td>True</td>\n",
    "      </tr>\n",
    "      <tr>\n",
    "         <th>4</th>\n",
    "         <td>1</td>\n",
    "         <td>0</td>\n",
    "         <td>False</td>\n",
    "      </tr>\n",
    "      <tr>\n",
    "         <th>5</th>\n",
    "         <td>0</td>\n",
    "         <td>0</td>\n",
    "         <td>True</td>\n",
    "      </tr>\n",
    "   </tbody>\n",
    "</table>"
   ]
  },
  {
   "cell_type": "markdown",
   "metadata": {
    "colab_type": "text",
    "id": "fEVoltlvNOsj"
   },
   "source": [
    "또한 싱글(Single)인 사람과 그렇지 않은 사람간의 생존률의 차이도 알고 싶습니다. 최종적으로는 다음의 결과가 나와야 합니다."
   ]
  },
  {
   "cell_type": "markdown",
   "metadata": {
    "colab_type": "text",
    "id": "c7itC6XhNOsl"
   },
   "source": [
    "<table border=\"1\" class=\"dataframe\" style=\"float: left;\">\n",
    "   <thead>\n",
    "      <tr style=\"text-align: right;\">\n",
    "         <th></th>\n",
    "         <th>Survived</th>\n",
    "      </tr>\n",
    "      <tr>\n",
    "         <th>Single</th>\n",
    "         <th></th>\n",
    "      </tr>\n",
    "   </thead>\n",
    "   <tbody>\n",
    "      <tr>\n",
    "         <th>False</th>\n",
    "         <td>0.505650</td>\n",
    "      </tr>\n",
    "      <tr>\n",
    "         <th>True</th>\n",
    "         <td>0.303538</td>\n",
    "      </tr>\n",
    "   </tbody>\n",
    "</table>"
   ]
  },
  {
   "cell_type": "markdown",
   "metadata": {
    "colab_type": "text",
    "id": "apDzQP4BNOsn"
   },
   "source": [
    "마지막으로 이를 시각화를 통해 비교해주세요. 최종적으로는 다음의 결과가 나와야합니다."
   ]
  },
  {
   "cell_type": "markdown",
   "metadata": {
    "colab_type": "text",
    "id": "foke3pGENOso"
   },
   "source": [
    "![quiz-10](https://drive.google.com/uc?export=view&id=1WakO3v3BHr3aunjcg170AKLjxZ3Xi1eQ)"
   ]
  },
  {
   "cell_type": "code",
   "execution_count": null,
   "metadata": {
    "colab": {},
    "colab_type": "code",
    "id": "WxZS-QCmNOsq"
   },
   "outputs": [],
   "source": [
    "# Write your code here!"
   ]
  },
  {
   "cell_type": "markdown",
   "metadata": {
    "colab_type": "text",
    "id": "28zBvimONOsv"
   },
   "source": [
    "**11. SibSp 컬럼과  Parch 컬럼을 활용하여 가족 수(FamilySize)라는 새로운 컬럼을 만들어주세요.**\n",
    "\n",
    "형제, 자매, 배우자(SibSp) 컬럼과 부모 자식(Parch) 컬럼은 얼핏 달라 보이지만 실은 가족 관계를 나타내는 것이라고 볼 수 있습니다. 그러므로 두 컬럼을 하나로 합쳐서 **가족 수(FamilySize)**라는 새로운 컬럼을 만들면 승객의 가족관계를 더 편리하게 분석할 수 있을 것입니다.\n",
    "\n",
    "형제, 자매, 배우자(SibSp) 컬럼과 부모 자식(Parch) 컬럼을 더해서 가족 수(FamilySize) 컬럼을 만들어주세요. 단 가족 수를 계산할때는 언제나 나 자신을 포함해서 계산하는데, 나 자신은 SibSp 컬럼에도 Parch 컬럼에도 들어가있지 않습니다. 그러므로 가족 수(FamilySize) 컬럼은 언제나 SibSp 컬럼과 Parch 컬럼을 더한 값에서 하나가 더 많아야 합니다.\n",
    "\n",
    "그러므로 최종적으로 다음의 결과가 나와야 합니다."
   ]
  },
  {
   "cell_type": "markdown",
   "metadata": {
    "colab_type": "text",
    "id": "_xty9mQLNOsw"
   },
   "source": [
    "<table border=\"1\" class=\"dataframe\" style=\"float: left;\">\n",
    "   <thead>\n",
    "      <tr style=\"text-align: right;\">\n",
    "         <th></th>\n",
    "         <th>SibSp</th>\n",
    "         <th>Parch</th>\n",
    "         <th>FamilySize</th>\n",
    "      </tr>\n",
    "      <tr>\n",
    "         <th>PassengerId</th>\n",
    "         <th></th>\n",
    "         <th></th>\n",
    "         <th></th>\n",
    "      </tr>\n",
    "   </thead>\n",
    "   <tbody>\n",
    "      <tr>\n",
    "         <th>1</th>\n",
    "         <td>1</td>\n",
    "         <td>0</td>\n",
    "         <td>2</td>\n",
    "      </tr>\n",
    "      <tr>\n",
    "         <th>2</th>\n",
    "         <td>1</td>\n",
    "         <td>0</td>\n",
    "         <td>2</td>\n",
    "      </tr>\n",
    "      <tr>\n",
    "         <th>3</th>\n",
    "         <td>0</td>\n",
    "         <td>0</td>\n",
    "         <td>1</td>\n",
    "      </tr>\n",
    "      <tr>\n",
    "         <th>4</th>\n",
    "         <td>1</td>\n",
    "         <td>0</td>\n",
    "         <td>2</td>\n",
    "      </tr>\n",
    "      <tr>\n",
    "         <th>5</th>\n",
    "         <td>0</td>\n",
    "         <td>0</td>\n",
    "         <td>1</td>\n",
    "      </tr>\n",
    "      <tr>\n",
    "         <th>6</th>\n",
    "         <td>0</td>\n",
    "         <td>0</td>\n",
    "         <td>1</td>\n",
    "      </tr>\n",
    "      <tr>\n",
    "         <th>7</th>\n",
    "         <td>0</td>\n",
    "         <td>0</td>\n",
    "         <td>1</td>\n",
    "      </tr>\n",
    "      <tr>\n",
    "         <th>8</th>\n",
    "         <td>3</td>\n",
    "         <td>1</td>\n",
    "         <td>5</td>\n",
    "      </tr>\n",
    "      <tr>\n",
    "         <th>9</th>\n",
    "         <td>0</td>\n",
    "         <td>2</td>\n",
    "         <td>3</td>\n",
    "      </tr>\n",
    "      <tr>\n",
    "         <th>10</th>\n",
    "         <td>1</td>\n",
    "         <td>0</td>\n",
    "         <td>2</td>\n",
    "      </tr>\n",
    "   </tbody>\n",
    "</table>"
   ]
  },
  {
   "cell_type": "markdown",
   "metadata": {
    "colab_type": "text",
    "id": "Mj5COb2sNOsy"
   },
   "source": [
    "또한 가족 수(FamilySize) 컬럼을 구한 뒤, 가족 수 별 생존률의 차이도 알고 싶습니다. 가족 수(ex: 1명 ~ 11명) 마다의 생존률을 구해서 출력해주세요. 최종적으로 다음의 결과가 나와야 합니다."
   ]
  },
  {
   "cell_type": "markdown",
   "metadata": {
    "colab_type": "text",
    "id": "2RAm_1l6NOs1"
   },
   "source": [
    "<table border=\"1\" class=\"dataframe\" style=\"float: left;\">\n",
    "   <thead>\n",
    "      <tr style=\"text-align: right;\">\n",
    "         <th></th>\n",
    "         <th>Survived</th>\n",
    "      </tr>\n",
    "      <tr>\n",
    "         <th>FamilySize</th>\n",
    "         <th></th>\n",
    "      </tr>\n",
    "   </thead>\n",
    "   <tbody>\n",
    "      <tr>\n",
    "         <th>1</th>\n",
    "         <td>0.303538</td>\n",
    "      </tr>\n",
    "      <tr>\n",
    "         <th>2</th>\n",
    "         <td>0.552795</td>\n",
    "      </tr>\n",
    "      <tr>\n",
    "         <th>3</th>\n",
    "         <td>0.578431</td>\n",
    "      </tr>\n",
    "      <tr>\n",
    "         <th>4</th>\n",
    "         <td>0.724138</td>\n",
    "      </tr>\n",
    "      <tr>\n",
    "         <th>5</th>\n",
    "         <td>0.200000</td>\n",
    "      </tr>\n",
    "      <tr>\n",
    "         <th>6</th>\n",
    "         <td>0.136364</td>\n",
    "      </tr>\n",
    "      <tr>\n",
    "         <th>7</th>\n",
    "         <td>0.333333</td>\n",
    "      </tr>\n",
    "      <tr>\n",
    "         <th>8</th>\n",
    "         <td>0.000000</td>\n",
    "      </tr>\n",
    "      <tr>\n",
    "         <th>11</th>\n",
    "         <td>0.000000</td>\n",
    "      </tr>\n",
    "   </tbody>\n",
    "</table>"
   ]
  },
  {
   "cell_type": "markdown",
   "metadata": {
    "colab_type": "text",
    "id": "F1XBQc5MNOs4"
   },
   "source": [
    "마지막으로 이를 시각화를 통해 보여주세요. 최종적으로는 다음의 결과가 나와야 합니다."
   ]
  },
  {
   "cell_type": "markdown",
   "metadata": {
    "colab_type": "text",
    "id": "1plQvXbnNOs6"
   },
   "source": [
    "\n",
    "\n",
    "![quiz-11](https://drive.google.com/uc?export=view&id=1vjGvKBVWM1SsSlKz6Aji1ENo6MZV5ses)"
   ]
  },
  {
   "cell_type": "code",
   "execution_count": 123,
   "metadata": {
    "colab": {},
    "colab_type": "code",
    "id": "6e5PpW3mNOs8"
   },
   "outputs": [],
   "source": [
    "# Write your code here!"
   ]
  },
  {
   "cell_type": "markdown",
   "metadata": {
    "colab_type": "text",
    "id": "Qwmgy5INNOtB"
   },
   "source": [
    "**12. 가족 수(FamilySize) 컬럼의 구역을 나눠주세요.**\n",
    "\n",
    "가족 수(FamilySize) 컬럼을 기준으로 pivot_table로 분석을 해본 결과, 경우의 수가 너무 많아서(가족 수가 1명일 때 ~ 11명일 때) 분석 결과가 너무 잘게 쪼개지는 것 같습니다.\n",
    "\n",
    "그러므로 가족 수(FamilySize) 컬럼을 세 구역으로 나누고 싶습니다. 구체적으로는 다음과 같습니다.\n",
    "\n",
    "  * **싱글(Single)** - 동승한 가족이 아무도 없고, 나 혼자 탑승한 경우입니다.\n",
    "  * **핵가족(Nuclear)** - 동승한 가족이 나 자신을 포함해 2명 이상 5명 미만인 경우입니다.\n",
    "  * **대가족(Big)** - 동승한 가족이 나 자신을 포함 5명 이상인 경우입니다.\n",
    "  \n",
    "위의 정보를 활용하여, 가족 형태(FamilyType)라는 새로운 컬럼을 만들어 주세요. 이 컬럼에는 앞서 설명한 Single, Nuclear, 그리고 Big이 들어갑니다. 최종적으로는 다음의 결과가 나와야 합니다."
   ]
  },
  {
   "cell_type": "markdown",
   "metadata": {
    "colab_type": "text",
    "id": "RlVrLCIpNOtD"
   },
   "source": [
    "<table border=\"1\" class=\"dataframe\" style=\"float: left;\">\n",
    "   <thead>\n",
    "      <tr style=\"text-align: right;\">\n",
    "         <th></th>\n",
    "         <th>FamilySize</th>\n",
    "         <th>FamilyType</th>\n",
    "      </tr>\n",
    "      <tr>\n",
    "         <th>PassengerId</th>\n",
    "         <th></th>\n",
    "         <th></th>\n",
    "      </tr>\n",
    "   </thead>\n",
    "   <tbody>\n",
    "      <tr>\n",
    "         <th>1</th>\n",
    "         <td>2</td>\n",
    "         <td>Nuclear</td>\n",
    "      </tr>\n",
    "      <tr>\n",
    "         <th>2</th>\n",
    "         <td>2</td>\n",
    "         <td>Nuclear</td>\n",
    "      </tr>\n",
    "      <tr>\n",
    "         <th>3</th>\n",
    "         <td>1</td>\n",
    "         <td>Single</td>\n",
    "      </tr>\n",
    "      <tr>\n",
    "         <th>4</th>\n",
    "         <td>2</td>\n",
    "         <td>Nuclear</td>\n",
    "      </tr>\n",
    "      <tr>\n",
    "         <th>5</th>\n",
    "         <td>1</td>\n",
    "         <td>Single</td>\n",
    "      </tr>\n",
    "      <tr>\n",
    "         <th>6</th>\n",
    "         <td>1</td>\n",
    "         <td>Single</td>\n",
    "      </tr>\n",
    "      <tr>\n",
    "         <th>7</th>\n",
    "         <td>1</td>\n",
    "         <td>Single</td>\n",
    "      </tr>\n",
    "      <tr>\n",
    "         <th>8</th>\n",
    "         <td>5</td>\n",
    "         <td>Big</td>\n",
    "      </tr>\n",
    "      <tr>\n",
    "         <th>9</th>\n",
    "         <td>3</td>\n",
    "         <td>Nuclear</td>\n",
    "      </tr>\n",
    "      <tr>\n",
    "         <th>10</th>\n",
    "         <td>2</td>\n",
    "         <td>Nuclear</td>\n",
    "      </tr>\n",
    "   </tbody>\n",
    "</table>"
   ]
  },
  {
   "cell_type": "markdown",
   "metadata": {
    "colab_type": "text",
    "id": "FEp9j4ZvNOtF"
   },
   "source": [
    "또한 가족 수(FamilySize)와 마찬가지로 가족 형태(FamilyType) 별 생존률의 차이도 구해주세요. 최종적으로 다음의 결과가 나와야 합니다."
   ]
  },
  {
   "cell_type": "markdown",
   "metadata": {
    "colab_type": "text",
    "id": "i1Jq-L7bNOtI"
   },
   "source": [
    "<table border=\"1\" class=\"dataframe\">\n",
    "  <thead>\n",
    "    <tr style=\"text-align: right;\">\n",
    "      <th></th>\n",
    "      <th>Survived</th>\n",
    "    </tr>\n",
    "    <tr>\n",
    "      <th>FamilyType</th>\n",
    "      <th></th>\n",
    "    </tr>\n",
    "  </thead>\n",
    "  <tbody>\n",
    "    <tr>\n",
    "      <th>Big</th>\n",
    "      <td>0.161290</td>\n",
    "    </tr>\n",
    "    <tr>\n",
    "      <th>Nuclear</th>\n",
    "      <td>0.578767</td>\n",
    "    </tr>\n",
    "    <tr>\n",
    "      <th>Single</th>\n",
    "      <td>0.303538</td>\n",
    "    </tr>\n",
    "  </tbody>\n",
    "</table>"
   ]
  },
  {
   "cell_type": "markdown",
   "metadata": {
    "colab_type": "text",
    "id": "V7VukN94NOtL"
   },
   "source": [
    "마지막으로 이를 시각화를 통해 비교해주세요. 최종적으로는 다음의 결과가 나와야합니다."
   ]
  },
  {
   "cell_type": "markdown",
   "metadata": {
    "colab_type": "text",
    "id": "Zm9G9cg9NOtO"
   },
   "source": [
    "![quiz-12](https://drive.google.com/uc?export=view&id=1xYTDLeZ_6d11DNdzW12RrcCtf4ZEa2nt)"
   ]
  },
  {
   "cell_type": "code",
   "execution_count": 124,
   "metadata": {
    "colab": {},
    "colab_type": "code",
    "id": "QQi3Xhg3NOtQ"
   },
   "outputs": [],
   "source": [
    "# Write your code here!"
   ]
  },
  {
   "cell_type": "markdown",
   "metadata": {
    "colab_type": "text",
    "collapsed": true,
    "id": "thYERaINNOtX"
   },
   "source": [
    "## 마무리하며\n",
    "\n",
    "지금까지 프로그래밍 언어 파이썬([Python](https://python.org/))과 파이썬의 데이터 분석 패키지 판다스([Pandas](https://pandas.pydata.org/)), 데이터 시각화 패키지 씨본([Seaborn](https://seaborn.pydata.org))과 [matplotlib](https://matplotlib.org)를 활용한 실전 예제를 살펴보았습니다. 앞서 말씀드린대로, 위 문제를 실전에서 반나절(3~4시간) 안에 해결할 수 있다면 현업에서 데이터 사이언티스트로서 일 할 수 있는 충분한 판다스 스킬을 보유했다고 볼 수 있습니다.\n",
    "\n",
    "반면 1) 앞으로 데이터 분석을 업무에 활용하고자 하는 분들, 또는 2) 앞으로 데이터 사이언티스트로 취업이나 이직, 전직을 노리는 분 중, 위 문제를 반나절 안에 풀지 못한 분들은 판다스를 추가 학습해야 할 필요가 있다고 생각하시면 됩니다. 그런 분들에게는 다음의 자료를 추천합니다.\n",
    "\n",
    "  * [10 minutes to pandas](https://pandas.pydata.org/pandas-docs/stable/10min.html)\n",
    "  * [Pandas Cookbook](http://github.com/jvns/pandas-cookbook)\n",
    "  * [Python for Data Science](http://wavedatalab.github.io/datawithpython/)\n",
    "  * [Modern Pandas](http://tomaugspurger.github.io/modern-1-intro.html)\n",
    "  * [Seaborn Gallery](https://seaborn.pydata.org/examples/index.html)\n",
    "  \n",
    "모든 문제를 풀이하셨다면 **해당 Level 채널**에 풀이한 과제 파일(.ipynb)을 올려주시거나 전담 튜터에게 **DM(Direct Message)**로 풀이한 과제 파일(.ipynb)을 주시면 됩니다. 기타 수업 관련 문의 사항은 슬랙의 전담 튜터에게 Direct Messages로 말씀해주세요! "
   ]
  },
  {
   "cell_type": "code",
   "execution_count": 124,
   "metadata": {
    "colab": {},
    "colab_type": "code",
    "id": "7-L2L36ENOtY"
   },
   "outputs": [],
   "source": []
  }
 ],
 "metadata": {
  "colab": {
   "collapsed_sections": [
    "eO3ntyeDNOrn",
    "Z2WPubFoNOsd"
   ],
   "name": "03-02_explore-titanic(assignment).ipynb",
   "provenance": []
  },
  "kernelspec": {
   "display_name": "Python 3",
   "language": "python",
   "name": "python3"
  },
  "language_info": {
   "codemirror_mode": {
    "name": "ipython",
    "version": 3
   },
   "file_extension": ".py",
   "mimetype": "text/x-python",
   "name": "python",
   "nbconvert_exporter": "python",
   "pygments_lexer": "ipython3",
   "version": "3.7.3"
  }
 },
 "nbformat": 4,
 "nbformat_minor": 1
}