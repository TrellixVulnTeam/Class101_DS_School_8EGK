{
 "cells": [
  {
   "cell_type": "code",
   "execution_count": 22,
   "metadata": {
    "collapsed": true
   },
   "outputs": [],
   "source": [
    "import pandas as pd\n"
   ]
  },
  {
   "cell_type": "code",
   "execution_count": 23,
   "outputs": [],
   "source": [
    "file_url = \"https://bit.ly/ds01-weight-history\"\n",
    "data = pd.read_csv('weight-history.csv')"
   ],
   "metadata": {
    "collapsed": false,
    "pycharm": {
     "name": "#%%\n"
    }
   }
  },
  {
   "cell_type": "code",
   "execution_count": 24,
   "outputs": [
    {
     "data": {
      "text/plain": "RangeIndex(start=0, stop=9, step=1)"
     },
     "execution_count": 24,
     "metadata": {},
     "output_type": "execute_result"
    }
   ],
   "source": [
    "data.index"
   ],
   "metadata": {
    "collapsed": false,
    "pycharm": {
     "name": "#%%\n"
    }
   }
  },
  {
   "cell_type": "code",
   "execution_count": 25,
   "outputs": [
    {
     "data": {
      "text/plain": "Index(['회차', '이름', '측정일', '몸무게', '단위', '담당', '지점'], dtype='object')"
     },
     "execution_count": 25,
     "metadata": {},
     "output_type": "execute_result"
    }
   ],
   "source": [
    "data.columns"
   ],
   "metadata": {
    "collapsed": false,
    "pycharm": {
     "name": "#%%\n"
    }
   }
  },
  {
   "cell_type": "code",
   "execution_count": 26,
   "outputs": [
    {
     "data": {
      "text/plain": "(9, 7)"
     },
     "execution_count": 26,
     "metadata": {},
     "output_type": "execute_result"
    }
   ],
   "source": [
    "data.shape"
   ],
   "metadata": {
    "collapsed": false,
    "pycharm": {
     "name": "#%%\n"
    }
   }
  },
  {
   "cell_type": "code",
   "execution_count": 27,
   "outputs": [
    {
     "data": {
      "text/plain": "   회차   이름         측정일   몸무게  단위   담당   지점\n0   1  강성희  2019-01-01  76.4  kg  김지수   강남\n1   2  강성희  2019-01-02  75.7  kg  김지수   강남\n2   3  강성희  2019-01-03  76.0  kg  김지수   강남\n3   4  강성희  2019-01-04   NaN  kg  최재우  여의도\n4   5  강성희  2019-01-05  76.2  kg  김지수  강남구\n5   6  강성희  2019-01-06  75.7  kg  최재우  여의도\n6   7  강성희  2019-01-07   NaN  kg  최재우  여의도\n7   8  강성희  2019-01-08   NaN  kg  김민철  여의도\n8   9  강성희  2019-01-09  75.0  kg  김민철  여의도",
      "text/html": "<div>\n<style scoped>\n    .dataframe tbody tr th:only-of-type {\n        vertical-align: middle;\n    }\n\n    .dataframe tbody tr th {\n        vertical-align: top;\n    }\n\n    .dataframe thead th {\n        text-align: right;\n    }\n</style>\n<table border=\"1\" class=\"dataframe\">\n  <thead>\n    <tr style=\"text-align: right;\">\n      <th></th>\n      <th>회차</th>\n      <th>이름</th>\n      <th>측정일</th>\n      <th>몸무게</th>\n      <th>단위</th>\n      <th>담당</th>\n      <th>지점</th>\n    </tr>\n  </thead>\n  <tbody>\n    <tr>\n      <th>0</th>\n      <td>1</td>\n      <td>강성희</td>\n      <td>2019-01-01</td>\n      <td>76.4</td>\n      <td>kg</td>\n      <td>김지수</td>\n      <td>강남</td>\n    </tr>\n    <tr>\n      <th>1</th>\n      <td>2</td>\n      <td>강성희</td>\n      <td>2019-01-02</td>\n      <td>75.7</td>\n      <td>kg</td>\n      <td>김지수</td>\n      <td>강남</td>\n    </tr>\n    <tr>\n      <th>2</th>\n      <td>3</td>\n      <td>강성희</td>\n      <td>2019-01-03</td>\n      <td>76.0</td>\n      <td>kg</td>\n      <td>김지수</td>\n      <td>강남</td>\n    </tr>\n    <tr>\n      <th>3</th>\n      <td>4</td>\n      <td>강성희</td>\n      <td>2019-01-04</td>\n      <td>NaN</td>\n      <td>kg</td>\n      <td>최재우</td>\n      <td>여의도</td>\n    </tr>\n    <tr>\n      <th>4</th>\n      <td>5</td>\n      <td>강성희</td>\n      <td>2019-01-05</td>\n      <td>76.2</td>\n      <td>kg</td>\n      <td>김지수</td>\n      <td>강남구</td>\n    </tr>\n    <tr>\n      <th>5</th>\n      <td>6</td>\n      <td>강성희</td>\n      <td>2019-01-06</td>\n      <td>75.7</td>\n      <td>kg</td>\n      <td>최재우</td>\n      <td>여의도</td>\n    </tr>\n    <tr>\n      <th>6</th>\n      <td>7</td>\n      <td>강성희</td>\n      <td>2019-01-07</td>\n      <td>NaN</td>\n      <td>kg</td>\n      <td>최재우</td>\n      <td>여의도</td>\n    </tr>\n    <tr>\n      <th>7</th>\n      <td>8</td>\n      <td>강성희</td>\n      <td>2019-01-08</td>\n      <td>NaN</td>\n      <td>kg</td>\n      <td>김민철</td>\n      <td>여의도</td>\n    </tr>\n    <tr>\n      <th>8</th>\n      <td>9</td>\n      <td>강성희</td>\n      <td>2019-01-09</td>\n      <td>75.0</td>\n      <td>kg</td>\n      <td>김민철</td>\n      <td>여의도</td>\n    </tr>\n  </tbody>\n</table>\n</div>"
     },
     "execution_count": 27,
     "metadata": {},
     "output_type": "execute_result"
    }
   ],
   "source": [
    "data\n"
   ],
   "metadata": {
    "collapsed": false,
    "pycharm": {
     "name": "#%%\n"
    }
   }
  },
  {
   "cell_type": "code",
   "execution_count": 28,
   "outputs": [
    {
     "data": {
      "text/plain": "   회차   이름         측정일   몸무게  단위   담당   지점\n0   1  강성희  2019-01-01  76.4  kg  김지수   강남\n1   2  강성희  2019-01-02  75.7  kg  김지수   강남\n2   3  강성희  2019-01-03  76.0  kg  김지수   강남\n3   4  강성희  2019-01-04   NaN  kg  최재우  여의도\n4   5  강성희  2019-01-05  76.2  kg  김지수  강남구",
      "text/html": "<div>\n<style scoped>\n    .dataframe tbody tr th:only-of-type {\n        vertical-align: middle;\n    }\n\n    .dataframe tbody tr th {\n        vertical-align: top;\n    }\n\n    .dataframe thead th {\n        text-align: right;\n    }\n</style>\n<table border=\"1\" class=\"dataframe\">\n  <thead>\n    <tr style=\"text-align: right;\">\n      <th></th>\n      <th>회차</th>\n      <th>이름</th>\n      <th>측정일</th>\n      <th>몸무게</th>\n      <th>단위</th>\n      <th>담당</th>\n      <th>지점</th>\n    </tr>\n  </thead>\n  <tbody>\n    <tr>\n      <th>0</th>\n      <td>1</td>\n      <td>강성희</td>\n      <td>2019-01-01</td>\n      <td>76.4</td>\n      <td>kg</td>\n      <td>김지수</td>\n      <td>강남</td>\n    </tr>\n    <tr>\n      <th>1</th>\n      <td>2</td>\n      <td>강성희</td>\n      <td>2019-01-02</td>\n      <td>75.7</td>\n      <td>kg</td>\n      <td>김지수</td>\n      <td>강남</td>\n    </tr>\n    <tr>\n      <th>2</th>\n      <td>3</td>\n      <td>강성희</td>\n      <td>2019-01-03</td>\n      <td>76.0</td>\n      <td>kg</td>\n      <td>김지수</td>\n      <td>강남</td>\n    </tr>\n    <tr>\n      <th>3</th>\n      <td>4</td>\n      <td>강성희</td>\n      <td>2019-01-04</td>\n      <td>NaN</td>\n      <td>kg</td>\n      <td>최재우</td>\n      <td>여의도</td>\n    </tr>\n    <tr>\n      <th>4</th>\n      <td>5</td>\n      <td>강성희</td>\n      <td>2019-01-05</td>\n      <td>76.2</td>\n      <td>kg</td>\n      <td>김지수</td>\n      <td>강남구</td>\n    </tr>\n  </tbody>\n</table>\n</div>"
     },
     "execution_count": 28,
     "metadata": {},
     "output_type": "execute_result"
    }
   ],
   "source": [
    "data.head(5)\n"
   ],
   "metadata": {
    "collapsed": false,
    "pycharm": {
     "name": "#%%\n"
    }
   }
  },
  {
   "cell_type": "code",
   "execution_count": 29,
   "outputs": [
    {
     "data": {
      "text/plain": "   회차   이름         측정일   몸무게  단위   담당   지점\n4   5  강성희  2019-01-05  76.2  kg  김지수  강남구\n5   6  강성희  2019-01-06  75.7  kg  최재우  여의도\n6   7  강성희  2019-01-07   NaN  kg  최재우  여의도\n7   8  강성희  2019-01-08   NaN  kg  김민철  여의도\n8   9  강성희  2019-01-09  75.0  kg  김민철  여의도",
      "text/html": "<div>\n<style scoped>\n    .dataframe tbody tr th:only-of-type {\n        vertical-align: middle;\n    }\n\n    .dataframe tbody tr th {\n        vertical-align: top;\n    }\n\n    .dataframe thead th {\n        text-align: right;\n    }\n</style>\n<table border=\"1\" class=\"dataframe\">\n  <thead>\n    <tr style=\"text-align: right;\">\n      <th></th>\n      <th>회차</th>\n      <th>이름</th>\n      <th>측정일</th>\n      <th>몸무게</th>\n      <th>단위</th>\n      <th>담당</th>\n      <th>지점</th>\n    </tr>\n  </thead>\n  <tbody>\n    <tr>\n      <th>4</th>\n      <td>5</td>\n      <td>강성희</td>\n      <td>2019-01-05</td>\n      <td>76.2</td>\n      <td>kg</td>\n      <td>김지수</td>\n      <td>강남구</td>\n    </tr>\n    <tr>\n      <th>5</th>\n      <td>6</td>\n      <td>강성희</td>\n      <td>2019-01-06</td>\n      <td>75.7</td>\n      <td>kg</td>\n      <td>최재우</td>\n      <td>여의도</td>\n    </tr>\n    <tr>\n      <th>6</th>\n      <td>7</td>\n      <td>강성희</td>\n      <td>2019-01-07</td>\n      <td>NaN</td>\n      <td>kg</td>\n      <td>최재우</td>\n      <td>여의도</td>\n    </tr>\n    <tr>\n      <th>7</th>\n      <td>8</td>\n      <td>강성희</td>\n      <td>2019-01-08</td>\n      <td>NaN</td>\n      <td>kg</td>\n      <td>김민철</td>\n      <td>여의도</td>\n    </tr>\n    <tr>\n      <th>8</th>\n      <td>9</td>\n      <td>강성희</td>\n      <td>2019-01-09</td>\n      <td>75.0</td>\n      <td>kg</td>\n      <td>김민철</td>\n      <td>여의도</td>\n    </tr>\n  </tbody>\n</table>\n</div>"
     },
     "execution_count": 29,
     "metadata": {},
     "output_type": "execute_result"
    }
   ],
   "source": [
    "data.tail(5)\n",
    "\n"
   ],
   "metadata": {
    "collapsed": false,
    "pycharm": {
     "name": "#%%\n"
    }
   }
  }
 ],
 "metadata": {
  "kernelspec": {
   "display_name": "Python 3",
   "language": "python",
   "name": "python3"
  },
  "language_info": {
   "codemirror_mode": {
    "name": "ipython",
    "version": 2
   },
   "file_extension": ".py",
   "mimetype": "text/x-python",
   "name": "python",
   "nbconvert_exporter": "python",
   "pygments_lexer": "ipython2",
   "version": "2.7.6"
  }
 },
 "nbformat": 4,
 "nbformat_minor": 0
}