{
 "cells": [
  {
   "cell_type": "markdown",
   "metadata": {
    "colab_type": "text",
    "id": "4-iJ-sKb9mfv"
   },
   "source": [
    "# DS School 온라인 입문반 Level 2 - Python Assignment"
   ]
  },
  {
   "cell_type": "markdown",
   "metadata": {
    "colab_type": "text",
    "id": "4F_LWDoS9mf1"
   },
   "source": [
    "이 과제는 DS School의 온라인 입문반 Level 2의 실습과제입니다. Level 2에서 배운 파이썬 기초 문법들을 응용하여 풀 수 있는 문제들로 구성되어 있습니다. 문제는 총 3개이며 모두 비슷한 난이도로 이루어져 있으며 코드의 일부를 작성하여 채우는 방식입니다. 배운 Python 문법들을 참고하면서 풀어주시면 됩니다. 그럼 화이팅입니다 :)\n"
   ]
  },
  {
   "cell_type": "markdown",
   "metadata": {
    "colab_type": "text",
    "id": "EXNpEHg59mf6"
   },
   "source": [
    " "
   ]
  },
  {
   "cell_type": "markdown",
   "metadata": {
    "colab_type": "text",
    "id": "eGcvwHKF9mgD"
   },
   "source": [
    "## 1. 할인가격 구하기"
   ]
  },
  {
   "cell_type": "markdown",
   "metadata": {
    "colab_type": "text",
    "id": "bRHA0TzF9mgH"
   },
   "source": [
    "DS오일은 기름을 파는 기업입니다. DS오일은 설립 2주년을 맞아더 많은 고객을 유치하고자 고객이 구매하는 기름의 양에 따라 기름값을 할인해주는 할인행사를 진행하고 있습니다. 하지만 손님들은 할인 규칙을 헷갈려 지불해야하는 기름값을 계산하는데 큰 어려움을 겪고 있습니다. 따라서 DS칼텍스에서는 기름값 계산에 어려움을 겪는 고객들을 위하여 기름값을 계산해주는 프로그램을 만들고자 합니다.\n",
    "\n",
    "\n",
    "### 다음은 기름의 가격표입니다.\n",
    "\n",
    "ㅡㅡㅡㅡㅡㅡㅡㅡㅡㅡㅡㅡㅡㅡㅡㅡㅡㅡㅡㅡㅡㅡㅡㅡㅡㅡㅡㅡㅡㅡㅡㅡㅡㅡㅡㅡㅡ\n",
    "\n",
    "```\n",
    "처음 20갤론까지 : 갤론(gallon) 당 90센트\n",
    "\n",
    "다음 40갤론까지(20~60갤론까지) : 갤론(gallon) 당 80센트\n",
    " \n",
    "나머지(60갤론 이상) : 갤론(gallon) 당 75센트\n",
    "```\n",
    "\n",
    "ㅡㅡㅡㅡㅡㅡㅡㅡㅡㅡㅡㅡㅡㅡㅡㅡㅡㅡㅡㅡㅡㅡㅡㅡㅡㅡㅡㅡㅡㅡㅡㅡㅡㅡㅡㅡㅡ\n",
    "\n",
    "\n",
    "\n",
    "예를 들어 기름 35갤론을 구입했다면 기름값은\n",
    "\n",
    "(첫 20갤론 * 90센트) + (다음 15갤론 * 80센트) 가 되어 총 **3000센트**가 됩니다."
   ]
  },
  {
   "cell_type": "markdown",
   "metadata": {
    "colab_type": "text",
    "id": "_FAng21o9mgN"
   },
   "source": [
    "### 기름 120갤론을 구입했을 때, 기름값을 계산해주는 코드를 작성해주세요"
   ]
  },
  {
   "cell_type": "code",
   "execution_count": 13,
   "metadata": {
    "colab": {},
    "colab_type": "code",
    "id": "rXQePSPb9mgU"
   },
   "outputs": [
    {
     "name": "stdout",
     "output_type": "stream",
     "text": [
      "total price is : 9500\n"
     ]
    }
   ],
   "source": [
    "# 먼저 구매하고자하는 기름의 양을 정해주세요.\n",
    "gallon = 120\n",
    "\n",
    "\n",
    "# gallon 이 20 갤론 이하일때, 20갤론과 40갤론 사이일때, 그 외의 경우일 때로 나누어 가격을 계산하면 됩니다.\n",
    "# if 문을 사용하여 구매하는 기름의 양에 따른 가격을 구할 수 있습니다.\n",
    "\n",
    "# if 문을 사용하여 gallon 이 20 이하인 경우를 먼저 계산해보겠습니다. \n",
    "if gallon <= 20:\n",
    "    \n",
    "    # 처음 20 갤론의 가격 (price) 는 표와 같이 갤론당 90센트가 됩니다.\n",
    "    # 이것을 price 라는 변수에 저장해주면 아래와 같은 식이 됩니다.\n",
    "    price = 90 * gallon\n",
    "\n",
    "    # 계산된 가격을 출력해줍니다.\n",
    "    print('총 기름값은 :', price, '갤론입니다.' )\n",
    "\n",
    "# gallon 이 20 갤론 초과 40 갤론 이하일 때,\n",
    "    # 여기에 코드를 작성해주세요!!\n",
    "elif 20 < gallon <= 60:\n",
    "    price = 90 * 20 + 80 * (gallon - 20)\n",
    "    # 계산된 가격을 출력해줍니다.\n",
    "    print('total price is :', price )\n",
    "\n",
    "# 나머지 경우,\n",
    "    # 여기에 코드를 작성해주세요!!\n",
    "else:\n",
    "    price = 90 * 20 + 80 * 40 + 75 * (gallon - 60)\n",
    "\n",
    "    # 계산된 가격을 출력해줍니다.\n",
    "    print('total price is :', price )"
   ]
  },
  {
   "cell_type": "markdown",
   "metadata": {
    "colab_type": "text",
    "id": "BmEMGgTY9mgp"
   },
   "source": [
    "## 2. 369게임"
   ]
  },
  {
   "cell_type": "markdown",
   "metadata": {
    "colab_type": "text",
    "id": "gGSBLM_D9mgt"
   },
   "source": [
    "### 아래의 룰을 갖는 369게임을 만들어주세요!\n",
    "\n",
    "```\n",
    "1. 출력할 최대 숫자를 지정해줍니다.\n",
    "2. 1부터 지정한 최대 숫자까지 한 숫자씩 출력합니다.\n",
    "3. 출력하는 숫자에 3이나, 6이나, 9가 있는 개수만큼 **박수(clap!)**을 출력합니다.\n",
    "4. 지정한 숫자까지 도달하면 프로그램을 종료합니다.\n",
    "```"
   ]
  },
  {
   "cell_type": "markdown",
   "metadata": {
    "colab_type": "text",
    "id": "-GrZOI6A9mgy"
   },
   "source": [
    "숫자가 8일 때의 결과는 다음과 같습니다.\n",
    "\n",
    "```\n",
    "1\n",
    "2\n",
    "clap! \n",
    "4\n",
    "5\n",
    "clap! \n",
    "7\n",
    "8\n",
    "```"
   ]
  },
  {
   "cell_type": "markdown",
   "metadata": {
    "colab_type": "text",
    "id": "Ivo-GYBI9mg2"
   },
   "source": [
    "숫자가 33일 때는 다음과 같이 박수를 두 번 치게 됩니다. \n",
    "\n",
    "```\n",
    "...\n",
    "27\n",
    "28\n",
    "clap! \n",
    "clap! \n",
    "clap! \n",
    "clap! \n",
    "clap! clap! \n",
    "clap! \n",
    "...\n",
    "```"
   ]
  },
  {
   "cell_type": "markdown",
   "metadata": {
    "colab_type": "text",
    "id": "-VkF0Kjy9mg6"
   },
   "source": [
    "### 숫자가 50일 때 369 게임의 결과를 출력하는 코드를 작성해주세요!"
   ]
  },
  {
   "cell_type": "code",
   "execution_count": 14,
   "metadata": {
    "colab": {},
    "colab_type": "code",
    "id": "1zUvmTCt9mg9",
    "scrolled": false
   },
   "outputs": [
    {
     "name": "stdout",
     "output_type": "stream",
     "text": [
      "1\n",
      "2\n",
      "clap! \n",
      "4\n",
      "5\n",
      "clap! \n",
      "7\n",
      "8\n",
      "clap! \n",
      "10\n",
      "11\n",
      "12\n",
      "clap! \n",
      "14\n",
      "15\n",
      "clap! \n",
      "17\n",
      "18\n",
      "clap! \n",
      "20\n",
      "21\n",
      "22\n",
      "clap! \n",
      "24\n",
      "25\n",
      "clap! \n",
      "27\n",
      "28\n",
      "clap! \n",
      "clap! \n",
      "clap! \n",
      "clap! \n",
      "clap! clap! \n",
      "clap! \n",
      "clap! \n",
      "clap! clap! \n",
      "clap! \n",
      "clap! \n",
      "clap! clap! \n",
      "40\n",
      "41\n",
      "42\n",
      "clap! \n",
      "44\n",
      "45\n",
      "clap! \n",
      "47\n",
      "48\n",
      "clap! \n",
      "50\n"
     ]
    }
   ],
   "source": [
    "## 박수를 여러번 치는 경우를 고려해서, 계산해주세요 ( ex : 33은 박수를 두 번 쳐야합니다.)\n",
    "## Tips : 파이썬 문자열의 count 메소드를 사용할 수 있습니다.\n",
    "    \n",
    "# 우선 숫자를 정해줍니다.\n",
    "count = 50\n",
    "\n",
    "# 1부터 count까지 반복하여 실행하는 for문을 만들어주세요! \n",
    "# range 안의 빈칸을 채워주세요!\n",
    "for n in range(1, 51) :\n",
    "    \n",
    "    # 글자(3,6,9)의 갯수를 count 하기 위해 n 을 문자열(string)으로 변환해줍니다. 문자열의 count 메소드를 사용할 것입니다.\n",
    "    n_text = str(n)\n",
    "    \n",
    "    # string 이 된 n 에 \"3\"이나 \"6\"이나 \"9\"가 속해있는지 체크합니다.\n",
    "    if '3' in n_text or '6' in n_text or '9' in n_text:\n",
    "        \n",
    "        # \"3\"과 \"6\"과 \"9\"의 갯수를 각각 만들어줍니다.\n",
    "        # python 의 count 메소드를 이용하면 쉽게 찾아낼 수 있습니다.\n",
    "        # \n",
    "        n_count_3 = n_text.count('3')\n",
    "        n_count_6 = n_text.count('6')\n",
    "        n_count_9 = n_text.count('9')\n",
    "    \n",
    "        # 3,6,9 의 총 개수를 합쳐줍니다.\n",
    "        n_count = n_count_3 + n_count_6 + n_count_9\n",
    "        \n",
    "        # n_count 의 수만큼 박수 (clap!) 을 출력합니다.\n",
    "        print(\"clap! \" * n_count)\n",
    "        \n",
    "        # \"3\"이나 \"6\"이나 \"9\"가 없을 경우, 숫자 n을 출력합니다.\n",
    "    else : \n",
    "        print(n)"
   ]
  },
  {
   "cell_type": "markdown",
   "metadata": {
    "colab_type": "text",
    "id": "XT41gk_a9mhZ"
   },
   "source": [
    "## 3. 전화번호 form 만들기"
   ]
  },
  {
   "cell_type": "markdown",
   "metadata": {
    "colab_type": "text",
    "id": "kKDGk9hH9mhi"
   },
   "source": [
    "DS오일에 취업한 김분석은 직원들의 휴대폰 번호를 파이썬의 list로 저장해두었습니다. 그런데 list를 확인해보니 전화번호들이 모두 ```010XXXXYYYY``` 와 같은 형태로 되어있어 전화번호를 한 눈에 알아보기 힘들다는 단점이 있었습니다.\n",
    "\n",
    "그래서 list내의 휴대폰 번호를 한 눈에 볼 수 있도록 ```010-XXXX-YYYY``` 와 같은 새로운 형태로 만들어 list로 저장하고자 합니다. \n",
    "\n"
   ]
  },
  {
   "cell_type": "markdown",
   "metadata": {
    "colab_type": "text",
    "id": "9qobhoIC9mhp"
   },
   "source": [
    "### 아래의 number_list 라는 list에 존재하는 휴대폰 번호들을 ```010-XXXX-YYYY``` 와 같은 형태로 만든 새로운 list new_number_list 를 만들고 이를 출력해주세요!"
   ]
  },
  {
   "cell_type": "code",
   "execution_count": 15,
   "metadata": {
    "colab": {},
    "colab_type": "code",
    "id": "mm5AecBi9mhu",
    "outputId": "eb4c962a-46f8-47f0-e78b-f8494ac8a7ff"
   },
   "outputs": [
    {
     "data": {
      "text/plain": "['01071219987',\n '01012345678',\n '01022345678',\n '01045671290',\n '01012334455',\n '01011110000',\n '01099487756',\n '01077761263',\n '01022770099']"
     },
     "execution_count": 15,
     "metadata": {},
     "output_type": "execute_result"
    }
   ],
   "source": [
    "# 기존에 존재하는 phone number의 리스트입니다. \n",
    "number_list = ['01071219987', '01012345678', '01022345678',\n",
    "               '01045671290', '01012334455', '01011110000',\n",
    "               '01099487756', '01077761263', '01022770099']\n",
    "\n",
    "number_list"
   ]
  },
  {
   "cell_type": "code",
   "execution_count": 16,
   "metadata": {
    "colab": {},
    "colab_type": "code",
    "id": "nt86vxgW9miB"
   },
   "outputs": [
    {
     "data": {
      "text/plain": "['010-7121-9987',\n '010-1234-5678',\n '010-2234-5678',\n '010-4567-1290',\n '010-1233-4455',\n '010-1111-0000',\n '010-9948-7756',\n '010-7776-1263',\n '010-2277-0099']"
     },
     "execution_count": 16,
     "metadata": {},
     "output_type": "execute_result"
    }
   ],
   "source": [
    "# 우선 새롭게 만들 list new_number_list를 정의해줍니다.\n",
    "new_number_list = []\n",
    "i = 0\n",
    "# number_list에서 number를 불러와 각 number에 대해 처리해주고자 합니다.\n",
    "# for 문을 이용하여 number_list에 속한 number들을 불러옵니다.\n",
    "\n",
    "for num in number_list:\n",
    "    number = number_list[i]\n",
    "    no1 = number[:3]\n",
    "    nox = number[3: 7]\n",
    "    noy = number[7:]\n",
    "    new_number = '010-' + nox + '-' + noy\n",
    "    i = i + 1\n",
    "    new_number_list.append(new_number)\n",
    "    \n",
    "\n",
    "\n",
    "\n",
    "    # 새로운 형태의 number를 new_number 변수에 저장해주세요.\n",
    "    # string 의 slicing 과  string의 뎃셈을 이용하여 주면 쉽게 만들 수 있습니다.\n",
    "    # 예를 들어 \"Hello\" + \"World\" 는 \"HelloWorld\" 가 됩니다!\n",
    "    \n",
    "    # 여기에 코드를 작성해주세요!!\n",
    "    \n",
    "    # 새롭게 만든 new_number를 new_number_list에 넣어주도록 하겠습니다.\n",
    "    # list의 메소드 append를 이용해보세요!\n",
    "\n",
    "    # 여기에 코드를 작성해주세요!!\n",
    "    \n",
    "# new_number_list를 확인합니다.\n",
    "new_number_list"
   ]
  },
  {
   "cell_type": "markdown",
   "metadata": {
    "colab_type": "text",
    "id": "9Ag0go2S9mia"
   },
   "source": [
    "## 제출"
   ]
  },
  {
   "cell_type": "markdown",
   "metadata": {
    "colab_type": "text",
    "id": "B3A5Mkgb9mif"
   },
   "source": [
    "모든 문제를 풀이하셨다면 **해당 Level 채널**에 풀이한 과제 파일(.ipynb)을 올려주시거나 전담 튜터에게 **DM(Direct Message)**로 풀이한 과제 파일(.ipynb)을 주시면 됩니다!"
   ]
  },
  {
   "cell_type": "markdown",
   "metadata": {
    "colab_type": "text",
    "id": "0WbS9PgV9min"
   },
   "source": [
    "### 수고하셨습니다!!"
   ]
  },
  {
   "cell_type": "code",
   "execution_count": 16,
   "metadata": {},
   "outputs": [],
   "source": []
  }
 ],
 "metadata": {
  "colab": {
   "name": "02-03_python-for-beginners(assignment).ipynb",
   "provenance": []
  },
  "kernelspec": {
   "display_name": "Python 3",
   "language": "python",
   "name": "python3"
  },
  "language_info": {
   "codemirror_mode": {
    "name": "ipython",
    "version": 3
   },
   "file_extension": ".py",
   "mimetype": "text/x-python",
   "name": "python",
   "nbconvert_exporter": "python",
   "pygments_lexer": "ipython3",
   "version": "3.7.3"
  },
  "varInspector": {
   "cols": {
    "lenName": 16,
    "lenType": 16,
    "lenVar": 40
   },
   "kernels_config": {
    "python": {
     "delete_cmd_postfix": "",
     "delete_cmd_prefix": "del ",
     "library": "var_list.py",
     "varRefreshCmd": "print(var_dic_list())"
    },
    "r": {
     "delete_cmd_postfix": ") ",
     "delete_cmd_prefix": "rm(",
     "library": "var_list.r",
     "varRefreshCmd": "cat(var_dic_list()) "
    }
   },
   "types_to_exclude": [
    "module",
    "function",
    "builtin_function_or_method",
    "instance",
    "_Feature"
   ],
   "window_display": false
  }
 },
 "nbformat": 4,
 "nbformat_minor": 1
}