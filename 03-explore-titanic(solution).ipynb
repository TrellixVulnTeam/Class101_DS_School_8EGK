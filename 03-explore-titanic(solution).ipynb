{
 "cells": [
  {
   "cell_type": "markdown",
   "metadata": {},
   "source": [
    "## 파이썬과 판다스를 활용한 실전 데이터 분석\n",
    "\n",
    "이번 과제는 캐글의 타이타닉([Titanic: Machine Learning from Disaster](https://www.kaggle.com/c/titanic/)) 데이터를 더 깊게 분석합니다.\n",
    "\n",
    "데이터 사이언티스트로서 데이터를 분석할 때 가장 필수적인 스킬은 프로그래밍 언어 파이썬([Python](https://www.python.org/)), 데이터 분석 패키지 판다스([Pandas](https://pandas.pydata.org/)), 그리고 데이터 시각화 패키지 씨본([Seaborn](https://seaborn.pydata.org))과 [matplotlib](https://matplotlib.org)입니다. 데이터 분석가는 언제나 주변 동료들의 요청(ex: 운영팀, 재무팀, 마케팅팀)에 맞게 데이터를 뽑아내 그 통계치를 제공하고 시각화 결과를 전달해줘야 하는데, 파이썬과 판다스, 시각화 스킬이 부족하면 주어진 시간 내에 이를 전달해 줄 수 없습니다.\n",
    "\n",
    "이런 문제가 생기지 않기 위해, **모든 데이터 사이언티스트는 데이터를 능숙하게 다룰 수 있는 파이썬과 판다스, 시각화 스킬을 필수적으로 보유하고 있어야 합니다.**\n",
    "\n",
    "이번 노트북에는 타이타닉 데이터를 활용하여, 현업에서 충분히 발생할 만한 사례를 모아 총 12개의 문제를 만들어 보았습니다. 주어진 시간 내에 모든 문제를 해결해보세요. DS School의 내부 테스트 결과, 현업에서 데이터 사이언티스트로 일 하고 있는 분들은 아무리 늦어도 반나절(3~4시간) 내에는 모든 문제를 풀 수 있었습니다. 즉, 3시간 안에 모든 문제를 풀 수 있다면 합격입니다.\n",
    "\n",
    "문제를 풀 때 다른 자료(DS School 입문반에서 제공한 자료, 또는 판다스, 시각화 전문 서적)를 참고하거나, 구글에 검색하는 것 모두 허용합니다. (문제 중에는 구글에 검색하지 않으면 풀 수 없는 문제도 몇 개 준비해놓았습니다) 관련 자료는 [10 minutes to pandas](https://pandas.pydata.org/pandas-docs/stable/10min.html) 를 강력 추천합니다.\n",
    "\n",
    "또한 아래 문제를 풀면서 어려움을 느끼거나, 주어진 시간 내에 풀 수 없다는 생각이 들면 DS School의 [실전 데이터분석 과정](https://dsschool.co.kr/suggestions)을 수강하는 것을 권장 드립니다."
   ]
  },
  {
   "cell_type": "code",
   "execution_count": 1,
   "metadata": {},
   "outputs": [],
   "source": [
    "# 데이터 시각화 패키지 matplotlib에게 inline출력,\n",
    "# 즉 시각화 결과를 파일로 저장하거나 하지 않고 화면에 바로 출력하도록 명령합니다.\n",
    "# (Seaborn이 matplotlib를 기반으로 동작하기 때문에, Seaborn에도 동일한 명령이 전달됩니다.)\n",
    "%matplotlib inline\n",
    "\n",
    "# 파이썬의 데이터 분석 패키지 판다스(Pandas)를 가져오고, 이를 pd라는 이름의 축약어로 사용합니다.\n",
    "import pandas as pd\n",
    "\n",
    "# 파이썬의 데이터 시각화 패키지 시본(Seaborn)을 가져오고, 이를 sns라는 이름의 축약어로 사용합니다.\n",
    "import seaborn as sns"
   ]
  },
  {
   "cell_type": "markdown",
   "metadata": {},
   "source": [
    "### 데이터 읽어오기"
   ]
  },
  {
   "cell_type": "code",
   "execution_count": 2,
   "metadata": {},
   "outputs": [
    {
     "name": "stdout",
     "output_type": "stream",
     "text": [
      "(891, 11)\n"
     ]
    },
    {
     "data": {
      "text/plain": "             Survived  Pclass  \\\nPassengerId                     \n1                   0       3   \n2                   1       1   \n3                   1       3   \n4                   1       1   \n5                   0       3   \n\n                                                          Name     Sex   Age  \\\nPassengerId                                                                    \n1                                      Braund, Mr. Owen Harris    male  22.0   \n2            Cumings, Mrs. John Bradley (Florence Briggs Th...  female  38.0   \n3                                       Heikkinen, Miss. Laina  female  26.0   \n4                 Futrelle, Mrs. Jacques Heath (Lily May Peel)  female  35.0   \n5                                     Allen, Mr. William Henry    male  35.0   \n\n             SibSp  Parch            Ticket     Fare Cabin Embarked  \nPassengerId                                                          \n1                1      0         A/5 21171   7.2500   NaN        S  \n2                1      0          PC 17599  71.2833   C85        C  \n3                0      0  STON/O2. 3101282   7.9250   NaN        S  \n4                1      0            113803  53.1000  C123        S  \n5                0      0            373450   8.0500   NaN        S  ",
      "text/html": "<div>\n<style scoped>\n    .dataframe tbody tr th:only-of-type {\n        vertical-align: middle;\n    }\n\n    .dataframe tbody tr th {\n        vertical-align: top;\n    }\n\n    .dataframe thead th {\n        text-align: right;\n    }\n</style>\n<table border=\"1\" class=\"dataframe\">\n  <thead>\n    <tr style=\"text-align: right;\">\n      <th></th>\n      <th>Survived</th>\n      <th>Pclass</th>\n      <th>Name</th>\n      <th>Sex</th>\n      <th>Age</th>\n      <th>SibSp</th>\n      <th>Parch</th>\n      <th>Ticket</th>\n      <th>Fare</th>\n      <th>Cabin</th>\n      <th>Embarked</th>\n    </tr>\n    <tr>\n      <th>PassengerId</th>\n      <th></th>\n      <th></th>\n      <th></th>\n      <th></th>\n      <th></th>\n      <th></th>\n      <th></th>\n      <th></th>\n      <th></th>\n      <th></th>\n      <th></th>\n    </tr>\n  </thead>\n  <tbody>\n    <tr>\n      <th>1</th>\n      <td>0</td>\n      <td>3</td>\n      <td>Braund, Mr. Owen Harris</td>\n      <td>male</td>\n      <td>22.0</td>\n      <td>1</td>\n      <td>0</td>\n      <td>A/5 21171</td>\n      <td>7.2500</td>\n      <td>NaN</td>\n      <td>S</td>\n    </tr>\n    <tr>\n      <th>2</th>\n      <td>1</td>\n      <td>1</td>\n      <td>Cumings, Mrs. John Bradley (Florence Briggs Th...</td>\n      <td>female</td>\n      <td>38.0</td>\n      <td>1</td>\n      <td>0</td>\n      <td>PC 17599</td>\n      <td>71.2833</td>\n      <td>C85</td>\n      <td>C</td>\n    </tr>\n    <tr>\n      <th>3</th>\n      <td>1</td>\n      <td>3</td>\n      <td>Heikkinen, Miss. Laina</td>\n      <td>female</td>\n      <td>26.0</td>\n      <td>0</td>\n      <td>0</td>\n      <td>STON/O2. 3101282</td>\n      <td>7.9250</td>\n      <td>NaN</td>\n      <td>S</td>\n    </tr>\n    <tr>\n      <th>4</th>\n      <td>1</td>\n      <td>1</td>\n      <td>Futrelle, Mrs. Jacques Heath (Lily May Peel)</td>\n      <td>female</td>\n      <td>35.0</td>\n      <td>1</td>\n      <td>0</td>\n      <td>113803</td>\n      <td>53.1000</td>\n      <td>C123</td>\n      <td>S</td>\n    </tr>\n    <tr>\n      <th>5</th>\n      <td>0</td>\n      <td>3</td>\n      <td>Allen, Mr. William Henry</td>\n      <td>male</td>\n      <td>35.0</td>\n      <td>0</td>\n      <td>0</td>\n      <td>373450</td>\n      <td>8.0500</td>\n      <td>NaN</td>\n      <td>S</td>\n    </tr>\n  </tbody>\n</table>\n</div>"
     },
     "execution_count": 2,
     "metadata": {},
     "output_type": "execute_result"
    }
   ],
   "source": [
    "# train.csv 파일을 읽어옵니다. 여기서 PassengerId라는 컬럼을 인덱스(index)로 지정한 뒤, train 변수에 할당합니다.\n",
    "# 변수에 할당한 결과값을 판다스 전문 용어로 데이터프레임(DataFrame)이라고 부릅니다.\n",
    "train = pd.read_csv(\"input/train.csv\", index_col=\"PassengerId\")\n",
    "\n",
    "# train 변수에 할당된 데이터의 행렬 사이즈를 출력합니다.\n",
    "# 출력은 (row, column) 으로 표시됩니다.\n",
    "print(train.shape)\n",
    "\n",
    "# head()로 train 데이터의 상위 5개를 출력합니다.\n",
    "train.head()"
   ]
  },
  {
   "cell_type": "markdown",
   "metadata": {},
   "source": [
    "### 데이터 정리 + 기본 분석"
   ]
  },
  {
   "cell_type": "markdown",
   "metadata": {},
   "source": [
    "**1. 타이타닉의 train 데이터에서 1) 전체 생존률과 2) 생존자의 총 인원수, 사망자의 총 인원수를 출력해주세요.**\n",
    "\n",
    "1번(생존률)의 경우 약 38.4%가 나와야 하며, 2번(인원수)의 경우 생존자의 총 인원수는 342명, 사망자의 총 인원수는 549명이 나와야 합니다."
   ]
  },
  {
   "cell_type": "code",
   "execution_count": 3,
   "metadata": {},
   "outputs": [
    {
     "name": "stdout",
     "output_type": "stream",
     "text": [
      "생존률 = 38.4%\n"
     ]
    }
   ],
   "source": [
    "# 타이타닉의 train데이터에서 Survived 컬럼의 평균을 구합니다.\n",
    "# 그 결과를 survived_rate라는 이름의 변수에 저장합니다.\n",
    "survived_rate = train[\"Survived\"].mean()\n",
    "\n",
    "# survived_rate는 현재 0.0 ~ 1.0 사이의 값을 갖습니다.\n",
    "# 하지만 퍼센티지(%)는 0 ~ 100.0 사이의 값을 가지므로, survived_rate에 100을 곱해줍니다.\n",
    "survived_rate = survived_rate * 100\n",
    "\n",
    "# survived_rate를 출력합니다. 결과는 38.4%가 나와야 합니다.\n",
    "print(f\"생존률 = {survived_rate:.1f}%\")"
   ]
  },
  {
   "cell_type": "code",
   "execution_count": 4,
   "metadata": {},
   "outputs": [
    {
     "data": {
      "text/plain": "0    549\n1    342\nName: Survived, dtype: int64"
     },
     "execution_count": 4,
     "metadata": {},
     "output_type": "execute_result"
    }
   ],
   "source": [
    "# pandas의 value_counts를 활용하여 생존자의 총 인원수와 사망자의 총 인원수를 출력합니다.\n",
    "# 생존자의 총 인원수(1)은 342명, 사망자의 총 인원수(0)는 549명이 나와야 합니다.\n",
    "train[\"Survived\"].value_counts()"
   ]
  },
  {
   "cell_type": "markdown",
   "metadata": {},
   "source": [
    "**2. Survived 컬럼에 들어가 있는 값을 쉬운 표현으로 바꿔주세요.**\n",
    "\n",
    "Survived 컬럼에는 0(사망)이라는 값과 1(생존)이라는 값이 있습니다. 이 표현은 직관적이지 않기 때문에, 데이터 분석을 원활하게 하기 위해서는 사람이 읽기 쉬운 표현을 쓰는 것이 좋습니다."
   ]
  },
  {
   "cell_type": "code",
   "execution_count": 5,
   "metadata": {},
   "outputs": [
    {
     "data": {
      "text/plain": "PassengerId\n1    0\n2    1\n3    1\n4    1\n5    0\nName: Survived, dtype: int64"
     },
     "execution_count": 5,
     "metadata": {},
     "output_type": "execute_result"
    }
   ],
   "source": [
    "# Survived 컬럼의 상위 5개의 값을 출력합니다.\n",
    "# 결과값은 0과 1이 나오는데, Survived 컬럼에 대한 사전 설명(가령 0이 어떤 값을 나타내는지, 1이 어떤 값을 나타내는지)\n",
    "# 을 듣지 않으면 이 값이 어떠한 의미를 가지는지 직관적으로 이해하기 어렵습니다.\n",
    "train[\"Survived\"].head()"
   ]
  },
  {
   "cell_type": "markdown",
   "metadata": {},
   "source": [
    "가령 저라면 **Survived(humanized)**라는 새로운 컬럼을 만들겠습니다. 이 컬럼에는 0(사망), 1(생존)이 아닌, Perish(사망), Survived(생존)이라는 값이 들어가 있다면 좋겠습니다. 최종적으로는 다음의 결과가 나와야 합니다."
   ]
  },
  {
   "cell_type": "markdown",
   "metadata": {},
   "source": [
    "<table border=\"1\" class=\"dataframe\" style=\"float: left;\">\n",
    "   <thead>\n",
    "      <tr style=\"text-align: right;\">\n",
    "         <th></th>\n",
    "         <th>Survived</th>\n",
    "         <th>Survived(humanized)</th>\n",
    "      </tr>\n",
    "      <tr>\n",
    "         <th>PassengerId</th>\n",
    "         <th></th>\n",
    "         <th></th>\n",
    "      </tr>\n",
    "   </thead>\n",
    "   <tbody>\n",
    "      <tr>\n",
    "         <th>1</th>\n",
    "         <td>0</td>\n",
    "         <td>Perish</td>\n",
    "      </tr>\n",
    "      <tr>\n",
    "         <th>2</th>\n",
    "         <td>1</td>\n",
    "         <td>Survived</td>\n",
    "      </tr>\n",
    "      <tr>\n",
    "         <th>3</th>\n",
    "         <td>1</td>\n",
    "         <td>Survived</td>\n",
    "      </tr>\n",
    "      <tr>\n",
    "         <th>4</th>\n",
    "         <td>1</td>\n",
    "         <td>Survived</td>\n",
    "      </tr>\n",
    "      <tr>\n",
    "         <th>5</th>\n",
    "         <td>0</td>\n",
    "         <td>Perish</td>\n",
    "      </tr>\n",
    "   </tbody>\n",
    "</table>"
   ]
  },
  {
   "cell_type": "code",
   "execution_count": 6,
   "metadata": {},
   "outputs": [
    {
     "name": "stdout",
     "output_type": "stream",
     "text": [
      "(891, 12)\n"
     ]
    },
    {
     "data": {
      "text/plain": "             Survived Survived(humanized)\nPassengerId                              \n1                   0              Perish\n2                   1            Survived\n3                   1            Survived\n4                   1            Survived\n5                   0              Perish",
      "text/html": "<div>\n<style scoped>\n    .dataframe tbody tr th:only-of-type {\n        vertical-align: middle;\n    }\n\n    .dataframe tbody tr th {\n        vertical-align: top;\n    }\n\n    .dataframe thead th {\n        text-align: right;\n    }\n</style>\n<table border=\"1\" class=\"dataframe\">\n  <thead>\n    <tr style=\"text-align: right;\">\n      <th></th>\n      <th>Survived</th>\n      <th>Survived(humanized)</th>\n    </tr>\n    <tr>\n      <th>PassengerId</th>\n      <th></th>\n      <th></th>\n    </tr>\n  </thead>\n  <tbody>\n    <tr>\n      <th>1</th>\n      <td>0</td>\n      <td>Perish</td>\n    </tr>\n    <tr>\n      <th>2</th>\n      <td>1</td>\n      <td>Survived</td>\n    </tr>\n    <tr>\n      <th>3</th>\n      <td>1</td>\n      <td>Survived</td>\n    </tr>\n    <tr>\n      <th>4</th>\n      <td>1</td>\n      <td>Survived</td>\n    </tr>\n    <tr>\n      <th>5</th>\n      <td>0</td>\n      <td>Perish</td>\n    </tr>\n  </tbody>\n</table>\n</div>"
     },
     "execution_count": 6,
     "metadata": {},
     "output_type": "execute_result"
    }
   ],
   "source": [
    "# 먼저 Survived 컬럼이 0인 승객을 색인합니다. 이후 Survived(humanized)라는 이름의\n",
    "# 새로운 컬럼을 만들어 여기에 Perish 라는 값을 넣습니다.\n",
    "train.loc[train[\"Survived\"] == 0, \"Survived(humanized)\"] = \"Perish\"\n",
    "\n",
    "# 비슷하게 Survived 컬럼이 1인 승객을 찾아 Survived(humanized)에 Survived라는 값을 넣습니다.\n",
    "train.loc[train[\"Survived\"] == 1, \"Survived(humanized)\"] = \"Survived\"\n",
    "\n",
    "# train 변수에 할당된 데이터의 행렬 사이즈를 출력합니다.\n",
    "# 출력은 (row, column) 으로 표시됩니다.\n",
    "print(train.shape)\n",
    "\n",
    "# Survived 컬럼과 Survived(humanized) 컬럼 두 개를 출력하여 비교합니다.\n",
    "train[[\"Survived\", \"Survived(humanized)\"]].head()"
   ]
  },
  {
   "cell_type": "markdown",
   "metadata": {},
   "source": [
    "내지는 이런 방식을 사용할 수 있습니다."
   ]
  },
  {
   "cell_type": "code",
   "execution_count": 7,
   "metadata": {},
   "outputs": [
    {
     "name": "stdout",
     "output_type": "stream",
     "text": [
      "(891, 12)\n"
     ]
    },
    {
     "data": {
      "text/plain": "             Survived Survived(humanized)\nPassengerId                              \n1                   0              Perish\n2                   1            Survived\n3                   1            Survived\n4                   1            Survived\n5                   0              Perish",
      "text/html": "<div>\n<style scoped>\n    .dataframe tbody tr th:only-of-type {\n        vertical-align: middle;\n    }\n\n    .dataframe tbody tr th {\n        vertical-align: top;\n    }\n\n    .dataframe thead th {\n        text-align: right;\n    }\n</style>\n<table border=\"1\" class=\"dataframe\">\n  <thead>\n    <tr style=\"text-align: right;\">\n      <th></th>\n      <th>Survived</th>\n      <th>Survived(humanized)</th>\n    </tr>\n    <tr>\n      <th>PassengerId</th>\n      <th></th>\n      <th></th>\n    </tr>\n  </thead>\n  <tbody>\n    <tr>\n      <th>1</th>\n      <td>0</td>\n      <td>Perish</td>\n    </tr>\n    <tr>\n      <th>2</th>\n      <td>1</td>\n      <td>Survived</td>\n    </tr>\n    <tr>\n      <th>3</th>\n      <td>1</td>\n      <td>Survived</td>\n    </tr>\n    <tr>\n      <th>4</th>\n      <td>1</td>\n      <td>Survived</td>\n    </tr>\n    <tr>\n      <th>5</th>\n      <td>0</td>\n      <td>Perish</td>\n    </tr>\n  </tbody>\n</table>\n</div>"
     },
     "execution_count": 7,
     "metadata": {},
     "output_type": "execute_result"
    }
   ],
   "source": [
    "# Survived 컬럼이 0인 값을 Perish로, 1인 값을 Survived로 대체(replace)합니다.\n",
    "train[\"Survived(humanized)\"] = train[\"Survived\"].replace(0, \"Perish\").replace(1, \"Survived\")\n",
    "\n",
    "# train 변수에 할당된 데이터의 행렬 사이즈를 출력합니다.\n",
    "# 출력은 (row, column) 으로 표시됩니다.\n",
    "print(train.shape)\n",
    "\n",
    "# Survived 컬럼과 Survived(humanized) 컬럼 두 개를 출력하여 비교합니다.\n",
    "train[[\"Survived\", \"Survived(humanized)\"]].head()"
   ]
  },
  {
   "cell_type": "markdown",
   "metadata": {},
   "source": [
    "또한 이번에는 Survived 컬럼이 아닌 아닌 새롭게 만든 Survived(humanized) 컬럼으로 생존자의 총 인원수와 사망자의 총 인원수를 출력해 주세요. 앞서 사용한 ```value_counts```를 그대로 사용하면 될 것 같습니다."
   ]
  },
  {
   "cell_type": "code",
   "execution_count": 8,
   "metadata": {},
   "outputs": [
    {
     "data": {
      "text/plain": "Perish      549\nSurvived    342\nName: Survived(humanized), dtype: int64"
     },
     "execution_count": 8,
     "metadata": {},
     "output_type": "execute_result"
    }
   ],
   "source": [
    "# pandas의 value_counts를 활용하여 생존자의 총 인원수와 사망자의 총 인원수를 출력합니다.\n",
    "# 여기서 생존 여부는 Survived가 아닌 Survived(humanized) 컬럼을 사용합니다.\n",
    "# 생존자의 총 인원수(Survived)은 342명, 사망자의 총 인원수(Perish)는 549명이 나와야 합니다.\n",
    "train[\"Survived(humanized)\"].value_counts()"
   ]
  },
  {
   "cell_type": "markdown",
   "metadata": {},
   "source": [
    "**3. Pclass 컬럼에 들어가 있는 값을 읽기 쉬운 표현으로 바꿔주세요.**\n",
    "\n",
    "Pclass도 마찬가지로 1, 2, 3이라는 표현은 직관적이지 않기 때문에, 사람이 이해하기 쉬운 표현으로 바꿔주고 싶습니다."
   ]
  },
  {
   "cell_type": "code",
   "execution_count": 9,
   "metadata": {},
   "outputs": [
    {
     "data": {
      "text/plain": "        Survived\nPclass          \n1       0.629630\n2       0.472826\n3       0.242363",
      "text/html": "<div>\n<style scoped>\n    .dataframe tbody tr th:only-of-type {\n        vertical-align: middle;\n    }\n\n    .dataframe tbody tr th {\n        vertical-align: top;\n    }\n\n    .dataframe thead th {\n        text-align: right;\n    }\n</style>\n<table border=\"1\" class=\"dataframe\">\n  <thead>\n    <tr style=\"text-align: right;\">\n      <th></th>\n      <th>Survived</th>\n    </tr>\n    <tr>\n      <th>Pclass</th>\n      <th></th>\n    </tr>\n  </thead>\n  <tbody>\n    <tr>\n      <th>1</th>\n      <td>0.629630</td>\n    </tr>\n    <tr>\n      <th>2</th>\n      <td>0.472826</td>\n    </tr>\n    <tr>\n      <th>3</th>\n      <td>0.242363</td>\n    </tr>\n  </tbody>\n</table>\n</div>"
     },
     "execution_count": 9,
     "metadata": {},
     "output_type": "execute_result"
    }
   ],
   "source": [
    "# pandas의 pivot_table을 활용하여 Pclass별 생존률을 출력합니다.\n",
    "# 여기서 Pclass값이 1, 2, 3이 나오는데, Pclass 컬럼에 대한 사전 설명을 듣지 않으면 이해하기 어렵습니다.\n",
    "# 그러므로 Pclass값을 조금 더 직관적으로 바꿔준다면 pivot_table로 분석하기 편할 것입니다.\n",
    "pd.pivot_table(data=train, index=\"Pclass\", values=\"Survived\")"
   ]
  },
  {
   "cell_type": "markdown",
   "metadata": {},
   "source": [
    "(판다스 pivot table에 대한 설명은 [다음의 링크](https://pandas.pydata.org/pandas-docs/stable/reference/api/pandas.pivot_table.html)에서 살펴봐주세요)"
   ]
  },
  {
   "cell_type": "markdown",
   "metadata": {},
   "source": [
    "이번에는 **Pclass(humanized)**라는 새로운 컬럼을 만들어주세요. 이 컬럼에는 1, 2, 3이 아닌 First Class, Business, Economy 라는 값이 들어가 있다면 좋겠습니다. 최종적으로는 다음의 결과가 나와야 합니다."
   ]
  },
  {
   "cell_type": "markdown",
   "metadata": {},
   "source": [
    "<table border=\"1\" class=\"dataframe\" style=\"float: left;\">\n",
    "   <thead>\n",
    "      <tr style=\"text-align: right;\">\n",
    "         <th></th>\n",
    "         <th>Pclass</th>\n",
    "         <th>Pclass(humanized)</th>\n",
    "      </tr>\n",
    "      <tr>\n",
    "         <th>PassengerId</th>\n",
    "         <th></th>\n",
    "         <th></th>\n",
    "      </tr>\n",
    "   </thead>\n",
    "   <tbody>\n",
    "      <tr>\n",
    "         <th>1</th>\n",
    "         <td>3</td>\n",
    "         <td>Economy</td>\n",
    "      </tr>\n",
    "      <tr>\n",
    "         <th>2</th>\n",
    "         <td>1</td>\n",
    "         <td>First Class</td>\n",
    "      </tr>\n",
    "      <tr>\n",
    "         <th>3</th>\n",
    "         <td>3</td>\n",
    "         <td>Economy</td>\n",
    "      </tr>\n",
    "      <tr>\n",
    "         <th>4</th>\n",
    "         <td>1</td>\n",
    "         <td>First Class</td>\n",
    "      </tr>\n",
    "      <tr>\n",
    "         <th>5</th>\n",
    "         <td>3</td>\n",
    "         <td>Economy</td>\n",
    "      </tr>\n",
    "   </tbody>\n",
    "</table>"
   ]
  },
  {
   "cell_type": "markdown",
   "metadata": {},
   "source": [
    "또한 위 내용을 바탕으로 **Pclass(humanized)**별 생존자와 사망자의 차이를 시각화해주세요. 최종적으로는 다음의 결과가 나와야 합니다.\n",
    "\n",
    "![quiz-3](https://drive.google.com/uc?export=view&id=1HeJ-J_G0Y6RNi4SUMko06vsuTGaxMDj1)"
   ]
  },
  {
   "cell_type": "code",
   "execution_count": 10,
   "metadata": {},
   "outputs": [
    {
     "name": "stdout",
     "output_type": "stream",
     "text": [
      "(891, 13)\n"
     ]
    },
    {
     "data": {
      "text/plain": "             Pclass Pclass(humanized)\nPassengerId                          \n1                 3           Economy\n2                 1       First Class\n3                 3           Economy\n4                 1       First Class\n5                 3           Economy",
      "text/html": "<div>\n<style scoped>\n    .dataframe tbody tr th:only-of-type {\n        vertical-align: middle;\n    }\n\n    .dataframe tbody tr th {\n        vertical-align: top;\n    }\n\n    .dataframe thead th {\n        text-align: right;\n    }\n</style>\n<table border=\"1\" class=\"dataframe\">\n  <thead>\n    <tr style=\"text-align: right;\">\n      <th></th>\n      <th>Pclass</th>\n      <th>Pclass(humanized)</th>\n    </tr>\n    <tr>\n      <th>PassengerId</th>\n      <th></th>\n      <th></th>\n    </tr>\n  </thead>\n  <tbody>\n    <tr>\n      <th>1</th>\n      <td>3</td>\n      <td>Economy</td>\n    </tr>\n    <tr>\n      <th>2</th>\n      <td>1</td>\n      <td>First Class</td>\n    </tr>\n    <tr>\n      <th>3</th>\n      <td>3</td>\n      <td>Economy</td>\n    </tr>\n    <tr>\n      <th>4</th>\n      <td>1</td>\n      <td>First Class</td>\n    </tr>\n    <tr>\n      <th>5</th>\n      <td>3</td>\n      <td>Economy</td>\n    </tr>\n  </tbody>\n</table>\n</div>"
     },
     "execution_count": 10,
     "metadata": {},
     "output_type": "execute_result"
    }
   ],
   "source": [
    "# 먼저 Pclass 컬럼이 1인 승객을 색인합니다. 이후 Pclass(humanized)라는 이름의\n",
    "# 새로운 컬럼을 만들어 여기에 \"First Class\" 라는 값을 넣습니다.\n",
    "train.loc[train[\"Pclass\"] == 1, \"Pclass(humanized)\"] = \"First Class\"\n",
    "\n",
    "# 비슷하게 Pclass 컬럼이 2인 승객을 찾아 Pclass(humanized)에 \"Business\" 라는 값을 넣습니다.\n",
    "train.loc[train[\"Pclass\"] == 2, \"Pclass(humanized)\"] = \"Business\"\n",
    "\n",
    "# 비슷하게 Pclass 컬럼이 3인 승객을 찾아 Pclass(humanized)에 \"Economy\" 라는 값을 넣습니다.\n",
    "train.loc[train[\"Pclass\"] == 3, \"Pclass(humanized)\"] = \"Economy\"\n",
    "\n",
    "# train 변수에 할당된 데이터의 행렬 사이즈를 출력합니다.\n",
    "# 출력은 (row, column) 으로 표시됩니다.\n",
    "print(train.shape)\n",
    "\n",
    "# Pclass 컬럼과 Pclass(humanized) 컬럼 두 개를 출력하여 비교합니다.\n",
    "train[[\"Pclass\", \"Pclass(humanized)\"]].head()"
   ]
  },
  {
   "cell_type": "markdown",
   "metadata": {},
   "source": [
    "마찬가지로 아래의 코드도 동일한 역할을 수행합니다."
   ]
  },
  {
   "cell_type": "code",
   "execution_count": 11,
   "metadata": {},
   "outputs": [
    {
     "name": "stdout",
     "output_type": "stream",
     "text": [
      "(891, 13)\n"
     ]
    },
    {
     "data": {
      "text/plain": "             Pclass Pclass(humanized)\nPassengerId                          \n1                 3           Economy\n2                 1       First Class\n3                 3           Economy\n4                 1       First Class\n5                 3           Economy",
      "text/html": "<div>\n<style scoped>\n    .dataframe tbody tr th:only-of-type {\n        vertical-align: middle;\n    }\n\n    .dataframe tbody tr th {\n        vertical-align: top;\n    }\n\n    .dataframe thead th {\n        text-align: right;\n    }\n</style>\n<table border=\"1\" class=\"dataframe\">\n  <thead>\n    <tr style=\"text-align: right;\">\n      <th></th>\n      <th>Pclass</th>\n      <th>Pclass(humanized)</th>\n    </tr>\n    <tr>\n      <th>PassengerId</th>\n      <th></th>\n      <th></th>\n    </tr>\n  </thead>\n  <tbody>\n    <tr>\n      <th>1</th>\n      <td>3</td>\n      <td>Economy</td>\n    </tr>\n    <tr>\n      <th>2</th>\n      <td>1</td>\n      <td>First Class</td>\n    </tr>\n    <tr>\n      <th>3</th>\n      <td>3</td>\n      <td>Economy</td>\n    </tr>\n    <tr>\n      <th>4</th>\n      <td>1</td>\n      <td>First Class</td>\n    </tr>\n    <tr>\n      <th>5</th>\n      <td>3</td>\n      <td>Economy</td>\n    </tr>\n  </tbody>\n</table>\n</div>"
     },
     "execution_count": 11,
     "metadata": {},
     "output_type": "execute_result"
    }
   ],
   "source": [
    "# Survived 컬럼이 0인 값을 Perish로, 1인 값을 Survived로 대체(replace)합니다.\n",
    "train[\"Pclass(humanized)\"] = train[\"Pclass\"].replace(1, \"First Class\") \\\n",
    "                                            .replace(2, \"Business\") \\\n",
    "                                            .replace(3, \"Economy\")\n",
    "\n",
    "# train 변수에 할당된 데이터의 행렬 사이즈를 출력합니다.\n",
    "# 출력은 (row, column) 으로 표시됩니다.\n",
    "print(train.shape)\n",
    "\n",
    "# Pclass 컬럼과 Pclass(humanized) 컬럼 두 개를 출력하여 비교합니다.\n",
    "train[[\"Pclass\", \"Pclass(humanized)\"]].head()"
   ]
  },
  {
   "cell_type": "markdown",
   "metadata": {},
   "source": [
    "또한 이번에는 Pclass가 아닌 새롭게 만든 Pclass(humanized) 컬럼으로 pivot_table을 만들어주세요. 최종적으로는 다음의 결과가 나와야 합니다."
   ]
  },
  {
   "cell_type": "markdown",
   "metadata": {},
   "source": [
    "<table border=\"1\" class=\"dataframe\" style=\"float: left;\">\n",
    "   <thead>\n",
    "      <tr style=\"text-align: right;\">\n",
    "         <th></th>\n",
    "         <th>Survived</th>\n",
    "      </tr>\n",
    "      <tr>\n",
    "         <th>Pclass(humanized)</th>\n",
    "         <th></th>\n",
    "      </tr>\n",
    "   </thead>\n",
    "   <tbody>\n",
    "      <tr>\n",
    "         <th>Business</th>\n",
    "         <td>0.472826</td>\n",
    "      </tr>\n",
    "      <tr>\n",
    "         <th>Economy</th>\n",
    "         <td>0.242363</td>\n",
    "      </tr>\n",
    "      <tr>\n",
    "         <th>First Class</th>\n",
    "         <td>0.629630</td>\n",
    "      </tr>\n",
    "   </tbody>\n",
    "</table>"
   ]
  },
  {
   "cell_type": "code",
   "execution_count": 12,
   "metadata": {},
   "outputs": [
    {
     "data": {
      "text/plain": "                   Survived\nPclass(humanized)          \nBusiness           0.472826\nEconomy            0.242363\nFirst Class        0.629630",
      "text/html": "<div>\n<style scoped>\n    .dataframe tbody tr th:only-of-type {\n        vertical-align: middle;\n    }\n\n    .dataframe tbody tr th {\n        vertical-align: top;\n    }\n\n    .dataframe thead th {\n        text-align: right;\n    }\n</style>\n<table border=\"1\" class=\"dataframe\">\n  <thead>\n    <tr style=\"text-align: right;\">\n      <th></th>\n      <th>Survived</th>\n    </tr>\n    <tr>\n      <th>Pclass(humanized)</th>\n      <th></th>\n    </tr>\n  </thead>\n  <tbody>\n    <tr>\n      <th>Business</th>\n      <td>0.472826</td>\n    </tr>\n    <tr>\n      <th>Economy</th>\n      <td>0.242363</td>\n    </tr>\n    <tr>\n      <th>First Class</th>\n      <td>0.629630</td>\n    </tr>\n  </tbody>\n</table>\n</div>"
     },
     "execution_count": 12,
     "metadata": {},
     "output_type": "execute_result"
    }
   ],
   "source": [
    "# pandas의 pivot_table을 활용하여 Pclass별 생존률을 출력합니다.\n",
    "# 하지만 이번에는 Pclass 컬럼이 아닌 Pclass(humanized) 컬럼을 사용합니다.\n",
    "# 이전에 비해서 훨씬 더 직관적으로 생존률을 확인할 수 있습니다.\n",
    "pd.pivot_table(data=train, index=\"Pclass(humanized)\", values=\"Survived\")"
   ]
  },
  {
   "cell_type": "markdown",
   "metadata": {},
   "source": [
    "그리고 이를 활용해 seaborn의 countplot으로 시각화 할 수 있습니다."
   ]
  },
  {
   "cell_type": "code",
   "execution_count": 13,
   "metadata": {},
   "outputs": [
    {
     "data": {
      "text/plain": "<matplotlib.axes._subplots.AxesSubplot at 0x1dc7fdf2700>"
     },
     "execution_count": 13,
     "metadata": {},
     "output_type": "execute_result"
    },
    {
     "data": {
      "text/plain": "<Figure size 432x288 with 1 Axes>",
      "image/png": "[encoded data removed]"
     },
     "metadata": {
      "needs_background": "light"
     },
     "output_type": "display_data"
    }
   ],
   "source": [
    "# 시본(seaborn)의 countplot으로 Pclass별 생존자와 사망자의 차이를 시각화합니다.\n",
    "sns.countplot(data=train, x=\"Pclass(humanized)\", hue=\"Survived(humanized)\")"
   ]
  },
  {
   "cell_type": "markdown",
   "metadata": {},
   "source": [
    "**4. Embarked 컬럼에 들어가 있는 값을 읽기 쉬운 표현으로 바꿔주세요.**\n",
    "\n",
    "Embarked 컬럼도 마찬가지로 C, S, Q라는 표현은 직관적이지 않습니다. 저라면 사람이 조금 더 이해하기 쉽게끔 C는 Cherbourg 라는 표현으로, S는 Southampton 이라는 표현으로, 그리고 Q는 Queenstown 이라는 표현으로 바꾸겠습니다."
   ]
  },
  {
   "cell_type": "code",
   "execution_count": 14,
   "metadata": {},
   "outputs": [
    {
     "data": {
      "text/plain": "          Survived\nEmbarked          \nC         0.553571\nQ         0.389610\nS         0.336957",
      "text/html": "<div>\n<style scoped>\n    .dataframe tbody tr th:only-of-type {\n        vertical-align: middle;\n    }\n\n    .dataframe tbody tr th {\n        vertical-align: top;\n    }\n\n    .dataframe thead th {\n        text-align: right;\n    }\n</style>\n<table border=\"1\" class=\"dataframe\">\n  <thead>\n    <tr style=\"text-align: right;\">\n      <th></th>\n      <th>Survived</th>\n    </tr>\n    <tr>\n      <th>Embarked</th>\n      <th></th>\n    </tr>\n  </thead>\n  <tbody>\n    <tr>\n      <th>C</th>\n      <td>0.553571</td>\n    </tr>\n    <tr>\n      <th>Q</th>\n      <td>0.389610</td>\n    </tr>\n    <tr>\n      <th>S</th>\n      <td>0.336957</td>\n    </tr>\n  </tbody>\n</table>\n</div>"
     },
     "execution_count": 14,
     "metadata": {},
     "output_type": "execute_result"
    }
   ],
   "source": [
    "# pandas의 pivot_table을 활용하여 Embarked 별 생존률을 출력합니다.\n",
    "# 여기서도 Embarked 컬럼이 C, S, Q라는 다소 직관적이지 않은 값이 나옵니다.\n",
    "# 그러므로 Embarked 컬럼의 값도 Pclass 처럼 직관적으로 바꿔주고 싶습니다.\n",
    "pd.pivot_table(data=train, index=\"Embarked\", values=\"Survived\")"
   ]
  },
  {
   "cell_type": "markdown",
   "metadata": {},
   "source": [
    "Survived(humanized), Pclass(humanized)와 마찬가지로, Embarked 컬럼도 **Embarked(humanized)**라는 이름의 새로운 컬럼을 만들어주세요. 이 컬럼에는 C, S, Q가 아닌 Cherbourg, Southampton, Queenstown이라는 값이 들어갑니다. 최종적으로는 다음의 결과가 나와야 합니다."
   ]
  },
  {
   "cell_type": "markdown",
   "metadata": {},
   "source": [
    "<table border=\"1\" class=\"dataframe\" style=\"float: left;\">\n",
    "   <thead>\n",
    "      <tr style=\"text-align: right;\">\n",
    "         <th></th>\n",
    "         <th>Embarked</th>\n",
    "         <th>Embarked(humanized)</th>\n",
    "      </tr>\n",
    "      <tr>\n",
    "         <th>PassengerId</th>\n",
    "         <th></th>\n",
    "         <th></th>\n",
    "      </tr>\n",
    "   </thead>\n",
    "   <tbody>\n",
    "      <tr>\n",
    "         <th>1</th>\n",
    "         <td>S</td>\n",
    "         <td>Southampton</td>\n",
    "      </tr>\n",
    "      <tr>\n",
    "         <th>2</th>\n",
    "         <td>C</td>\n",
    "         <td>Cherbourg</td>\n",
    "      </tr>\n",
    "      <tr>\n",
    "         <th>3</th>\n",
    "         <td>S</td>\n",
    "         <td>Southampton</td>\n",
    "      </tr>\n",
    "      <tr>\n",
    "         <th>4</th>\n",
    "         <td>S</td>\n",
    "         <td>Southampton</td>\n",
    "      </tr>\n",
    "      <tr>\n",
    "         <th>5</th>\n",
    "         <td>S</td>\n",
    "         <td>Southampton</td>\n",
    "      </tr>\n",
    "   </tbody>\n",
    "</table>"
   ]
  },
  {
   "cell_type": "markdown",
   "metadata": {},
   "source": [
    "또한 위 내용을 바탕으로 **Embarked(humanized)**별 생존자와 사망자의 차이를 시각화해주세요. 최종적으로는 다음의 결과가 나와야 합니다.\n",
    "\n",
    "![quiz-4](https://drive.google.com/uc?export=view&id=1BlNsp21mz5Xi0gKq0BKd46ZFB2IqIVyq)"
   ]
  },
  {
   "cell_type": "code",
   "execution_count": 15,
   "metadata": {},
   "outputs": [
    {
     "name": "stdout",
     "output_type": "stream",
     "text": [
      "(891, 14)\n"
     ]
    },
    {
     "data": {
      "text/plain": "            Embarked Embarked(humanized)\nPassengerId                             \n1                  S         Southampton\n2                  C           Cherbourg\n3                  S         Southampton\n4                  S         Southampton\n5                  S         Southampton",
      "text/html": "<div>\n<style scoped>\n    .dataframe tbody tr th:only-of-type {\n        vertical-align: middle;\n    }\n\n    .dataframe tbody tr th {\n        vertical-align: top;\n    }\n\n    .dataframe thead th {\n        text-align: right;\n    }\n</style>\n<table border=\"1\" class=\"dataframe\">\n  <thead>\n    <tr style=\"text-align: right;\">\n      <th></th>\n      <th>Embarked</th>\n      <th>Embarked(humanized)</th>\n    </tr>\n    <tr>\n      <th>PassengerId</th>\n      <th></th>\n      <th></th>\n    </tr>\n  </thead>\n  <tbody>\n    <tr>\n      <th>1</th>\n      <td>S</td>\n      <td>Southampton</td>\n    </tr>\n    <tr>\n      <th>2</th>\n      <td>C</td>\n      <td>Cherbourg</td>\n    </tr>\n    <tr>\n      <th>3</th>\n      <td>S</td>\n      <td>Southampton</td>\n    </tr>\n    <tr>\n      <th>4</th>\n      <td>S</td>\n      <td>Southampton</td>\n    </tr>\n    <tr>\n      <th>5</th>\n      <td>S</td>\n      <td>Southampton</td>\n    </tr>\n  </tbody>\n</table>\n</div>"
     },
     "execution_count": 15,
     "metadata": {},
     "output_type": "execute_result"
    }
   ],
   "source": [
    "# 먼저 Embarked 컬럼이 C인 승객을 색인합니다. 이후 Embarked(humanized)라는 이름의\n",
    "# 새로운 컬럼을 만들어 여기에 \"Cherbourg\" 라는 값을 넣습니다.\n",
    "train.loc[train[\"Embarked\"] == \"C\", \"Embarked(humanized)\"] = \"Cherbourg\"\n",
    "\n",
    "# 비슷하게 Embarked 컬럼이 2인 승객을 찾아 Embarked(humanized)에 \"Southampton\" 이라는 값을 넣습니다.\n",
    "train.loc[train[\"Embarked\"] == \"S\", \"Embarked(humanized)\"] = \"Southampton\"\n",
    "\n",
    "# 비슷하게 Embarked 컬럼이 3인 승객을 찾아 Embarked(humanized)에 \"Queenstown\" 이라는 값을 넣습니다.\n",
    "train.loc[train[\"Embarked\"] == \"Q\", \"Embarked(humanized)\"] = \"Queenstown\"\n",
    "\n",
    "# train 변수에 할당된 데이터의 행렬 사이즈를 출력합니다.\n",
    "# 출력은 (row, column) 으로 표시됩니다.\n",
    "print(train.shape)\n",
    "\n",
    "# Embarked 컬럼과 Embarked(humanized) 컬럼 두 개를 출력하여 비교합니다.\n",
    "train[[\"Embarked\", \"Embarked(humanized)\"]].head()"
   ]
  },
  {
   "cell_type": "markdown",
   "metadata": {},
   "source": [
    "마찬가지로 다음의 방식으로도 구현 가능합니다."
   ]
  },
  {
   "cell_type": "code",
   "execution_count": 16,
   "metadata": {},
   "outputs": [
    {
     "name": "stdout",
     "output_type": "stream",
     "text": [
      "(891, 14)\n"
     ]
    },
    {
     "data": {
      "text/plain": "            Embarked Embarked(humanized)\nPassengerId                             \n1                  S         Southampton\n2                  C           Cherbourg\n3                  S         Southampton\n4                  S         Southampton\n5                  S         Southampton",
      "text/html": "<div>\n<style scoped>\n    .dataframe tbody tr th:only-of-type {\n        vertical-align: middle;\n    }\n\n    .dataframe tbody tr th {\n        vertical-align: top;\n    }\n\n    .dataframe thead th {\n        text-align: right;\n    }\n</style>\n<table border=\"1\" class=\"dataframe\">\n  <thead>\n    <tr style=\"text-align: right;\">\n      <th></th>\n      <th>Embarked</th>\n      <th>Embarked(humanized)</th>\n    </tr>\n    <tr>\n      <th>PassengerId</th>\n      <th></th>\n      <th></th>\n    </tr>\n  </thead>\n  <tbody>\n    <tr>\n      <th>1</th>\n      <td>S</td>\n      <td>Southampton</td>\n    </tr>\n    <tr>\n      <th>2</th>\n      <td>C</td>\n      <td>Cherbourg</td>\n    </tr>\n    <tr>\n      <th>3</th>\n      <td>S</td>\n      <td>Southampton</td>\n    </tr>\n    <tr>\n      <th>4</th>\n      <td>S</td>\n      <td>Southampton</td>\n    </tr>\n    <tr>\n      <th>5</th>\n      <td>S</td>\n      <td>Southampton</td>\n    </tr>\n  </tbody>\n</table>\n</div>"
     },
     "execution_count": 16,
     "metadata": {},
     "output_type": "execute_result"
    }
   ],
   "source": [
    "# Survived 컬럼이 0인 값을 Perish로, 1인 값을 Survived로 대체(replace)합니다.\n",
    "train[\"Embarked(humanized)\"] = train[\"Embarked\"].replace(\"C\", \"Cherbourg\") \\\n",
    "                                                .replace(\"S\", \"Southampton\") \\\n",
    "                                                .replace(\"Q\", \"Queenstown\")\n",
    "\n",
    "# train 변수에 할당된 데이터의 행렬 사이즈를 출력합니다.\n",
    "# 출력은 (row, column) 으로 표시됩니다.\n",
    "print(train.shape)\n",
    "\n",
    "# Embarked 컬럼과 Embarked(humanized) 컬럼 두 개를 출력하여 비교합니다.\n",
    "train[[\"Embarked\", \"Embarked(humanized)\"]].head()"
   ]
  },
  {
   "cell_type": "markdown",
   "metadata": {},
   "source": [
    "그리고 마찬가지로 이번에도 Embarked가 아닌 새롭게 만든 Embarked(humanized) 컬럼으로 pivot_table을 만들어주세요. 여기에는 Cherbourg, Southampton, 그리고 Queenstown 에 탑승한 승객의 생존률이 출력됩니다. 최종적으로는 다음의 결과가 나와야 합니다."
   ]
  },
  {
   "cell_type": "markdown",
   "metadata": {},
   "source": [
    "<table border=\"1\" class=\"dataframe\" style=\"float: left;\">\n",
    "   <thead>\n",
    "      <tr style=\"text-align: right;\">\n",
    "         <th></th>\n",
    "         <th>Survived</th>\n",
    "      </tr>\n",
    "      <tr>\n",
    "         <th>Embarked(humanized)</th>\n",
    "         <th></th>\n",
    "      </tr>\n",
    "   </thead>\n",
    "   <tbody>\n",
    "      <tr>\n",
    "         <th>Cherbourg</th>\n",
    "         <td>0.553571</td>\n",
    "      </tr>\n",
    "      <tr>\n",
    "         <th>Queenstown</th>\n",
    "         <td>0.389610</td>\n",
    "      </tr>\n",
    "      <tr>\n",
    "         <th>Southampton</th>\n",
    "         <td>0.336957</td>\n",
    "      </tr>\n",
    "   </tbody>\n",
    "</table>"
   ]
  },
  {
   "cell_type": "code",
   "execution_count": 17,
   "metadata": {},
   "outputs": [
    {
     "data": {
      "text/plain": "                     Survived\nEmbarked(humanized)          \nCherbourg            0.553571\nQueenstown           0.389610\nSouthampton          0.336957",
      "text/html": "<div>\n<style scoped>\n    .dataframe tbody tr th:only-of-type {\n        vertical-align: middle;\n    }\n\n    .dataframe tbody tr th {\n        vertical-align: top;\n    }\n\n    .dataframe thead th {\n        text-align: right;\n    }\n</style>\n<table border=\"1\" class=\"dataframe\">\n  <thead>\n    <tr style=\"text-align: right;\">\n      <th></th>\n      <th>Survived</th>\n    </tr>\n    <tr>\n      <th>Embarked(humanized)</th>\n      <th></th>\n    </tr>\n  </thead>\n  <tbody>\n    <tr>\n      <th>Cherbourg</th>\n      <td>0.553571</td>\n    </tr>\n    <tr>\n      <th>Queenstown</th>\n      <td>0.389610</td>\n    </tr>\n    <tr>\n      <th>Southampton</th>\n      <td>0.336957</td>\n    </tr>\n  </tbody>\n</table>\n</div>"
     },
     "execution_count": 17,
     "metadata": {},
     "output_type": "execute_result"
    }
   ],
   "source": [
    "# pandas의 pivot_table을 활용하여 Embarked별 생존률을 출력합니다.\n",
    "# 마찬가지로 Embarked 컬럼이 아닌 Embarked(humanized) 컬럼을 사용합니다.\n",
    "# 이전에 비해서 훨씬 더 직관적으로 생존률을 확인할 수 있습니다.\n",
    "pd.pivot_table(data=train, index=\"Embarked(humanized)\", values=\"Survived\")"
   ]
  },
  {
   "cell_type": "markdown",
   "metadata": {},
   "source": [
    "그리고 이를 활용해 seaborn의 countplot으로 시각화 할 수 있습니다."
   ]
  },
  {
   "cell_type": "code",
   "execution_count": 18,
   "metadata": {},
   "outputs": [
    {
     "data": {
      "text/plain": "<matplotlib.axes._subplots.AxesSubplot at 0x1dc7feaebb0>"
     },
     "execution_count": 18,
     "metadata": {},
     "output_type": "execute_result"
    },
    {
     "data": {
      "text/plain": "<Figure size 432x288 with 1 Axes>",
      "image/png": "[encoded data removed]"
     },
     "metadata": {
      "needs_background": "light"
     },
     "output_type": "display_data"
    }
   ],
   "source": [
    "# 시본(seaborn)의 countplot으로 Embarked별 생존자와 사망자의 차이를 시각화합니다.\n",
    "sns.countplot(data=train, x=\"Embarked(humanized)\", hue=\"Survived(humanized)\")"
   ]
  },
  {
   "cell_type": "markdown",
   "metadata": {
    "collapsed": true
   },
   "source": [
    "### 나이(Age) 컬럼 분석"
   ]
  },
  {
   "cell_type": "markdown",
   "metadata": {
    "collapsed": true
   },
   "source": [
    "**5. 나이(Age) 컬럼에서 다음의 정보를 출력해주세요.**\n",
    "\n",
    "  * 평균(mean)\n",
    "  * 가장 나이가 많은 사람. (max)\n",
    "  * 가장 나이가 적은 사람. (min)\n",
    "  \n",
    "가령 평균은 약 29.7세, 가장 어린 사람은 0.42세(약 생후 4개월), 가장 나이가 많은 사람은 80세가 나와야 합니다."
   ]
  },
  {
   "cell_type": "code",
   "execution_count": 19,
   "metadata": {},
   "outputs": [
    {
     "data": {
      "text/plain": "29.69911764705882"
     },
     "execution_count": 19,
     "metadata": {},
     "output_type": "execute_result"
    }
   ],
   "source": [
    "# 나이(Age) 컬럼에서 mean 함수를 통해 평균 나이를 구합니다.\n",
    "# 평균 나이가 약 29.7세라는 것을 알 수 있습니다.\n",
    "train[\"Age\"].mean()"
   ]
  },
  {
   "cell_type": "code",
   "execution_count": 20,
   "metadata": {},
   "outputs": [
    {
     "data": {
      "text/plain": "0.42"
     },
     "execution_count": 20,
     "metadata": {},
     "output_type": "execute_result"
    }
   ],
   "source": [
    "# 나이(Age) 컬럼에서 min 함수를 통해 나이의 최소치를 구합니다.\n",
    "# 타이타닉호에 탑승한 가장 어린 승객은 약 0.42세(생후 4개월 정도)라는 것을 알 수 있습니다.\n",
    "train[\"Age\"].min()"
   ]
  },
  {
   "cell_type": "code",
   "execution_count": 21,
   "metadata": {},
   "outputs": [
    {
     "data": {
      "text/plain": "80.0"
     },
     "execution_count": 21,
     "metadata": {},
     "output_type": "execute_result"
    }
   ],
   "source": [
    "# 나이(Age) 컬럼에서 max 함수를 통해 나이의 최대치 구합니다.\n",
    "# 타이타닉호에 탑승한 가장 나이가 많은 승객은 80세라는 것을 알 수 있습니다.\n",
    "train[\"Age\"].max()"
   ]
  },
  {
   "cell_type": "markdown",
   "metadata": {},
   "source": [
    "또는 판다스의 [describe](https://pandas.pydata.org/pandas-docs/stable/generated/pandas.DataFrame.describe.html)를 활용하면 한 줄의 코드로 평균, 분산, 최소치, 최대치를 볼 수 있습니다."
   ]
  },
  {
   "cell_type": "code",
   "execution_count": 22,
   "metadata": {},
   "outputs": [
    {
     "data": {
      "text/plain": "count    714.000000\nmean      29.699118\nstd       14.526497\nmin        0.420000\n25%       20.125000\n50%       28.000000\n75%       38.000000\nmax       80.000000\nName: Age, dtype: float64"
     },
     "execution_count": 22,
     "metadata": {},
     "output_type": "execute_result"
    }
   ],
   "source": [
    "# 나이(Age) 컬럼에 대해 describe 함수를 사용합니다.\n",
    "# 이 함수는 특정 컬럼의 평균, 분산, 최대치, 최소치와 같은 기초적인 통계치를 보여줍니다.\n",
    "train[\"Age\"].describe()"
   ]
  },
  {
   "cell_type": "markdown",
   "metadata": {
    "collapsed": true
   },
   "source": [
    "**6. 객실 등급별 나이(Age) 컬럼의 평균을 보여주세요.**\n",
    "\n",
    "이번에는 전체 평균이 아닌 객실 등급(Pclass)별 평균을 보고 싶습니다.\n",
    "\n",
    "가령 전체 승객의 평균 나이는 약 29.7세이지만, 1등급 승객의 평균 나이는 약 38.2세가 나와야 합니다. 비슷한 방식으로 2등급과 3등급 승객의 평균 나이를 알 수 있다면 좋겠습니다."
   ]
  },
  {
   "cell_type": "code",
   "execution_count": 23,
   "metadata": {},
   "outputs": [
    {
     "data": {
      "text/plain": "38.233440860215055"
     },
     "execution_count": 23,
     "metadata": {},
     "output_type": "execute_result"
    }
   ],
   "source": [
    "# Pclass가 1등급인 승객만 색인해서 가져온 뒤, 이를 Pclass1이라는 변수에 할당합니다.\n",
    "pclass1 = train[train[\"Pclass\"] == 1]\n",
    "\n",
    "# 1등급 승객의 평균 나이를 구합니다.\n",
    "pclass1[\"Age\"].mean()"
   ]
  },
  {
   "cell_type": "code",
   "execution_count": 24,
   "metadata": {},
   "outputs": [
    {
     "data": {
      "text/plain": "29.87763005780347"
     },
     "execution_count": 24,
     "metadata": {},
     "output_type": "execute_result"
    }
   ],
   "source": [
    "# Pclass가 2등급인 승객만 색인해서 가져온 뒤, 이를 Pclass2이라는 변수에 할당합니다.\n",
    "pclass2 = train[train[\"Pclass\"] == 2]\n",
    "\n",
    "# 2등급 승객의 평균 나이를 구합니다.\n",
    "pclass2[\"Age\"].mean()"
   ]
  },
  {
   "cell_type": "code",
   "execution_count": 25,
   "metadata": {},
   "outputs": [
    {
     "data": {
      "text/plain": "25.14061971830986"
     },
     "execution_count": 25,
     "metadata": {},
     "output_type": "execute_result"
    }
   ],
   "source": [
    "# Pclass가 3등급인 승객만 색인해서 가져온 뒤, 이를 Pclass3이라는 변수에 할당합니다.\n",
    "pclass3 = train[train[\"Pclass\"] == 3]\n",
    "\n",
    "# 3등급 승객의 평균 나이를 구합니다.\n",
    "pclass3[\"Age\"].mean()"
   ]
  },
  {
   "cell_type": "markdown",
   "metadata": {},
   "source": [
    "또는 판다스의 [groupby](https://pandas.pydata.org/pandas-docs/stable/generated/pandas.DataFrame.groupby.html)를 활용하면 한 줄의 코드로 1, 2, 3등급 승객의 평균 나이를 가져올 수 있습니다."
   ]
  },
  {
   "cell_type": "code",
   "execution_count": 26,
   "metadata": {},
   "outputs": [
    {
     "data": {
      "text/plain": "Pclass\n1    38.233441\n2    29.877630\n3    25.140620\nName: Age, dtype: float64"
     },
     "execution_count": 26,
     "metadata": {},
     "output_type": "execute_result"
    }
   ],
   "source": [
    "# 타이타닉 데이터를 Pclass 기준으로 그룹화합니다.\n",
    "# 이렇게 하면 Pclass의 세 종류(1등급, 2등급, 3등급)마다 따로따로 연산을 할 수 있습니다.\n",
    "# 이후 나이(Age) 컬럼의 평균(mean)을 구하면 1, 2, 3등급마다의 평균 나이가 나옵니다.\n",
    "train.groupby(\"Pclass\")[\"Age\"].mean()"
   ]
  },
  {
   "cell_type": "markdown",
   "metadata": {},
   "source": [
    "비슷한 기능을 pivot_table로도 할 수 있습니다."
   ]
  },
  {
   "cell_type": "code",
   "execution_count": 27,
   "metadata": {},
   "outputs": [
    {
     "data": {
      "text/plain": "              Age\nPclass           \n1       38.233441\n2       29.877630\n3       25.140620",
      "text/html": "<div>\n<style scoped>\n    .dataframe tbody tr th:only-of-type {\n        vertical-align: middle;\n    }\n\n    .dataframe tbody tr th {\n        vertical-align: top;\n    }\n\n    .dataframe thead th {\n        text-align: right;\n    }\n</style>\n<table border=\"1\" class=\"dataframe\">\n  <thead>\n    <tr style=\"text-align: right;\">\n      <th></th>\n      <th>Age</th>\n    </tr>\n    <tr>\n      <th>Pclass</th>\n      <th></th>\n    </tr>\n  </thead>\n  <tbody>\n    <tr>\n      <th>1</th>\n      <td>38.233441</td>\n    </tr>\n    <tr>\n      <th>2</th>\n      <td>29.877630</td>\n    </tr>\n    <tr>\n      <th>3</th>\n      <td>25.140620</td>\n    </tr>\n  </tbody>\n</table>\n</div>"
     },
     "execution_count": 27,
     "metadata": {},
     "output_type": "execute_result"
    }
   ],
   "source": [
    "# pandas의 pivot_table을 활용하여 Pclass별 평균 나이(Age)를 출력합니다.\n",
    "# 이전에 비해서 훨씬 더 깔끔하게 출력할 수 있습니다.\n",
    "pd.pivot_table(data=train, index=\"Pclass\", values=\"Age\")"
   ]
  },
  {
   "cell_type": "markdown",
   "metadata": {},
   "source": [
    "**7. 나이를 일정 구역으로 나눠서, 구역마다의 생존률을 보여주세요.**\n",
    "\n",
    "이번에는 나이(Age)별 생존률을 확인하고 싶습니다. 다만 나이 컬럼은 숫자이기 때문에, 그대로 쓰지 않고 일정 구역으로 나눈 뒤 생존률의 통계를 내는 것이 보기 편할 것입니다. 그러므로 나이 컬럼을 다음의 세 구역으로 나눕니다.\n",
    "\n",
    "  1. 나이가 15세 미만인 승객.\n",
    "  2. 나이가 15세 이상이고 30세 미만인 승객.\n",
    "  3. 나이가 30세 이상인 승객.\n",
    "\n",
    "최종적으로는 다음의 결과가 나와야 합니다."
   ]
  },
  {
   "cell_type": "markdown",
   "metadata": {},
   "source": [
    "<table border=\"1\" class=\"dataframe\" style=\"float: left;\">\n",
    "   <thead>\n",
    "      <tr style=\"text-align: right;\">\n",
    "         <th></th>\n",
    "         <th>Age</th>\n",
    "         <th>AgeType</th>\n",
    "      </tr>\n",
    "      <tr>\n",
    "         <th>PassengerId</th>\n",
    "         <th></th>\n",
    "         <th></th>\n",
    "      </tr>\n",
    "   </thead>\n",
    "   <tbody>\n",
    "      <tr>\n",
    "         <th>1</th>\n",
    "         <td>22.0</td>\n",
    "         <td>Medium</td>\n",
    "      </tr>\n",
    "      <tr>\n",
    "         <th>2</th>\n",
    "         <td>38.0</td>\n",
    "         <td>Old</td>\n",
    "      </tr>\n",
    "      <tr>\n",
    "         <th>3</th>\n",
    "         <td>26.0</td>\n",
    "         <td>Medium</td>\n",
    "      </tr>\n",
    "      <tr>\n",
    "         <th>4</th>\n",
    "         <td>35.0</td>\n",
    "         <td>Old</td>\n",
    "      </tr>\n",
    "      <tr>\n",
    "         <th>5</th>\n",
    "         <td>35.0</td>\n",
    "         <td>Old</td>\n",
    "      </tr>\n",
    "      <tr>\n",
    "         <th>6</th>\n",
    "         <td>NaN</td>\n",
    "         <td>NaN</td>\n",
    "      </tr>\n",
    "      <tr>\n",
    "         <th>7</th>\n",
    "         <td>54.0</td>\n",
    "         <td>Old</td>\n",
    "      </tr>\n",
    "      <tr>\n",
    "         <th>8</th>\n",
    "         <td>2.0</td>\n",
    "         <td>Young</td>\n",
    "      </tr>\n",
    "      <tr>\n",
    "         <th>9</th>\n",
    "         <td>27.0</td>\n",
    "         <td>Medium</td>\n",
    "      </tr>\n",
    "      <tr>\n",
    "         <th>10</th>\n",
    "         <td>14.0</td>\n",
    "         <td>Young</td>\n",
    "      </tr>\n",
    "   </tbody>\n",
    "</table>"
   ]
  },
  {
   "cell_type": "markdown",
   "metadata": {},
   "source": [
    "또한, 위 조건에서 1번, 2번, 3번 구역에 해당하는 승객의 평균 생존률을 구하고 싶습니다.\n",
    "\n",
    "가령 1번 구역(나이가 15세 미만)에 해당하는 승객의 평균 생존률은 약 57.7%가 나와야 합니다."
   ]
  },
  {
   "cell_type": "markdown",
   "metadata": {},
   "source": [
    "마지막으로 이를 활용해 1) 구역별 생존자와 사망자의 차이, 2) 구역별 평균 나이를 시각화 해주세요. 최종적으로는 다음의 결과가 나와야 합니다.\n",
    "\n",
    "![quiz-7-1](https://drive.google.com/uc?export=view&id=15otOk_H9yHbARzoSBSbWIzMcswpQ7olE)"
   ]
  },
  {
   "cell_type": "markdown",
   "metadata": {},
   "source": [
    "![quiz-7-2](https://drive.google.com/uc?export=view&id=1n49DVaxgf2au5eXgnzSV0wY3PoHw02gL)"
   ]
  },
  {
   "cell_type": "code",
   "execution_count": 28,
   "metadata": {},
   "outputs": [
    {
     "name": "stdout",
     "output_type": "stream",
     "text": [
      "(891, 15)\n"
     ]
    },
    {
     "data": {
      "text/plain": "              Age AgeType\nPassengerId              \n1            22.0  Medium\n2            38.0     Old\n3            26.0  Medium\n4            35.0     Old\n5            35.0     Old\n6             NaN     NaN\n7            54.0     Old\n8             2.0   Young\n9            27.0  Medium\n10           14.0   Young",
      "text/html": "<div>\n<style scoped>\n    .dataframe tbody tr th:only-of-type {\n        vertical-align: middle;\n    }\n\n    .dataframe tbody tr th {\n        vertical-align: top;\n    }\n\n    .dataframe thead th {\n        text-align: right;\n    }\n</style>\n<table border=\"1\" class=\"dataframe\">\n  <thead>\n    <tr style=\"text-align: right;\">\n      <th></th>\n      <th>Age</th>\n      <th>AgeType</th>\n    </tr>\n    <tr>\n      <th>PassengerId</th>\n      <th></th>\n      <th></th>\n    </tr>\n  </thead>\n  <tbody>\n    <tr>\n      <th>1</th>\n      <td>22.0</td>\n      <td>Medium</td>\n    </tr>\n    <tr>\n      <th>2</th>\n      <td>38.0</td>\n      <td>Old</td>\n    </tr>\n    <tr>\n      <th>3</th>\n      <td>26.0</td>\n      <td>Medium</td>\n    </tr>\n    <tr>\n      <th>4</th>\n      <td>35.0</td>\n      <td>Old</td>\n    </tr>\n    <tr>\n      <th>5</th>\n      <td>35.0</td>\n      <td>Old</td>\n    </tr>\n    <tr>\n      <th>6</th>\n      <td>NaN</td>\n      <td>NaN</td>\n    </tr>\n    <tr>\n      <th>7</th>\n      <td>54.0</td>\n      <td>Old</td>\n    </tr>\n    <tr>\n      <th>8</th>\n      <td>2.0</td>\n      <td>Young</td>\n    </tr>\n    <tr>\n      <th>9</th>\n      <td>27.0</td>\n      <td>Medium</td>\n    </tr>\n    <tr>\n      <th>10</th>\n      <td>14.0</td>\n      <td>Young</td>\n    </tr>\n  </tbody>\n</table>\n</div>"
     },
     "execution_count": 28,
     "metadata": {},
     "output_type": "execute_result"
    }
   ],
   "source": [
    "# 나이가 15세 미만인 승객을 색인한 뒤, AgeType이라는 새로운 컬럼에 \"Young\"이라는 값을 넣습니다.\n",
    "train.loc[train[\"Age\"] < 15, \"AgeType\"] = \"Young\"\n",
    "\n",
    "# 비슷하게 나이가 15세 이상 30세 미만인 승객의 AgeType에는 \"Medium\"이라는 값을 넣습니다.\n",
    "train.loc[(train[\"Age\"] >= 15) & (train[\"Age\"] < 30), \"AgeType\"] = \"Medium\"\n",
    "\n",
    "# 비슷하겍 30세 이상인 승객의 AgeType에는 \"Old\"이라는 값을 넣습니다.\n",
    "train.loc[train[\"Age\"] >= 30, \"AgeType\"] = \"Old\"\n",
    "\n",
    "# train 변수에 할당된 데이터의 행렬 사이즈를 출력합니다.\n",
    "# 출력은 (row, column) 으로 표시됩니다.\n",
    "print(train.shape)\n",
    "\n",
    "# 나이(Age) 컬럼과 AgeType 컬럼을 출력하여 비교합니다.\n",
    "train[[\"Age\", \"AgeType\"]].head(10)"
   ]
  },
  {
   "cell_type": "code",
   "execution_count": 29,
   "metadata": {},
   "outputs": [
    {
     "data": {
      "text/plain": "AgeType\nMedium    0.362745\nOld       0.406061\nYoung     0.576923\nName: Survived, dtype: float64"
     },
     "execution_count": 29,
     "metadata": {},
     "output_type": "execute_result"
    }
   ],
   "source": [
    "# 타이타닉 데이터를 AgeType 기준으로 그룹화합니다.\n",
    "# 이후 생존 여부(Survived) 컬럼의 평균(mean)을 구하면 Young, Medium, Old 마다의 평균 생존률이 나옵니다.\n",
    "train.groupby(\"AgeType\")[\"Survived\"].mean()"
   ]
  },
  {
   "cell_type": "markdown",
   "metadata": {},
   "source": [
    "마찬가지로 countplot을 이용해 시각화 할 수 있습니다."
   ]
  },
  {
   "cell_type": "code",
   "execution_count": 30,
   "metadata": {},
   "outputs": [
    {
     "data": {
      "text/plain": "<matplotlib.axes._subplots.AxesSubplot at 0x1dc7fd9c9d0>"
     },
     "execution_count": 30,
     "metadata": {},
     "output_type": "execute_result"
    },
    {
     "data": {
      "text/plain": "<Figure size 432x288 with 1 Axes>",
      "image/png": "[encoded data removed]"
     },
     "metadata": {
      "needs_background": "light"
     },
     "output_type": "display_data"
    }
   ],
   "source": [
    "# 시본(seaborn)의 countplot으로 AgeType별 생존자와 사망자의 차이를 시각화합니다.\n",
    "sns.countplot(data=train, x=\"AgeType\", hue=\"Survived(humanized)\")"
   ]
  },
  {
   "cell_type": "code",
   "execution_count": 31,
   "metadata": {},
   "outputs": [
    {
     "data": {
      "text/plain": "<matplotlib.axes._subplots.AxesSubplot at 0x1dc7ffd1b80>"
     },
     "execution_count": 31,
     "metadata": {},
     "output_type": "execute_result"
    },
    {
     "data": {
      "text/plain": "<Figure size 432x288 with 1 Axes>",
      "image/png": "[encoded data removed]"
     },
     "metadata": {
      "needs_background": "light"
     },
     "output_type": "display_data"
    }
   ],
   "source": [
    "# 시본(seaborn)의 barplot으로 AgeType별 평균 나이(Age)를 시각화합니다.\n",
    "sns.barplot(data=train, x=\"AgeType\", y=\"Age\")"
   ]
  },
  {
   "cell_type": "markdown",
   "metadata": {},
   "source": [
    "**8. 나이가 비어있는 승객과 비어있지 않은 승객의 생존률 차이를 보여주세요.**\n",
    "\n",
    "이번에는 다른 방식으로 생존률의 차이를 보겠습니다. 타이타닉 데이터의 나이(Age) 컬럼을 자세히 보면 나이가 비어있는 데이터가 있습니다. 판다스에서는 이를 NaN(Not a Number의 약자)으로 표현합니다.\n",
    "\n",
    "타이타닉 데이터에서 나이 컬럼이 비어있는 승객과 비어있지 않은 승객의 생존률을 각각 찾아서 출력해주세요. 또한 이를 시각화로 비교해주세요. 최종적으로 다음의 결과가 나와야합니다."
   ]
  },
  {
   "cell_type": "markdown",
   "metadata": {},
   "source": [
    "![quiz-8](https://drive.google.com/uc?export=view&id=18d5DhEuPU4N99avIwrl2FpPGdyQUI7Ty)"
   ]
  },
  {
   "cell_type": "code",
   "execution_count": 32,
   "metadata": {},
   "outputs": [
    {
     "name": "stdout",
     "output_type": "stream",
     "text": [
      "(891, 16)\n"
     ]
    },
    {
     "data": {
      "text/plain": "              Age   AgeBlank\nPassengerId                 \n1            22.0  Not Blank\n2            38.0  Not Blank\n3            26.0  Not Blank\n4            35.0  Not Blank\n5            35.0  Not Blank\n6             NaN      Blank\n7            54.0  Not Blank\n8             2.0  Not Blank\n9            27.0  Not Blank\n10           14.0  Not Blank",
      "text/html": "<div>\n<style scoped>\n    .dataframe tbody tr th:only-of-type {\n        vertical-align: middle;\n    }\n\n    .dataframe tbody tr th {\n        vertical-align: top;\n    }\n\n    .dataframe thead th {\n        text-align: right;\n    }\n</style>\n<table border=\"1\" class=\"dataframe\">\n  <thead>\n    <tr style=\"text-align: right;\">\n      <th></th>\n      <th>Age</th>\n      <th>AgeBlank</th>\n    </tr>\n    <tr>\n      <th>PassengerId</th>\n      <th></th>\n      <th></th>\n    </tr>\n  </thead>\n  <tbody>\n    <tr>\n      <th>1</th>\n      <td>22.0</td>\n      <td>Not Blank</td>\n    </tr>\n    <tr>\n      <th>2</th>\n      <td>38.0</td>\n      <td>Not Blank</td>\n    </tr>\n    <tr>\n      <th>3</th>\n      <td>26.0</td>\n      <td>Not Blank</td>\n    </tr>\n    <tr>\n      <th>4</th>\n      <td>35.0</td>\n      <td>Not Blank</td>\n    </tr>\n    <tr>\n      <th>5</th>\n      <td>35.0</td>\n      <td>Not Blank</td>\n    </tr>\n    <tr>\n      <th>6</th>\n      <td>NaN</td>\n      <td>Blank</td>\n    </tr>\n    <tr>\n      <th>7</th>\n      <td>54.0</td>\n      <td>Not Blank</td>\n    </tr>\n    <tr>\n      <th>8</th>\n      <td>2.0</td>\n      <td>Not Blank</td>\n    </tr>\n    <tr>\n      <th>9</th>\n      <td>27.0</td>\n      <td>Not Blank</td>\n    </tr>\n    <tr>\n      <th>10</th>\n      <td>14.0</td>\n      <td>Not Blank</td>\n    </tr>\n  </tbody>\n</table>\n</div>"
     },
     "execution_count": 32,
     "metadata": {},
     "output_type": "execute_result"
    }
   ],
   "source": [
    "# isnull 함수를 활용해 나이 컬럼이 비어있는 승객만 색인합니다.\n",
    "# 이 데이터에서 AgeBlank라는 새로운 컬럼을 만든 뒤, 여기에 \"Blank\"라는 값을 넣습니다.\n",
    "train.loc[train[\"Age\"].isnull(), \"AgeBlank\"] = \"Blank\"\n",
    "\n",
    "# 비슷한 방식으로 notnull 함수를 활용하여 AgeBlank 컬럼에 \"Not Blank\"라는 값을 넣습니다.\n",
    "train.loc[train[\"Age\"].notnull(), \"AgeBlank\"] = \"Not Blank\"\n",
    "\n",
    "# train 변수에 할당된 데이터의 행렬 사이즈를 출력합니다.\n",
    "# 출력은 (row, column) 으로 표시됩니다.\n",
    "print(train.shape)\n",
    "\n",
    "# 나이(Age) 컬럼과 AgeBlank 컬럼을 출력하여 비교합니다.\n",
    "train[[\"Age\", \"AgeBlank\"]].head(10)"
   ]
  },
  {
   "cell_type": "code",
   "execution_count": 33,
   "metadata": {},
   "outputs": [
    {
     "data": {
      "text/plain": "AgeBlank\nBlank        0.293785\nNot Blank    0.406162\nName: Survived, dtype: float64"
     },
     "execution_count": 33,
     "metadata": {},
     "output_type": "execute_result"
    }
   ],
   "source": [
    "# 타이타닉 데이터를 AgeBlank 기준으로 그룹화합니다.\n",
    "# 이후 생존 여부(Survived) 컬럼의 평균(mean)을 구하면 Blank, Not Blank 마다의 평균 생존률이 나옵니다.\n",
    "train.groupby(\"AgeBlank\")[\"Survived\"].mean()"
   ]
  },
  {
   "cell_type": "code",
   "execution_count": 34,
   "metadata": {},
   "outputs": [
    {
     "data": {
      "text/plain": "           Survived\nAgeBlank           \nBlank      0.293785\nNot Blank  0.406162",
      "text/html": "<div>\n<style scoped>\n    .dataframe tbody tr th:only-of-type {\n        vertical-align: middle;\n    }\n\n    .dataframe tbody tr th {\n        vertical-align: top;\n    }\n\n    .dataframe thead th {\n        text-align: right;\n    }\n</style>\n<table border=\"1\" class=\"dataframe\">\n  <thead>\n    <tr style=\"text-align: right;\">\n      <th></th>\n      <th>Survived</th>\n    </tr>\n    <tr>\n      <th>AgeBlank</th>\n      <th></th>\n    </tr>\n  </thead>\n  <tbody>\n    <tr>\n      <th>Blank</th>\n      <td>0.293785</td>\n    </tr>\n    <tr>\n      <th>Not Blank</th>\n      <td>0.406162</td>\n    </tr>\n  </tbody>\n</table>\n</div>"
     },
     "execution_count": 34,
     "metadata": {},
     "output_type": "execute_result"
    }
   ],
   "source": [
    "# 비슷한 기능을 pivot table로도 할 수 있습니다.\n",
    "pd.pivot_table(data=train, index=\"AgeBlank\", values=\"Survived\")"
   ]
  },
  {
   "cell_type": "markdown",
   "metadata": {},
   "source": [
    "마찬가지로 이를 countplot으로 시각화할 수 있습니다."
   ]
  },
  {
   "cell_type": "code",
   "execution_count": 35,
   "metadata": {},
   "outputs": [
    {
     "data": {
      "text/plain": "<matplotlib.axes._subplots.AxesSubplot at 0x1dc2efe4880>"
     },
     "execution_count": 35,
     "metadata": {},
     "output_type": "execute_result"
    },
    {
     "data": {
      "text/plain": "<Figure size 432x288 with 1 Axes>",
      "image/png": "[encoded data removed]"
     },
     "metadata": {
      "needs_background": "light"
     },
     "output_type": "display_data"
    }
   ],
   "source": [
    "# 시본(seaborn)의 countplot으로 AgeBlank별 생존자와 사망자의 차이를 시각화합니다.\n",
    "sns.countplot(data=train, x=\"AgeBlank\", hue=\"Survived(humanized)\")"
   ]
  },
  {
   "cell_type": "markdown",
   "metadata": {},
   "source": [
    "**9. Pclass별 나이(Age)의 평균을 구한 뒤 빈 값에 채워주세요.**\n",
    "\n",
    "이번에는 나이(Age) 컬럼의 빈 값을 채우고 싶습니다. 일반적으로 가장 많이 하는 방식은 나이의 평균(mean)값을 구한 뒤 이를 빈 값에 채워넣는 것입니다. 하지만 이번에는 다른 방식으로 빈 값을 채우고 싶은데, 바로 객실 등급(Pclass)에 따라 다르게 나이의 빈 값을 채워주고 싶습니다. 가령\n",
    "\n",
    "  1. 객실 등급(Pclass)이 1등급인 승객의 평균 나이를 구해서, 해당 승객 중 나이(Age)컬럼값이 비어있는 승객을 찾아 빈 나이 값을 채워줍니다.\n",
    "  2. 객실 등급(Pclass)이 2등급인 승객의 평균 나이를 구해서, 해당 승객 중 나이(Age)컬럼값이 비어있는 승객을 찾아 빈 나이 값을 채워줍니다.\n",
    "  3. 객실 등급(Pclass)이 3등급인 승객의 평균 나이를 구해서, 해당 승객 중 나이(Age)컬럼값이 비어있는 승객을 찾아 빈 나이 값을 채워줍니다.\n",
    "  \n",
    "위와 같은 방식을 사용하면, 단순히 전체 평균을 사용하는 것 보다 조금 더 원래 값에 근접하게 평균을 채워줄 수 있을 것 같습니다. 최종적으로는 다음의 결과가 나와야 합니다."
   ]
  },
  {
   "cell_type": "markdown",
   "metadata": {},
   "source": [
    "<table border=\"1\" class=\"dataframe\" style=\"float: left;\">\n",
    "   <thead>\n",
    "      <tr style=\"text-align: right;\">\n",
    "         <th></th>\n",
    "         <th>Pclass</th>\n",
    "         <th>Age</th>\n",
    "         <th>Age(fill)</th>\n",
    "      </tr>\n",
    "      <tr>\n",
    "         <th>PassengerId</th>\n",
    "         <th></th>\n",
    "         <th></th>\n",
    "         <th></th>\n",
    "      </tr>\n",
    "   </thead>\n",
    "   <tbody>\n",
    "      <tr>\n",
    "         <th>1</th>\n",
    "         <td>3</td>\n",
    "         <td>22.0</td>\n",
    "         <td>22.00000</td>\n",
    "      </tr>\n",
    "      <tr>\n",
    "         <th>2</th>\n",
    "         <td>1</td>\n",
    "         <td>38.0</td>\n",
    "         <td>38.00000</td>\n",
    "      </tr>\n",
    "      <tr>\n",
    "         <th>3</th>\n",
    "         <td>3</td>\n",
    "         <td>26.0</td>\n",
    "         <td>26.00000</td>\n",
    "      </tr>\n",
    "      <tr>\n",
    "         <th>4</th>\n",
    "         <td>1</td>\n",
    "         <td>35.0</td>\n",
    "         <td>35.00000</td>\n",
    "      </tr>\n",
    "      <tr>\n",
    "         <th>5</th>\n",
    "         <td>3</td>\n",
    "         <td>35.0</td>\n",
    "         <td>35.00000</td>\n",
    "      </tr>\n",
    "      <tr>\n",
    "         <th>6</th>\n",
    "         <td>3</td>\n",
    "         <td>NaN</td>\n",
    "         <td>25.14062</td>\n",
    "      </tr>\n",
    "      <tr>\n",
    "         <th>7</th>\n",
    "         <td>1</td>\n",
    "         <td>54.0</td>\n",
    "         <td>54.00000</td>\n",
    "      </tr>\n",
    "      <tr>\n",
    "         <th>8</th>\n",
    "         <td>3</td>\n",
    "         <td>2.0</td>\n",
    "         <td>2.00000</td>\n",
    "      </tr>\n",
    "      <tr>\n",
    "         <th>9</th>\n",
    "         <td>3</td>\n",
    "         <td>27.0</td>\n",
    "         <td>27.00000</td>\n",
    "      </tr>\n",
    "      <tr>\n",
    "         <th>10</th>\n",
    "         <td>2</td>\n",
    "         <td>14.0</td>\n",
    "         <td>14.00000</td>\n",
    "      </tr>\n",
    "      <tr>\n",
    "         <th>11</th>\n",
    "         <td>3</td>\n",
    "         <td>4.0</td>\n",
    "         <td>4.00000</td>\n",
    "      </tr>\n",
    "      <tr>\n",
    "         <th>12</th>\n",
    "         <td>1</td>\n",
    "         <td>58.0</td>\n",
    "         <td>58.00000</td>\n",
    "      </tr>\n",
    "      <tr>\n",
    "         <th>13</th>\n",
    "         <td>3</td>\n",
    "         <td>20.0</td>\n",
    "         <td>20.00000</td>\n",
    "      </tr>\n",
    "      <tr>\n",
    "         <th>14</th>\n",
    "         <td>3</td>\n",
    "         <td>39.0</td>\n",
    "         <td>39.00000</td>\n",
    "      </tr>\n",
    "      <tr>\n",
    "         <th>15</th>\n",
    "         <td>3</td>\n",
    "         <td>14.0</td>\n",
    "         <td>14.00000</td>\n",
    "      </tr>\n",
    "      <tr>\n",
    "         <th>16</th>\n",
    "         <td>2</td>\n",
    "         <td>55.0</td>\n",
    "         <td>55.00000</td>\n",
    "      </tr>\n",
    "      <tr>\n",
    "         <th>17</th>\n",
    "         <td>3</td>\n",
    "         <td>2.0</td>\n",
    "         <td>2.00000</td>\n",
    "      </tr>\n",
    "      <tr>\n",
    "         <th>18</th>\n",
    "         <td>2</td>\n",
    "         <td>NaN</td>\n",
    "         <td>29.87763</td>\n",
    "      </tr>\n",
    "      <tr>\n",
    "         <th>19</th>\n",
    "         <td>3</td>\n",
    "         <td>31.0</td>\n",
    "         <td>31.00000</td>\n",
    "      </tr>\n",
    "      <tr>\n",
    "         <th>20</th>\n",
    "         <td>3</td>\n",
    "         <td>NaN</td>\n",
    "         <td>25.14062</td>\n",
    "      </tr>\n",
    "   </tbody>\n",
    "</table>"
   ]
  },
  {
   "cell_type": "code",
   "execution_count": 36,
   "metadata": {},
   "outputs": [
    {
     "data": {
      "text/plain": "Pclass\n1    38.233441\n2    29.877630\n3    25.140620\nName: Age, dtype: float64"
     },
     "execution_count": 36,
     "metadata": {},
     "output_type": "execute_result"
    }
   ],
   "source": [
    "# 타이타닉 데이터를 Pclass 기준으로 그룹화한 뒤, 나이(Age) 컬럼의 평균을 구합니다.\n",
    "# 이 결과를 mean_age_by_pclass 라는 변수에 할당합니다.\n",
    "mean_age_by_pclass = train.groupby(\"Pclass\")[\"Age\"].mean()\n",
    "mean_age_by_pclass"
   ]
  },
  {
   "cell_type": "code",
   "execution_count": 37,
   "metadata": {},
   "outputs": [
    {
     "name": "stdout",
     "output_type": "stream",
     "text": [
      "(891, 17)\n"
     ]
    },
    {
     "data": {
      "text/plain": "             Pclass   Age  Age(fill)\nPassengerId                         \n1                 3  22.0       22.0\n2                 1  38.0       38.0\n3                 3  26.0       26.0\n4                 1  35.0       35.0\n5                 3  35.0       35.0\n6                 3   NaN        NaN\n7                 1  54.0       54.0\n8                 3   2.0        2.0\n9                 3  27.0       27.0\n10                2  14.0       14.0\n11                3   4.0        4.0\n12                1  58.0       58.0\n13                3  20.0       20.0\n14                3  39.0       39.0\n15                3  14.0       14.0\n16                2  55.0       55.0\n17                3   2.0        2.0\n18                2   NaN        NaN\n19                3  31.0       31.0\n20                3   NaN        NaN\n21                2  35.0       35.0\n22                2  34.0       34.0\n23                3  15.0       15.0\n24                1  28.0       28.0\n25                3   8.0        8.0\n26                3  38.0       38.0\n27                3   NaN        NaN\n28                1  19.0       19.0\n29                3   NaN        NaN\n30                3   NaN        NaN",
      "text/html": "<div>\n<style scoped>\n    .dataframe tbody tr th:only-of-type {\n        vertical-align: middle;\n    }\n\n    .dataframe tbody tr th {\n        vertical-align: top;\n    }\n\n    .dataframe thead th {\n        text-align: right;\n    }\n</style>\n<table border=\"1\" class=\"dataframe\">\n  <thead>\n    <tr style=\"text-align: right;\">\n      <th></th>\n      <th>Pclass</th>\n      <th>Age</th>\n      <th>Age(fill)</th>\n    </tr>\n    <tr>\n      <th>PassengerId</th>\n      <th></th>\n      <th></th>\n      <th></th>\n    </tr>\n  </thead>\n  <tbody>\n    <tr>\n      <th>1</th>\n      <td>3</td>\n      <td>22.0</td>\n      <td>22.0</td>\n    </tr>\n    <tr>\n      <th>2</th>\n      <td>1</td>\n      <td>38.0</td>\n      <td>38.0</td>\n    </tr>\n    <tr>\n      <th>3</th>\n      <td>3</td>\n      <td>26.0</td>\n      <td>26.0</td>\n    </tr>\n    <tr>\n      <th>4</th>\n      <td>1</td>\n      <td>35.0</td>\n      <td>35.0</td>\n    </tr>\n    <tr>\n      <th>5</th>\n      <td>3</td>\n      <td>35.0</td>\n      <td>35.0</td>\n    </tr>\n    <tr>\n      <th>6</th>\n      <td>3</td>\n      <td>NaN</td>\n      <td>NaN</td>\n    </tr>\n    <tr>\n      <th>7</th>\n      <td>1</td>\n      <td>54.0</td>\n      <td>54.0</td>\n    </tr>\n    <tr>\n      <th>8</th>\n      <td>3</td>\n      <td>2.0</td>\n      <td>2.0</td>\n    </tr>\n    <tr>\n      <th>9</th>\n      <td>3</td>\n      <td>27.0</td>\n      <td>27.0</td>\n    </tr>\n    <tr>\n      <th>10</th>\n      <td>2</td>\n      <td>14.0</td>\n      <td>14.0</td>\n    </tr>\n    <tr>\n      <th>11</th>\n      <td>3</td>\n      <td>4.0</td>\n      <td>4.0</td>\n    </tr>\n    <tr>\n      <th>12</th>\n      <td>1</td>\n      <td>58.0</td>\n      <td>58.0</td>\n    </tr>\n    <tr>\n      <th>13</th>\n      <td>3</td>\n      <td>20.0</td>\n      <td>20.0</td>\n    </tr>\n    <tr>\n      <th>14</th>\n      <td>3</td>\n      <td>39.0</td>\n      <td>39.0</td>\n    </tr>\n    <tr>\n      <th>15</th>\n      <td>3</td>\n      <td>14.0</td>\n      <td>14.0</td>\n    </tr>\n    <tr>\n      <th>16</th>\n      <td>2</td>\n      <td>55.0</td>\n      <td>55.0</td>\n    </tr>\n    <tr>\n      <th>17</th>\n      <td>3</td>\n      <td>2.0</td>\n      <td>2.0</td>\n    </tr>\n    <tr>\n      <th>18</th>\n      <td>2</td>\n      <td>NaN</td>\n      <td>NaN</td>\n    </tr>\n    <tr>\n      <th>19</th>\n      <td>3</td>\n      <td>31.0</td>\n      <td>31.0</td>\n    </tr>\n    <tr>\n      <th>20</th>\n      <td>3</td>\n      <td>NaN</td>\n      <td>NaN</td>\n    </tr>\n    <tr>\n      <th>21</th>\n      <td>2</td>\n      <td>35.0</td>\n      <td>35.0</td>\n    </tr>\n    <tr>\n      <th>22</th>\n      <td>2</td>\n      <td>34.0</td>\n      <td>34.0</td>\n    </tr>\n    <tr>\n      <th>23</th>\n      <td>3</td>\n      <td>15.0</td>\n      <td>15.0</td>\n    </tr>\n    <tr>\n      <th>24</th>\n      <td>1</td>\n      <td>28.0</td>\n      <td>28.0</td>\n    </tr>\n    <tr>\n      <th>25</th>\n      <td>3</td>\n      <td>8.0</td>\n      <td>8.0</td>\n    </tr>\n    <tr>\n      <th>26</th>\n      <td>3</td>\n      <td>38.0</td>\n      <td>38.0</td>\n    </tr>\n    <tr>\n      <th>27</th>\n      <td>3</td>\n      <td>NaN</td>\n      <td>NaN</td>\n    </tr>\n    <tr>\n      <th>28</th>\n      <td>1</td>\n      <td>19.0</td>\n      <td>19.0</td>\n    </tr>\n    <tr>\n      <th>29</th>\n      <td>3</td>\n      <td>NaN</td>\n      <td>NaN</td>\n    </tr>\n    <tr>\n      <th>30</th>\n      <td>3</td>\n      <td>NaN</td>\n      <td>NaN</td>\n    </tr>\n  </tbody>\n</table>\n</div>"
     },
     "execution_count": 37,
     "metadata": {},
     "output_type": "execute_result"
    }
   ],
   "source": [
    "# Age 컬럼에 바로 값을 채워주는 것도 좋지만, 가능한 원본은 유지한 채 사본에다가 작업하는 것을 추천합니다.\n",
    "# 그러므로 Age(fill) 이라는 새로운 컬럼을 만든 뒤, 이 컬럼의 빈 값을 채워줄 것입니다.\n",
    "train[\"Age(fill)\"] = train[\"Age\"]\n",
    "\n",
    "# train 변수에 할당된 데이터의 행렬 사이즈를 출력합니다.\n",
    "# 출력은 (row, column) 으로 표시됩니다.\n",
    "print(train.shape)\n",
    "\n",
    "# 객실 등급(Pclass), 나이(Age), 그리고 Age(fill) 컬럼을 출력하여 비교합니다.\n",
    "train[[\"Pclass\",\"Age\", \"Age(fill)\"]].head(30)"
   ]
  },
  {
   "cell_type": "code",
   "execution_count": 38,
   "metadata": {},
   "outputs": [
    {
     "name": "stdout",
     "output_type": "stream",
     "text": [
      "(891, 17)\n"
     ]
    },
    {
     "data": {
      "text/plain": "             Pclass   Age  Age(fill)\nPassengerId                         \n1                 3  22.0   22.00000\n2                 1  38.0   38.00000\n3                 3  26.0   26.00000\n4                 1  35.0   35.00000\n5                 3  35.0   35.00000\n6                 3   NaN   25.14062\n7                 1  54.0   54.00000\n8                 3   2.0    2.00000\n9                 3  27.0   27.00000\n10                2  14.0   14.00000\n11                3   4.0    4.00000\n12                1  58.0   58.00000\n13                3  20.0   20.00000\n14                3  39.0   39.00000\n15                3  14.0   14.00000\n16                2  55.0   55.00000\n17                3   2.0    2.00000\n18                2   NaN   29.87763\n19                3  31.0   31.00000\n20                3   NaN   25.14062\n21                2  35.0   35.00000\n22                2  34.0   34.00000\n23                3  15.0   15.00000\n24                1  28.0   28.00000\n25                3   8.0    8.00000\n26                3  38.0   38.00000\n27                3   NaN   25.14062\n28                1  19.0   19.00000\n29                3   NaN   25.14062\n30                3   NaN   25.14062",
      "text/html": "<div>\n<style scoped>\n    .dataframe tbody tr th:only-of-type {\n        vertical-align: middle;\n    }\n\n    .dataframe tbody tr th {\n        vertical-align: top;\n    }\n\n    .dataframe thead th {\n        text-align: right;\n    }\n</style>\n<table border=\"1\" class=\"dataframe\">\n  <thead>\n    <tr style=\"text-align: right;\">\n      <th></th>\n      <th>Pclass</th>\n      <th>Age</th>\n      <th>Age(fill)</th>\n    </tr>\n    <tr>\n      <th>PassengerId</th>\n      <th></th>\n      <th></th>\n      <th></th>\n    </tr>\n  </thead>\n  <tbody>\n    <tr>\n      <th>1</th>\n      <td>3</td>\n      <td>22.0</td>\n      <td>22.00000</td>\n    </tr>\n    <tr>\n      <th>2</th>\n      <td>1</td>\n      <td>38.0</td>\n      <td>38.00000</td>\n    </tr>\n    <tr>\n      <th>3</th>\n      <td>3</td>\n      <td>26.0</td>\n      <td>26.00000</td>\n    </tr>\n    <tr>\n      <th>4</th>\n      <td>1</td>\n      <td>35.0</td>\n      <td>35.00000</td>\n    </tr>\n    <tr>\n      <th>5</th>\n      <td>3</td>\n      <td>35.0</td>\n      <td>35.00000</td>\n    </tr>\n    <tr>\n      <th>6</th>\n      <td>3</td>\n      <td>NaN</td>\n      <td>25.14062</td>\n    </tr>\n    <tr>\n      <th>7</th>\n      <td>1</td>\n      <td>54.0</td>\n      <td>54.00000</td>\n    </tr>\n    <tr>\n      <th>8</th>\n      <td>3</td>\n      <td>2.0</td>\n      <td>2.00000</td>\n    </tr>\n    <tr>\n      <th>9</th>\n      <td>3</td>\n      <td>27.0</td>\n      <td>27.00000</td>\n    </tr>\n    <tr>\n      <th>10</th>\n      <td>2</td>\n      <td>14.0</td>\n      <td>14.00000</td>\n    </tr>\n    <tr>\n      <th>11</th>\n      <td>3</td>\n      <td>4.0</td>\n      <td>4.00000</td>\n    </tr>\n    <tr>\n      <th>12</th>\n      <td>1</td>\n      <td>58.0</td>\n      <td>58.00000</td>\n    </tr>\n    <tr>\n      <th>13</th>\n      <td>3</td>\n      <td>20.0</td>\n      <td>20.00000</td>\n    </tr>\n    <tr>\n      <th>14</th>\n      <td>3</td>\n      <td>39.0</td>\n      <td>39.00000</td>\n    </tr>\n    <tr>\n      <th>15</th>\n      <td>3</td>\n      <td>14.0</td>\n      <td>14.00000</td>\n    </tr>\n    <tr>\n      <th>16</th>\n      <td>2</td>\n      <td>55.0</td>\n      <td>55.00000</td>\n    </tr>\n    <tr>\n      <th>17</th>\n      <td>3</td>\n      <td>2.0</td>\n      <td>2.00000</td>\n    </tr>\n    <tr>\n      <th>18</th>\n      <td>2</td>\n      <td>NaN</td>\n      <td>29.87763</td>\n    </tr>\n    <tr>\n      <th>19</th>\n      <td>3</td>\n      <td>31.0</td>\n      <td>31.00000</td>\n    </tr>\n    <tr>\n      <th>20</th>\n      <td>3</td>\n      <td>NaN</td>\n      <td>25.14062</td>\n    </tr>\n    <tr>\n      <th>21</th>\n      <td>2</td>\n      <td>35.0</td>\n      <td>35.00000</td>\n    </tr>\n    <tr>\n      <th>22</th>\n      <td>2</td>\n      <td>34.0</td>\n      <td>34.00000</td>\n    </tr>\n    <tr>\n      <th>23</th>\n      <td>3</td>\n      <td>15.0</td>\n      <td>15.00000</td>\n    </tr>\n    <tr>\n      <th>24</th>\n      <td>1</td>\n      <td>28.0</td>\n      <td>28.00000</td>\n    </tr>\n    <tr>\n      <th>25</th>\n      <td>3</td>\n      <td>8.0</td>\n      <td>8.00000</td>\n    </tr>\n    <tr>\n      <th>26</th>\n      <td>3</td>\n      <td>38.0</td>\n      <td>38.00000</td>\n    </tr>\n    <tr>\n      <th>27</th>\n      <td>3</td>\n      <td>NaN</td>\n      <td>25.14062</td>\n    </tr>\n    <tr>\n      <th>28</th>\n      <td>1</td>\n      <td>19.0</td>\n      <td>19.00000</td>\n    </tr>\n    <tr>\n      <th>29</th>\n      <td>3</td>\n      <td>NaN</td>\n      <td>25.14062</td>\n    </tr>\n    <tr>\n      <th>30</th>\n      <td>3</td>\n      <td>NaN</td>\n      <td>25.14062</td>\n    </tr>\n  </tbody>\n</table>\n</div>"
     },
     "execution_count": 38,
     "metadata": {},
     "output_type": "execute_result"
    }
   ],
   "source": [
    "# 객실 등급(Pclass)이 1등급이고 나이(Age) 컬럼값이 비어있는 승객을 색인합니다.\n",
    "# 이 승객의 Age(fill)에 평균 1등급 승객의 평균 나이를 채워넣습니다.\n",
    "train.loc[(train[\"Pclass\"] == 1) & (train[\"Age\"].isnull()), \"Age(fill)\"] = mean_age_by_pclass.loc[1]\n",
    "\n",
    "# 비슷한 원리로 객실 등급(Pclass)이 2등급인 승객도 비슷한 방식으로 빈 나이값을 채워넣습니다.\n",
    "train.loc[(train[\"Pclass\"] == 2) & (train[\"Age\"].isnull()), \"Age(fill)\"] = mean_age_by_pclass.loc[2]\n",
    "\n",
    "# 객실 등급(Pclass)이 3등급인 승객도 비슷한 방식으로 빈 나이값을 채워넣습니다.\n",
    "train.loc[(train[\"Pclass\"] == 3) & (train[\"Age\"].isnull()), \"Age(fill)\"] = mean_age_by_pclass.loc[3]\n",
    "\n",
    "# train 변수에 할당된 데이터의 행렬 사이즈를 출력합니다.\n",
    "# 출력은 (row, column) 으로 표시됩니다.\n",
    "print(train.shape)\n",
    "\n",
    "# 객실 등급(Pclass), 나이(Age), 그리고 Age(fill) 컬럼을 출력하여 비교합니다.\n",
    "train[[\"Pclass\",\"Age\", \"Age(fill)\"]].head(30)"
   ]
  },
  {
   "cell_type": "code",
   "execution_count": 39,
   "metadata": {},
   "outputs": [
    {
     "data": {
      "text/plain": "             Pclass  Age  Age(fill)\nPassengerId                        \n6                 3  NaN  25.140620\n18                2  NaN  29.877630\n20                3  NaN  25.140620\n27                3  NaN  25.140620\n29                3  NaN  25.140620\n30                3  NaN  25.140620\n32                1  NaN  38.233441\n33                3  NaN  25.140620\n37                3  NaN  25.140620\n43                3  NaN  25.140620",
      "text/html": "<div>\n<style scoped>\n    .dataframe tbody tr th:only-of-type {\n        vertical-align: middle;\n    }\n\n    .dataframe tbody tr th {\n        vertical-align: top;\n    }\n\n    .dataframe thead th {\n        text-align: right;\n    }\n</style>\n<table border=\"1\" class=\"dataframe\">\n  <thead>\n    <tr style=\"text-align: right;\">\n      <th></th>\n      <th>Pclass</th>\n      <th>Age</th>\n      <th>Age(fill)</th>\n    </tr>\n    <tr>\n      <th>PassengerId</th>\n      <th></th>\n      <th></th>\n      <th></th>\n    </tr>\n  </thead>\n  <tbody>\n    <tr>\n      <th>6</th>\n      <td>3</td>\n      <td>NaN</td>\n      <td>25.140620</td>\n    </tr>\n    <tr>\n      <th>18</th>\n      <td>2</td>\n      <td>NaN</td>\n      <td>29.877630</td>\n    </tr>\n    <tr>\n      <th>20</th>\n      <td>3</td>\n      <td>NaN</td>\n      <td>25.140620</td>\n    </tr>\n    <tr>\n      <th>27</th>\n      <td>3</td>\n      <td>NaN</td>\n      <td>25.140620</td>\n    </tr>\n    <tr>\n      <th>29</th>\n      <td>3</td>\n      <td>NaN</td>\n      <td>25.140620</td>\n    </tr>\n    <tr>\n      <th>30</th>\n      <td>3</td>\n      <td>NaN</td>\n      <td>25.140620</td>\n    </tr>\n    <tr>\n      <th>32</th>\n      <td>1</td>\n      <td>NaN</td>\n      <td>38.233441</td>\n    </tr>\n    <tr>\n      <th>33</th>\n      <td>3</td>\n      <td>NaN</td>\n      <td>25.140620</td>\n    </tr>\n    <tr>\n      <th>37</th>\n      <td>3</td>\n      <td>NaN</td>\n      <td>25.140620</td>\n    </tr>\n    <tr>\n      <th>43</th>\n      <td>3</td>\n      <td>NaN</td>\n      <td>25.140620</td>\n    </tr>\n  </tbody>\n</table>\n</div>"
     },
     "execution_count": 39,
     "metadata": {},
     "output_type": "execute_result"
    }
   ],
   "source": [
    "# 나이(Age) 컬럼값이 비어있는 승객만 가져온 뒤,\n",
    "# 이 승객의 객실 등급(Pclass), 나이(Age), 그리고 Age(fill) 컬럼을 출력하여 비교합니다.\n",
    "train.loc[train[\"Age\"].isnull(), [\"Pclass\",\"Age\", \"Age(fill)\"]].head(10)"
   ]
  },
  {
   "cell_type": "markdown",
   "metadata": {},
   "source": [
    "### SibSp, Parch 컬럼 분석"
   ]
  },
  {
   "cell_type": "markdown",
   "metadata": {},
   "source": [
    "**10. 타이타닉호에 동승한 형제, 자매, 배우자(SibSp)도 없고, 부모와 자식(Parch)도 없는 사람을 구해주세요.**\n",
    "\n",
    "해당 사용자를 싱글(Single)이라고 가정하겠습니다. 최종적으로는 다음의 결과가 나와야 합니다."
   ]
  },
  {
   "cell_type": "markdown",
   "metadata": {},
   "source": [
    "<table border=\"1\" class=\"dataframe\" style=\"float: left;\">\n",
    "   <thead>\n",
    "      <tr style=\"text-align: right;\">\n",
    "         <th></th>\n",
    "         <th>SibSp</th>\n",
    "         <th>Parch</th>\n",
    "         <th>Single</th>\n",
    "      </tr>\n",
    "      <tr>\n",
    "         <th>PassengerId</th>\n",
    "         <th></th>\n",
    "         <th></th>\n",
    "         <th></th>\n",
    "      </tr>\n",
    "   </thead>\n",
    "   <tbody>\n",
    "      <tr>\n",
    "         <th>1</th>\n",
    "         <td>1</td>\n",
    "         <td>0</td>\n",
    "         <td>False</td>\n",
    "      </tr>\n",
    "      <tr>\n",
    "         <th>2</th>\n",
    "         <td>1</td>\n",
    "         <td>0</td>\n",
    "         <td>False</td>\n",
    "      </tr>\n",
    "      <tr>\n",
    "         <th>3</th>\n",
    "         <td>0</td>\n",
    "         <td>0</td>\n",
    "         <td>True</td>\n",
    "      </tr>\n",
    "      <tr>\n",
    "         <th>4</th>\n",
    "         <td>1</td>\n",
    "         <td>0</td>\n",
    "         <td>False</td>\n",
    "      </tr>\n",
    "      <tr>\n",
    "         <th>5</th>\n",
    "         <td>0</td>\n",
    "         <td>0</td>\n",
    "         <td>True</td>\n",
    "      </tr>\n",
    "   </tbody>\n",
    "</table>"
   ]
  },
  {
   "cell_type": "markdown",
   "metadata": {},
   "source": [
    "또한 싱글(Single)인 사람과 그렇지 않은 사람간의 생존률의 차이도 알고 싶습니다. 최종적으로는 다음의 결과가 나와야 합니다."
   ]
  },
  {
   "cell_type": "markdown",
   "metadata": {},
   "source": [
    "<table border=\"1\" class=\"dataframe\" style=\"float: left;\">\n",
    "   <thead>\n",
    "      <tr style=\"text-align: right;\">\n",
    "         <th></th>\n",
    "         <th>Survived</th>\n",
    "      </tr>\n",
    "      <tr>\n",
    "         <th>Single</th>\n",
    "         <th></th>\n",
    "      </tr>\n",
    "   </thead>\n",
    "   <tbody>\n",
    "      <tr>\n",
    "         <th>False</th>\n",
    "         <td>0.505650</td>\n",
    "      </tr>\n",
    "      <tr>\n",
    "         <th>True</th>\n",
    "         <td>0.303538</td>\n",
    "      </tr>\n",
    "   </tbody>\n",
    "</table>"
   ]
  },
  {
   "cell_type": "markdown",
   "metadata": {},
   "source": [
    "마지막으로 이를 시각화를 통해 비교해주세요. 최종적으로는 다음의 결과가 나와야합니다."
   ]
  },
  {
   "cell_type": "markdown",
   "metadata": {},
   "source": [
    "![quiz-10](https://drive.google.com/uc?export=view&id=1WakO3v3BHr3aunjcg170AKLjxZ3Xi1eQ)"
   ]
  },
  {
   "cell_type": "code",
   "execution_count": 40,
   "metadata": {},
   "outputs": [
    {
     "name": "stdout",
     "output_type": "stream",
     "text": [
      "(891, 18)\n"
     ]
    },
    {
     "data": {
      "text/plain": "             SibSp  Parch  Single\nPassengerId                      \n1                1      0   False\n2                1      0   False\n3                0      0    True\n4                1      0   False\n5                0      0    True",
      "text/html": "<div>\n<style scoped>\n    .dataframe tbody tr th:only-of-type {\n        vertical-align: middle;\n    }\n\n    .dataframe tbody tr th {\n        vertical-align: top;\n    }\n\n    .dataframe thead th {\n        text-align: right;\n    }\n</style>\n<table border=\"1\" class=\"dataframe\">\n  <thead>\n    <tr style=\"text-align: right;\">\n      <th></th>\n      <th>SibSp</th>\n      <th>Parch</th>\n      <th>Single</th>\n    </tr>\n    <tr>\n      <th>PassengerId</th>\n      <th></th>\n      <th></th>\n      <th></th>\n    </tr>\n  </thead>\n  <tbody>\n    <tr>\n      <th>1</th>\n      <td>1</td>\n      <td>0</td>\n      <td>False</td>\n    </tr>\n    <tr>\n      <th>2</th>\n      <td>1</td>\n      <td>0</td>\n      <td>False</td>\n    </tr>\n    <tr>\n      <th>3</th>\n      <td>0</td>\n      <td>0</td>\n      <td>True</td>\n    </tr>\n    <tr>\n      <th>4</th>\n      <td>1</td>\n      <td>0</td>\n      <td>False</td>\n    </tr>\n    <tr>\n      <th>5</th>\n      <td>0</td>\n      <td>0</td>\n      <td>True</td>\n    </tr>\n  </tbody>\n</table>\n</div>"
     },
     "execution_count": 40,
     "metadata": {},
     "output_type": "execute_result"
    }
   ],
   "source": [
    "# SibSp가 0이고 Parch가 0이면 True, 아니면 False인 리스트를 생성합니다.\n",
    "# 이 리스트를 Single이라는 이름의 새로운 컬럼에 집어넣습니다.\n",
    "train[\"Single\"] = (train[\"SibSp\"] == 0) & (train[\"Parch\"] == 0)\n",
    "\n",
    "# train 변수에 할당된 데이터의 행렬 사이즈를 출력합니다.\n",
    "# 출력은 (row, column) 으로 표시됩니다.\n",
    "print(train.shape)\n",
    "\n",
    "# SibSp, Parch, 그리고 Single을 출력하여 비교합니다.\n",
    "train[[\"SibSp\", \"Parch\", \"Single\"]].head()"
   ]
  },
  {
   "cell_type": "code",
   "execution_count": 41,
   "metadata": {},
   "outputs": [
    {
     "data": {
      "text/plain": "        Survived\nSingle          \nFalse   0.505650\nTrue    0.303538",
      "text/html": "<div>\n<style scoped>\n    .dataframe tbody tr th:only-of-type {\n        vertical-align: middle;\n    }\n\n    .dataframe tbody tr th {\n        vertical-align: top;\n    }\n\n    .dataframe thead th {\n        text-align: right;\n    }\n</style>\n<table border=\"1\" class=\"dataframe\">\n  <thead>\n    <tr style=\"text-align: right;\">\n      <th></th>\n      <th>Survived</th>\n    </tr>\n    <tr>\n      <th>Single</th>\n      <th></th>\n    </tr>\n  </thead>\n  <tbody>\n    <tr>\n      <th>False</th>\n      <td>0.505650</td>\n    </tr>\n    <tr>\n      <th>True</th>\n      <td>0.303538</td>\n    </tr>\n  </tbody>\n</table>\n</div>"
     },
     "execution_count": 41,
     "metadata": {},
     "output_type": "execute_result"
    }
   ],
   "source": [
    "# pandas의 pivot_table을 활용하여 Single 여부에 따른 생존률을 출력합니다.\n",
    "# Single 컬럼의 값이 True일 경우의 생존률과, False일 경우의 생존률을 비교할 수 있습니다.\n",
    "pd.pivot_table(train, index=\"Single\", values=\"Survived\")"
   ]
  },
  {
   "cell_type": "markdown",
   "metadata": {},
   "source": [
    "마찬가지로 countplot으로 시각화할 수 있습니다."
   ]
  },
  {
   "cell_type": "code",
   "execution_count": 42,
   "metadata": {},
   "outputs": [
    {
     "data": {
      "text/plain": "<matplotlib.axes._subplots.AxesSubplot at 0x1dc2f056ee0>"
     },
     "execution_count": 42,
     "metadata": {},
     "output_type": "execute_result"
    },
    {
     "data": {
      "text/plain": "<Figure size 432x288 with 1 Axes>",
      "image/png": "[encoded data removed]"
     },
     "metadata": {
      "needs_background": "light"
     },
     "output_type": "display_data"
    }
   ],
   "source": [
    "# 시본(seaborn)의 countplot으로 Single별 생존자와 사망자의 차이를 시각화합니다.\n",
    "sns.countplot(data=train, x=\"Single\", hue=\"Survived(humanized)\")"
   ]
  },
  {
   "cell_type": "markdown",
   "metadata": {},
   "source": [
    "**11. SibSp 컬럼과  Parch 컬럼을 활용하여 가족 수(FamilySize)라는 새로운 컬럼을 만들어주세요.**\n",
    "\n",
    "형제, 자매, 배우자(SibSp) 컬럼과 부모 자식(Parch) 컬럼은 얼핏 달라 보이지만 실은 가족 관계를 나타내는 것이라고 볼 수 있습니다. 그러므로 두 컬럼을 하나로 합쳐서 **가족 수(FamilySize)**라는 새로운 컬럼을 만들면 승객의 가족관계를 더 편리하게 분석할 수 있을 것입니다.\n",
    "\n",
    "형제, 자매, 배우자(SibSp) 컬럼과 부모 자식(Parch) 컬럼을 더해서 가족 수(FamilySize) 컬럼을 만들어주세요. 단 가족 수를 계산할때는 언제나 나 자신을 포함해서 계산하는데, 나 자신은 SibSp 컬럼에도 Parch 컬럼에도 들어가있지 않습니다. 그러므로 가족 수(FamilySize) 컬럼은 언제나 SibSp 컬럼과 Parch 컬럼을 더한 값에서 하나가 더 많아야 합니다.\n",
    "\n",
    "그러므로 최종적으로 다음의 결과가 나와야 합니다."
   ]
  },
  {
   "cell_type": "markdown",
   "metadata": {},
   "source": [
    "<table border=\"1\" class=\"dataframe\" style=\"float: left;\">\n",
    "   <thead>\n",
    "      <tr style=\"text-align: right;\">\n",
    "         <th></th>\n",
    "         <th>SibSp</th>\n",
    "         <th>Parch</th>\n",
    "         <th>FamilySize</th>\n",
    "      </tr>\n",
    "      <tr>\n",
    "         <th>PassengerId</th>\n",
    "         <th></th>\n",
    "         <th></th>\n",
    "         <th></th>\n",
    "      </tr>\n",
    "   </thead>\n",
    "   <tbody>\n",
    "      <tr>\n",
    "         <th>1</th>\n",
    "         <td>1</td>\n",
    "         <td>0</td>\n",
    "         <td>2</td>\n",
    "      </tr>\n",
    "      <tr>\n",
    "         <th>2</th>\n",
    "         <td>1</td>\n",
    "         <td>0</td>\n",
    "         <td>2</td>\n",
    "      </tr>\n",
    "      <tr>\n",
    "         <th>3</th>\n",
    "         <td>0</td>\n",
    "         <td>0</td>\n",
    "         <td>1</td>\n",
    "      </tr>\n",
    "      <tr>\n",
    "         <th>4</th>\n",
    "         <td>1</td>\n",
    "         <td>0</td>\n",
    "         <td>2</td>\n",
    "      </tr>\n",
    "      <tr>\n",
    "         <th>5</th>\n",
    "         <td>0</td>\n",
    "         <td>0</td>\n",
    "         <td>1</td>\n",
    "      </tr>\n",
    "      <tr>\n",
    "         <th>6</th>\n",
    "         <td>0</td>\n",
    "         <td>0</td>\n",
    "         <td>1</td>\n",
    "      </tr>\n",
    "      <tr>\n",
    "         <th>7</th>\n",
    "         <td>0</td>\n",
    "         <td>0</td>\n",
    "         <td>1</td>\n",
    "      </tr>\n",
    "      <tr>\n",
    "         <th>8</th>\n",
    "         <td>3</td>\n",
    "         <td>1</td>\n",
    "         <td>5</td>\n",
    "      </tr>\n",
    "      <tr>\n",
    "         <th>9</th>\n",
    "         <td>0</td>\n",
    "         <td>2</td>\n",
    "         <td>3</td>\n",
    "      </tr>\n",
    "      <tr>\n",
    "         <th>10</th>\n",
    "         <td>1</td>\n",
    "         <td>0</td>\n",
    "         <td>2</td>\n",
    "      </tr>\n",
    "   </tbody>\n",
    "</table>"
   ]
  },
  {
   "cell_type": "markdown",
   "metadata": {},
   "source": [
    "또한 가족 수(FamilySize) 컬럼을 구한 뒤, 가족 수 별 생존률의 차이도 알고 싶습니다. 가족 수(ex: 1명 ~ 11명) 마다의 생존률을 구해서 출력해주세요. 최종적으로 다음의 결과가 나와야 합니다."
   ]
  },
  {
   "cell_type": "markdown",
   "metadata": {},
   "source": [
    "<table border=\"1\" class=\"dataframe\" style=\"float: left;\">\n",
    "   <thead>\n",
    "      <tr style=\"text-align: right;\">\n",
    "         <th></th>\n",
    "         <th>Survived</th>\n",
    "      </tr>\n",
    "      <tr>\n",
    "         <th>FamilySize</th>\n",
    "         <th></th>\n",
    "      </tr>\n",
    "   </thead>\n",
    "   <tbody>\n",
    "      <tr>\n",
    "         <th>1</th>\n",
    "         <td>0.303538</td>\n",
    "      </tr>\n",
    "      <tr>\n",
    "         <th>2</th>\n",
    "         <td>0.552795</td>\n",
    "      </tr>\n",
    "      <tr>\n",
    "         <th>3</th>\n",
    "         <td>0.578431</td>\n",
    "      </tr>\n",
    "      <tr>\n",
    "         <th>4</th>\n",
    "         <td>0.724138</td>\n",
    "      </tr>\n",
    "      <tr>\n",
    "         <th>5</th>\n",
    "         <td>0.200000</td>\n",
    "      </tr>\n",
    "      <tr>\n",
    "         <th>6</th>\n",
    "         <td>0.136364</td>\n",
    "      </tr>\n",
    "      <tr>\n",
    "         <th>7</th>\n",
    "         <td>0.333333</td>\n",
    "      </tr>\n",
    "      <tr>\n",
    "         <th>8</th>\n",
    "         <td>0.000000</td>\n",
    "      </tr>\n",
    "      <tr>\n",
    "         <th>11</th>\n",
    "         <td>0.000000</td>\n",
    "      </tr>\n",
    "   </tbody>\n",
    "</table>"
   ]
  },
  {
   "cell_type": "markdown",
   "metadata": {},
   "source": [
    "마지막으로 이를 시각화를 통해 보여주세요. 최종적으로는 다음의 결과가 나와야 합니다."
   ]
  },
  {
   "cell_type": "markdown",
   "metadata": {},
   "source": [
    "\n",
    "\n",
    "![quiz-11](https://drive.google.com/uc?export=view&id=1vjGvKBVWM1SsSlKz6Aji1ENo6MZV5ses)"
   ]
  },
  {
   "cell_type": "code",
   "execution_count": 43,
   "metadata": {},
   "outputs": [
    {
     "name": "stdout",
     "output_type": "stream",
     "text": [
      "(891, 19)\n"
     ]
    },
    {
     "data": {
      "text/plain": "             SibSp  Parch  FamilySize\nPassengerId                          \n1                1      0           2\n2                1      0           2\n3                0      0           1\n4                1      0           2\n5                0      0           1\n6                0      0           1\n7                0      0           1\n8                3      1           5\n9                0      2           3\n10               1      0           2",
      "text/html": "<div>\n<style scoped>\n    .dataframe tbody tr th:only-of-type {\n        vertical-align: middle;\n    }\n\n    .dataframe tbody tr th {\n        vertical-align: top;\n    }\n\n    .dataframe thead th {\n        text-align: right;\n    }\n</style>\n<table border=\"1\" class=\"dataframe\">\n  <thead>\n    <tr style=\"text-align: right;\">\n      <th></th>\n      <th>SibSp</th>\n      <th>Parch</th>\n      <th>FamilySize</th>\n    </tr>\n    <tr>\n      <th>PassengerId</th>\n      <th></th>\n      <th></th>\n      <th></th>\n    </tr>\n  </thead>\n  <tbody>\n    <tr>\n      <th>1</th>\n      <td>1</td>\n      <td>0</td>\n      <td>2</td>\n    </tr>\n    <tr>\n      <th>2</th>\n      <td>1</td>\n      <td>0</td>\n      <td>2</td>\n    </tr>\n    <tr>\n      <th>3</th>\n      <td>0</td>\n      <td>0</td>\n      <td>1</td>\n    </tr>\n    <tr>\n      <th>4</th>\n      <td>1</td>\n      <td>0</td>\n      <td>2</td>\n    </tr>\n    <tr>\n      <th>5</th>\n      <td>0</td>\n      <td>0</td>\n      <td>1</td>\n    </tr>\n    <tr>\n      <th>6</th>\n      <td>0</td>\n      <td>0</td>\n      <td>1</td>\n    </tr>\n    <tr>\n      <th>7</th>\n      <td>0</td>\n      <td>0</td>\n      <td>1</td>\n    </tr>\n    <tr>\n      <th>8</th>\n      <td>3</td>\n      <td>1</td>\n      <td>5</td>\n    </tr>\n    <tr>\n      <th>9</th>\n      <td>0</td>\n      <td>2</td>\n      <td>3</td>\n    </tr>\n    <tr>\n      <th>10</th>\n      <td>1</td>\n      <td>0</td>\n      <td>2</td>\n    </tr>\n  </tbody>\n</table>\n</div>"
     },
     "execution_count": 43,
     "metadata": {},
     "output_type": "execute_result"
    }
   ],
   "source": [
    "# 형제, 자매, 배우자(SibSp) 컬럼과 부모 자식(Parch) 컬럼을 더해서 가족 수(FamilySize) 컬럼을 만듭니다.\n",
    "# 또한 가족 수에 나 자신을 포함하기 위해서 언제나 +1을 해줍니다.\n",
    "train[\"FamilySize\"] = train[\"SibSp\"] + train[\"Parch\"] + 1\n",
    "\n",
    "# train 변수에 할당된 데이터의 행렬 사이즈를 출력합니다.\n",
    "# 출력은 (row, column) 으로 표시됩니다.\n",
    "print(train.shape)\n",
    "\n",
    "# SibSp, Parch, FamilySize를 출력하여 비교합니다.\n",
    "train[[\"SibSp\", \"Parch\", \"FamilySize\"]].head(10)"
   ]
  },
  {
   "cell_type": "code",
   "execution_count": 44,
   "metadata": {},
   "outputs": [
    {
     "data": {
      "text/plain": "            Survived\nFamilySize          \n1           0.303538\n2           0.552795\n3           0.578431\n4           0.724138\n5           0.200000\n6           0.136364\n7           0.333333\n8           0.000000\n11          0.000000",
      "text/html": "<div>\n<style scoped>\n    .dataframe tbody tr th:only-of-type {\n        vertical-align: middle;\n    }\n\n    .dataframe tbody tr th {\n        vertical-align: top;\n    }\n\n    .dataframe thead th {\n        text-align: right;\n    }\n</style>\n<table border=\"1\" class=\"dataframe\">\n  <thead>\n    <tr style=\"text-align: right;\">\n      <th></th>\n      <th>Survived</th>\n    </tr>\n    <tr>\n      <th>FamilySize</th>\n      <th></th>\n    </tr>\n  </thead>\n  <tbody>\n    <tr>\n      <th>1</th>\n      <td>0.303538</td>\n    </tr>\n    <tr>\n      <th>2</th>\n      <td>0.552795</td>\n    </tr>\n    <tr>\n      <th>3</th>\n      <td>0.578431</td>\n    </tr>\n    <tr>\n      <th>4</th>\n      <td>0.724138</td>\n    </tr>\n    <tr>\n      <th>5</th>\n      <td>0.200000</td>\n    </tr>\n    <tr>\n      <th>6</th>\n      <td>0.136364</td>\n    </tr>\n    <tr>\n      <th>7</th>\n      <td>0.333333</td>\n    </tr>\n    <tr>\n      <th>8</th>\n      <td>0.000000</td>\n    </tr>\n    <tr>\n      <th>11</th>\n      <td>0.000000</td>\n    </tr>\n  </tbody>\n</table>\n</div>"
     },
     "execution_count": 44,
     "metadata": {},
     "output_type": "execute_result"
    }
   ],
   "source": [
    "# pandas의 pivot_table을 활용하여 FamilySize에 따른 생존률을 출력합니다.\n",
    "# 가족 수가 1명부터 11명까지 각각의 생존률을 비교할 수 있습니다.\n",
    "pd.pivot_table(train, index=\"FamilySize\", values=\"Survived\")"
   ]
  },
  {
   "cell_type": "markdown",
   "metadata": {},
   "source": [
    "마찬가지로 이를 countplot으로 시각화할 수 있습니다."
   ]
  },
  {
   "cell_type": "code",
   "execution_count": 45,
   "metadata": {},
   "outputs": [
    {
     "data": {
      "text/plain": "<matplotlib.axes._subplots.AxesSubplot at 0x1dc2f0bf4c0>"
     },
     "execution_count": 45,
     "metadata": {},
     "output_type": "execute_result"
    },
    {
     "data": {
      "text/plain": "<Figure size 432x288 with 1 Axes>",
      "image/png": "[encoded data removed]"
     },
     "metadata": {
      "needs_background": "light"
     },
     "output_type": "display_data"
    }
   ],
   "source": [
    "# 시본(seaborn)의 countplot으로 FamilySize별 생존자와 사망자의 차이를 시각화합니다.\n",
    "sns.countplot(data=train, x=\"FamilySize\", hue=\"Survived(humanized)\")"
   ]
  },
  {
   "cell_type": "markdown",
   "metadata": {},
   "source": [
    "**12. 가족 수(FamilySize) 컬럼의 구역을 나눠주세요.**\n",
    "\n",
    "가족 수(FamilySize) 컬럼을 기준으로 pivot_table로 분석을 해본 결과, 경우의 수가 너무 많아서(가족 수가 1명일 때 ~ 11명일 때) 분석 결과가 너무 잘게 쪼개지는 것 같습니다.\n",
    "\n",
    "그러므로 가족 수(FamilySize) 컬럼을 세 구역으로 나누고 싶습니다. 구체적으로는 다음과 같습니다.\n",
    "\n",
    "  * **싱글(Single)** - 동승한 가족이 아무도 없고, 나 혼자 탑승한 경우입니다.\n",
    "  * **핵가족(Nuclear)** - 동승한 가족이 나 자신을 포함해 2명 이상 5명 미만인 경우입니다.\n",
    "  * **대가족(Big)** - 동승한 가족이 나 자신을 포함 5명 이상인 경우입니다.\n",
    "  \n",
    "위의 정보를 활용하여, 가족 형태(FamilyType)라는 새로운 컬럼을 만들어 주세요. 이 컬럼에는 앞서 설명한 Single, Nuclear, 그리고 Big이 들어갑니다. 최종적으로는 다음의 결과가 나와야 합니다."
   ]
  },
  {
   "cell_type": "markdown",
   "metadata": {},
   "source": [
    "<table border=\"1\" class=\"dataframe\" style=\"float: left;\">\n",
    "   <thead>\n",
    "      <tr style=\"text-align: right;\">\n",
    "         <th></th>\n",
    "         <th>FamilySize</th>\n",
    "         <th>FamilyType</th>\n",
    "      </tr>\n",
    "      <tr>\n",
    "         <th>PassengerId</th>\n",
    "         <th></th>\n",
    "         <th></th>\n",
    "      </tr>\n",
    "   </thead>\n",
    "   <tbody>\n",
    "      <tr>\n",
    "         <th>1</th>\n",
    "         <td>2</td>\n",
    "         <td>Nuclear</td>\n",
    "      </tr>\n",
    "      <tr>\n",
    "         <th>2</th>\n",
    "         <td>2</td>\n",
    "         <td>Nuclear</td>\n",
    "      </tr>\n",
    "      <tr>\n",
    "         <th>3</th>\n",
    "         <td>1</td>\n",
    "         <td>Single</td>\n",
    "      </tr>\n",
    "      <tr>\n",
    "         <th>4</th>\n",
    "         <td>2</td>\n",
    "         <td>Nuclear</td>\n",
    "      </tr>\n",
    "      <tr>\n",
    "         <th>5</th>\n",
    "         <td>1</td>\n",
    "         <td>Single</td>\n",
    "      </tr>\n",
    "      <tr>\n",
    "         <th>6</th>\n",
    "         <td>1</td>\n",
    "         <td>Single</td>\n",
    "      </tr>\n",
    "      <tr>\n",
    "         <th>7</th>\n",
    "         <td>1</td>\n",
    "         <td>Single</td>\n",
    "      </tr>\n",
    "      <tr>\n",
    "         <th>8</th>\n",
    "         <td>5</td>\n",
    "         <td>Big</td>\n",
    "      </tr>\n",
    "      <tr>\n",
    "         <th>9</th>\n",
    "         <td>3</td>\n",
    "         <td>Nuclear</td>\n",
    "      </tr>\n",
    "      <tr>\n",
    "         <th>10</th>\n",
    "         <td>2</td>\n",
    "         <td>Nuclear</td>\n",
    "      </tr>\n",
    "   </tbody>\n",
    "</table>"
   ]
  },
  {
   "cell_type": "markdown",
   "metadata": {},
   "source": [
    "또한 가족 수(FamilySize)와 마찬가지로 가족 형태(FamilyType) 별 생존률의 차이도 구해주세요. 최종적으로 다음의 결과가 나와야 합니다."
   ]
  },
  {
   "cell_type": "markdown",
   "metadata": {},
   "source": [
    "<table border=\"1\" class=\"dataframe\" style=\"float: left;\">\n",
    "   <thead>\n",
    "      <tr style=\"text-align: right;\">\n",
    "         <th></th>\n",
    "         <th>FamilySize</th>\n",
    "         <th>FamilyType</th>\n",
    "      </tr>\n",
    "      <tr>\n",
    "         <th>PassengerId</th>\n",
    "         <th></th>\n",
    "         <th></th>\n",
    "      </tr>\n",
    "   </thead>\n",
    "   <tbody>\n",
    "      <tr>\n",
    "         <th>1</th>\n",
    "         <td>2</td>\n",
    "         <td>Nuclear</td>\n",
    "      </tr>\n",
    "      <tr>\n",
    "         <th>2</th>\n",
    "         <td>2</td>\n",
    "         <td>Nuclear</td>\n",
    "      </tr>\n",
    "      <tr>\n",
    "         <th>3</th>\n",
    "         <td>1</td>\n",
    "         <td>Single</td>\n",
    "      </tr>\n",
    "      <tr>\n",
    "         <th>4</th>\n",
    "         <td>2</td>\n",
    "         <td>Nuclear</td>\n",
    "      </tr>\n",
    "      <tr>\n",
    "         <th>5</th>\n",
    "         <td>1</td>\n",
    "         <td>Single</td>\n",
    "      </tr>\n",
    "      <tr>\n",
    "         <th>6</th>\n",
    "         <td>1</td>\n",
    "         <td>Single</td>\n",
    "      </tr>\n",
    "      <tr>\n",
    "         <th>7</th>\n",
    "         <td>1</td>\n",
    "         <td>Single</td>\n",
    "      </tr>\n",
    "      <tr>\n",
    "         <th>8</th>\n",
    "         <td>5</td>\n",
    "         <td>Big</td>\n",
    "      </tr>\n",
    "      <tr>\n",
    "         <th>9</th>\n",
    "         <td>3</td>\n",
    "         <td>Nuclear</td>\n",
    "      </tr>\n",
    "      <tr>\n",
    "         <th>10</th>\n",
    "         <td>2</td>\n",
    "         <td>Nuclear</td>\n",
    "      </tr>\n",
    "   </tbody>\n",
    "</table>"
   ]
  },
  {
   "cell_type": "markdown",
   "metadata": {},
   "source": [
    "마지막으로 이를 시각화를 통해 비교해주세요. 최종적으로는 다음의 결과가 나와야합니다."
   ]
  },
  {
   "cell_type": "markdown",
   "metadata": {},
   "source": [
    "![quiz-12](https://drive.google.com/uc?export=view&id=1xYTDLeZ_6d11DNdzW12RrcCtf4ZEa2nt)"
   ]
  },
  {
   "cell_type": "code",
   "execution_count": 46,
   "metadata": {},
   "outputs": [
    {
     "name": "stdout",
     "output_type": "stream",
     "text": [
      "(891, 20)\n"
     ]
    },
    {
     "data": {
      "text/plain": "             FamilySize FamilyType\nPassengerId                       \n1                     2    Nuclear\n2                     2    Nuclear\n3                     1     Single\n4                     2    Nuclear\n5                     1     Single\n6                     1     Single\n7                     1     Single\n8                     5        Big\n9                     3    Nuclear\n10                    2    Nuclear",
      "text/html": "<div>\n<style scoped>\n    .dataframe tbody tr th:only-of-type {\n        vertical-align: middle;\n    }\n\n    .dataframe tbody tr th {\n        vertical-align: top;\n    }\n\n    .dataframe thead th {\n        text-align: right;\n    }\n</style>\n<table border=\"1\" class=\"dataframe\">\n  <thead>\n    <tr style=\"text-align: right;\">\n      <th></th>\n      <th>FamilySize</th>\n      <th>FamilyType</th>\n    </tr>\n    <tr>\n      <th>PassengerId</th>\n      <th></th>\n      <th></th>\n    </tr>\n  </thead>\n  <tbody>\n    <tr>\n      <th>1</th>\n      <td>2</td>\n      <td>Nuclear</td>\n    </tr>\n    <tr>\n      <th>2</th>\n      <td>2</td>\n      <td>Nuclear</td>\n    </tr>\n    <tr>\n      <th>3</th>\n      <td>1</td>\n      <td>Single</td>\n    </tr>\n    <tr>\n      <th>4</th>\n      <td>2</td>\n      <td>Nuclear</td>\n    </tr>\n    <tr>\n      <th>5</th>\n      <td>1</td>\n      <td>Single</td>\n    </tr>\n    <tr>\n      <th>6</th>\n      <td>1</td>\n      <td>Single</td>\n    </tr>\n    <tr>\n      <th>7</th>\n      <td>1</td>\n      <td>Single</td>\n    </tr>\n    <tr>\n      <th>8</th>\n      <td>5</td>\n      <td>Big</td>\n    </tr>\n    <tr>\n      <th>9</th>\n      <td>3</td>\n      <td>Nuclear</td>\n    </tr>\n    <tr>\n      <th>10</th>\n      <td>2</td>\n      <td>Nuclear</td>\n    </tr>\n  </tbody>\n</table>\n</div>"
     },
     "execution_count": 46,
     "metadata": {},
     "output_type": "execute_result"
    }
   ],
   "source": [
    "# 가족 수(FamilSize)가 1인 승객을 가져와서, FamilyType 컬럼에 Single 이라는 값을 넣어줍니다.\n",
    "train.loc[train[\"FamilySize\"] == 1, \"FamilyType\"] = \"Single\"\n",
    "\n",
    "# 가족 수(FamilSize)가 2 이상 5 미만인 승객을 가져와서, FamilyType 컬럼에 Nuclear(핵가족) 이라는 값을 넣어줍니다.\n",
    "train.loc[(train[\"FamilySize\"] > 1) & (train[\"FamilySize\"] < 5), \"FamilyType\"] = \"Nuclear\"\n",
    "\n",
    "# 가족 수(FamilSize)가 5 이상인 승객을 가져와서, FamilyType 컬럼에 Big(대가족) 이라는 값을 넣어줍니다.\n",
    "train.loc[train[\"FamilySize\"] >= 5, \"FamilyType\"] = \"Big\"\n",
    "\n",
    "# train 변수에 할당된 데이터의 행렬 사이즈를 출력합니다.\n",
    "# 출력은 (row, column) 으로 표시됩니다.\n",
    "print(train.shape)\n",
    "\n",
    "# train 데이터의 상위 10개를 띄우되, FamilySize와 FamilyType 컬럼만 출력합니다.\n",
    "train[[\"FamilySize\", \"FamilyType\"]].head(10)"
   ]
  },
  {
   "cell_type": "code",
   "execution_count": 47,
   "metadata": {},
   "outputs": [
    {
     "data": {
      "text/plain": "            Survived\nFamilyType          \nBig         0.161290\nNuclear     0.578767\nSingle      0.303538",
      "text/html": "<div>\n<style scoped>\n    .dataframe tbody tr th:only-of-type {\n        vertical-align: middle;\n    }\n\n    .dataframe tbody tr th {\n        vertical-align: top;\n    }\n\n    .dataframe thead th {\n        text-align: right;\n    }\n</style>\n<table border=\"1\" class=\"dataframe\">\n  <thead>\n    <tr style=\"text-align: right;\">\n      <th></th>\n      <th>Survived</th>\n    </tr>\n    <tr>\n      <th>FamilyType</th>\n      <th></th>\n    </tr>\n  </thead>\n  <tbody>\n    <tr>\n      <th>Big</th>\n      <td>0.161290</td>\n    </tr>\n    <tr>\n      <th>Nuclear</th>\n      <td>0.578767</td>\n    </tr>\n    <tr>\n      <th>Single</th>\n      <td>0.303538</td>\n    </tr>\n  </tbody>\n</table>\n</div>"
     },
     "execution_count": 47,
     "metadata": {},
     "output_type": "execute_result"
    }
   ],
   "source": [
    "# pivot_table을 통해 가족 형태(FamilyType)의 변화에 따른 생존률을 출력합니다.\n",
    "pd.pivot_table(data=train, index=\"FamilyType\", values=\"Survived\")"
   ]
  },
  {
   "cell_type": "markdown",
   "metadata": {},
   "source": [
    "마지막으로 countplot을 활용해 이를 비교할 수 있습니다."
   ]
  },
  {
   "cell_type": "code",
   "execution_count": 48,
   "metadata": {},
   "outputs": [
    {
     "data": {
      "text/plain": "<matplotlib.axes._subplots.AxesSubplot at 0x1dc2f1537f0>"
     },
     "execution_count": 48,
     "metadata": {},
     "output_type": "execute_result"
    },
    {
     "data": {
      "text/plain": "<Figure size 432x288 with 1 Axes>",
      "image/png": "[encoded data removed]"
     },
     "metadata": {
      "needs_background": "light"
     },
     "output_type": "display_data"
    }
   ],
   "source": [
    "# 시본(seaborn)의 countplot으로 FamilyType별 생존자와 사망자의 차이를 시각화합니다.\n",
    "sns.countplot(data=train, x=\"FamilyType\", hue=\"Survived(humanized)\")"
   ]
  },
  {
   "cell_type": "markdown",
   "metadata": {
    "collapsed": true
   },
   "source": [
    "## 마무리하며\n",
    "\n",
    "지금까지 프로그래밍 언어 파이썬([Python](https://python.org/))과 파이썬의 데이터 분석 패키지 판다스([Pandas](https://pandas.pydata.org/)), 데이터 시각화 패키지 씨본([Seaborn](https://seaborn.pydata.org))과 [matplotlib](https://matplotlib.org)를 활용한 실전 예제를 살펴보았습니다. 앞서 말씀드린대로, 위 문제를 실전에서 반나절(3~4시간) 안에 해결할 수 있다면 현업에서 데이터 사이언티스트로서 일 할 수 있는 충분한 판다스 스킬을 보유했다고 볼 수 있습니다.\n",
    "\n",
    "반면 1) 앞으로 데이터 분석을 업무에 활용하고자 하는 분들, 또는 2) 앞으로 데이터 사이언티스트로 취업이나 이직, 전직을 노리는 분 중, 위 문제를 반나절 안에 풀지 못한 분들은 판다스를 추가 학습해야 할 필요가 있다고 생각하시면 됩니다. 그런 분들에게는 다음의 자료를 추천합니다.\n",
    "\n",
    "  * [10 minutes to pandas](https://pandas.pydata.org/pandas-docs/stable/10min.html)\n",
    "  * [Pandas Cookbook](http://github.com/jvns/pandas-cookbook)\n",
    "  * [Python for Data Science](http://wavedatalab.github.io/datawithpython/)\n",
    "  * [Modern Pandas](http://tomaugspurger.github.io/modern-1-intro.html)\n",
    "  * [Seaborn Gallery](https://seaborn.pydata.org/examples/index.html)\n",
    "  \n",
    "또는 위 자료를 참고하지 않고 빠른 기간 안에 판다스와 시각화를 습득하고 싶은 분들에게는 DS School의 [실전 데이터분석 과정](http://dsschool.co.kr/suggestions)을 추천해 드립니다.\n",
    "\n",
    "기타 수업 관련 문의 사항은 슬랙의 전담 튜터에게 Direct Messages로 연락주세요^^ 수료증, 영수증 발급이나 기수 변경 등은 support@dsschool.co.kr 로 문의 주시면 됩니다!"
   ]
  },
  {
   "cell_type": "code",
   "execution_count": 48,
   "metadata": {},
   "outputs": [],
   "source": []
  }
 ],
 "metadata": {
  "kernelspec": {
   "display_name": "Python 3",
   "language": "python",
   "name": "python3"
  },
  "language_info": {
   "codemirror_mode": {
    "name": "ipython",
    "version": 3
   },
   "file_extension": ".py",
   "mimetype": "text/x-python",
   "name": "python",
   "nbconvert_exporter": "python",
   "pygments_lexer": "ipython3",
   "version": "3.7.4"
  }
 },
 "nbformat": 4,
 "nbformat_minor": 2
}